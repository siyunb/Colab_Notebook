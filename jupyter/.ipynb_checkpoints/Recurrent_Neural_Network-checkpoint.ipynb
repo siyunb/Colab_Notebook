{
 "cells": [
  {
   "cell_type": "code",
   "execution_count": 2,
   "id": "toxic-large",
   "metadata": {},
   "outputs": [],
   "source": [
    "import torch\n",
    "import random\n",
    "import zipfile\n",
    "import time\n",
    "import math\n",
    "import numpy as np\n",
    "from torch import nn, optim\n",
    "import torch.nn.functional as F"
   ]
  },
  {
   "cell_type": "code",
   "execution_count": 10,
   "id": "bored-european",
   "metadata": {},
   "outputs": [],
   "source": [
    "def load_data_jay_lyrics():\n",
    "    with zipfile.ZipFile('./Dataset/JayLyrics/jaychou_lyrics.txt.zip') as zin:\n",
    "        with zin.open('jaychou_lyrics.txt') as f:\n",
    "            corpus_chars = f.read().decode('utf-8')\n",
    "    corpus_chars = corpus_chars.replace('\\n',' ').replace('\\r', ' ')\n",
    "    corpus_chars = corpus_chars[:10000]\n",
    "    idx_to_char = list(set(corpus_chars))\n",
    "    char_to_idx_dict = dict([(char, i) for i, char in enumerate(idx_to_char)])\n",
    "    idx_to_char_dict = dict([(i, char) for i, char in enumerate(idx_to_char)])\n",
    "    corpus_indice = [char_to_idx_dict[char] for char in corpus_chars]\n",
    "    return corpus_chars, corpus_indice, idx_to_char_dict, char_to_idx_dict, len(idx_to_char_dict)\n",
    "\n",
    "corpus_chars, corpus_indice, idx_to_char_dict, char_to_idx_dict, vocab_size = load_data_jay_lyrics()"
   ]
  },
  {
   "cell_type": "code",
   "execution_count": 4,
   "id": "acoustic-saturday",
   "metadata": {},
   "outputs": [],
   "source": [
    "def grad_clipping(params, theta):\n",
    "    device = torch.device('cuda' if torch.cuda.is_available() else 'cpu')\n",
    "    norm = torch.tensor([0.0], device = device)\n",
    "    for param in params:\n",
    "        norm += (param.grad.data**2).sum()\n",
    "    norm = norm.sqrt().item()\n",
    "    if norm > theta:\n",
    "        for param in params:\n",
    "            param.grad.data *= (theta/norm) "
   ]
  },
  {
   "cell_type": "code",
   "execution_count": 5,
   "id": "equal-label",
   "metadata": {},
   "outputs": [],
   "source": [
    "def data_iter_random(corpus_indice, batch_size, num_step, device = None):\n",
    "    num_example = (len(corpus_indice)-1)//num_step\n",
    "    epoch_size = num_example//batch_size\n",
    "    example_indice = list(range(num_example))\n",
    "    random.shuffle(example_indice)\n",
    "    \n",
    "    def _data(pos):\n",
    "        return corpus_indice[pos:pos+num_step]\n",
    "    if device is None:\n",
    "        device = torch.device('cuda' if torch.cuda.is_available() else 'cpu')\n",
    "    \n",
    "    for i in range(epoch_size):\n",
    "        i = i*batch_size\n",
    "        X = [_data(j*num_step) for j in example_indice[i:i+batch_size]]\n",
    "        Y = [_data(j*num_step+1) for j in example_indice[i: i+batch_size]]\n",
    "        yield torch.tensor(X, dtype = torch.float, device = device), torch.tensor(Y, dtype = torch.float, device = device)"
   ]
  },
  {
   "cell_type": "code",
   "execution_count": 6,
   "id": "bound-venture",
   "metadata": {},
   "outputs": [],
   "source": [
    "def data_iter_consecutive(corpus_indice, batch_size, num_step, device = None):\n",
    "    if device is None:\n",
    "        device = torch.device('cuda' if torch.cuda.is_available() else 'cpu')\n",
    "    corpus_indice = torch.tensor(corpus_indice, dtype = torch.float, device = device)\n",
    "    data_len = len(corpus_indice)\n",
    "    batch_len = data_len//batch_size\n",
    "    indice = corpus_indice[0:batch_len*batch_size].view(batch_size, batch_len)\n",
    "    epoch_size = batch_len//num_step\n",
    "    \n",
    "    for i in range(epoch_size):\n",
    "        i = i*num_step\n",
    "        X = indice[:, i: i+num_step]\n",
    "        X1 = indice[:, i+1:i+num_step+1]\n",
    "        yield X, X1"
   ]
  },
  {
   "cell_type": "code",
   "execution_count": 7,
   "id": "particular-antibody",
   "metadata": {},
   "outputs": [],
   "source": [
    "class RnnModel(nn.Module):\n",
    "    def __init__(self, vocab_size, num_hiddens, num_layers):\n",
    "        super().__init__()\n",
    "        self.rnn_layer = nn.RNN(input_size=vocab_size, hidden_size=num_hiddens, num_layers=num_layers)\n",
    "        self.hidden_size = num_hiddens\n",
    "        self.vocab_size = vocab_size\n",
    "        self.fc_layer = nn.Linear(num_hiddens, vocab_size)\n",
    "        self.state = None\n",
    "        \n",
    "    def forward(self, inputs, state):\n",
    "        X = self.to_onehot(inputs, self.vocab_size)\n",
    "        Y, self.state = self.rnn_layer(X, state)              #n*b*v, n*b*h\n",
    "        output = self.fc_layer(Y.view(-1, Y.shape[-1]))\n",
    "        return output, self.state\n",
    "    \n",
    "    @staticmethod\n",
    "    def to_onehot(X, n_class):\n",
    "        def one_hot(x,n_class):\n",
    "            x = x.long()\n",
    "            res=torch.zeros(x.shape[0],n_class, dtype = torch.float, device = x.device)\n",
    "            res.scatter_(1,x.view(-1,1),1)\n",
    "            return res        \n",
    "        return torch.stack([one_hot(X[:,i],n_class) for i in range(X.shape[1])])   #n*b*v"
   ]
  },
  {
   "cell_type": "code",
   "execution_count": 8,
   "id": "olympic-grain",
   "metadata": {},
   "outputs": [],
   "source": [
    "class GruRnnModel(nn.Module):\n",
    "    def __init__(self, vocab_size, num_hiddens, num_layers):\n",
    "        super().__init__()\n",
    "        self.gru_layer = nn.GRU(input_size=vocab_size, hidden_size=num_hiddens, num_layers=num_layers)\n",
    "        self.hidden_size = num_hiddens\n",
    "        self.vocab_size = vocab_size\n",
    "        self.fc_layer = nn.Linear(num_hiddens, vocab_size)\n",
    "        self.state = None\n",
    "        \n",
    "    def forward(self, inputs, state):\n",
    "        X = self.to_onehot(inputs, self.vocab_size)\n",
    "        H, self.state = self.gru_layer(X, state)              #n*b*v, n*b*h\n",
    "        Y = self.fc_layer(H.view(-1, Y.shape[-1]))\n",
    "        return Y, self.state\n",
    "    \n",
    "    @staticmethod\n",
    "    def to_onehot(X, n_class):\n",
    "        def one_hot(x,n_class):\n",
    "            x = x.long()\n",
    "            res=torch.zeros(x.shape[0],n_class, dtype = torch.float, device = x.device)\n",
    "            res.scatter_(1,x.view(-1,1),1)\n",
    "            return res        \n",
    "        return torch.stack([one_hot(X[:,i],n_class) for i in range(X.shape[1])]) "
   ]
  },
  {
   "cell_type": "code",
   "execution_count": 53,
   "id": "editorial-checkout",
   "metadata": {},
   "outputs": [],
   "source": [
    "class LstmRnnModel(nn.Module):\n",
    "    def __init__(self, vocab_size, num_hiddens, num_layers):\n",
    "        super().__init__()\n",
    "        self.lstm_layer = nn.LSTM(input_size=vocab_size, hidden_size=num_hiddens, num_layers=num_layers)\n",
    "        self.hidden_size = num_hiddens\n",
    "        self.vocab_size = vocab_size\n",
    "        self.fc_layer = nn.Linear(self.hidden_size, vocab_size)\n",
    "        self.state = None\n",
    "        \n",
    "    def forward(self, inputs, state):\n",
    "        X = self.to_onehot(inputs, self.vocab_size)\n",
    "        H, self.state = self.lstm_layer(X, state)              #n*b*v, n*b*h\n",
    "        Y = self.fc_layer(H.view(-1, H.shape[-1]))\n",
    "        return Y, self.state\n",
    "    \n",
    "    @staticmethod\n",
    "    def to_onehot(X, n_class):\n",
    "        def one_hot(x,n_class):\n",
    "            x = x.long()\n",
    "            res=torch.zeros(x.shape[0],n_class, dtype = torch.float, device = x.device)\n",
    "            res.scatter_(1,x.view(-1,1),1)\n",
    "            return res        \n",
    "        return torch.stack([one_hot(X[:,i],n_class) for i in range(X.shape[1])]) "
   ]
  },
  {
   "cell_type": "code",
   "execution_count": 44,
   "id": "subtle-nickname",
   "metadata": {},
   "outputs": [],
   "source": [
    "def predict_rnn(prefix, num_chars, model,idx_to_char_dict, char_to_ida_dict, state = None):\n",
    "    vocab_size = len(idx_to_char_dict)\n",
    "    device = torch.device('cuda' if torch.cuda.is_available() else 'cpu')\n",
    "    output = [prefix[0]]\n",
    "    for t in range(num_chars+len(prefix)-1):\n",
    "        X_indice = torch.tensor([char_to_idx_dict[output[-1]]], device = device).view(-1,1)\n",
    "        Y, state = model(X_indice, state)\n",
    "        if t<len(prefix)-1: \n",
    "            output.append(prefix[t+1])\n",
    "        else:    \n",
    "            output.append(idx_to_char_dict[int(Y.argmax(dim = 1).item())])\n",
    "    return ''.join(output)"
   ]
  },
  {
   "cell_type": "code",
   "execution_count": 43,
   "id": "comfortable-model",
   "metadata": {},
   "outputs": [],
   "source": [
    "def train_and_predict(corpus_indice, data_iter, batch_size, num_steps, \n",
    "                      num_epoches, model, lr, clipping_theta,\n",
    "                      idx_to_char_dict, char_to_idx_dict, \n",
    "                      prefixes, num_chars):\n",
    "    \n",
    "    device = torch.device('cuda' if torch.cuda.is_available() else 'cpu')\n",
    "    vocab_size = len(idx_to_char_dict)\n",
    "    loss_fn = nn.CrossEntropyLoss()\n",
    "    optimizer = optim.Adam(model.parameters(),lr=lr)\n",
    "    state = None\n",
    "    \n",
    "    for epoch in range(num_epoches): \n",
    "        train_loss_sum, n = 0.0, 0\n",
    "        for X_indice_list, Y_indice_list in data_iter(corpus_indice, batch_size, num_steps, device):\n",
    "            if state is not None:\n",
    "                state = (state[0].detach(), state[1].detach())\n",
    "            Y_hat, state = model(X_indice_list, state) \n",
    "            Y_indice_list = torch.transpose(Y_indice_list, 0, 1).contiguous().view(-1).long()\n",
    "            loss = loss_fn(Y_hat, Y_indice_list)\n",
    "            optimizer.zero_grad()\n",
    "            loss.backward()\n",
    "            grad_clipping(model.parameters(), clipping_theta)\n",
    "            optimizer.step()\n",
    "            train_loss_sum += loss.item()\n",
    "            n += 1\n",
    "        if (epoch+1)%50 == 0:\n",
    "            train_loss = train_loss_sum/n\n",
    "            try:\n",
    "                perplexity = math.exp(train_loss)\n",
    "            except OverflowError:\n",
    "                perplexity = float('inf')\n",
    "            print('epoch: %d, train_loss: %.2f, perplexity: %f'%(epoch+1, train_loss, perplexity))\n",
    "            \n",
    "            for prefix in prefixes:\n",
    "                print(predict_rnn(prefix, num_chars, model, idx_to_char_dict, char_to_idx_dict, state = None))\n",
    "                "
   ]
  },
  {
   "cell_type": "code",
   "execution_count": 55,
   "id": "fossil-recording",
   "metadata": {},
   "outputs": [],
   "source": [
    "num_epoches, batch_size, lr, clipping_theta = 250, 35, 1e-2, 1e-2\n",
    "num_steps, num_chars, prefixes = 50, 50, ['分开', '不分开']\n",
    "#model = RnnModel(vocab_size, 256, 1).to('cuda')\n",
    "#model = GruRnnModel(vocab_size,256,1).to('cuda') \n",
    "model = LstmRnnModel(vocab_size, 256, 1).to('cuda')"
   ]
  },
  {
   "cell_type": "code",
   "execution_count": 56,
   "id": "strategic-blocking",
   "metadata": {},
   "outputs": [
    {
     "name": "stdout",
     "output_type": "stream",
     "text": [
      "epoch: 50, train_loss: 0.02, perplexity: 1.020630\n",
      "分开始打呼 管家是一只会说法语举止优雅的猪 吸血前会念约翰福音做为弥补 拥有一双蓝色眼睛的凯萨琳公主 专\n",
      "不分开 我不开 不能 爱情走的太快就像龙卷风 不能承受我已无处可躲 我不要再想 我不要再想 我不 我不 我\n",
      "epoch: 100, train_loss: 0.01, perplexity: 1.009803\n",
      "分开始打呼 妈妈 我说的话 甘会听 不要再这样打我妈妈 难道你手不会痛吗 其实我回家就想要阻止一切 让家\n",
      "不分开 我不 我不能 爱情走的太快就像龙卷风 不能承受我已无处可躲 我不要再想 我不要再想 我不 我不 我\n",
      "epoch: 150, train_loss: 0.01, perplexity: 1.008224\n",
      "分开 没担的可以女人 温柔的让我心疼的可爱女人 透明的让我感动的可爱女人 坏坏的让我疯狂的可爱女人 坏坏\n",
      "不分开 我不能再爱 我不能再想 我不 我不 我不能 爱情走的太快就像龙卷风 不能承受我已无处可躲 我不要再\n",
      "epoch: 200, train_loss: 0.01, perplexity: 1.007544\n",
      "分开 我打开任督二脉 干什么 干什么 东亚病夫的招牌 干什么 干什么 已被我一脚踢开 快使用双截棍 哼哼\n",
      "不分开 我打开任督二脉 干什么 干什么 东亚病夫的招牌 干什么 干什么 已被我一脚踢开 快使用双截棍 哼哼\n",
      "epoch: 250, train_loss: 0.01, perplexity: 1.006085\n",
      "分开 别打我妈 这样对吗干嘛这样 何必让酒牵鼻子走 瞎 说都说不听听 痛是我们在痛痛 周杰伦   简单爱\n",
      "不分开 我打我妈妈 我说的话你甘会听 不要再这样打我妈妈 难道你手不会痛吗 其实我回家就想要阻止一切 让家\n"
     ]
    }
   ],
   "source": [
    "train_and_predict(corpus_indice, data_iter_consecutive, batch_size, num_steps, \n",
    "                      num_epoches, model, lr, clipping_theta,\n",
    "                      idx_to_char_dict, char_to_idx_dict, \n",
    "                      prefixes, num_chars)"
   ]
  },
  {
   "cell_type": "code",
   "execution_count": null,
   "id": "administrative-allowance",
   "metadata": {},
   "outputs": [],
   "source": []
  },
  {
   "cell_type": "code",
   "execution_count": null,
   "id": "finnish-premises",
   "metadata": {},
   "outputs": [],
   "source": []
  },
  {
   "cell_type": "code",
   "execution_count": null,
   "id": "governing-woman",
   "metadata": {},
   "outputs": [],
   "source": []
  }
 ],
 "metadata": {
  "kernelspec": {
   "display_name": "Python 3",
   "language": "python",
   "name": "python3"
  },
  "language_info": {
   "codemirror_mode": {
    "name": "ipython",
    "version": 3
   },
   "file_extension": ".py",
   "mimetype": "text/x-python",
   "name": "python",
   "nbconvert_exporter": "python",
   "pygments_lexer": "ipython3",
   "version": "3.8.8"
  },
  "toc": {
   "base_numbering": 1,
   "nav_menu": {},
   "number_sections": true,
   "sideBar": true,
   "skip_h1_title": false,
   "title_cell": "Table of Contents",
   "title_sidebar": "Contents",
   "toc_cell": false,
   "toc_position": {},
   "toc_section_display": true,
   "toc_window_display": false
  }
 },
 "nbformat": 4,
 "nbformat_minor": 5
}
