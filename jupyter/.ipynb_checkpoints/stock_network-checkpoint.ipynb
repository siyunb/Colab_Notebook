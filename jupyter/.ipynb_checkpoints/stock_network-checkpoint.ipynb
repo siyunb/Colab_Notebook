{
 "cells": [
  {
   "cell_type": "code",
   "execution_count": 63,
   "id": "complicated-decision",
   "metadata": {},
   "outputs": [],
   "source": [
    "# 载入python库\n",
    "import pandas as pd\n",
    "import networkx as nx\n",
    "import xlrd, openpyxl\n",
    "import re\n",
    "import os"
   ]
  },
  {
   "cell_type": "code",
   "execution_count": 90,
   "id": "threatened-concentrate",
   "metadata": {},
   "outputs": [],
   "source": [
    "def fliter_none(issue):\n",
    "    pattern = re.compile('\\d{6}.[A-Z]{2}')\n",
    "    try:\n",
    "        id_stock = pattern.search(issue)\n",
    "        if id_stock is not None :\n",
    "            return True\n",
    "        else:\n",
    "            return False\n",
    "    except:\n",
    "        return False "
   ]
  },
  {
   "cell_type": "code",
   "execution_count": 93,
   "id": "coupled-league",
   "metadata": {},
   "outputs": [],
   "source": [
    "def xlsx_csv(xlsx_filepath, csv_filepath):\n",
    "    list_dir =  [os.path.splitext(dir) for dir in os.listdir(xlsx_filepath)]\n",
    "    for tuple_dir in list_dir:\n",
    "        date_name, format_name = tuple_dir\n",
    "        dataframe = pd.read_excel(filepath+'/'+date_name+format_name)\n",
    "        data_csv = dataframe[dataframe['代码'].apply(fliter_none)][['代码','名称','股票代码','股票简称']]\n",
    "        data_csv = data_csv.rename(columns = {'代码':'code','名称':'name','股票代码':'stock_code','股票简称':'stock_name'})\n",
    "        csv_name = ('_').join(date_name.split('-'))\n",
    "        data_csv[['name','stock_name']].to_csv(csv_filepath+'/'+csv_name+'.csv', encoding='utf_8_sig')"
   ]
  },
  {
   "cell_type": "code",
   "execution_count": 91,
   "id": "guilty-orleans",
   "metadata": {},
   "outputs": [],
   "source": [
    "xlsx_filepath = './Dataset/StockData'\n",
    "csv_filepath = './Dataset/StockData_csv'"
   ]
  },
  {
   "cell_type": "code",
   "execution_count": 94,
   "id": "understanding-tiger",
   "metadata": {},
   "outputs": [],
   "source": [
    "xlsx_csv(xlsx_filepath, csv_filepath)"
   ]
  }
 ],
 "metadata": {
  "kernelspec": {
   "display_name": "Python 3",
   "language": "python",
   "name": "python3"
  },
  "language_info": {
   "codemirror_mode": {
    "name": "ipython",
    "version": 3
   },
   "file_extension": ".py",
   "mimetype": "text/x-python",
   "name": "python",
   "nbconvert_exporter": "python",
   "pygments_lexer": "ipython3",
   "version": "3.8.8"
  },
  "toc": {
   "base_numbering": 1,
   "nav_menu": {},
   "number_sections": true,
   "sideBar": true,
   "skip_h1_title": false,
   "title_cell": "Table of Contents",
   "title_sidebar": "Contents",
   "toc_cell": false,
   "toc_position": {},
   "toc_section_display": true,
   "toc_window_display": false
  }
 },
 "nbformat": 4,
 "nbformat_minor": 5
}
