{
 "cells": [
  {
   "cell_type": "code",
   "execution_count": 4,
   "id": "literary-disorder",
   "metadata": {},
   "outputs": [],
   "source": [
    "import torch\n",
    "from torch.utils.data import DataLoader \n",
    "from torch.nn import init\n",
    "import torch.optim as optim \n",
    "import torch.nn as nn\n",
    "import torch.nn.functional as F\n",
    "import torchvision\n",
    "import torchvision.transforms as transforms\n",
    "import matplotlib.pyplot as plt\n",
    "import numpy as np\n",
    "import time "
   ]
  },
  {
   "cell_type": "code",
   "execution_count": 7,
   "id": "surprised-paintball",
   "metadata": {},
   "outputs": [],
   "source": [
    "def load_data_fashion_mnist(batch_size, resize = None, path = './Dataset/FashionMNIST'):\n",
    "    \"\"\"Download the fashion mnist dataset and then load into memory\"\"\"\n",
    "    trans = []\n",
    "    if resize:\n",
    "        trans.append(transforms.Resize(size = resize))\n",
    "    trans.append(transforms.ToTensor())\n",
    "    transform = transforms.Compose(trans)\n",
    "    \n",
    "    mnist_train = torchvision.datasets.FashionMNIST(root = path, train = True, download = True, transform = transform) \n",
    "    mnist_test = torchvision.datasets.FashionMNIST(root = path,  train = False, download = True, transform = transform)\n",
    "    \n",
    "    train_iter = DataLoader(mnist_train, batch_size= batch_size, shuffle = True, num_workers = 4) \n",
    "    test_iter = DataLoader(mnist_test, batch_size = batch_size, shuffle = True, num_workers = 4)\n",
    "    \n",
    "    return train_iter, test_iter"
   ]
  },
  {
   "cell_type": "code",
   "execution_count": 12,
   "id": "blank-gnome",
   "metadata": {},
   "outputs": [],
   "source": [
    "def batch_norm(is_training, X, gamma, beta, moving_mean, moving_var, eps, momentum):\n",
    "    if not is_training:\n",
    "        X_norm = (X-moving_mean)/torch.sqrt(moving_var+eps)\n",
    "    else:\n",
    "        assert len(X.shape) in (2, 4) \n",
    "        if len(X.shape)==2:\n",
    "            mean = X.mean(dim=0,keepdim=True)\n",
    "            var = ((X-mean)**2).mean(dim=0,keepdim=True)\n",
    "        else:\n",
    "            mean = X.mean(dim=0,keepdim=True).mean(dim=2,keepdim=True).mean(dim=3,keepdim=True)\n",
    "            var = ((X-mean)**2).mean(dim=0,keepdim=True).mean(dim=2,keepdim=True).mean(dim=3,keepdim=True)\n",
    "        X_norm = (X-mean)/torch.sqrt(var+eps)\n",
    "        moving_mean=momentum*moving_mean + (1-momentum)*mean\n",
    "        moving_var = momentum*moving_var + (1-momentum)*var\n",
    "    Y = gamma*X_norm + beta\n",
    "    return Y, moving_mean, moving_var"
   ]
  },
  {
   "cell_type": "code",
   "execution_count": 20,
   "id": "existing-cradle",
   "metadata": {},
   "outputs": [],
   "source": [
    "class Batch_norm(nn.Module):\n",
    "    def __init__(self, num_features, num_dims):\n",
    "        super().__init__()\n",
    "        if num_dims == 2:\n",
    "            shape = (1, num_features)\n",
    "        else:\n",
    "            shape = (1, num_features, 1, 1)\n",
    "        self.gamma = nn.Parameter(torch.ones(shape))\n",
    "        self.beta = nn.Parameter(torch.zeros(shape))\n",
    "        self.moving_mean = torch.zeros(shape)\n",
    "        self.moving_var = torch.zeros(shape)\n",
    "    def forward(self, X):\n",
    "        if self.moving_mean.device != X.device:\n",
    "            self.moving_mean = self.moving_mean.to(X.device)\n",
    "            self.moving_var = self.moving_var.to(X.device)\n",
    "        Y, self.moving_mean, self.moving_var = batch_norm(self.training, X, self.gamma, self.beta, \n",
    "                                                          self.moving_mean, self.moving_var, \n",
    "                                                          eps=1e-5, momentum=0.9)\n",
    "        return Y"
   ]
  },
  {
   "cell_type": "code",
   "execution_count": 21,
   "id": "increased-forest",
   "metadata": {},
   "outputs": [],
   "source": [
    "LeNet_BN = nn.Sequential(nn.Conv2d(1,6,5),\n",
    "                        Batch_norm(6,4),\n",
    "                        nn.Sigmoid(),\n",
    "                        nn.MaxPool2d(2,2),\n",
    "                        nn.Conv2d(6,16,5),\n",
    "                        Batch_norm(16,4),\n",
    "                        nn.Sigmoid(),\n",
    "                        nn.MaxPool2d(2,2),\n",
    "                        nn.Flatten(),\n",
    "                        nn.Linear(16*4*4, 120),\n",
    "                        Batch_norm(120, 2),\n",
    "                        nn.Sigmoid(),\n",
    "                        nn.Linear(120, 84),\n",
    "                        Batch_norm(84, 2),\n",
    "                        nn.Sigmoid(),\n",
    "                        nn.Linear(84, 10)\n",
    "                        )"
   ]
  },
  {
   "cell_type": "code",
   "execution_count": 36,
   "id": "handed-temperature",
   "metadata": {},
   "outputs": [],
   "source": [
    "def evaluate_accuracy(data_iter, network, device = None):\n",
    "    if device is None:\n",
    "        device = list(network.parameters())[0].device\n",
    "    with torch.no_grad():\n",
    "        acc_num, n = 0.0, 0 \n",
    "        for X_test, y_test in data_iter:\n",
    "            X_test = X_test.to(device)\n",
    "            y_test = y_test.to(device)\n",
    "            network.eval()\n",
    "            y_hat = network(X_test)\n",
    "            acc_num  += (y_hat.argmax(dim = 1)==y_test.to(device)).sum().cpu().item()\n",
    "            network.train()\n",
    "            n += y_test.shape[0]\n",
    "    acc = acc_num/n\n",
    "    return acc "
   ]
  },
  {
   "cell_type": "code",
   "execution_count": 37,
   "id": "computational-mystery",
   "metadata": {},
   "outputs": [],
   "source": [
    "def train_network(network, train_iter, test_iter, optimizer, num_epochs):\n",
    "    device = torch.device('cuda' if torch.cuda.is_available else 'cpu')\n",
    "    network = network.to(device)\n",
    "    loss_fn = nn.CrossEntropyLoss()\n",
    "    for epoch in range(num_epochs): \n",
    "        train_loss_sum, train_acc_num, batch_count, n, start_time = 0.0, 0, 0, 0, time.time() \n",
    "        for X, y in train_iter:\n",
    "            X = X.to(device)\n",
    "            y = y.to(device)\n",
    "            y_hat = network(X)\n",
    "            loss = loss_fn(y_hat, y)\n",
    "            optimizer.zero_grad()\n",
    "            loss.backward()\n",
    "            optimizer.step()\n",
    "            train_loss_sum += loss.cpu().item()\n",
    "            train_acc_num += (y_hat.argmax(dim=1) == y).sum().cpu().item()\n",
    "            n += y.shape[0]\n",
    "            batch_count += 1\n",
    "        test_acc = evaluate_accuracy(test_iter, network)\n",
    "        print('epoch: %d, train_loss: %.3f, train_acc: %.3f, test_acc: %.3f, time: %.2f'\n",
    "              %(epoch+1, train_loss_sum/batch_count, train_acc_num/n, test_acc, (time.time()-start_time)))"
   ]
  },
  {
   "cell_type": "code",
   "execution_count": 38,
   "id": "figured-teddy",
   "metadata": {},
   "outputs": [],
   "source": [
    "batch_size = 256\n",
    "train_iter, test_iter = load_data_fashion_mnist(batch_size=batch_size)"
   ]
  },
  {
   "cell_type": "code",
   "execution_count": 39,
   "id": "faced-conversion",
   "metadata": {},
   "outputs": [
    {
     "name": "stdout",
     "output_type": "stream",
     "text": [
      "epoch: 1, train_loss: 0.264, train_acc: 0.906, test_acc: 0.882, time: 3.45\n",
      "epoch: 2, train_loss: 0.255, train_acc: 0.907, test_acc: 0.878, time: 3.59\n",
      "epoch: 3, train_loss: 0.245, train_acc: 0.911, test_acc: 0.864, time: 3.33\n",
      "epoch: 4, train_loss: 0.237, train_acc: 0.914, test_acc: 0.887, time: 3.30\n",
      "epoch: 5, train_loss: 0.232, train_acc: 0.915, test_acc: 0.870, time: 3.58\n"
     ]
    }
   ],
   "source": [
    "lr, num_epochs = 0.001, 5\n",
    "optimizer = optim.Adam(LeNet_BN.parameters(), lr = lr)\n",
    "train_network(LeNet_BN, train_iter, test_iter, optimizer, num_epochs)\n"
   ]
  },
  {
   "cell_type": "code",
   "execution_count": 40,
   "id": "tracked-lighting",
   "metadata": {},
   "outputs": [],
   "source": [
    "LeNet_BN = nn.Sequential(nn.Conv2d(1,6,5),\n",
    "                        nn.BatchNorm2d(6),\n",
    "                        nn.Sigmoid(),\n",
    "                        nn.MaxPool2d(2,2),\n",
    "                        nn.Conv2d(6,16,5),\n",
    "                        nn.BatchNorm2d(16),\n",
    "                        nn.Sigmoid(),\n",
    "                        nn.MaxPool2d(2,2),\n",
    "                        nn.Flatten(),\n",
    "                        nn.Linear(16*4*4, 120),\n",
    "                        nn.BatchNorm1d(120),\n",
    "                        nn.Sigmoid(),\n",
    "                        nn.Linear(120, 84),\n",
    "                        nn.BatchNorm1d(84),\n",
    "                        nn.Sigmoid(),\n",
    "                        nn.Linear(84, 10)\n",
    "                        )"
   ]
  },
  {
   "cell_type": "code",
   "execution_count": 41,
   "id": "environmental-queue",
   "metadata": {},
   "outputs": [
    {
     "name": "stdout",
     "output_type": "stream",
     "text": [
      "epoch: 1, train_loss: 1.020, train_acc: 0.775, test_acc: 0.820, time: 3.54\n",
      "epoch: 2, train_loss: 0.467, train_acc: 0.860, test_acc: 0.823, time: 3.42\n",
      "epoch: 3, train_loss: 0.375, train_acc: 0.876, test_acc: 0.863, time: 3.30\n",
      "epoch: 4, train_loss: 0.334, train_acc: 0.885, test_acc: 0.864, time: 3.53\n",
      "epoch: 5, train_loss: 0.311, train_acc: 0.890, test_acc: 0.874, time: 3.40\n"
     ]
    }
   ],
   "source": [
    "lr, num_epochs = 0.001, 5\n",
    "optimizer = optim.Adam(LeNet_BN.parameters(), lr = lr)\n",
    "train_network(LeNet_BN, train_iter, test_iter, optimizer, num_epochs)\n"
   ]
  },
  {
   "cell_type": "code",
   "execution_count": null,
   "id": "aging-final",
   "metadata": {},
   "outputs": [],
   "source": []
  },
  {
   "cell_type": "code",
   "execution_count": null,
   "id": "athletic-minute",
   "metadata": {},
   "outputs": [],
   "source": []
  },
  {
   "cell_type": "code",
   "execution_count": null,
   "id": "worthy-growth",
   "metadata": {},
   "outputs": [],
   "source": []
  },
  {
   "cell_type": "code",
   "execution_count": null,
   "id": "coastal-twist",
   "metadata": {},
   "outputs": [],
   "source": []
  }
 ],
 "metadata": {
  "kernelspec": {
   "display_name": "Python 3",
   "language": "python",
   "name": "python3"
  },
  "language_info": {
   "codemirror_mode": {
    "name": "ipython",
    "version": 3
   },
   "file_extension": ".py",
   "mimetype": "text/x-python",
   "name": "python",
   "nbconvert_exporter": "python",
   "pygments_lexer": "ipython3",
   "version": "3.8.8"
  },
  "toc": {
   "base_numbering": 1,
   "nav_menu": {},
   "number_sections": true,
   "sideBar": true,
   "skip_h1_title": false,
   "title_cell": "Table of Contents",
   "title_sidebar": "Contents",
   "toc_cell": false,
   "toc_position": {},
   "toc_section_display": true,
   "toc_window_display": false
  }
 },
 "nbformat": 4,
 "nbformat_minor": 5
}
