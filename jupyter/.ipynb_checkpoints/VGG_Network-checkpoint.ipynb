{
 "cells": [
  {
   "cell_type": "code",
   "execution_count": 1,
   "id": "simplified-maker",
   "metadata": {},
   "outputs": [],
   "source": [
    "import torch\n",
    "from torch.utils.data import DataLoader \n",
    "from torch.nn import init\n",
    "import torch.optim as optim \n",
    "import torch.nn as nn\n",
    "import torch.nn.functional as F\n",
    "import torchvision\n",
    "import torchvision.transforms as transforms\n",
    "import matplotlib.pyplot as plt\n",
    "import numpy as np\n",
    "import time "
   ]
  },
  {
   "cell_type": "code",
   "execution_count": 11,
   "id": "portuguese-practice",
   "metadata": {},
   "outputs": [],
   "source": [
    "def VGG_Block(num_convs, in_channels, out_channels):\n",
    "    Conv_list = []\n",
    "    for i in range(num_convs):\n",
    "        if i == 0:\n",
    "            Conv_list.append(nn.Conv2d(in_channels, out_channels, kernel_size = 3, stride = 1, padding = 1))\n",
    "        else:\n",
    "            Conv_list.append(nn.Conv2d(out_channels, out_channels, kernel_size= 3, stride = 1, padding = 1))\n",
    "        Conv_list.append(nn.ReLU())  \n",
    "    Conv_list.append(nn.MaxPool2d(kernel_size=2,stride=2))\n",
    "    return nn.Sequential(*Conv_list)    "
   ]
  },
  {
   "cell_type": "code",
   "execution_count": 12,
   "id": "stuffed-madison",
   "metadata": {},
   "outputs": [],
   "source": [
    "conv_arch = [(1,1,64),(1,64,128),(2,128,256),(2,256,512),(2,512,512)]\n",
    "fc_inputs = 512*7*7\n",
    "fc_hiddens = 4096"
   ]
  },
  {
   "cell_type": "code",
   "execution_count": 15,
   "id": "charged-terror",
   "metadata": {},
   "outputs": [],
   "source": [
    "def vgg(conv_arch, fc_inputs, fc_hiddens):\n",
    "    network = nn.Sequential()\n",
    "    for i, param_tuple in enumerate(conv_arch):\n",
    "        network.add_module('vgg_block_'+str(i+1),VGG_Block(*param_tuple))\n",
    "    network.add_module('fc', nn.Sequential(nn.Flatten(),\n",
    "                                    nn.Linear(fc_inputs, fc_hiddens),\n",
    "                                    nn.ReLU(),\n",
    "                                    nn.Dropout(0.5),\n",
    "                                    nn.Linear(fc_hiddens, fc_hiddens),\n",
    "                                    nn.ReLU(),\n",
    "                                    nn.Dropout(0.5),\n",
    "                                    nn.Linear(fc_hiddens,10)))\n",
    "    return network"
   ]
  },
  {
   "cell_type": "code",
   "execution_count": 21,
   "id": "willing-confidence",
   "metadata": {},
   "outputs": [],
   "source": [
    "ratio = 8\n",
    "conv_arch = [(1,1,64//ratio),(1,64//ratio,128//ratio),(2,128//ratio,256//ratio),(2,256//ratio,512//ratio),(2,512//ratio,512//ratio)]\n",
    "fc_inputs = (512//8)*7*7\n",
    "fc_hiddens = 4096//8\n",
    "Vgg_net = vgg(conv_arch, fc_inputs, fc_hiddens )"
   ]
  },
  {
   "cell_type": "code",
   "execution_count": 17,
   "id": "coated-extent",
   "metadata": {},
   "outputs": [],
   "source": [
    "def load_data_fashion_mnist(batch_size, resize = None, path = './Dataset/FashionMNIST'):\n",
    "    \"\"\"Download the fashion mnist dataset and then load into memory\"\"\"\n",
    "    trans = []\n",
    "    if resize:\n",
    "        trans.append(transforms.Resize(size = resize))\n",
    "    trans.append(transforms.ToTensor())\n",
    "    transform = transforms.Compose(trans)\n",
    "    \n",
    "    mnist_train = torchvision.datasets.FashionMNIST(root = path, train = True, download = True, transform = transform) \n",
    "    mnist_test = torchvision.datasets.FashionMNIST(root = path,  train = False, download = True, transform = transform)\n",
    "    \n",
    "    train_iter = DataLoader(mnist_train, batch_size= batch_size, shuffle = True, num_workers = 4) \n",
    "    test_iter = DataLoader(mnist_test, batch_size = batch_size, shuffle = True, num_workers = 4)\n",
    "    \n",
    "    return train_iter, test_iter"
   ]
  },
  {
   "cell_type": "code",
   "execution_count": 18,
   "id": "extra-worship",
   "metadata": {},
   "outputs": [],
   "source": [
    "def evaluate_accuracy(data_iter, network, device = None):\n",
    "    if device is None:\n",
    "        device = list(network.parameters())[0].device\n",
    "    with torch.no_grad():\n",
    "        acc_num, n = 0.0, 0 \n",
    "        for X, y in data_iter:\n",
    "            network.eval()\n",
    "            y_hat = network(X.to(device))\n",
    "            acc_num  += (y_hat.argmax(dim = 1)==y.to(device)).float().sum().cpu().item()\n",
    "            network.train()\n",
    "            n += y.shape[0]\n",
    "    acc = acc_num/n\n",
    "    return acc "
   ]
  },
  {
   "cell_type": "code",
   "execution_count": 20,
   "id": "stable-pharmaceutical",
   "metadata": {},
   "outputs": [],
   "source": [
    "def train_network(network, train_iter, test_iter, optimizer, num_epochs):\n",
    "    device = 'cuda:0' if torch.cuda.is_available else 'cpu'\n",
    "    network = network.to(device)\n",
    "    loss_fn = nn.CrossEntropyLoss()\n",
    "    for epoch in range(num_epochs): \n",
    "        train_loss_sum, test_loss_sum, train_acc_num, batch_count, batch_count_test, n, start_time = 0.0, 0.0, 0.0, 0, 0, 0, time.time() \n",
    "        for X, y in train_iter:\n",
    "            X = X.to(device)\n",
    "            y = y.to(device)\n",
    "            y_hat = network(X)\n",
    "            loss = loss_fn(y_hat, y)\n",
    "            optimizer.zero_grad()\n",
    "            loss.backward()\n",
    "            optimizer.step()\n",
    "            with torch.no_grad():\n",
    "                train_acc_num += (y_hat.argmax(dim=1) == y).float().sum().cpu().item()\n",
    "                train_loss_sum += loss.cpu().item()\n",
    "                n += y.shape[0]\n",
    "                batch_count += 1\n",
    "        train_acc = train_acc_num/n\n",
    "        train_loss = train_loss_sum/batch_count\n",
    "        test_acc = evaluate_accuracy(test_iter, network)\n",
    "        for X_test, y_test in test_iter:\n",
    "            y_test_hat = network(X_test.to(device))\n",
    "            loss_test = loss_fn(y_test_hat, y_test.to(device))\n",
    "            test_loss_sum += loss_test.cpu().item()\n",
    "            batch_count_test += 1\n",
    "        test_loss = test_loss_sum/batch_count_test\n",
    "        print('epoch: %d, train_loss: %.3f, test_loss: %.3f, train_acc: %.3f, test_acc: %.3f, time: %.2f'\n",
    "              %(epoch+1, train_loss, test_loss, train_acc, test_acc, (time.time()-start_time)))"
   ]
  },
  {
   "cell_type": "code",
   "execution_count": 22,
   "id": "spare-preparation",
   "metadata": {},
   "outputs": [
    {
     "name": "stdout",
     "output_type": "stream",
     "text": [
      "epoch: 1, train_loss: 0.770, test_loss: 0.428, train_acc: 0.703, test_acc: 0.857, time: 35.42\n",
      "epoch: 2, train_loss: 0.367, test_loss: 0.363, train_acc: 0.866, test_acc: 0.880, time: 33.46\n",
      "epoch: 3, train_loss: 0.308, test_loss: 0.317, train_acc: 0.887, test_acc: 0.894, time: 34.32\n",
      "epoch: 4, train_loss: 0.274, test_loss: 0.301, train_acc: 0.899, test_acc: 0.904, time: 34.75\n",
      "epoch: 5, train_loss: 0.252, test_loss: 0.316, train_acc: 0.908, test_acc: 0.908, time: 34.33\n"
     ]
    }
   ],
   "source": [
    "train_iter, test_iter = load_data_fashion_mnist(batch_size = 256, resize = 224)\n",
    "lr, num_epochs = 0.001, 5\n",
    "optimizer = optim.Adam(Vgg_net.parameters(), lr=lr)\n",
    "train_network(Vgg_net, train_iter, test_iter, optimizer, num_epochs)"
   ]
  },
  {
   "cell_type": "code",
   "execution_count": null,
   "id": "animated-yugoslavia",
   "metadata": {},
   "outputs": [],
   "source": []
  }
 ],
 "metadata": {
  "kernelspec": {
   "display_name": "Python 3",
   "language": "python",
   "name": "python3"
  },
  "language_info": {
   "codemirror_mode": {
    "name": "ipython",
    "version": 3
   },
   "file_extension": ".py",
   "mimetype": "text/x-python",
   "name": "python",
   "nbconvert_exporter": "python",
   "pygments_lexer": "ipython3",
   "version": "3.8.8"
  },
  "toc": {
   "base_numbering": 1,
   "nav_menu": {},
   "number_sections": true,
   "sideBar": true,
   "skip_h1_title": false,
   "title_cell": "Table of Contents",
   "title_sidebar": "Contents",
   "toc_cell": false,
   "toc_position": {},
   "toc_section_display": true,
   "toc_window_display": false
  }
 },
 "nbformat": 4,
 "nbformat_minor": 5
}
