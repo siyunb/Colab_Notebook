{
 "cells": [
  {
   "cell_type": "code",
   "execution_count": 54,
   "id": "lonely-playlist",
   "metadata": {},
   "outputs": [],
   "source": [
    "import torch\n",
    "import random\n",
    "import zipfile\n",
    "import time\n",
    "import math\n",
    "import numpy as np\n",
    "from torch import nn, optim\n",
    "import torch.nn.functional as F"
   ]
  },
  {
   "cell_type": "code",
   "execution_count": 116,
   "id": "recorded-inclusion",
   "metadata": {},
   "outputs": [],
   "source": [
    "def load_data_jay_lyrics():\n",
    "    with zipfile.ZipFile('./Dataset/JayLyrics/jaychou_lyrics.txt.zip') as zin:\n",
    "        with zin.open('jaychou_lyrics.txt') as f:\n",
    "            corpus_chars = f.read().decode('utf-8')\n",
    "    corpus_chars = corpus_chars.replace('\\n',' ').replace('\\r', ' ')\n",
    "    corpus_chars = corpus_chars[:10000]\n",
    "    idx_to_char = list(set(corpus_chars))\n",
    "    char_to_idx_dict = dict([(char, i) for i, char in enumerate(idx_to_char)])\n",
    "    idx_to_char_dict = dict([(i, char) for i, char in enumerate(idx_to_char)])\n",
    "    corpus_indice = [char_to_idx_dict[char] for char in corpus_chars]\n",
    "    return corpus_chars, corpus_indice, idx_to_char_dict, char_to_idx_dict"
   ]
  },
  {
   "cell_type": "code",
   "execution_count": 117,
   "id": "silent-attention",
   "metadata": {},
   "outputs": [],
   "source": [
    "corpus_chars, corpus_indice, idx_to_char_dict, char_to_idx_dict = load_data_jay_lyrics()\n",
    "vocab_size = len(idx_to_char_dict)"
   ]
  },
  {
   "cell_type": "code",
   "execution_count": 118,
   "id": "pointed-browser",
   "metadata": {},
   "outputs": [],
   "source": [
    "def data_iter_random(corpus_indice, batch_size, num_step, device = None):\n",
    "    num_example = (len(corpus_indice)-1)//num_step\n",
    "    epoch_size = num_example//batch_size\n",
    "    example_indice = list(range(num_example))\n",
    "    random.shuffle(example_indice)\n",
    "    \n",
    "    def _data(pos):\n",
    "        return corpus_indice[pos:pos+num_step]\n",
    "    if device is None:\n",
    "        device = torch.device('cuda' if torch.cuda.is_available() else 'cpu')\n",
    "    \n",
    "    for i in range(epoch_size):\n",
    "        i = i*batch_size\n",
    "        X = [_data(j*num_step) for j in example_indice[i:i+batch_size]]\n",
    "        Y = [_data(j*num_step+1) for j in example_indice[i: i+batch_size]]\n",
    "        yield torch.tensor(X, dtype = torch.float, device = device), torch.tensor(Y, dtype = torch.float, device = device)"
   ]
  },
  {
   "cell_type": "code",
   "execution_count": 119,
   "id": "sacred-traveler",
   "metadata": {},
   "outputs": [],
   "source": [
    "def data_iter_consecutive(corpus_indice, batch_size, num_step, device = None):\n",
    "    if device is None:\n",
    "        device = torch.device('cuda' if torch.cuda.is_available() else 'cpu')\n",
    "    corpus_indice = torch.tensor(corpus_indice, dtype = torch.float, device = device)\n",
    "    data_len = len(corpus_indice)\n",
    "    batch_len = data_len//batch_size\n",
    "    indice = corpus_indice[0:batch_len*batch_size].view(batch_size, batch_len)\n",
    "    epoch_size = batch_len//num_step\n",
    "    \n",
    "    for i in range(epoch_size):\n",
    "        i = i*num_step\n",
    "        X = indice[:, i: i+num_step]\n",
    "        X1 = indice[:, i+1:i+num_step+1]\n",
    "        yield X, X1"
   ]
  },
  {
   "cell_type": "code",
   "execution_count": 120,
   "id": "medical-kitchen",
   "metadata": {},
   "outputs": [],
   "source": [
    "def one_hot(x,n_class):\n",
    "    x = x.long()\n",
    "    res=torch.zeros(x.shape[0],n_class, dtype = torch.float, device = x.device)\n",
    "    res.scatter_(1,x.view(-1,1),1)\n",
    "    return res\n",
    "def to_onehot(X, n_class):\n",
    "    return [one_hot(X[:,i],n_class) for i in range(X.shape[1])]"
   ]
  },
  {
   "cell_type": "code",
   "execution_count": 121,
   "id": "american-minority",
   "metadata": {},
   "outputs": [],
   "source": [
    "X = torch.arange(10).view(2,5)\n",
    "X_onehot = to_onehot(X,vocab_size)"
   ]
  },
  {
   "cell_type": "code",
   "execution_count": 122,
   "id": "greek-copyright",
   "metadata": {},
   "outputs": [],
   "source": [
    "def get_params(num_inputs, num_hiddens, num_outputs, device = None):\n",
    "    if device is None:\n",
    "        device = torch.device('cuda' if torch.cuda.is_available() else 'cpu')\n",
    "    def _one(shape):\n",
    "        ts = torch.tensor(np.random.normal(0, 0.01,size = shape), device = device, dtype = torch.float)\n",
    "        return nn.Parameter(ts, requires_grad = True)\n",
    "    W_xh = _one((num_inputs, num_hiddens))\n",
    "    W_hh = _one((num_hiddens, num_hiddens))\n",
    "    b_h = nn.Parameter(torch.zeros(num_hiddens, device = device, dtype = torch.float, requires_grad =True))\n",
    "    W_hq = _one((num_hiddens, num_outputs))\n",
    "    b_q = nn.Parameter(torch.zeros(num_outputs, device = device, dtype = torch.float, requires_grad =True))\n",
    "    return nn.ParameterList([W_xh, W_hh, b_h, W_hq, b_q])    "
   ]
  },
  {
   "cell_type": "code",
   "execution_count": 123,
   "id": "stuffed-database",
   "metadata": {},
   "outputs": [],
   "source": [
    "def init_rnn_state(batch_size, num_hiddens, device = None):\n",
    "    if device is None:\n",
    "        device = torch.device('cuda' if torch.cuda.is_available() else 'cpu')\n",
    "    return (torch.zeros((batch_size, num_hiddens), device = device, dtype = torch.float),)"
   ]
  },
  {
   "cell_type": "code",
   "execution_count": 124,
   "id": "golden-member",
   "metadata": {},
   "outputs": [],
   "source": [
    "def rnn(inputs, state, params):\n",
    "    W_xh, W_hh, b_h, W_hq, b_q = params\n",
    "    H, = state\n",
    "    outputs = []\n",
    "    for X in inputs:\n",
    "        H = torch.tanh(torch.matmul(X, W_xh)+torch.matmul(H, W_hh)+b_h)\n",
    "        Y = torch.matmul(H, W_hq)+b_q\n",
    "        outputs.append(Y)\n",
    "    return outputs, (H,)"
   ]
  },
  {
   "cell_type": "code",
   "execution_count": 125,
   "id": "fitting-attachment",
   "metadata": {},
   "outputs": [],
   "source": [
    "num_inputs, num_hiddens, num_outputs = vocab_size, 256, vocab_size\n",
    "state = init_rnn_state(X.shape[0], num_hiddens)\n",
    "inputs = to_onehot(X.to('cuda'), vocab_size)\n",
    "params = get_params(num_inputs, num_hiddens, num_outputs, device = None)\n",
    "outputs, state_new = rnn(inputs, state, params)\n"
   ]
  },
  {
   "cell_type": "code",
   "execution_count": 159,
   "id": "divided-failing",
   "metadata": {},
   "outputs": [],
   "source": [
    "def predict_rnn(prefix, params, num_chars, num_hiddens, idx_to_char, char_to_idx):\n",
    "    device = torch.device('cuda' if torch.cuda.is_available() else 'cpu')\n",
    "    vocab_size = len(idx_to_char)\n",
    "    state, = init_rnn_state(1, num_hiddens)\n",
    "    output_prefix = []\n",
    "    for i in range(num_chars):\n",
    "        if i <= len(prefix)-1:\n",
    "            output_prefix.append(prefix[i])\n",
    "            idx = char_to_idx[output_prefix[i-1]] \n",
    "            idx = torch.tensor([[idx]], dtype = torch.float, device = device)\n",
    "            idx_onehot = one_hot(idx, vocab_size)\n",
    "            output,state = rnn(idx_onehot, state, params)             \n",
    "        else:\n",
    "            idx = char_to_idx[output_prefix[i-1]] \n",
    "            idx = torch.tensor([[idx]], dtype = torch.float, device = device)\n",
    "            idx_onehot = one_hot(idx, vocab_size)\n",
    "            output,state = rnn(idx_onehot, state, params)    \n",
    "            output_char = idx_to_char[output[0].argmax(dim=0).item()]\n",
    "            output_prefix.append(output_char)\n",
    "    return ''.join(output_prefix)"
   ]
  },
  {
   "cell_type": "code",
   "execution_count": 158,
   "id": "stainless-yugoslavia",
   "metadata": {},
   "outputs": [
    {
     "data": {
      "text/plain": [
       "'分开擅翅甩背典伦牵就'"
      ]
     },
     "execution_count": 158,
     "metadata": {},
     "output_type": "execute_result"
    }
   ],
   "source": [
    "predict_rnn('分开', params, 10, 256, idx_to_char_dict, char_to_idx_dict)"
   ]
  },
  {
   "cell_type": "code",
   "execution_count": 128,
   "id": "molecular-scanner",
   "metadata": {},
   "outputs": [],
   "source": [
    "#clip gradient\n",
    "def grad_clipping(params, theta):\n",
    "    device = torch.device('cuda' if torch.cuda.is_available() else 'cpu')\n",
    "    norm = torch.tensor([0.0], device = device)\n",
    "    for param in params:\n",
    "        norm += (param.grad.data**2).sum()\n",
    "    norm = norm.sqrt().item()\n",
    "    if norm > theta:\n",
    "        for param in params:\n",
    "            param.grad.data *= (theta/norm) "
   ]
  },
  {
   "cell_type": "code",
   "execution_count": 129,
   "id": "automotive-flooring",
   "metadata": {},
   "outputs": [],
   "source": [
    "#optimizer function\n",
    "def sgd(params, lr, batch_size):\n",
    "    for param in params:\n",
    "        param.data -= lr*param.grad/batch_size"
   ]
  },
  {
   "cell_type": "code",
   "execution_count": 160,
   "id": "dying-ethernet",
   "metadata": {},
   "outputs": [],
   "source": [
    "def train_predict_rnn(corpus_indices, idx_to_char_dict, dict_to_idx_dict, \n",
    "                      is_random_iter, num_hiddens, num_epochs, num_steps,\n",
    "                      lr, clipping_theta, batch_size,                     \n",
    "                      pred_period, pred_len, prefixes):\n",
    "    #initialize parameters\n",
    "    device = torch.device('cuda' if torch.cuda.is_available() else 'cpu')\n",
    "    vocab_size = len(idx_to_char_dict)\n",
    "    if is_random_iter:\n",
    "        data_iter_fn = data_iter_random\n",
    "    else:\n",
    "        data_iter_fn = data_iter_consecutive\n",
    "    params = get_params(vocab_size, num_hiddens, vocab_size, device)\n",
    "    loss_fn = nn.CrossEntropyLoss()\n",
    "    \n",
    "    #training loop\n",
    "    for epoch in range(num_epochs):\n",
    "        if not is_random_iter:\n",
    "            state = init_rnn_state(batch_size, num_hiddens, device)\n",
    "        loss_sum, n, start = 0.0, 0, time.time()\n",
    "        data_iter = data_iter_fn(corpus_indices, batch_size, num_steps, device)\n",
    "        for X, Y in data_iter: \n",
    "            if is_random_iter:\n",
    "                state = init_rnn_state(batch_size, num_hiddens, device)\n",
    "            else:\n",
    "                for s in state:\n",
    "                    s.etach_()\n",
    "        inputs = to_onehot(X, vocab_size)\n",
    "        (outputs, state) = rnn(inputs, state, params)\n",
    "        outputs = torch.cat(outputs, dim=0)\n",
    "        y = torch.transpose(Y,0,1).contiguous().view(-1)\n",
    "        loss = loss_fn(outputs, y.long())\n",
    "        \n",
    "        #gradient zero\n",
    "        if params[0].grad is not None:\n",
    "            for param in params:\n",
    "                param.grad.data.zero_()\n",
    "        \n",
    "        loss.backward()\n",
    "        grad_clipping(params, clipping_theta)\n",
    "        sgd(params, lr, 1)\n",
    "        loss_sum = loss.item()*y.shape[0]\n",
    "        n += y.shape[0]\n",
    "        \n",
    "        if (epoch+1)% pred_period ==0:\n",
    "            print('epoch %d, perplexity %f, time %.2f sec'%(epoch+1, math.exp(loss_sum/n), time.time()-start))\n",
    "            for prefix in prefixes:\n",
    "                print('-',predict_rnn(prefix, params, pred_len, num_hiddens, idx_to_char_dict, char_to_idx_dict ))"
   ]
  },
  {
   "cell_type": "code",
   "execution_count": 166,
   "id": "entertaining-provider",
   "metadata": {},
   "outputs": [],
   "source": [
    "num_epochs, num_steps, batch_size, lr, clipping_theta = 2000, 35, 32, 1e2, 1e-2\n",
    "pred_period, pred_len, prefixes = 100, 50, ['分开', '不分开']\n",
    "is_random_iter = True"
   ]
  },
  {
   "cell_type": "code",
   "execution_count": 167,
   "id": "innocent-bailey",
   "metadata": {},
   "outputs": [
    {
     "name": "stdout",
     "output_type": "stream",
     "text": [
      "epoch 100, perplexity 279.573975, time 0.02 sec\n",
      "- 分开的 我的 我的 我的 我的 我的 我的 我的 我的 我的 我的 我的 我的 我的 我的 我的 我\n",
      "- 不分开 我的 我的 我的 我的 我的 我的 我的 我的 我的 我的 我的 我的 我的 我的 我的 我\n",
      "epoch 200, perplexity 181.814547, time 0.02 sec\n",
      "- 分开 我不 我不 我不 我不 我不 我不 我不 我不 我不 我不 我不 我不 我不 我不 我不 我不\n",
      "- 不分开 我不 我不 我不 我不 我不 我不 我不 我不 我不 我不 我不 我不 我不 我不 我不 我\n",
      "epoch 300, perplexity 104.530950, time 0.02 sec\n",
      "- 分开 我不要的可爱女人 坏想的让我疯狂的可爱女人的可爱女人的可爱女人的可爱女人的可爱女人的可爱女人的\n",
      "- 不分开 我想要你你 我不能的可爱女人 坏想的让我疯狂的可爱女人的可爱女人的可爱女人的可爱女人的可爱女\n",
      "epoch 400, perplexity 80.404541, time 0.02 sec\n",
      "- 分开 我想要再  有我的可 有一了的 我有定的可爱有西 坏想我有多 我不能我想 我不能再想 我不能再\n",
      "- 不分开 我想要再 我有你的可爱 我有你的让我有多的可爱女人 坏坏的让我疯狂的可爱女人 坏坏的让我疯狂\n",
      "epoch 500, perplexity 40.268548, time 0.02 sec\n",
      "- 分开 我想要你想 我不能再想 我不能再想 我不能再想 我不能再想 我不能再想 我不能再想 我不能再想\n",
      "- 不分开 我不要再想 我不能再想 我不能再想 我不能再想 我不能再想 我不能再想 我不能再想 我不能再\n",
      "epoch 600, perplexity 20.125088, time 0.03 sec\n",
      "- 分开 我想要这生 我不能再想 我不能再想 我不能再想 我不能再想 我不能再想 我不能再想 我不能再想\n",
      "- 不分开 我不要再想 我不能再想 我不能再想 我不能再想 我不能再想 我不能再想 我不能再想 我不能再\n",
      "epoch 700, perplexity 15.772300, time 0.02 sec\n",
      "- 分开 一直用美斑 我有儿够 在我村外 在人定空 你一定空 如有我 别怪我抬起头 有话去 娘不么 我想\n",
      "- 不分开 我不能再想你 没知不觉 如知了双 我跟了这 我跟的让我 红的可斑女人 透坏的让我疯狂的可爱女\n",
      "epoch 800, perplexity 8.497637, time 0.02 sec\n",
      "- 分开 快使用双截棍的母斑 一切又重演 花在在人 全小村外  有时梦 我不了这生  没有你在我有多难熬\n",
      "- 不分开 我想你的生写 后知不觉  你在一够热义 配有入 一直两 我想就这样牵着 我说耍的让娘有不 什\n",
      "epoch 900, perplexity 7.537390, time 0.02 sec\n",
      "- 分开 有使用双截 我爱在事些在 如果我遇见你是一场悲剧 我可以让不爱再久 别想躲 说你眼睛看着 不多\n",
      "- 不分开简的胖 在小待向开始移动 回是我这轻得着 一壶好人 再我心外婆 我都能够 你 爱人我的肩膀 你\n",
      "epoch 1000, perplexity 5.769149, time 0.02 sec\n",
      "- 分开 帅呆了我有证的世言  想地你只 我有儿这些 我不 我不 我不能再想你 不知不觉 你已经离开我 \n",
      "- 不分开简 单我不道离你的美找 我想揍你已经很久 别想躲 说你眼睛看着我 说散球你看错 一直到我们说的\n",
      "epoch 1100, perplexity 4.384768, time 0.02 sec\n",
      "- 分开 爱后不要球 这样三怕走 这不懂 说弄箱 是属了三年代的铁盒 还著中 瞎透了 一壶四依 在漠忆 \n",
      "- 不分开  这样的小 你已好有 是小村 的片段 有一些风霜 老唱坊 说不箱 装属了三 回头在 的路段 \n",
      "epoch 1200, perplexity 2.550414, time 0.02 sec\n",
      "- 分开 想要样没担忧 一着的假栈 你的可美女义 太彻底 我不红好多牵 对我想好不  唱 回对我有轻难恼\n",
      "- 不分开  这什么我的我 相思寄红  一什么演妥 这在 娘子 征战 弓箭 是谁的从旧 喜欢在人潮中你只\n",
      "epoch 1300, perplexity 2.212919, time 0.02 sec\n",
      "- 分开 快使不觉 我该了这节秋 我该后好生活的课桌  录在你只 有你在双我 谁场温说 在我将上你 那场\n",
      "- 不分开 然叫将直去我 抛知不觉 你已了离开我 不知不觉 你跟了这开奏 后知后觉 我该好好生活 我该好\n",
      "epoch 1400, perplexity 2.138335, time 0.02 sec\n",
      "- 分开 周杰都忆有 几话过乌天 懂不懂斗有 有里横直走 这里什么奇 这里就直走 这里什么奇 这里就直走\n",
      "- 不分开  那里很小风  学情悄起里堡 一只 你和 这对 弓箭 是谁的从前 喜欢在人潮中你只力 我的伤\n",
      "epoch 1500, perplexity 1.702862, time 0.03 sec\n",
      "- 分开 想要了篮板错 唱多歌 我手了 我想就 我不大 我牵好 我手就 我想就这样牵着 干什么 干什么 \n",
      "- 不分开 然后将过去 慢慢温着 还家完空出出的一场戏 后力的躺斑鸠  所狠 其我是恨都着我打愿 脸道你\n",
      "epoch 1600, perplexity 1.588645, time 0.02 sec\n",
      "- 分开 想呆都没担忧 唱攻歌 我给走 我给我 我不要你的布面 爸只莹 一直两 日子她有手心开 干什么 \n",
      "- 不分开 然后将过去 慢慢温习 让我爱上你 那场悲剧 是你完美演出的一场戏 宁愿心碎哭泣 再狠狠忘记 \n",
      "epoch 1700, perplexity 1.469682, time 0.02 sec\n",
      "- 分开 想杰不觉我后 爱着不愿池 我爱魂失控 黑云在降落 我被它拖着走 如果我遇见你是一场悲剧 我可以\n",
      "- 不分开 然后将过去 慢慢温习 让我爱上你 那场悲剧 是你完美演出的一场戏 宁愿心碎哭泣 再狠狠忘记 \n",
      "epoch 1800, perplexity 1.373405, time 0.02 sec\n",
      "- 分开 想要用没安错 唱着歌以记 你是让人难过 心伤透 娘子她人在江南等我 泪不休 语沉默 娘子她人在\n",
      "- 不分开 然后将过去 慢慢温习 让我爱上你 那场悲剧 是你完美演出的一场戏 宁愿心碎哭泣 再狠狠忘记 \n",
      "epoch 1900, perplexity 1.438676, time 0.02 sec\n",
      "- 分开 想要样现原  静过着对不起 一枚想你和汉痛 我想要你的微笑每天都能看到  我知道这里很美但家乡\n",
      "- 不分开把的胖女巫 用拉丁文念咒语啦啦呜 她养的黑猫笑起来像哭 啦啦啦呜 一根的人屋在 哼透的客栈 回\n",
      "epoch 2000, perplexity 1.313350, time 0.02 sec\n",
      "- 分开 想要样用担忧 唱着年 一直走 我想就这样牵着你的手不放开 爱可不可以简简单单没有伤害 你 靠着\n",
      "- 不分开把的胖 巫到待雨季始移动记 像是在宇宙里 我后后每安说箱说 陷入了危险边缘Baby  我的世界\n"
     ]
    }
   ],
   "source": [
    "train_predict_rnn(corpus_indice, idx_to_char_dict, char_to_idx_dict, \n",
    "                      is_random_iter, num_hiddens, num_epochs, num_steps,\n",
    "                      lr, clipping_theta, batch_size,                     \n",
    "                      pred_period, pred_len, prefixes)"
   ]
  }
 ],
 "metadata": {
  "kernelspec": {
   "display_name": "Python 3",
   "language": "python",
   "name": "python3"
  },
  "language_info": {
   "codemirror_mode": {
    "name": "ipython",
    "version": 3
   },
   "file_extension": ".py",
   "mimetype": "text/x-python",
   "name": "python",
   "nbconvert_exporter": "python",
   "pygments_lexer": "ipython3",
   "version": "3.8.8"
  },
  "toc": {
   "base_numbering": 1,
   "nav_menu": {},
   "number_sections": true,
   "sideBar": true,
   "skip_h1_title": false,
   "title_cell": "Table of Contents",
   "title_sidebar": "Contents",
   "toc_cell": false,
   "toc_position": {},
   "toc_section_display": true,
   "toc_window_display": false
  }
 },
 "nbformat": 4,
 "nbformat_minor": 5
}
