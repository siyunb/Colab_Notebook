{
 "cells": [
  {
   "cell_type": "code",
   "execution_count": 1,
   "id": "continent-delicious",
   "metadata": {},
   "outputs": [],
   "source": [
    "# 载入python库\n",
    "import pandas as pd\n",
    "import xlrd, openpyxl\n",
    "import re\n",
    "import os\n",
    "from copy import deepcopy"
   ]
  },
  {
   "cell_type": "code",
   "execution_count": 2,
   "id": "soviet-cassette",
   "metadata": {},
   "outputs": [],
   "source": [
    "#排除数据源中的干扰行\n",
    "def fliter_none(issue):\n",
    "    pattern = re.compile('\\d{6}.[A-Z]{2}')\n",
    "    try:\n",
    "        id_stock = pattern.search(issue)\n",
    "        if id_stock is not None :\n",
    "            return True\n",
    "        else:\n",
    "            return False\n",
    "    except:\n",
    "        return False "
   ]
  },
  {
   "cell_type": "code",
   "execution_count": 3,
   "id": "metallic-luxury",
   "metadata": {},
   "outputs": [],
   "source": [
    "#分别生成每只基金重仓股即其持股比例的列表\n",
    "def generate_dict(dataframe, point_filepath, csv_name):\n",
    "    fund_network = {}\n",
    "    node_network = {'node':[], 'group':[], 'k_value':[]}  #生成一个储存node信息的字典\n",
    "    for _, row in dataframe.iterrows():\n",
    "        fund, stock, group, fluent_rate, value_rate, k_value = row\n",
    "        if fund in fund_network:\n",
    "            fund_network[fund].append((stock, k_value))\n",
    "        else:    \n",
    "            fund_network[fund] = []\n",
    "            fund_network[fund].append((stock, k_value))\n",
    "            node_network['node'].append(fund)\n",
    "            node_network['group'].append(group)\n",
    "    for fund in node_network['node']:\n",
    "        node_network['k_value'].append(fund_network[fund])\n",
    "    node_network = pd.DataFrame(node_network)  \n",
    "    node_network.to_csv(point_filepath+'/'+csv_name+'_node_network'+'.csv', encoding='utf_8_sig', index=True)\n",
    "    return fund_network"
   ]
  },
  {
   "cell_type": "code",
   "execution_count": 4,
   "id": "sunrise-wagner",
   "metadata": {},
   "outputs": [],
   "source": [
    "#统计两只基金相同持股的股票列表，若比例大于临界值则记为1，否则记为0\n",
    "def find_common(stock_list1, stock_list2, threshold):\n",
    "    coshare_element = []\n",
    "    for stock_name1, rate1 in stock_list1:\n",
    "        for stock_name2, rate2 in stock_list2:\n",
    "            if (stock_name1 == stock_name2) and ((rate1 > threshold) & (rate2>threshold)):\n",
    "                coshare_element.append((stock_name1, 1))\n",
    "            elif (stock_name1 == stock_name2) and ((rate1 <= threshold) | (rate2<=threshold)):\n",
    "                coshare_element.append((stock_name1, 0))\n",
    "    return coshare_element"
   ]
  },
  {
   "cell_type": "code",
   "execution_count": 5,
   "id": "rental-triple",
   "metadata": {},
   "outputs": [],
   "source": [
    "#统计两只基金相同持股的股票数量及均大于临界值的股票数量\n",
    "def generate_network_dataframe(fund_network, fund_network_copy, threshold):\n",
    "    network_dataframe = {'source':[],'target':[],'coshare_stock':[],'coshare_num':[],'weight_stock':[],'weight':[]}\n",
    "    for key1, stock_list1 in fund_network.items():\n",
    "        del fund_network_copy[key1]\n",
    "        for key2, stock_list2 in fund_network_copy.items():\n",
    "            coshare_element = find_common(stock_list1, stock_list2, threshold)\n",
    "            if len(coshare_element)>0:\n",
    "                network_dataframe['source'].append(key1)\n",
    "                network_dataframe['target'].append(key2)\n",
    "                network_dataframe['coshare_stock'].append('*'.join(sorted([share_stock[0] for share_stock in coshare_element])))\n",
    "                network_dataframe['coshare_num'].append(len(coshare_element))\n",
    "                network_dataframe['weight_stock'].append('*'.join(sorted([share_stock[0] for share_stock in coshare_element if share_stock[1]==1])))\n",
    "                network_dataframe['weight'].append(sum([share_stock[1] for share_stock in coshare_element]))\n",
    "    network_dataframe = pd.DataFrame(network_dataframe)                          #return 这个是全weight数据\n",
    "    network_dataframe_weight = network_dataframe[network_dataframe['weight']!=0] #return 这个是删除weight为0的\n",
    "    output_list = ['source','target','weight_stock','weight']\n",
    "    return network_dataframe_weight[output_list]"
   ]
  },
  {
   "cell_type": "code",
   "execution_count": 6,
   "id": "atomic-technician",
   "metadata": {},
   "outputs": [],
   "source": [
    "#生成网络结构数据\n",
    "def xlsx_csv_fund(xlsx_filepath, csv_filepath, fund_filepath, point_filepath, hyper_params, invest_category = None):\n",
    "    #获取文件路径\n",
    "    list_dir =  [os.path.splitext(dir) for dir in os.listdir(xlsx_filepath)]\n",
    "    \n",
    "    #确认成的网络\n",
    "    if invest_category is not None:\n",
    "        print('正在生成'+'+'.join(invest_category)+'投资的网络')\n",
    "    else:\n",
    "        print('正在生成全部投资的网络')\n",
    "        \n",
    "    for tuple_dir in list_dir:\n",
    "        #读取wind数据\n",
    "        date_name, format_name = tuple_dir\n",
    "        dataframe = pd.read_excel(xlsx_filepath+'/'+date_name+format_name)\n",
    "        \n",
    "        #删去不符合投资类型的股票，并检验是否数据框为空，为空则跳转到下一个循环\n",
    "        if invest_category is not None:\n",
    "            dataframe = dataframe[dataframe['投资类型'].isin(invest_category)]\n",
    "        if dataframe.empty:\n",
    "            continue\n",
    "        \n",
    "        #从原始数据提取必要信息\n",
    "        column_name = ['代码','名称','股票代码','股票简称','持股占流通股比(%)','持股市值占基金净值比(%)','管理公司']\n",
    "        data_csv = dataframe[dataframe['代码'].apply(fliter_none)][column_name]\n",
    "        data_csv = data_csv.rename(columns = {'代码':'code',\n",
    "                                              '名称':'source',\n",
    "                                              '股票代码':'stock_code',\n",
    "                                              '股票简称':'target', \n",
    "                                              '持股占流通股比(%)':'fluent_rate',\n",
    "                                              '持股市值占基金净值比(%)':'value_rate', \n",
    "                                              '管理公司':'group'})\n",
    "        csv_name = ('_').join(date_name.split('-'))\n",
    "        dataframe_fund = data_csv[['source','target','group','fluent_rate','value_rate']]\n",
    "        \n",
    "        #生成k值进一步完善dataframe_fund\n",
    "        a, b, c = hyper_params\n",
    "        dataframe_fund_copy = dataframe_fund.copy()\n",
    "        dataframe_fund_copy['k_value'] = dataframe_fund.apply(lambda row: round(a*row[3]+b*row[4]+c*row[3]*row[4], 2), axis=1)#生成k值\n",
    "        dataframe_fund_copy.to_csv(csv_filepath+'/'+csv_name+'.csv', encoding='utf_8_sig', index=True)\n",
    "\n",
    "        \n",
    "        #生成制作网络的数据表\n",
    "        fund_network = generate_dict(dataframe_fund_copy, point_filepath, csv_name)\n",
    "        fund_network_copy = deepcopy(fund_network)\n",
    "        threshold = hyper_threshold\n",
    "        network_dataframe = generate_network_dataframe(fund_network,fund_network_copy,threshold)\n",
    "        network_dataframe.to_csv(fund_filepath+'/'+csv_name+'.csv', encoding='utf_8_sig', index=True)"
   ]
  },
  {
   "cell_type": "code",
   "execution_count": 7,
   "id": "positive-israeli",
   "metadata": {},
   "outputs": [],
   "source": [
    "#参数设置\n",
    "xlsx_filepath = './Dataset/StockData'\n",
    "csv_filepath = './Dataset/StockData_csv'\n",
    "fund_filepath = './Dataset/StockData_fund'\n",
    "point_filepath = './Dataset/StockData_point'\n",
    "hyper_params = [0.2, 0.8, 0.2]\n",
    "hyper_threshold = 8 "
   ]
  },
  {
   "cell_type": "code",
   "execution_count": 8,
   "id": "neural-hebrew",
   "metadata": {},
   "outputs": [
    {
     "name": "stdout",
     "output_type": "stream",
     "text": [
      "正在生成普通股票型基金+指数增强型基金+灵活配置型基金+偏股混合型基金+平衡混合型基金+偏债混合型基金投资的网络\n"
     ]
    }
   ],
   "source": [
    "xlsx_csv_fund(xlsx_filepath, csv_filepath, fund_filepath, point_filepath, hyper_params, invest_category=['普通股票型基金','指数增强型基金','灵活配置型基金','偏股混合型基金','平衡混合型基金','偏债混合型基金'])"
   ]
  },
  {
   "cell_type": "code",
   "execution_count": 9,
   "id": "prepared-nowhere",
   "metadata": {},
   "outputs": [],
   "source": [
    "import networkx as nx"
   ]
  },
  {
   "cell_type": "code",
   "execution_count": null,
   "id": "proud-clothing",
   "metadata": {},
   "outputs": [],
   "source": []
  }
 ],
 "metadata": {
  "kernelspec": {
   "display_name": "Python 3",
   "language": "python",
   "name": "python3"
  },
  "language_info": {
   "codemirror_mode": {
    "name": "ipython",
    "version": 3
   },
   "file_extension": ".py",
   "mimetype": "text/x-python",
   "name": "python",
   "nbconvert_exporter": "python",
   "pygments_lexer": "ipython3",
   "version": "3.8.5"
  },
  "toc": {
   "base_numbering": 1,
   "nav_menu": {},
   "number_sections": true,
   "sideBar": true,
   "skip_h1_title": false,
   "title_cell": "Table of Contents",
   "title_sidebar": "Contents",
   "toc_cell": false,
   "toc_position": {},
   "toc_section_display": true,
   "toc_window_display": false
  }
 },
 "nbformat": 4,
 "nbformat_minor": 5
}
