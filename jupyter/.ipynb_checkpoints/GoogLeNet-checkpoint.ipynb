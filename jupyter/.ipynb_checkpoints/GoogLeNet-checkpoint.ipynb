{
 "cells": [
  {
   "cell_type": "code",
   "execution_count": 1,
   "id": "satisfactory-harvest",
   "metadata": {},
   "outputs": [],
   "source": [
    "import torch\n",
    "from torch.utils.data import DataLoader \n",
    "from torch.nn import init\n",
    "import torch.optim as optim \n",
    "import torch.nn as nn\n",
    "import torch.nn.functional as F\n",
    "import torchvision\n",
    "import torchvision.transforms as transforms\n",
    "import matplotlib.pyplot as plt\n",
    "import numpy as np\n",
    "import time "
   ]
  },
  {
   "cell_type": "code",
   "execution_count": 2,
   "id": "christian-tracy",
   "metadata": {},
   "outputs": [],
   "source": [
    "def load_data_fashion_mnist(batch_size, resize = None, path = './Dataset/FashionMNIST'):\n",
    "    \"\"\"Download the fashion mnist dataset and then load into memory\"\"\"\n",
    "    trans = []\n",
    "    if resize:\n",
    "        trans.append(transforms.Resize(size = resize))\n",
    "    trans.append(transforms.ToTensor())\n",
    "    transform = transforms.Compose(trans)\n",
    "    \n",
    "    mnist_train = torchvision.datasets.FashionMNIST(root = path, train = True, download = True, transform = transform) \n",
    "    mnist_test = torchvision.datasets.FashionMNIST(root = path,  train = False, download = True, transform = transform)\n",
    "    \n",
    "    train_iter = DataLoader(mnist_train, batch_size= batch_size, shuffle = True, num_workers = 4) \n",
    "    test_iter = DataLoader(mnist_test, batch_size = batch_size, shuffle = True, num_workers = 4)\n",
    "    \n",
    "    return train_iter, test_iter"
   ]
  },
  {
   "cell_type": "code",
   "execution_count": 3,
   "id": "enabling-voice",
   "metadata": {},
   "outputs": [],
   "source": [
    "def evaluate_accuracy(data_iter, network, device = None):\n",
    "    if device is None:\n",
    "        device = list(network.parameters())[0].device\n",
    "    with torch.no_grad():\n",
    "        acc_num, n = 0.0, 0 \n",
    "        for X, y in data_iter:\n",
    "            network.eval()\n",
    "            y_hat = network(X.to(device))\n",
    "            acc_num  += (y_hat.argmax(dim = 1)==y.to(device)).float().sum().cpu().item()\n",
    "            network.train()\n",
    "            n += y.shape[0]\n",
    "    acc = acc_num/n\n",
    "    return acc "
   ]
  },
  {
   "cell_type": "code",
   "execution_count": 4,
   "id": "gentle-television",
   "metadata": {},
   "outputs": [],
   "source": [
    "def train_network(network, train_iter, test_iter, optimizer, num_epochs):\n",
    "    device = torch.device('cuda' if torch.cuda.is_available else 'cpu')\n",
    "    network = network.to(device)\n",
    "    loss_fn = nn.CrossEntropyLoss()\n",
    "    for epoch in range(num_epochs): \n",
    "        train_loss_sum, train_acc_num, batch_count, n, start_time = 0.0, 0, 0, 0, time.time() \n",
    "        for X, y in train_iter:\n",
    "            X = X.to(device)\n",
    "            y = y.to(device)\n",
    "            y_hat = network(X)\n",
    "            loss = loss_fn(y_hat, y)\n",
    "            optimizer.zero_grad()\n",
    "            loss.backward()\n",
    "            optimizer.step()\n",
    "            train_loss_sum += loss.cpu().item()\n",
    "            train_acc_num += (y_hat.argmax(dim=1) == y).sum().cpu().item()\n",
    "            n += y.shape[0]\n",
    "            batch_count += 1\n",
    "        test_acc = evaluate_accuracy(test_iter, network)\n",
    "        print('epoch: %d, train_loss: %.3f, train_acc: %.3f, test_acc: %.3f, time: %.2f'\n",
    "              %(epoch+1, train_loss_sum/batch_count, train_acc_num/n, test_acc, (time.time()-start_time)))"
   ]
  },
  {
   "cell_type": "code",
   "execution_count": 20,
   "id": "regional-defense",
   "metadata": {},
   "outputs": [],
   "source": [
    "class GlobalAvgPool2d(nn.Module):\n",
    "    def __init__(self):\n",
    "        super().__init__()\n",
    "    def forward(self,x):\n",
    "        return F.avg_pool2d(x, kernel_size = x.shape[2:])"
   ]
  },
  {
   "cell_type": "code",
   "execution_count": 8,
   "id": "actual-romania",
   "metadata": {},
   "outputs": [],
   "source": [
    "class Inception(nn.Module):\n",
    "    def __init__(self,in_c,c1,c2,c3,c4):\n",
    "        super().__init__()\n",
    "        #line one\n",
    "        self.p1_1 = nn.Conv2d(in_c, c1, kernel_size=1) \n",
    "        #line two\n",
    "        self.p2_1 = nn.Conv2d(in_c, c2[0], kernel_size=1 )\n",
    "        self.p2_2 = nn.Conv2d(c2[0], c2[1], kernel_size=3, padding=1)\n",
    "        #line three\n",
    "        self.p3_1 = nn.Conv2d(in_c, c3[0], kernel_size=1)\n",
    "        self.p3_2 = nn.Conv2d(c3[0], c3[1], kernel_size=5, padding=2)\n",
    "        #line four d\n",
    "        self.p4_1 = nn.MaxPool2d(kernel_size=3, stride=1, padding=1)\n",
    "        self.p4_2 = nn.Conv2d(in_c, c4, kernel_size=1)\n",
    "    def forward(self, x):\n",
    "        p1 = F.relu(self.p1_1(x))\n",
    "        p2 = F.relu(self.p2_2(F.relu(self.p2_1(x))))\n",
    "        p3 = F.relu(self.p3_2(F.relu(self.p3_1(x))))\n",
    "        p4 = F.relu(self.p4_2(self.p4_1(x)))\n",
    "        return torch.cat((p1,p2,p3,p4), dim=1)"
   ]
  },
  {
   "cell_type": "code",
   "execution_count": 23,
   "id": "received-collective",
   "metadata": {},
   "outputs": [],
   "source": [
    "b1 = nn.Sequential(nn.Conv2d(1, 64, kernel_size=7, stride=2, padding=3),\n",
    "                  nn.ReLU(),\n",
    "                  nn.MaxPool2d(kernel_size=3, stride=2, padding=1))\n",
    "b2 = nn.Sequential(nn.Conv2d(64, 64, kernel_size=1),\n",
    "                  nn.Conv2d(64, 192, kernel_size=3, padding=1),\n",
    "                  nn.MaxPool2d(kernel_size=3, stride=2, padding=1))\n",
    "b3 = nn.Sequential(Inception(192, 64, (96,128), (16,32),32),\n",
    "                  Inception(256,128,(128,192),(32,96),64),\n",
    "                  nn.MaxPool2d(kernel_size=3, stride=2, padding=1))\n",
    "b4 = nn.Sequential(Inception(480, 192, (96, 208), (16, 48), 64),\n",
    "                   Inception(512, 160, (112, 224), (24, 64), 64),\n",
    "                   Inception(512, 128, (128, 256), (24, 64), 64),\n",
    "                   Inception(512, 112, (144, 288), (32, 64), 64),\n",
    "                   Inception(528, 256, (160, 320), (32, 128), 128),\n",
    "                   nn.MaxPool2d(kernel_size=3, stride=2, padding=1))\n",
    "b5 = nn.Sequential(Inception(832,256,(160,320),(32,128),128),\n",
    "                  Inception(832,384,(192,384),(48,128),128),\n",
    "                  GlobalAvgPool2d(),\n",
    "                  nn.Flatten(),\n",
    "                  nn.Linear(1024,10))\n",
    "google_net = nn.Sequential(b1,b2,b3,b4,b5)\n"
   ]
  },
  {
   "cell_type": "code",
   "execution_count": 24,
   "id": "meaningful-senegal",
   "metadata": {},
   "outputs": [
    {
     "name": "stdout",
     "output_type": "stream",
     "text": [
      "0 outshape: torch.Size([1, 64, 24, 24])\n",
      "1 outshape: torch.Size([1, 192, 12, 12])\n",
      "2 outshape: torch.Size([1, 480, 6, 6])\n",
      "3 outshape: torch.Size([1, 832, 3, 3])\n",
      "4 outshape: torch.Size([1, 10])\n"
     ]
    }
   ],
   "source": [
    "X = torch.rand(1,1,96,96)\n",
    "for name, blk in google_net.named_children():\n",
    "    X = blk(X)\n",
    "    print(name,'outshape:',X.shape)"
   ]
  },
  {
   "cell_type": "code",
   "execution_count": 28,
   "id": "charitable-belfast",
   "metadata": {},
   "outputs": [
    {
     "name": "stdout",
     "output_type": "stream",
     "text": [
      "epoch: 1, train_loss: 0.207, train_acc: 0.923, test_acc: 0.903, time: 36.64\n",
      "epoch: 2, train_loss: 0.199, train_acc: 0.925, test_acc: 0.906, time: 37.82\n",
      "epoch: 3, train_loss: 0.186, train_acc: 0.930, test_acc: 0.911, time: 37.83\n",
      "epoch: 4, train_loss: 0.172, train_acc: 0.935, test_acc: 0.911, time: 37.46\n",
      "epoch: 5, train_loss: 0.165, train_acc: 0.938, test_acc: 0.913, time: 37.21\n"
     ]
    }
   ],
   "source": [
    "batch_size = 64\n",
    "train_iter, test_iter = load_data_fashion_mnist(batch_size, resize=88)\n",
    "\n",
    "lr, num_epochs = 0.001, 5\n",
    "optimizer = torch.optim.Adam(google_net.parameters(), lr=lr)\n",
    "train_network(google_net, train_iter, test_iter, optimizer, num_epochs)"
   ]
  },
  {
   "cell_type": "code",
   "execution_count": 30,
   "id": "czech-baker",
   "metadata": {},
   "outputs": [],
   "source": [
    "torch.cuda.empty_cache()\n",
    "torch.cuda.memory_allocated()\n",
    "torch.cuda.max_memory_allocated()"
   ]
  }
 ],
 "metadata": {
  "kernelspec": {
   "display_name": "Python 3",
   "language": "python",
   "name": "python3"
  },
  "language_info": {
   "codemirror_mode": {
    "name": "ipython",
    "version": 3
   },
   "file_extension": ".py",
   "mimetype": "text/x-python",
   "name": "python",
   "nbconvert_exporter": "python",
   "pygments_lexer": "ipython3",
   "version": "3.8.8"
  },
  "toc": {
   "base_numbering": 1,
   "nav_menu": {},
   "number_sections": true,
   "sideBar": true,
   "skip_h1_title": false,
   "title_cell": "Table of Contents",
   "title_sidebar": "Contents",
   "toc_cell": false,
   "toc_position": {},
   "toc_section_display": true,
   "toc_window_display": false
  }
 },
 "nbformat": 4,
 "nbformat_minor": 5
}
