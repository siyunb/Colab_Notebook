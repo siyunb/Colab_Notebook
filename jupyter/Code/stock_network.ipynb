{
 "cells": [
  {
   "cell_type": "code",
   "execution_count": 36,
   "id": "complicated-decision",
   "metadata": {},
   "outputs": [],
   "source": [
    "# 载入python库\n",
    "import pandas as pd\n",
    "import networkx as nx\n",
    "import xlrd, openpyxl\n",
    "import re\n",
    "import os\n",
    "from copy import deepcopy"
   ]
  },
  {
   "cell_type": "code",
   "execution_count": 2,
   "id": "threatened-concentrate",
   "metadata": {},
   "outputs": [],
   "source": [
    "def fliter_none(issue):\n",
    "    pattern = re.compile('\\d{6}.[A-Z]{2}')\n",
    "    try:\n",
    "        id_stock = pattern.search(issue)\n",
    "        if id_stock is not None :\n",
    "            return True\n",
    "        else:\n",
    "            return False\n",
    "    except:\n",
    "        return False "
   ]
  },
  {
   "cell_type": "code",
   "execution_count": 54,
   "id": "accomplished-somerset",
   "metadata": {},
   "outputs": [],
   "source": [
    "def generate_dict(dataframe):\n",
    "    fund_network = {}\n",
    "    for _, row in dataframe.iterrows():\n",
    "        fund, stock = row\n",
    "        if fund in fund_network:\n",
    "            fund_network[fund].append(stock)\n",
    "        else:    \n",
    "            fund_network[fund] = []\n",
    "            fund_network[fund].append(stock)\n",
    "    return fund_network"
   ]
  },
  {
   "cell_type": "code",
   "execution_count": 61,
   "id": "declared-organizer",
   "metadata": {},
   "outputs": [],
   "source": [
    "def generate_network_dataframe(fund_network,fund_network_copy):\n",
    "    network_dataframe = {'source':[],'target':[],'stock':[],'weight':[]}\n",
    "    for key1, stock_list1 in fund_network.items():\n",
    "        del fund_network_copy[key1]\n",
    "        for key2, stock_list2 in fund_network_copy.items():\n",
    "            share_element = [x for x in stock_list1 if x in stock_list2]\n",
    "            if len(share_element)>0:\n",
    "                network_dataframe['source'].append(key1)\n",
    "                network_dataframe['target'].append(key2)\n",
    "                network_dataframe['weight'].append(len(share_element))\n",
    "                network_dataframe['stock'].append('*'.join(share_element))\n",
    "    return pd.DataFrame(network_dataframe)"
   ]
  },
  {
   "cell_type": "code",
   "execution_count": 57,
   "id": "coupled-league",
   "metadata": {},
   "outputs": [],
   "source": [
    "def xlsx_csv_fund(xlsx_filepath, csv_filepath, fund_filepath):\n",
    "    list_dir =  [os.path.splitext(dir) for dir in os.listdir(xlsx_filepath)]\n",
    "    for tuple_dir in list_dir:\n",
    "        date_name, format_name = tuple_dir\n",
    "        dataframe = pd.read_excel(xlsx_filepath+'/'+date_name+format_name)\n",
    "        data_csv = dataframe[dataframe['代码'].apply(fliter_none)][['代码','名称','股票代码','股票简称']]\n",
    "        data_csv = data_csv.rename(columns = {'代码':'code','名称':'source','股票代码':'stock_code','股票简称':'target'})\n",
    "        csv_name = ('_').join(date_name.split('-'))\n",
    "        data_csv[['source','target']].to_csv(csv_filepath+'/'+csv_name+'.csv', encoding='utf_8_sig', index=False)\n",
    "        dataframe_fund = data_csv[['source','target']]\n",
    "        fund_network = generate_dict(dataframe_fund)\n",
    "        fund_network_copy = deepcopy(fund_network)\n",
    "        network_dataframe = generate_network_dataframe(fund_network,fund_network_copy)\n",
    "        network_dataframe.to_csv(fund_filepath+'/'+csv_name+'.csv', encoding='utf_8_sig', index=False)"
   ]
  },
  {
   "cell_type": "code",
   "execution_count": 58,
   "id": "guilty-orleans",
   "metadata": {},
   "outputs": [],
   "source": [
    "xlsx_filepath = './Dataset/StockData'\n",
    "csv_filepath = './Dataset/StockData_csv'\n",
    "fund_filepath = './Dataset/StockData_fund'"
   ]
  },
  {
   "cell_type": "code",
   "execution_count": 62,
   "id": "understanding-tiger",
   "metadata": {},
   "outputs": [],
   "source": [
    "xlsx_csv_fund(xlsx_filepath, csv_filepath, fund_filepath)"
   ]
  },
  {
   "cell_type": "code",
   "execution_count": 25,
   "id": "infrared-setup",
   "metadata": {},
   "outputs": [],
   "source": []
  },
  {
   "cell_type": "code",
   "execution_count": 48,
   "id": "seven-portable",
   "metadata": {},
   "outputs": [],
   "source": []
  },
  {
   "cell_type": "code",
   "execution_count": 56,
   "id": "patient-spectacular",
   "metadata": {},
   "outputs": [],
   "source": []
  },
  {
   "cell_type": "code",
   "execution_count": 52,
   "id": "diverse-triple",
   "metadata": {
    "scrolled": true
   },
   "outputs": [],
   "source": []
  },
  {
   "cell_type": "code",
   "execution_count": 12,
   "id": "voluntary-mixer",
   "metadata": {},
   "outputs": [],
   "source": []
  },
  {
   "cell_type": "code",
   "execution_count": 13,
   "id": "fatty-leeds",
   "metadata": {},
   "outputs": [
    {
     "data": {
      "text/html": [
       "<div>\n",
       "<style scoped>\n",
       "    .dataframe tbody tr th:only-of-type {\n",
       "        vertical-align: middle;\n",
       "    }\n",
       "\n",
       "    .dataframe tbody tr th {\n",
       "        vertical-align: top;\n",
       "    }\n",
       "\n",
       "    .dataframe thead th {\n",
       "        text-align: right;\n",
       "    }\n",
       "</style>\n",
       "<table border=\"1\" class=\"dataframe\">\n",
       "  <thead>\n",
       "    <tr style=\"text-align: right;\">\n",
       "      <th></th>\n",
       "      <th>source</th>\n",
       "      <th>target</th>\n",
       "    </tr>\n",
       "  </thead>\n",
       "  <tbody>\n",
       "    <tr>\n",
       "      <th>0</th>\n",
       "      <td>嘉实研究阿尔法</td>\n",
       "      <td>中国平安</td>\n",
       "    </tr>\n",
       "    <tr>\n",
       "      <th>1</th>\n",
       "      <td>嘉实研究阿尔法</td>\n",
       "      <td>招商银行</td>\n",
       "    </tr>\n",
       "    <tr>\n",
       "      <th>2</th>\n",
       "      <td>嘉实研究阿尔法</td>\n",
       "      <td>贵州茅台</td>\n",
       "    </tr>\n",
       "    <tr>\n",
       "      <th>3</th>\n",
       "      <td>嘉实研究阿尔法</td>\n",
       "      <td>新华保险</td>\n",
       "    </tr>\n",
       "    <tr>\n",
       "      <th>4</th>\n",
       "      <td>嘉实研究阿尔法</td>\n",
       "      <td>立讯精密</td>\n",
       "    </tr>\n",
       "    <tr>\n",
       "      <th>...</th>\n",
       "      <td>...</td>\n",
       "      <td>...</td>\n",
       "    </tr>\n",
       "    <tr>\n",
       "      <th>3969</th>\n",
       "      <td>中金新锐A</td>\n",
       "      <td>中微公司</td>\n",
       "    </tr>\n",
       "    <tr>\n",
       "      <th>3970</th>\n",
       "      <td>中金新锐A</td>\n",
       "      <td>兴发集团</td>\n",
       "    </tr>\n",
       "    <tr>\n",
       "      <th>3971</th>\n",
       "      <td>中金新锐A</td>\n",
       "      <td>宇信科技</td>\n",
       "    </tr>\n",
       "    <tr>\n",
       "      <th>3972</th>\n",
       "      <td>中金新锐A</td>\n",
       "      <td>石英股份</td>\n",
       "    </tr>\n",
       "    <tr>\n",
       "      <th>3973</th>\n",
       "      <td>中金新锐A</td>\n",
       "      <td>安克创新</td>\n",
       "    </tr>\n",
       "  </tbody>\n",
       "</table>\n",
       "<p>3974 rows × 2 columns</p>\n",
       "</div>"
      ],
      "text/plain": [
       "       source target\n",
       "0     嘉实研究阿尔法   中国平安\n",
       "1     嘉实研究阿尔法   招商银行\n",
       "2     嘉实研究阿尔法   贵州茅台\n",
       "3     嘉实研究阿尔法   新华保险\n",
       "4     嘉实研究阿尔法   立讯精密\n",
       "...       ...    ...\n",
       "3969    中金新锐A   中微公司\n",
       "3970    中金新锐A   兴发集团\n",
       "3971    中金新锐A   宇信科技\n",
       "3972    中金新锐A   石英股份\n",
       "3973    中金新锐A   安克创新\n",
       "\n",
       "[3974 rows x 2 columns]"
      ]
     },
     "execution_count": 13,
     "metadata": {},
     "output_type": "execute_result"
    }
   ],
   "source": [
    "dataframe"
   ]
  },
  {
   "cell_type": "code",
   "execution_count": null,
   "id": "threaded-rally",
   "metadata": {},
   "outputs": [],
   "source": []
  }
 ],
 "metadata": {
  "kernelspec": {
   "display_name": "Python 3",
   "language": "python",
   "name": "python3"
  },
  "language_info": {
   "codemirror_mode": {
    "name": "ipython",
    "version": 3
   },
   "file_extension": ".py",
   "mimetype": "text/x-python",
   "name": "python",
   "nbconvert_exporter": "python",
   "pygments_lexer": "ipython3",
   "version": "3.8.8"
  },
  "toc": {
   "base_numbering": 1,
   "nav_menu": {},
   "number_sections": true,
   "sideBar": true,
   "skip_h1_title": false,
   "title_cell": "Table of Contents",
   "title_sidebar": "Contents",
   "toc_cell": false,
   "toc_position": {},
   "toc_section_display": true,
   "toc_window_display": false
  }
 },
 "nbformat": 4,
 "nbformat_minor": 5
}
