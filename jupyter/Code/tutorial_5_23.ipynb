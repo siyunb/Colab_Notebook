{
 "cells": [
  {
   "cell_type": "markdown",
   "id": "difficult-meditation",
   "metadata": {},
   "source": [
    "## python程序的打包与发布"
   ]
  },
  {
   "cell_type": "markdown",
   "id": "robust-result",
   "metadata": {},
   "source": [
    "### 包，模块，类与函数 \n",
    "1. 在文件夹下存放__init__.py文件\n",
    "2. 直接在pycharm中插入new python package"
   ]
  },
  {
   "cell_type": "markdown",
   "id": "superior-private",
   "metadata": {},
   "source": [
    "'import numpy.math.abs'\n",
    "\n",
    "一般来说，第一级包名称，带有__init__.py的文件夹名称，即numpy为文件夹名称，需要注意的是包中还能包含包；第二级为模块名称，math为文件夹中的一个py文件；而第三级abs为py文件中的函数。\n",
    "\n",
    "__init__.py文件就是表示文件夹到底是不是python包，也可以在__init__.py中初始化一些包，也就是该包中必要用的一些其他包内的函数"
   ]
  },
  {
   "cell_type": "code",
   "execution_count": 4,
   "id": "present-watson",
   "metadata": {},
   "outputs": [],
   "source": [
    "import wangsiyu"
   ]
  },
  {
   "cell_type": "code",
   "execution_count": 3,
   "id": "polished-tulsa",
   "metadata": {},
   "outputs": [],
   "source": [
    "#认知的编译空间，认知编译在别的空间上，反映到大脑就是不同空间的不同类不一样\n",
    "from wangsiyu import sayhi"
   ]
  },
  {
   "cell_type": "code",
   "execution_count": 4,
   "id": "another-surprise",
   "metadata": {},
   "outputs": [],
   "source": [
    "sayhi.time.sleep(3)"
   ]
  },
  {
   "cell_type": "code",
   "execution_count": 3,
   "id": "latin-delicious",
   "metadata": {},
   "outputs": [],
   "source": [
    "import numpy.core #相当于import numpy + from numpy import core "
   ]
  },
  {
   "cell_type": "code",
   "execution_count": null,
   "id": "broadband-metallic",
   "metadata": {},
   "outputs": [],
   "source": [
    "numpy.core."
   ]
  },
  {
   "cell_type": "code",
   "execution_count": 1,
   "id": "alive-slide",
   "metadata": {},
   "outputs": [],
   "source": [
    "import wangsiyu"
   ]
  },
  {
   "cell_type": "code",
   "execution_count": 2,
   "id": "enormous-oxford",
   "metadata": {},
   "outputs": [
    {
     "ename": "NameError",
     "evalue": "name 'sayhi' is not defined",
     "output_type": "error",
     "traceback": [
      "\u001b[1;31m---------------------------------------------------------------------------\u001b[0m",
      "\u001b[1;31mNameError\u001b[0m                                 Traceback (most recent call last)",
      "\u001b[1;32m<ipython-input-2-a470a20f491a>\u001b[0m in \u001b[0;36m<module>\u001b[1;34m\u001b[0m\n\u001b[1;32m----> 1\u001b[1;33m \u001b[0msayhi\u001b[0m\u001b[1;33m.\u001b[0m\u001b[0msayhi\u001b[0m\u001b[1;33m\u001b[0m\u001b[1;33m\u001b[0m\u001b[0m\n\u001b[0m",
      "\u001b[1;31mNameError\u001b[0m: name 'sayhi' is not defined"
     ]
    }
   ],
   "source": [
    "sayhi.sayhi"
   ]
  },
  {
   "cell_type": "code",
   "execution_count": 3,
   "id": "incomplete-smooth",
   "metadata": {},
   "outputs": [
    {
     "data": {
      "text/plain": [
       "<function wangsiyu.sayhi.print_hi(name)>"
      ]
     },
     "execution_count": 3,
     "metadata": {},
     "output_type": "execute_result"
    }
   ],
   "source": [
    "wangsiyu.sayhi.print_hi"
   ]
  },
  {
   "cell_type": "code",
   "execution_count": 1,
   "id": "virgin-restaurant",
   "metadata": {},
   "outputs": [
    {
     "name": "stdout",
     "output_type": "stream",
     "text": [
      "wangsiyu.sayhi\n"
     ]
    }
   ],
   "source": [
    "from wangsiyu import sayhi"
   ]
  },
  {
   "cell_type": "code",
   "execution_count": null,
   "id": "present-douglas",
   "metadata": {},
   "outputs": [],
   "source": [
    "wangsiyu.sayhi.print_hi"
   ]
  },
  {
   "cell_type": "code",
   "execution_count": 4,
   "id": "dated-israel",
   "metadata": {},
   "outputs": [
    {
     "name": "stdout",
     "output_type": "stream",
     "text": [
      "Hi, gaoyangyang\n"
     ]
    }
   ],
   "source": [
    "sayhi.print_hi('gaoyangyang')"
   ]
  },
  {
   "cell_type": "code",
   "execution_count": 2,
   "id": "comparative-yorkshire",
   "metadata": {},
   "outputs": [
    {
     "data": {
      "text/plain": [
       "<module 'wangsiyu.sayhi' from 'D:\\\\anaconda\\\\anaconda\\\\envs\\\\pytorch\\\\lib\\\\site-packages\\\\wangsiyu\\\\sayhi.py'>"
      ]
     },
     "execution_count": 2,
     "metadata": {},
     "output_type": "execute_result"
    }
   ],
   "source": [
    "wangsiyu.sayhi"
   ]
  },
  {
   "cell_type": "markdown",
   "id": "broad-finder",
   "metadata": {},
   "source": [
    ".\n",
    "└── mypackage\n",
    "    ├── subpackage_1\n",
    "    │   ├── test11.py\n",
    "    │   └── test12.py\n",
    "    ├── subpackage_2\n",
    "    │   ├── test21.py\n",
    "    │   └── test22.py\n",
    "    └── subpackage_3\n",
    "        ├── test31.py\n",
    "        └── test32.py"
   ]
  },
  {
   "cell_type": "code",
   "execution_count": null,
   "id": "received-stevens",
   "metadata": {},
   "outputs": [],
   "source": [
    "__all__"
   ]
  },
  {
   "cell_type": "code",
   "execution_count": 2,
   "id": "occupational-literacy",
   "metadata": {},
   "outputs": [
    {
     "ename": "ModuleNotFoundError",
     "evalue": "No module named 'wangsiyu'",
     "output_type": "error",
     "traceback": [
      "\u001b[1;31m---------------------------------------------------------------------------\u001b[0m",
      "\u001b[1;31mModuleNotFoundError\u001b[0m                       Traceback (most recent call last)",
      "\u001b[1;32m<ipython-input-2-59dd7253efea>\u001b[0m in \u001b[0;36m<module>\u001b[1;34m\u001b[0m\n\u001b[1;32m----> 1\u001b[1;33m \u001b[1;32mimport\u001b[0m \u001b[0mwangsiyu\u001b[0m\u001b[1;33m\u001b[0m\u001b[1;33m\u001b[0m\u001b[0m\n\u001b[0m",
      "\u001b[1;31mModuleNotFoundError\u001b[0m: No module named 'wangsiyu'"
     ]
    }
   ],
   "source": [
    "import wangsiyu\n"
   ]
  },
  {
   "cell_type": "code",
   "execution_count": 3,
   "id": "democratic-purple",
   "metadata": {},
   "outputs": [
    {
     "data": {
      "text/plain": [
       "['In',\n",
       " 'Out',\n",
       " '_',\n",
       " '__',\n",
       " '___',\n",
       " '__builtin__',\n",
       " '__builtins__',\n",
       " '__doc__',\n",
       " '__loader__',\n",
       " '__name__',\n",
       " '__package__',\n",
       " '__spec__',\n",
       " '_dh',\n",
       " '_i',\n",
       " '_i1',\n",
       " '_i2',\n",
       " '_i3',\n",
       " '_ih',\n",
       " '_ii',\n",
       " '_iii',\n",
       " '_oh',\n",
       " 'exit',\n",
       " 'get_ipython',\n",
       " 'json',\n",
       " 'np',\n",
       " 'pandas',\n",
       " 'quit',\n",
       " 'sayhi',\n",
       " 'yapf_reformat']"
      ]
     },
     "execution_count": 3,
     "metadata": {},
     "output_type": "execute_result"
    }
   ],
   "source": [
    "dir()"
   ]
  },
  {
   "cell_type": "code",
   "execution_count": null,
   "id": "valued-following",
   "metadata": {},
   "outputs": [],
   "source": []
  },
  {
   "cell_type": "code",
   "execution_count": null,
   "id": "three-picture",
   "metadata": {},
   "outputs": [],
   "source": []
  },
  {
   "cell_type": "code",
   "execution_count": null,
   "id": "continent-compression",
   "metadata": {},
   "outputs": [],
   "source": []
  },
  {
   "cell_type": "code",
   "execution_count": null,
   "id": "explicit-bidder",
   "metadata": {},
   "outputs": [],
   "source": []
  },
  {
   "cell_type": "code",
   "execution_count": null,
   "id": "agricultural-found",
   "metadata": {},
   "outputs": [],
   "source": []
  },
  {
   "cell_type": "code",
   "execution_count": null,
   "id": "bigger-wheel",
   "metadata": {},
   "outputs": [],
   "source": []
  },
  {
   "cell_type": "code",
   "execution_count": null,
   "id": "designing-viewer",
   "metadata": {},
   "outputs": [],
   "source": []
  }
 ],
 "metadata": {
  "kernelspec": {
   "display_name": "Python 3",
   "language": "python",
   "name": "python3"
  },
  "language_info": {
   "codemirror_mode": {
    "name": "ipython",
    "version": 3
   },
   "file_extension": ".py",
   "mimetype": "text/x-python",
   "name": "python",
   "nbconvert_exporter": "python",
   "pygments_lexer": "ipython3",
   "version": "3.8.8"
  },
  "toc": {
   "base_numbering": 1,
   "nav_menu": {},
   "number_sections": true,
   "sideBar": true,
   "skip_h1_title": false,
   "title_cell": "Table of Contents",
   "title_sidebar": "Contents",
   "toc_cell": false,
   "toc_position": {},
   "toc_section_display": true,
   "toc_window_display": false
  }
 },
 "nbformat": 4,
 "nbformat_minor": 5
}
