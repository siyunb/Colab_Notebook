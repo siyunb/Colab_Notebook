{
 "cells": [
  {
   "cell_type": "code",
   "execution_count": 3,
   "id": "regional-harvard",
   "metadata": {},
   "outputs": [
    {
     "data": {
      "text/plain": [
       "6"
      ]
     },
     "execution_count": 3,
     "metadata": {},
     "output_type": "execute_result"
    }
   ],
   "source": [
    "#by anonymous function\n",
    "def increment1(n):\n",
    "    return lambda x:x+n\n",
    "#这个的原理我也想明白了，到时候晚上教你，比较底层,但其实没必要，这个好像作者在炫技（像我一样）\n",
    "y = increment1(4)\n",
    "y(2)"
   ]
  },
  {
   "cell_type": "code",
   "execution_count": 4,
   "id": "2863d7a9",
   "metadata": {},
   "outputs": [
    {
     "data": {
      "text/plain": [
       "6"
      ]
     },
     "execution_count": 4,
     "metadata": {},
     "output_type": "execute_result"
    }
   ],
   "source": [
    "#by ordinary function\n",
    "def increment2(n):\n",
    "    def f(x):\n",
    "        return x+n\n",
    "    return f\n",
    "y = increment2(4)\n",
    "y(2)"
   ]
  },
  {
   "cell_type": "code",
   "execution_count": 70,
   "id": "c206129f",
   "metadata": {},
   "outputs": [
    {
     "data": {
      "text/plain": [
       "6"
      ]
     },
     "execution_count": 70,
     "metadata": {},
     "output_type": "execute_result"
    }
   ],
   "source": [
    "#by decorator 我真笑了，我太滑稽了，这方法根本不合适，我生硬着用也是醉了\n",
    "def define_function(function):\n",
    "    def wrapper(n):\n",
    "        return function\n",
    "    return wrapper\n",
    "\n",
    "@define_function\n",
    "def increment3(x):\n",
    "    global n\n",
    "    return x+n\n",
    "\n",
    "y = increment3(4)\n",
    "y(2)"
   ]
  },
  {
   "cell_type": "code",
   "execution_count": 27,
   "id": "1fba317c",
   "metadata": {},
   "outputs": [
    {
     "data": {
      "text/plain": [
       "6"
      ]
     },
     "execution_count": 27,
     "metadata": {},
     "output_type": "execute_result"
    }
   ],
   "source": [
    "#by class !!!very first recommended\n",
    "class increment4(object):\n",
    "    def __init__(self,n):\n",
    "        self.n = n\n",
    "    def __call__(self,x):\n",
    "        return self.n + x\n",
    "\n",
    "y = increment4(4)\n",
    "y(2)"
   ]
  }
 ],
 "metadata": {
  "kernelspec": {
   "display_name": "Python 3",
   "language": "python",
   "name": "python3"
  },
  "language_info": {
   "codemirror_mode": {
    "name": "ipython",
    "version": 3
   },
   "file_extension": ".py",
   "mimetype": "text/x-python",
   "name": "python",
   "nbconvert_exporter": "python",
   "pygments_lexer": "ipython3",
   "version": "3.8.5"
  },
  "toc": {
   "base_numbering": 1,
   "nav_menu": {},
   "number_sections": true,
   "sideBar": true,
   "skip_h1_title": false,
   "title_cell": "Table of Contents",
   "title_sidebar": "Contents",
   "toc_cell": false,
   "toc_position": {},
   "toc_section_display": true,
   "toc_window_display": false
  }
 },
 "nbformat": 4,
 "nbformat_minor": 5
}
