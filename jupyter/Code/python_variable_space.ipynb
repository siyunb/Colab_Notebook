{
 "cells": [
  {
   "cell_type": "markdown",
   "id": "funky-wellington",
   "metadata": {},
   "source": [
    "# Question"
   ]
  },
  {
   "cell_type": "code",
   "execution_count": 3,
   "id": "freelance-thumb",
   "metadata": {},
   "outputs": [
    {
     "ename": "SyntaxError",
     "evalue": "cannot assign to operator (<ipython-input-3-5516e797a300>, line 2)",
     "output_type": "error",
     "traceback": [
      "\u001b[1;36m  File \u001b[1;32m\"<ipython-input-3-5516e797a300>\"\u001b[1;36m, line \u001b[1;32m2\u001b[0m\n\u001b[1;33m    'logr_' + label1 = [1,2,3,4]\u001b[0m\n\u001b[1;37m    ^\u001b[0m\n\u001b[1;31mSyntaxError\u001b[0m\u001b[1;31m:\u001b[0m cannot assign to operator\n"
     ]
    }
   ],
   "source": [
    "label1 = 'Petroleum'\n",
    "'logr_' + label1 = [1,2,3,4]"
   ]
  },
  {
   "cell_type": "markdown",
   "id": "celtic-stadium",
   "metadata": {},
   "source": [
    "# Principle"
   ]
  },
  {
   "cell_type": "code",
   "execution_count": 4,
   "id": "theoretical-directory",
   "metadata": {},
   "outputs": [],
   "source": [
    "# 这部分有点难，涉及到变量命名空间和python内置类属性等等比较原理性的东西，我还在研究。我研究明白了给妹妹讲吧"
   ]
  },
  {
   "cell_type": "markdown",
   "id": "urban-notice",
   "metadata": {},
   "source": [
    "# Solution "
   ]
  },
  {
   "cell_type": "code",
   "execution_count": 10,
   "id": "returning-basic",
   "metadata": {},
   "outputs": [],
   "source": [
    "# method one: exec \n",
    "exec('{0} = {1}'.format(('logr_'+label1), [1,2,3,4]))         #通过这种方法将logr。。。加入了变量空间                                      "
   ]
  },
  {
   "cell_type": "code",
   "execution_count": 11,
   "id": "pregnant-bottom",
   "metadata": {},
   "outputs": [
    {
     "data": {
      "text/plain": [
       "[1, 2, 3, 4]"
      ]
     },
     "execution_count": 11,
     "metadata": {},
     "output_type": "execute_result"
    }
   ],
   "source": [
    "logr_Petroleum"
   ]
  },
  {
   "cell_type": "code",
   "execution_count": 14,
   "id": "settled-nancy",
   "metadata": {},
   "outputs": [],
   "source": [
    "# method two: globals\n",
    "globals()['logr_'+label1] = [1,2,3,4,5]                         # 这种方法相当于将键加入字典，globals就是一个大的变量字典，每一个变量以健的方式储存在字典里"
   ]
  },
  {
   "cell_type": "code",
   "execution_count": 15,
   "id": "outer-mitchell",
   "metadata": {},
   "outputs": [
    {
     "data": {
      "text/plain": [
       "[1, 2, 3, 4, 5]"
      ]
     },
     "execution_count": 15,
     "metadata": {},
     "output_type": "execute_result"
    }
   ],
   "source": [
    "logr_Petroleum"
   ]
  },
  {
   "cell_type": "code",
   "execution_count": 18,
   "id": "meaning-stocks",
   "metadata": {},
   "outputs": [],
   "source": [
    "# method three: locals\n",
    "locals()['logr_'+label1] = [1,2,3,4,5,6]  "
   ]
  },
  {
   "cell_type": "code",
   "execution_count": 19,
   "id": "expanded-margin",
   "metadata": {},
   "outputs": [
    {
     "data": {
      "text/plain": [
       "[1, 2, 3, 4, 5, 6]"
      ]
     },
     "execution_count": 19,
     "metadata": {},
     "output_type": "execute_result"
    }
   ],
   "source": [
    "logr_Petroleum"
   ]
  },
  {
   "cell_type": "code",
   "execution_count": 22,
   "id": "available-accommodation",
   "metadata": {},
   "outputs": [],
   "source": [
    "# method four: vars\n",
    "vars()['logr_'+label1] = [1,2,3,4,5,7] "
   ]
  },
  {
   "cell_type": "code",
   "execution_count": 23,
   "id": "early-subject",
   "metadata": {},
   "outputs": [
    {
     "data": {
      "text/plain": [
       "[1, 2, 3, 4, 5, 7]"
      ]
     },
     "execution_count": 23,
     "metadata": {},
     "output_type": "execute_result"
    }
   ],
   "source": [
    "logr_Petroleum"
   ]
  }
 ],
 "metadata": {
  "kernelspec": {
   "display_name": "Python 3",
   "language": "python",
   "name": "python3"
  },
  "language_info": {
   "codemirror_mode": {
    "name": "ipython",
    "version": 3
   },
   "file_extension": ".py",
   "mimetype": "text/x-python",
   "name": "python",
   "nbconvert_exporter": "python",
   "pygments_lexer": "ipython3",
   "version": "3.8.8"
  },
  "toc": {
   "base_numbering": 1,
   "nav_menu": {},
   "number_sections": true,
   "sideBar": true,
   "skip_h1_title": false,
   "title_cell": "Table of Contents",
   "title_sidebar": "Contents",
   "toc_cell": false,
   "toc_position": {},
   "toc_section_display": true,
   "toc_window_display": false
  }
 },
 "nbformat": 4,
 "nbformat_minor": 5
}
