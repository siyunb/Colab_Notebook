{
 "cells": [
  {
   "cell_type": "code",
   "execution_count": 58,
   "id": "toxic-large",
   "metadata": {},
   "outputs": [],
   "source": [
    "import torch\n",
    "import random\n",
    "import zipfile\n",
    "import time\n",
    "import math\n",
    "import numpy as np\n",
    "from torch import nn, optim\n",
    "import torch.nn.functional as F"
   ]
  },
  {
   "cell_type": "code",
   "execution_count": 59,
   "id": "bored-european",
   "metadata": {},
   "outputs": [],
   "source": [
    "def load_data_jay_lyrics():\n",
    "    with zipfile.ZipFile('./Dataset/JayLyrics/jaychou_lyrics.txt.zip') as zin:\n",
    "        with zin.open('jaychou_lyrics.txt') as f:\n",
    "            corpus_chars = f.read().decode('utf-8')\n",
    "    corpus_chars = corpus_chars.replace('\\n', ' ').replace('\\r', ' ')\n",
    "    corpus_chars = corpus_chars[:10000]\n",
    "    idx_to_char = list(set(corpus_chars))\n",
    "    char_to_idx_dict = dict([(char, i) for i, char in enumerate(idx_to_char)])\n",
    "    idx_to_char_dict = dict([(i, char) for i, char in enumerate(idx_to_char)])\n",
    "    corpus_indice = [char_to_idx_dict[char] for char in corpus_chars]\n",
    "    return corpus_chars, corpus_indice, idx_to_char_dict, char_to_idx_dict, len(\n",
    "        idx_to_char_dict)\n",
    "\n",
    "\n",
    "corpus_chars, corpus_indice, idx_to_char_dict, char_to_idx_dict, vocab_size = load_data_jay_lyrics()"
   ]
  },
  {
   "cell_type": "code",
   "execution_count": 60,
   "id": "acoustic-saturday",
   "metadata": {},
   "outputs": [],
   "source": [
    "def grad_clipping(params, theta):\n",
    "    device = torch.device('cuda' if torch.cuda.is_available() else 'cpu')\n",
    "    norm = torch.tensor([0.0], device = device)\n",
    "    for param in params:\n",
    "        norm += (param.grad.data**2).sum()\n",
    "    norm = norm.sqrt().item()\n",
    "    if norm > theta:\n",
    "        for param in params:\n",
    "            param.grad.data *= (theta/norm) "
   ]
  },
  {
   "cell_type": "code",
   "execution_count": 61,
   "id": "equal-label",
   "metadata": {},
   "outputs": [],
   "source": [
    "def data_iter_random(corpus_indice, batch_size, num_step, device = None):\n",
    "    num_example = (len(corpus_indice)-1)//num_step\n",
    "    epoch_size = num_example//batch_size\n",
    "    example_indice = list(range(num_example))\n",
    "    random.shuffle(example_indice)\n",
    "    \n",
    "    def _data(pos):\n",
    "        return corpus_indice[pos:pos+num_step]\n",
    "    if device is None:\n",
    "        device = torch.device('cuda' if torch.cuda.is_available() else 'cpu')\n",
    "    \n",
    "    for i in range(epoch_size):\n",
    "        i = i*batch_size\n",
    "        X = [_data(j*num_step) for j in example_indice[i:i+batch_size]]\n",
    "        Y = [_data(j*num_step+1) for j in example_indice[i: i+batch_size]]\n",
    "        yield torch.tensor(X, dtype = torch.float, device = device), torch.tensor(Y, dtype = torch.float, device = device)"
   ]
  },
  {
   "cell_type": "code",
   "execution_count": 62,
   "id": "bound-venture",
   "metadata": {},
   "outputs": [],
   "source": [
    "def data_iter_consecutive(corpus_indice, batch_size, num_step, device = None):\n",
    "    if device is None:\n",
    "        device = torch.device('cuda' if torch.cuda.is_available() else 'cpu')\n",
    "    corpus_indice = torch.tensor(corpus_indice, dtype = torch.float, device = device)\n",
    "    data_len = len(corpus_indice)\n",
    "    batch_len = data_len//batch_size\n",
    "    indice = corpus_indice[0:batch_len*batch_size].view(batch_size, batch_len)\n",
    "    epoch_size = batch_len//num_step\n",
    "    \n",
    "    for i in range(epoch_size):\n",
    "        i = i*num_step\n",
    "        X = indice[:, i: i+num_step]\n",
    "        X1 = indice[:, i+1:i+num_step+1]\n",
    "        yield X, X1"
   ]
  },
  {
   "cell_type": "code",
   "execution_count": 63,
   "id": "particular-antibody",
   "metadata": {},
   "outputs": [],
   "source": [
    "class RnnModel(nn.Module):\n",
    "    def __init__(self, vocab_size, num_hiddens, num_layers):\n",
    "        super().__init__()\n",
    "        self.rnn_layer = nn.RNN(input_size=vocab_size, hidden_size=num_hiddens, num_layers=num_layers)\n",
    "        self.hidden_size = num_hiddens\n",
    "        self.vocab_size = vocab_size\n",
    "        self.fc_layer = nn.Linear(num_hiddens, vocab_size)\n",
    "        self.state = None\n",
    "        \n",
    "    def forward(self, inputs, state):\n",
    "        X = self.to_onehot(inputs, self.vocab_size)\n",
    "        Y, self.state = self.rnn_layer(X, state)              #n*b*v, n*b*h\n",
    "        output = self.fc_layer(Y.view(-1, Y.shape[-1]))\n",
    "        return output, self.state\n",
    "    \n",
    "    @staticmethod\n",
    "    def to_onehot(X, n_class):\n",
    "        def one_hot(x,n_class):\n",
    "            x = x.long()\n",
    "            res=torch.zeros(x.shape[0],n_class, dtype = torch.float, device = x.device)\n",
    "            res.scatter_(1,x.view(-1,1),1)\n",
    "            return res        \n",
    "        return torch.stack([one_hot(X[:,i],n_class) for i in range(X.shape[1])])   #n*b*v"
   ]
  },
  {
   "cell_type": "code",
   "execution_count": 64,
   "id": "olympic-grain",
   "metadata": {},
   "outputs": [],
   "source": [
    "class GruRnnModel(nn.Module):\n",
    "    def __init__(self, vocab_size, num_hiddens, num_layers):\n",
    "        super().__init__()\n",
    "        self.gru_layer = nn.GRU(input_size=vocab_size, hidden_size=num_hiddens, num_layers=num_layers)\n",
    "        self.hidden_size = num_hiddens\n",
    "        self.vocab_size = vocab_size\n",
    "        self.fc_layer = nn.Linear(num_hiddens, vocab_size)\n",
    "        self.state = None\n",
    "        \n",
    "    def forward(self, inputs, state):\n",
    "        X = self.to_onehot(inputs, self.vocab_size)\n",
    "        H, self.state = self.gru_layer(X, state)              #n*b*v, n*b*h\n",
    "        Y = self.fc_layer(H.view(-1, Y.shape[-1]))\n",
    "        return Y, self.state\n",
    "    \n",
    "    @staticmethod\n",
    "    def to_onehot(X, n_class):\n",
    "        def one_hot(x,n_class):\n",
    "            x = x.long()\n",
    "            res=torch.zeros(x.shape[0],n_class, dtype = torch.float, device = x.device)\n",
    "            res.scatter_(1,x.view(-1,1),1)\n",
    "            return res        \n",
    "        return torch.stack([one_hot(X[:,i],n_class) for i in range(X.shape[1])]) "
   ]
  },
  {
   "cell_type": "code",
   "execution_count": 65,
   "id": "editorial-checkout",
   "metadata": {},
   "outputs": [],
   "source": [
    "class LstmRnnModel(nn.Module):\n",
    "    def __init__(self, vocab_size, num_hiddens, num_layers):\n",
    "        super().__init__()\n",
    "        self.lstm_layer = nn.LSTM(input_size=vocab_size, hidden_size=num_hiddens, num_layers=num_layers)\n",
    "        self.hidden_size = num_hiddens\n",
    "        self.vocab_size = vocab_size\n",
    "        self.fc_layer = nn.Linear(self.hidden_size, vocab_size)\n",
    "        self.state = None\n",
    "        \n",
    "    def forward(self, inputs, state):\n",
    "        X = self.to_onehot(inputs, self.vocab_size)\n",
    "        H, self.state = self.lstm_layer(X, state)              #n*b*v, n*b*h\n",
    "        Y = self.fc_layer(H.view(-1, H.shape[-1]))\n",
    "        return Y, self.state\n",
    "    \n",
    "    @staticmethod\n",
    "    def to_onehot(X, n_class):\n",
    "        def one_hot(x,n_class):\n",
    "            x = x.long()\n",
    "            res=torch.zeros(x.shape[0],n_class, dtype = torch.float, device = x.device)\n",
    "            res.scatter_(1,x.view(-1,1),1)\n",
    "            return res        \n",
    "        return torch.stack([one_hot(X[:,i],n_class) for i in range(X.shape[1])]) "
   ]
  },
  {
   "cell_type": "code",
   "execution_count": 66,
   "id": "subtle-nickname",
   "metadata": {},
   "outputs": [],
   "source": [
    "def predict_rnn(prefix, num_chars, model,idx_to_char_dict, char_to_ida_dict, state = None):\n",
    "    vocab_size = len(idx_to_char_dict)\n",
    "    device = torch.device('cuda' if torch.cuda.is_available() else 'cpu')\n",
    "    output = [prefix[0]]\n",
    "    for t in range(num_chars+len(prefix)-1):\n",
    "        X_indice = torch.tensor([char_to_idx_dict[output[-1]]], device = device).view(-1,1)\n",
    "        Y, state = model(X_indice, state)\n",
    "        if t<len(prefix)-1: \n",
    "            output.append(prefix[t+1])\n",
    "        else:    \n",
    "            output.append(idx_to_char_dict[int(Y.argmax(dim = 1).item())])\n",
    "    return ''.join(output)"
   ]
  },
  {
   "cell_type": "code",
   "execution_count": 67,
   "id": "comfortable-model",
   "metadata": {},
   "outputs": [],
   "source": [
    "def train_and_predict(corpus_indice, data_iter, batch_size, num_steps, \n",
    "                      num_epoches, model, lr, clipping_theta,\n",
    "                      idx_to_char_dict, char_to_idx_dict, \n",
    "                      prefixes, num_chars):\n",
    "    \n",
    "    device = torch.device('cuda' if torch.cuda.is_available() else 'cpu')\n",
    "    vocab_size = len(idx_to_char_dict)\n",
    "    loss_fn = nn.CrossEntropyLoss()\n",
    "    optimizer = optim.Adam(model.parameters(),lr=lr)\n",
    "    state = None\n",
    "    \n",
    "    for epoch in range(num_epoches): \n",
    "        train_loss_sum, n = 0.0, 0\n",
    "        for X_indice_list, Y_indice_list in data_iter(corpus_indice, batch_size, num_steps, device):\n",
    "            if state is not None:\n",
    "                state = (state[0].detach(), state[1].detach())\n",
    "            Y_hat, state = model(X_indice_list, state) \n",
    "            Y_indice_list = torch.transpose(Y_indice_list, 0, 1).contiguous().view(-1).long()\n",
    "            loss = loss_fn(Y_hat, Y_indice_list)\n",
    "            optimizer.zero_grad()\n",
    "            loss.backward()\n",
    "            grad_clipping(model.parameters(), clipping_theta)\n",
    "            optimizer.step()\n",
    "            train_loss_sum += loss.item()\n",
    "            n += 1\n",
    "        if (epoch+1)%50 == 0:\n",
    "            train_loss = train_loss_sum/n\n",
    "            try:\n",
    "                perplexity = math.exp(train_loss)\n",
    "            except OverflowError:\n",
    "                perplexity = float('inf')\n",
    "            print('epoch: %d, train_loss: %.2f, perplexity: %f'%(epoch+1, train_loss, perplexity))\n",
    "            \n",
    "            for prefix in prefixes:\n",
    "                print(predict_rnn(prefix, num_chars, model, idx_to_char_dict, char_to_idx_dict, state = None))\n",
    "                "
   ]
  },
  {
   "cell_type": "code",
   "execution_count": 71,
   "id": "fossil-recording",
   "metadata": {},
   "outputs": [],
   "source": [
    "num_epoches, batch_size, lr, clipping_theta = 250, 35, 1e-2, 1e-2\n",
    "num_steps, num_chars, prefixes = 50, 50, ['后知后觉']\n",
    "#model = RnnModel(vocab_size, 256, 1).to('cuda')\n",
    "#model = GruRnnModel(vocab_size,256,1).to('cuda') \n",
    "model = LstmRnnModel(vocab_size, 256, 2).to('cuda')"
   ]
  },
  {
   "cell_type": "code",
   "execution_count": 72,
   "id": "strategic-blocking",
   "metadata": {},
   "outputs": [
    {
     "name": "stdout",
     "output_type": "stream",
     "text": [
      "epoch: 50, train_loss: 3.78, perplexity: 43.609551\n",
      "后知后觉 我有我不我 我不你 我 我不想我不你 我不你 我不你 我不你 我不你 我不你 我不你 我不你 我不\n",
      "epoch: 100, train_loss: 0.95, perplexity: 2.573015\n",
      "后知后觉 我该好好生活 一颗两颗三颗四颗 连成线背著背默默许下心愿 祭司 神殿 征战 弓箭 是谁的从前 喜欢\n",
      "epoch: 150, train_loss: 0.09, perplexity: 1.090078\n",
      "后知后觉  该到纵 是那么考倒一身笑过天对我感动的可爱女人 坏坏的让我疯狂的可爱女人 坏坏的让我疯狂的可爱女\n",
      "epoch: 200, train_loss: 0.03, perplexity: 1.029071\n",
      "后知后觉 你已经痛开始的时色蜡烛 温暖了空屋 白色蜡烛 温暖了空屋藤蔓植物 爬满了伯爵的坟墓 古堡里一片荒芜\n",
      "epoch: 250, train_loss: 0.03, perplexity: 1.025524\n",
      "后知后觉  感动看 一个人慢慢的回忆 没有了过去 我将往事抽离 如果我遇见你是一场悲剧 我可以让生命就这样毫\n"
     ]
    }
   ],
   "source": [
    "train_and_predict(corpus_indice, data_iter_consecutive, batch_size, num_steps, \n",
    "                      num_epoches, model, lr, clipping_theta,\n",
    "                      idx_to_char_dict, char_to_idx_dict, \n",
    "                      prefixes, num_chars)"
   ]
  },
  {
   "cell_type": "code",
   "execution_count": null,
   "id": "administrative-allowance",
   "metadata": {},
   "outputs": [],
   "source": []
  },
  {
   "cell_type": "code",
   "execution_count": null,
   "id": "finnish-premises",
   "metadata": {},
   "outputs": [],
   "source": []
  },
  {
   "cell_type": "code",
   "execution_count": null,
   "id": "governing-woman",
   "metadata": {},
   "outputs": [],
   "source": []
  }
 ],
 "metadata": {
  "kernelspec": {
   "display_name": "Python 3",
   "language": "python",
   "name": "python3"
  },
  "language_info": {
   "codemirror_mode": {
    "name": "ipython",
    "version": 3
   },
   "file_extension": ".py",
   "mimetype": "text/x-python",
   "name": "python",
   "nbconvert_exporter": "python",
   "pygments_lexer": "ipython3",
   "version": "3.8.8"
  },
  "toc": {
   "base_numbering": 1,
   "nav_menu": {},
   "number_sections": true,
   "sideBar": true,
   "skip_h1_title": false,
   "title_cell": "Table of Contents",
   "title_sidebar": "Contents",
   "toc_cell": false,
   "toc_position": {},
   "toc_section_display": true,
   "toc_window_display": false
  }
 },
 "nbformat": 4,
 "nbformat_minor": 5
}
