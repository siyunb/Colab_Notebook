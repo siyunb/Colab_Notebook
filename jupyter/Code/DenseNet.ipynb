{
 "cells": [
  {
   "cell_type": "code",
   "execution_count": 60,
   "id": "revised-vienna",
   "metadata": {},
   "outputs": [],
   "source": [
    "import torch\n",
    "from torch.utils.data import DataLoader \n",
    "from torch.nn import init\n",
    "import torch.optim as optim \n",
    "import torch.nn as nn\n",
    "import torch.nn.functional as F\n",
    "import torchvision\n",
    "import torchvision.transforms as transforms\n",
    "import matplotlib.pyplot as plt\n",
    "import numpy as np\n",
    "import time "
   ]
  },
  {
   "cell_type": "code",
   "execution_count": 61,
   "id": "respected-reunion",
   "metadata": {},
   "outputs": [],
   "source": [
    "def load_data_fashion_mnist(batch_size, resize = None, path = './Dataset/FashionMNIST'):\n",
    "    \"\"\"Download the fashion mnist dataset and then load into memory\"\"\"\n",
    "    trans = []\n",
    "    if resize:\n",
    "        trans.append(transforms.Resize(size = resize))\n",
    "    trans.append(transforms.ToTensor())\n",
    "    transform = transforms.Compose(trans)\n",
    "    \n",
    "    mnist_train = torchvision.datasets.FashionMNIST(root = path, train = True, download = True, transform = transform) \n",
    "    mnist_test = torchvision.datasets.FashionMNIST(root = path,  train = False, download = True, transform = transform)\n",
    "    \n",
    "    train_iter = DataLoader(mnist_train, batch_size= batch_size, shuffle = True, num_workers = 4) \n",
    "    test_iter = DataLoader(mnist_test, batch_size = batch_size, shuffle = True, num_workers = 4)\n",
    "    \n",
    "    return train_iter, test_iter"
   ]
  },
  {
   "cell_type": "code",
   "execution_count": 62,
   "id": "incorporate-stocks",
   "metadata": {},
   "outputs": [],
   "source": [
    "class DenseBlock(nn.Module):\n",
    "    def __init__(self, num_convs, in_channels, out_channels):\n",
    "        super().__init__()\n",
    "        net = []\n",
    "        for i in range(num_convs):\n",
    "            in_c = in_channels + i*out_channels\n",
    "            net.append(conv_layer(in_c, out_channels))\n",
    "        self.net = nn.ModuleList(net) \n",
    "        self.out_channels = in_channels + num_convs*out_channels\n",
    "        \n",
    "    def forward(self, X):\n",
    "        for layer in self.net:\n",
    "            Y = layer(X)\n",
    "            X = torch.cat((X,Y), dim = 1)\n",
    "        return X       \n",
    "    \n",
    "    @staticmethod\n",
    "    def conv_layer(in_channels, out_channels):\n",
    "        blk = nn.Sequential(nn.BatchNorm2d(in_channels),\n",
    "                           nn.ReLU(),\n",
    "                           nn.Conv2d(in_channels, out_channels, kernel_size=3, padding=1))\n",
    "        return blk\n",
    "    "
   ]
  },
  {
   "cell_type": "code",
   "execution_count": 63,
   "id": "every-hierarchy",
   "metadata": {},
   "outputs": [],
   "source": [
    "class TransitionBlock(nn.Module):\n",
    "    def __init__(self, in_channels, out_channels):\n",
    "        super().__init__()\n",
    "        self.trans_layer = transition_layer(in_channels, out_channels) \n",
    "    def forward(self, X):\n",
    "        Y = self.trans_layer(X)\n",
    "        return Y\n",
    "    \n",
    "    @staticmethod\n",
    "    def transition_layer(in_channels, out_channels):\n",
    "        layer = nn.Sequential(nn.BatchNorm2d(in_channels),\n",
    "                             nn.ReLU(),\n",
    "                             nn.Conv2d(in_channels, out_channels, kernel_size =1),\n",
    "                             nn.AvgPool2d(kernel_size=2, stride=2))\n",
    "        return layer   "
   ]
  },
  {
   "cell_type": "code",
   "execution_count": 64,
   "id": "empty-force",
   "metadata": {},
   "outputs": [],
   "source": [
    "class GlobalAvgPool2d(nn.Module):\n",
    "    def __init__(self):\n",
    "        super().__init__()\n",
    "    def forward(self,X):\n",
    "        return X.mean(dim = 2, keepdim = True).mean(dim = 3, keepdim = True)"
   ]
  },
  {
   "cell_type": "code",
   "execution_count": 65,
   "id": "treated-cotton",
   "metadata": {},
   "outputs": [],
   "source": [
    "conv_block = nn.Sequential(nn.Conv2d(1,64,kernel_size=7,stride=2,padding=3),\n",
    "                          nn.BatchNorm2d(64),\n",
    "                           nn.ReLU(),\n",
    "                           nn.MaxPool2d(kernel_size=3,stride=2,padding=1))\n",
    "Dense_Net = nn.Sequential()\n",
    "Dense_Net.add_module('conv_block', conv_block)\n",
    "num_channels, growth_rate = 64, 32\n",
    "num_convs_in_dense_block = [4,4,4,4]\n",
    "for i, num_convs in enumerate(num_convs_in_dense_block):\n",
    "    DB = DenseBlock(num_convs,num_channels,growth_rate)\n",
    "    Dense_Net.add_module('dense_block%d'%i, DB)\n",
    "    num_channels = DB.out_channels\n",
    "    if i!=(len(num_convs_in_dense_block)-1):\n",
    "        Dense_Net.add_module('transition_block%d'%(i), TransitionBlock(num_channels, num_channels//2))\n",
    "        num_channels = num_channels//2\n",
    "Dense_Net.add_module('bn_block',nn.Sequential(nn.BatchNorm2d(num_channels),nn.ReLU()))\n",
    "Dense_Net.add_module('fc_block',nn.Sequential(GlobalAvgPool2d(),nn.Flatten(),nn.Linear(num_channels, 10)))"
   ]
  },
  {
   "cell_type": "code",
   "execution_count": 66,
   "id": "confident-schedule",
   "metadata": {},
   "outputs": [],
   "source": [
    "def evaluate_accuracy(data_iter, network, device = None):\n",
    "    if device is None:\n",
    "        device = list(network.parameters())[0].device\n",
    "    with torch.no_grad():\n",
    "        acc_num, n = 0.0, 0 \n",
    "        for X_test, y_test in data_iter:\n",
    "            X_test = X_test.to(device)\n",
    "            y_test = y_test.to(device)\n",
    "            network.eval()\n",
    "            y_hat = network(X_test)\n",
    "            acc_num  += (y_hat.argmax(dim = 1)==y_test.to(device)).sum().cpu().item()\n",
    "            network.train()\n",
    "            n += y_test.shape[0]\n",
    "    acc = acc_num/n\n",
    "    return acc "
   ]
  },
  {
   "cell_type": "code",
   "execution_count": 67,
   "id": "played-activity",
   "metadata": {},
   "outputs": [],
   "source": [
    "def train_network(network, train_iter, test_iter, optimizer, num_epochs):\n",
    "    device = torch.device('cuda' if torch.cuda.is_available else 'cpu')\n",
    "    network = network.to(device)\n",
    "    loss_fn = nn.CrossEntropyLoss()\n",
    "    for epoch in range(num_epochs): \n",
    "        train_loss_sum, train_acc_num, batch_count, n, start_time = 0.0, 0, 0, 0, time.time() \n",
    "        for X, y in train_iter:\n",
    "            X = X.to(device)\n",
    "            y = y.to(device)\n",
    "            y_hat = network(X)\n",
    "            loss = loss_fn(y_hat, y)\n",
    "            optimizer.zero_grad()\n",
    "            loss.backward()\n",
    "            optimizer.step()\n",
    "            train_loss_sum += loss.cpu().item()\n",
    "            train_acc_num += (y_hat.argmax(dim=1) == y).sum().cpu().item()\n",
    "            n += y.shape[0]\n",
    "            batch_count += 1\n",
    "        test_acc = evaluate_accuracy(test_iter, network)\n",
    "        print('epoch: %d, train_loss: %.3f, train_acc: %.3f, test_acc: %.3f, time: %.2f'\n",
    "              %(epoch+1, train_loss_sum/batch_count, train_acc_num/n, test_acc, (time.time()-start_time)))"
   ]
  },
  {
   "cell_type": "code",
   "execution_count": 69,
   "id": "descending-barbados",
   "metadata": {},
   "outputs": [
    {
     "name": "stdout",
     "output_type": "stream",
     "text": [
      "epoch: 1, train_loss: 0.456, train_acc: 0.840, test_acc: 0.813, time: 23.79\n",
      "epoch: 2, train_loss: 0.272, train_acc: 0.899, test_acc: 0.877, time: 23.30\n",
      "epoch: 3, train_loss: 0.235, train_acc: 0.914, test_acc: 0.852, time: 23.33\n",
      "epoch: 4, train_loss: 0.213, train_acc: 0.921, test_acc: 0.907, time: 23.32\n",
      "epoch: 5, train_loss: 0.195, train_acc: 0.927, test_acc: 0.921, time: 23.44\n"
     ]
    }
   ],
   "source": [
    "batch_size = 256\n",
    "train_iter, test_iter = load_data_fashion_mnist(batch_size=batch_size, resize=96)\n",
    "lr, num_epochs = 0.001, 5\n",
    "optimizer = optim.Adam(Dense_Net.parameters(), lr = lr)\n",
    "train_network(Dense_Net, train_iter, test_iter, optimizer, num_epochs)"
   ]
  }
 ],
 "metadata": {
  "kernelspec": {
   "display_name": "Python 3",
   "language": "python",
   "name": "python3"
  },
  "language_info": {
   "codemirror_mode": {
    "name": "ipython",
    "version": 3
   },
   "file_extension": ".py",
   "mimetype": "text/x-python",
   "name": "python",
   "nbconvert_exporter": "python",
   "pygments_lexer": "ipython3",
   "version": "3.8.8"
  },
  "toc": {
   "base_numbering": 1,
   "nav_menu": {},
   "number_sections": true,
   "sideBar": true,
   "skip_h1_title": false,
   "title_cell": "Table of Contents",
   "title_sidebar": "Contents",
   "toc_cell": false,
   "toc_position": {},
   "toc_section_display": true,
   "toc_window_display": false
  }
 },
 "nbformat": 4,
 "nbformat_minor": 5
}
