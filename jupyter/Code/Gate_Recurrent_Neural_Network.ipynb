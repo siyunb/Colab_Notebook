{
 "cells": [
  {
   "cell_type": "code",
   "execution_count": 7,
   "id": "following-article",
   "metadata": {},
   "outputs": [],
   "source": [
    "import torch\n",
    "import random\n",
    "import zipfile\n",
    "import time\n",
    "import math\n",
    "import numpy as np\n",
    "from torch import nn, optim\n",
    "import torch.nn.functional as F\n",
    "device = torch.device('cuda' if torch.cuda.is_available() else 'cpu')"
   ]
  },
  {
   "cell_type": "code",
   "execution_count": 122,
   "id": "emerging-stack",
   "metadata": {},
   "outputs": [],
   "source": [
    "#梯度裁剪虽然能解决梯度爆炸的问题，但无法解决梯度衰减\n",
    "def grad_clipping(params, theta, device):\n",
    "    norm = torch.tensor([0.0], device = device)\n",
    "    for param in params:\n",
    "        norm += (param.grad.data**2).sum()\n",
    "    norm = norm.sqrt().item()\n",
    "    if norm > theta:\n",
    "        for param in params:\n",
    "            param.grad.data *= (theta/norm) "
   ]
  },
  {
   "cell_type": "code",
   "execution_count": 59,
   "id": "terminal-video",
   "metadata": {},
   "outputs": [],
   "source": [
    "def sgd(params, lr, batch_size):\n",
    "    for param in params:\n",
    "        param.data -= lr*param.grad/batch_size"
   ]
  },
  {
   "cell_type": "code",
   "execution_count": 38,
   "id": "hydraulic-annotation",
   "metadata": {},
   "outputs": [],
   "source": [
    "def one_hot(x,n_class):\n",
    "    x = x.long()\n",
    "    res=torch.zeros(x.shape[0],n_class, dtype = torch.float, device = x.device)\n",
    "    res.scatter_(1,x.view(-1,1),1)\n",
    "    return res\n",
    "def to_onehot(X, n_class):\n",
    "    return [one_hot(X[:,i],n_class) for i in range(X.shape[1])]"
   ]
  },
  {
   "cell_type": "code",
   "execution_count": 1,
   "id": "occasional-discipline",
   "metadata": {},
   "outputs": [],
   "source": [
    "#（偏）导数反映的就是两个变量之间的依赖关系，因为两个变量的微分是通过（偏）导数来连接，反映线性依赖关系。\n",
    "#循环神经网络的设计其实就是为了捕捉损失和各个网络变量之间的线性关系，梯度消失导致线性依赖关系消失\n",
    "#向前传播建立依赖关系，向后传播捕捉依赖关系。但传统的rnn往往由于固定的依赖关系的建立而失去对依赖关系的更好的捕捉，而学习门来控制依赖关系的建立，是\n",
    "#gated recurrent unit 门控循环单元， 通过学习门来控制信息流动"
   ]
  },
  {
   "cell_type": "code",
   "execution_count": 5,
   "id": "toxic-fellow",
   "metadata": {},
   "outputs": [],
   "source": [
    "def load_data_jay_lyrics():\n",
    "    with zipfile.ZipFile('./Dataset/JayLyrics/jaychou_lyrics.txt.zip') as zin:\n",
    "        with zin.open('jaychou_lyrics.txt') as f:\n",
    "            corpus_chars = f.read().decode('utf-8')\n",
    "    corpus_chars = corpus_chars.replace('\\n',' ').replace('\\r', ' ')\n",
    "    corpus_chars = corpus_chars[:10000]\n",
    "    idx_to_char = list(set(corpus_chars))\n",
    "    char_to_idx_dict = dict([(char, i) for i, char in enumerate(idx_to_char)])\n",
    "    idx_to_char_dict = dict([(i, char) for i, char in enumerate(idx_to_char)])\n",
    "    corpus_indice = [char_to_idx_dict[char] for char in corpus_chars]\n",
    "    return corpus_chars, corpus_indice, idx_to_char_dict, char_to_idx_dict, len(idx_to_char_dict)"
   ]
  },
  {
   "cell_type": "code",
   "execution_count": 131,
   "id": "naked-stockholm",
   "metadata": {},
   "outputs": [],
   "source": [
    "num_inputs, num_hiddens, num_outputs = vocab_size, 256, vocab_size\n",
    "device = torch.device('cuda' if torch.cuda.is_available() else 'cpu')\n",
    "def get_params():\n",
    "    def _one(shape):\n",
    "        ts = torch.tensor(np.random.normal(0, 0.01, size = shape), device = device, dtype = torch.float)\n",
    "        return  nn.Parameter(ts, requires_grad = True)\n",
    "    \n",
    "    def _three():\n",
    "        return (_one((num_inputs, num_hiddens)),\n",
    "                _one((num_hiddens, num_hiddens)),\n",
    "                nn.Parameter(torch.zeros(num_hiddens, device = device, dtype = torch.float, requires_grad = True)))\n",
    "    \n",
    "    W_xr, W_hr, b_r = _three()\n",
    "    W_xz, W_hz, b_z = _three()\n",
    "    W_xh, W_hh, b_h = _three()\n",
    "    \n",
    "    #输出层参数\n",
    "    W_hq = _one((num_hiddens, num_outputs))\n",
    "    b_q = nn.Parameter(torch.zeros(num_outputs, device = device, dtype = torch.float), requires_grad=True)\n",
    "    \n",
    "    return nn.ParameterList([W_xr, W_hr, b_r, W_xz, W_hz, b_z, W_xh, W_hh, b_h, W_hq, b_q])"
   ]
  },
  {
   "cell_type": "code",
   "execution_count": 150,
   "id": "juvenile-prediction",
   "metadata": {},
   "outputs": [],
   "source": [
    "def init_gru_state(batch_size, num_hiddens):\n",
    "    return (torch.zeros((batch_size, num_hiddens), dtype = torch.float, device = device), )\n",
    "def gru(inputs, state, params):\n",
    "    W_xr, W_hr, b_r, W_xz, W_hz, b_z, W_xh, W_hh, b_h, W_hq, b_q = params\n",
    "    H, = state\n",
    "    outputs = []\n",
    "    for X in inputs:\n",
    "        R = torch.sigmoid(torch.mm(X, W_xr)+torch.mm(H, W_hr)+b_r)\n",
    "        Z = torch.sigmoid(torch.mm(X, W_xz)+torch.mm(H, W_hz)+b_z)\n",
    "        H_tilda = torch.tanh(torch.mm(X, W_xh)+torch.mm(R*H,W_hh)+b_h)\n",
    "        H = Z*H +(1-Z)*H_tilda \n",
    "        Y = torch.mm(H, W_hq) + b_q\n",
    "        outputs.append(Y)\n",
    "    return outputs, (H,)"
   ]
  },
  {
   "cell_type": "code",
   "execution_count": 151,
   "id": "efficient-baseline",
   "metadata": {},
   "outputs": [],
   "source": [
    "def data_iter_consecutive(corpus_indice, batch_size, num_step, device):\n",
    "    corpus_indice = torch.tensor(corpus_indice, dtype = torch.float, device = device)\n",
    "    data_len = len(corpus_indice)\n",
    "    batch_len = data_len//batch_size\n",
    "    indice = corpus_indice[0:batch_len*batch_size].view(batch_size, batch_len)\n",
    "    epoch_size = batch_len//num_step\n",
    "    \n",
    "    for i in range(epoch_size):\n",
    "        i = i*num_step\n",
    "        X = indice[:, i: i+num_step]\n",
    "        Y = indice[:, i+1:i+num_step+1]\n",
    "        yield X, Y"
   ]
  },
  {
   "cell_type": "code",
   "execution_count": 152,
   "id": "familiar-nursing",
   "metadata": {},
   "outputs": [],
   "source": [
    "def predict_rnn(prefix, num_chars, init_state, model, params, idx_to_char_dict, char_to_ida_dict):\n",
    "    W_xr, W_hr, b_r, W_xz, W_hz, b_z, W_xh, W_hh, b_h, W_hq, b_q = params\n",
    "    vocab_size = len(idx_to_char_dict)\n",
    "    output = [prefix[0]]\n",
    "    test_state = init_state(len(output), W_hr.shape[1]) \n",
    "    \n",
    "    for t in range(num_chars+len(prefix)-1):\n",
    "        X_indice = torch.tensor([char_to_idx_dict[output[-1]]], device = device).view(-1,1)\n",
    "        X_one_hot = to_onehot(X_indice, vocab_size)\n",
    "        Y, test_state = model(X_one_hot, test_state, params)\n",
    "        if t<len(prefix)-1: \n",
    "            output.append(prefix[t+1])\n",
    "        else:    \n",
    "            output.append(idx_to_char_dict[int(Y[0].argmax(dim = 1).item())])\n",
    "    return ''.join(output)"
   ]
  },
  {
   "cell_type": "code",
   "execution_count": 174,
   "id": "alert-spirit",
   "metadata": {},
   "outputs": [],
   "source": [
    "def train_and_predict(corpus_indice, data_iter, batch_size, num_steps, num_hiddens, device,\n",
    "                      num_epoches, init_state, model, lr, clipping_theta, params,\n",
    "                      idx_to_char_dict, char_to_idx_dict, \n",
    "                      prefixes, num_chars):\n",
    "    \n",
    "    vocab_size = len(idx_to_char_dict)\n",
    "    loss_fn = nn.CrossEntropyLoss()\n",
    "    params = params.to(device)\n",
    "    \n",
    "    for epoch in range(num_epoches): \n",
    "        train_loss_sum, n = 0.0, 0\n",
    "        train_state = init_state(batch_size, num_hiddens)\n",
    "        for X_indice_list, Y_indice_list in data_iter(corpus_indice, batch_size, num_steps, device):\n",
    "            train_state = (train_state[0].detach(),)\n",
    "            X_one_hot = to_onehot(X_indice_list, vocab_size)\n",
    "            Y_hat_one_hot, state = gru(X_one_hot, train_state, params)\n",
    "            outputs = torch.cat(Y_hat_one_hot, dim=0)\n",
    "            Y_indice_list = torch.transpose(Y_indice_list, 0, 1).contiguous().view(-1).long()\n",
    "            loss = loss_fn(outputs, Y_indice_list)\n",
    "            \n",
    "            if params[0].grad is not None:\n",
    "                for param in params:\n",
    "                    param.grad.data.zero_()\n",
    "            \n",
    "            loss.backward()\n",
    "            \n",
    "            grad_clipping(params, clipping_theta, device)\n",
    "            sgd(params, lr, 1)\n",
    "            train_loss_sum += loss.item()\n",
    "            n += 1\n",
    "            \n",
    "        if (epoch+1)%50 == 0:\n",
    "            train_loss = train_loss_sum/n\n",
    "            try:\n",
    "                perplexity = math.exp(train_loss)\n",
    "            except OverflowError:\n",
    "                perplexity = float('inf')\n",
    "            print('epoch: %d, train_loss: %.2f, perplexity: %f'%(epoch+1, train_loss, perplexity))\n",
    "            \n",
    "            for prefix in prefixes:\n",
    "                print(predict_rnn(prefix, num_chars, init_state, model, params, idx_to_char_dict, char_to_idx_dict))"
   ]
  },
  {
   "cell_type": "code",
   "execution_count": 132,
   "id": "noble-census",
   "metadata": {},
   "outputs": [],
   "source": [
    "corpus_chars, corpus_indice, idx_to_char_dict, char_to_idx_dict, vocab_size = load_data_jay_lyrics()"
   ]
  },
  {
   "cell_type": "code",
   "execution_count": 162,
   "id": "determined-graduate",
   "metadata": {},
   "outputs": [],
   "source": [
    "num_epochs, num_steps, batch_size, lr, clipping_theta = 160, 35, 32, 1e2, 1e-2\n",
    "num_chars, prefixes = 40, ['分开','不分开']\n",
    "device = torch.device('cuda' if torch.cuda.is_available() else 'cpu') \n",
    "num_inputs, num_hiddens, num_outputs = vocab_size, 256, vocab_size\n",
    "params = get_params()"
   ]
  },
  {
   "cell_type": "code",
   "execution_count": 175,
   "id": "joint-albuquerque",
   "metadata": {},
   "outputs": [
    {
     "name": "stdout",
     "output_type": "stream",
     "text": [
      "epoch: 50, train_loss: 0.04, perplexity: 1.036668\n",
      "分开 我不能再想 我不 我不 我不能 爱情走的太快就像龙卷风 不能承受我已无处可躲 我不要再想 我不要再\n",
      "不分开 她已经 娘子默子在 这样沙什么 不手不多 你给空 难墟烟有 在在转中 全隐村日 恨伤己苦 全面了纵\n",
      "epoch: 100, train_loss: 0.04, perplexity: 1.035857\n",
      "分开 我够能再生活 静静悄悄默默离开 陷入了危险边缘Baby  我的世界已狂风暴雨 Wu  爱情来的太快\n",
      "不分开 她已经 后再简一切 后后风也目到 我都想的有样有样 我好声都满堡对唱都也张意义 或许在每后能开到 \n",
      "epoch: 150, train_loss: 0.04, perplexity: 1.042424\n",
      "分开 我爱能的风写在 别力的最像 我的念有已静欣赏赏那张张蝠 或来心人威过一只止一远 决轻的叹息 随制狠\n",
      "不分开 她已经 娘子这这在江袋 我 就带你骑棒对 想这样没担忧 唱着歌 一直走 我想就这样牵着你的手不放开\n",
      "epoch: 200, train_loss: 0.04, perplexity: 1.045460\n",
      "分开 我不能再想 我不要再想 我不 我不 我不要再想你 不知不觉 你打我离 这样对吗干嘛这样 何必让酒牵\n",
      "不分开几远单纯没有悲哀 我 想带你骑单车 我 想和你看棒球 想这样没担忧 唱着歌 一直走 我想就这样牵着你\n",
      "epoch: 250, train_loss: 0.03, perplexity: 1.034784\n",
      "分开 我爱能再风 我不好好生 我不能 让不走 这样球 气墟病夫 招家的梦 恨自放动 恨没有红的没用 情绪\n",
      "不分开几远她纯 默是在一个坦日日 一记令我 在色村外废弃 它乡情起的我有样  后道道其其写回雨 脸今汹初失\n",
      "epoch: 300, train_loss: 0.04, perplexity: 1.036067\n",
      "分开 风色海烛 温暖了空屋 蔓色蜡烛 温暖了空屋 双截棍 岩烧店的烟味弥漫 古底沙沙a盯 带领下我满得事\n",
      "不分开几远单纯 迎著一断 再来了渡每一天 手牵手 一步两步三步四步望著天 看星星 一颗两颗三颗四颗 连成线\n"
     ]
    }
   ],
   "source": [
    "train_and_predict(corpus_indice, data_iter_consecutive, batch_size, num_steps, num_hiddens, device,\n",
    "                      num_epochs, init_gru_state, gru, lr, clipping_theta, params,\n",
    "                      idx_to_char_dict, char_to_idx_dict, \n",
    "                      prefixes, num_chars)"
   ]
  },
  {
   "cell_type": "code",
   "execution_count": null,
   "id": "fabulous-december",
   "metadata": {},
   "outputs": [],
   "source": []
  },
  {
   "cell_type": "code",
   "execution_count": null,
   "id": "reserved-hungary",
   "metadata": {},
   "outputs": [],
   "source": []
  },
  {
   "cell_type": "code",
   "execution_count": null,
   "id": "shaped-duration",
   "metadata": {},
   "outputs": [],
   "source": []
  }
 ],
 "metadata": {
  "kernelspec": {
   "display_name": "Python 3",
   "language": "python",
   "name": "python3"
  },
  "language_info": {
   "codemirror_mode": {
    "name": "ipython",
    "version": 3
   },
   "file_extension": ".py",
   "mimetype": "text/x-python",
   "name": "python",
   "nbconvert_exporter": "python",
   "pygments_lexer": "ipython3",
   "version": "3.8.8"
  },
  "toc": {
   "base_numbering": 1,
   "nav_menu": {},
   "number_sections": true,
   "sideBar": true,
   "skip_h1_title": false,
   "title_cell": "Table of Contents",
   "title_sidebar": "Contents",
   "toc_cell": false,
   "toc_position": {},
   "toc_section_display": true,
   "toc_window_display": false
  }
 },
 "nbformat": 4,
 "nbformat_minor": 5
}
