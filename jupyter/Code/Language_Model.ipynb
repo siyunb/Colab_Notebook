{
 "cells": [
  {
   "cell_type": "code",
   "execution_count": 1,
   "id": "lonely-playlist",
   "metadata": {},
   "outputs": [],
   "source": [
    "import torch\n",
    "import random\n",
    "import zipfile\n",
    "import time\n",
    "import math\n",
    "import numpy as np\n",
    "from torch import nn, optim\n",
    "import torch.nn.functional as F"
   ]
  },
  {
   "cell_type": "code",
   "execution_count": 26,
   "id": "recorded-inclusion",
   "metadata": {},
   "outputs": [],
   "source": [
    "def load_data_jay_lyrics():\n",
    "    with zipfile.ZipFile('./Dataset/JayLyrics/jaychou_lyrics.txt.zip') as zin:\n",
    "        with zin.open('jaychou_lyrics.txt') as f:\n",
    "            corpus_chars = f.read().decode('utf-8')\n",
    "    corpus_chars = corpus_chars.replace('\\n',' ').replace('\\r', ' ')\n",
    "    corpus_chars = corpus_chars[:10000]\n",
    "    idx_to_char = list(set(corpus_chars))\n",
    "    char_to_idx_dict = dict([(char, i) for i, char in enumerate(idx_to_char)])\n",
    "    idx_to_char_dict = dict([(i, char) for i, char in enumerate(idx_to_char)])\n",
    "    corpus_indice = [char_to_idx_dict[char] for char in corpus_chars]\n",
    "    return corpus_chars, corpus_indice, idx_to_char_dict, char_to_idx_dict, len(idx_to_char_dict)"
   ]
  },
  {
   "cell_type": "code",
   "execution_count": 27,
   "id": "silent-attention",
   "metadata": {},
   "outputs": [],
   "source": [
    "corpus_chars, corpus_indice, idx_to_char_dict, char_to_idx_dict, vocab_size = load_data_jay_lyrics()"
   ]
  },
  {
   "cell_type": "code",
   "execution_count": 4,
   "id": "pointed-browser",
   "metadata": {},
   "outputs": [],
   "source": [
    "def data_iter_random(corpus_indice, batch_size, num_step, device = None):\n",
    "    num_example = (len(corpus_indice)-1)//num_step\n",
    "    epoch_size = num_example//batch_size\n",
    "    example_indice = list(range(num_example))\n",
    "    random.shuffle(example_indice)\n",
    "    \n",
    "    def _data(pos):\n",
    "        return corpus_indice[pos:pos+num_step]\n",
    "    if device is None:\n",
    "        device = torch.device('cuda' if torch.cuda.is_available() else 'cpu')\n",
    "    \n",
    "    for i in range(epoch_size):\n",
    "        i = i*batch_size\n",
    "        X = [_data(j*num_step) for j in example_indice[i:i+batch_size]]\n",
    "        Y = [_data(j*num_step+1) for j in example_indice[i: i+batch_size]]\n",
    "        yield torch.tensor(X, dtype = torch.float, device = device), torch.tensor(Y, dtype = torch.float, device = device)"
   ]
  },
  {
   "cell_type": "code",
   "execution_count": 5,
   "id": "sacred-traveler",
   "metadata": {},
   "outputs": [],
   "source": [
    "def data_iter_consecutive(corpus_indice, batch_size, num_step, device = None):\n",
    "    if device is None:\n",
    "        device = torch.device('cuda' if torch.cuda.is_available() else 'cpu')\n",
    "    corpus_indice = torch.tensor(corpus_indice, dtype = torch.float, device = device)\n",
    "    data_len = len(corpus_indice)\n",
    "    batch_len = data_len//batch_size\n",
    "    indice = corpus_indice[0:batch_len*batch_size].view(batch_size, batch_len)\n",
    "    epoch_size = batch_len//num_step\n",
    "    \n",
    "    for i in range(epoch_size):\n",
    "        i = i*num_step\n",
    "        X = indice[:, i: i+num_step]\n",
    "        X1 = indice[:, i+1:i+num_step+1]\n",
    "        yield X, X1"
   ]
  },
  {
   "cell_type": "code",
   "execution_count": 6,
   "id": "medical-kitchen",
   "metadata": {},
   "outputs": [],
   "source": [
    "def one_hot(x,n_class):\n",
    "    x = x.long()\n",
    "    res=torch.zeros(x.shape[0],n_class, dtype = torch.float, device = x.device)\n",
    "    res.scatter_(1,x.view(-1,1),1)\n",
    "    return res\n",
    "def to_onehot(X, n_class):\n",
    "    return [one_hot(X[:,i],n_class) for i in range(X.shape[1])]"
   ]
  },
  {
   "cell_type": "code",
   "execution_count": 7,
   "id": "american-minority",
   "metadata": {},
   "outputs": [],
   "source": [
    "X = torch.arange(10).view(2,5)\n",
    "X_onehot = to_onehot(X,vocab_size)"
   ]
  },
  {
   "cell_type": "code",
   "execution_count": 8,
   "id": "greek-copyright",
   "metadata": {},
   "outputs": [],
   "source": [
    "def get_params(num_inputs, num_hiddens, num_outputs, device = None):\n",
    "    if device is None:\n",
    "        device = torch.device('cuda' if torch.cuda.is_available() else 'cpu')\n",
    "    def _one(shape):\n",
    "        ts = torch.tensor(np.random.normal(0, 0.01,size = shape), device = device, dtype = torch.float)\n",
    "        return nn.Parameter(ts, requires_grad = True)\n",
    "    W_xh = _one((num_inputs, num_hiddens))\n",
    "    W_hh = _one((num_hiddens, num_hiddens))\n",
    "    b_h = nn.Parameter(torch.zeros(num_hiddens, device = device, dtype = torch.float, requires_grad =True))\n",
    "    W_hq = _one((num_hiddens, num_outputs))\n",
    "    b_q = nn.Parameter(torch.zeros(num_outputs, device = device, dtype = torch.float, requires_grad =True))\n",
    "    return nn.ParameterList([W_xh, W_hh, b_h, W_hq, b_q])    "
   ]
  },
  {
   "cell_type": "code",
   "execution_count": 9,
   "id": "stuffed-database",
   "metadata": {},
   "outputs": [],
   "source": [
    "def init_rnn_state(batch_size, num_hiddens, device = None):\n",
    "    if device is None:\n",
    "        device = torch.device('cuda' if torch.cuda.is_available() else 'cpu')\n",
    "    return (torch.zeros((batch_size, num_hiddens), device = device, dtype = torch.float),)"
   ]
  },
  {
   "cell_type": "code",
   "execution_count": 10,
   "id": "golden-member",
   "metadata": {},
   "outputs": [],
   "source": [
    "def rnn(inputs, state, params):\n",
    "    W_xh, W_hh, b_h, W_hq, b_q = params\n",
    "    H, = state\n",
    "    outputs = []\n",
    "    for X in inputs:\n",
    "        H = torch.tanh(torch.matmul(X, W_xh)+torch.matmul(H, W_hh)+b_h)\n",
    "        Y = torch.matmul(H, W_hq)+b_q\n",
    "        outputs.append(Y)\n",
    "    return outputs, (H,)"
   ]
  },
  {
   "cell_type": "code",
   "execution_count": 11,
   "id": "fitting-attachment",
   "metadata": {},
   "outputs": [],
   "source": [
    "num_inputs, num_hiddens, num_outputs = vocab_size, 256, vocab_size\n",
    "state = init_rnn_state(X.shape[0], num_hiddens)\n",
    "inputs = to_onehot(X.to('cuda'), vocab_size)\n",
    "params = get_params(num_inputs, num_hiddens, num_outputs, device = None)\n",
    "outputs, state_new = rnn(inputs, state, params)\n"
   ]
  },
  {
   "cell_type": "code",
   "execution_count": 12,
   "id": "divided-failing",
   "metadata": {},
   "outputs": [],
   "source": [
    "def predict_rnn(prefix, params, num_chars, num_hiddens, idx_to_char, char_to_idx):\n",
    "    device = torch.device('cuda' if torch.cuda.is_available() else 'cpu')\n",
    "    vocab_size = len(idx_to_char)\n",
    "    state, = init_rnn_state(1, num_hiddens)\n",
    "    output_prefix = []\n",
    "    for i in range(num_chars):\n",
    "        if i <= len(prefix)-1:\n",
    "            output_prefix.append(prefix[i])\n",
    "            idx = char_to_idx[output_prefix[i-1]] \n",
    "            idx = torch.tensor([[idx]], dtype = torch.float, device = device)\n",
    "            idx_onehot = one_hot(idx, vocab_size)\n",
    "            output,state = rnn(idx_onehot, state, params)             \n",
    "        else:\n",
    "            idx = char_to_idx[output_prefix[i-1]] \n",
    "            idx = torch.tensor([[idx]], dtype = torch.float, device = device)\n",
    "            idx_onehot = one_hot(idx, vocab_size)\n",
    "            output,state = rnn(idx_onehot, state, params)    \n",
    "            output_char = idx_to_char[output[0].argmax(dim=0).item()]\n",
    "            output_prefix.append(output_char)\n",
    "    return ''.join(output_prefix)"
   ]
  },
  {
   "cell_type": "code",
   "execution_count": 13,
   "id": "stainless-yugoslavia",
   "metadata": {},
   "outputs": [
    {
     "data": {
      "text/plain": [
       "'分开怯秒到篇翰凝光缝'"
      ]
     },
     "execution_count": 13,
     "metadata": {},
     "output_type": "execute_result"
    }
   ],
   "source": [
    "predict_rnn('分开', params, 10, 256, idx_to_char_dict, char_to_idx_dict)"
   ]
  },
  {
   "cell_type": "code",
   "execution_count": 14,
   "id": "molecular-scanner",
   "metadata": {},
   "outputs": [],
   "source": [
    "#clip gradient\n",
    "def grad_clipping(params, theta):\n",
    "    device = torch.device('cuda' if torch.cuda.is_available() else 'cpu')\n",
    "    norm = torch.tensor([0.0], device = device)\n",
    "    for param in params:\n",
    "        norm += (param.grad.data**2).sum()\n",
    "    norm = norm.sqrt().item()\n",
    "    if norm > theta:\n",
    "        for param in params:\n",
    "            param.grad.data *= (theta/norm) "
   ]
  },
  {
   "cell_type": "code",
   "execution_count": 15,
   "id": "automotive-flooring",
   "metadata": {},
   "outputs": [],
   "source": [
    "#optimizer function\n",
    "def sgd(params, lr, batch_size):\n",
    "    for param in params:\n",
    "        param.data -= lr*param.grad/batch_size"
   ]
  },
  {
   "cell_type": "code",
   "execution_count": 22,
   "id": "dying-ethernet",
   "metadata": {},
   "outputs": [],
   "source": [
    "def train_predict_rnn(corpus_indices, idx_to_char_dict, dict_to_idx_dict, \n",
    "                      is_random_iter, num_hiddens, num_epochs, num_steps,\n",
    "                      lr, clipping_theta, batch_size,                     \n",
    "                      pred_period, pred_len, prefixes):\n",
    "    #initialize parameters\n",
    "    device = torch.device('cuda' if torch.cuda.is_available() else 'cpu')\n",
    "    vocab_size = len(idx_to_char_dict)\n",
    "    if is_random_iter:\n",
    "        data_iter_fn = data_iter_random\n",
    "    else:\n",
    "        data_iter_fn = data_iter_consecutive\n",
    "    params = get_params(vocab_size, num_hiddens, vocab_size, device)\n",
    "    loss_fn = nn.CrossEntropyLoss()\n",
    "    \n",
    "    #training loop\n",
    "    for epoch in range(num_epochs):\n",
    "        if not is_random_iter:\n",
    "            state = init_rnn_state(batch_size, num_hiddens, device)\n",
    "        loss_sum, n, start = 0.0, 0, time.time()\n",
    "        data_iter = data_iter_fn(corpus_indices, batch_size, num_steps, device)\n",
    "        for X, Y in data_iter: \n",
    "            if is_random_iter:\n",
    "                state = init_rnn_state(batch_size, num_hiddens, device)\n",
    "            else:\n",
    "                for s in state:\n",
    "                    s.detach_()\n",
    "        inputs = to_onehot(X, vocab_size)\n",
    "        (outputs, state) = rnn(inputs, state, params)\n",
    "        outputs = torch.cat(outputs, dim=0)\n",
    "        y = torch.transpose(Y,0,1).contiguous().view(-1)\n",
    "        loss = loss_fn(outputs, y.long())\n",
    "        \n",
    "        #gradient zero\n",
    "        if params[0].grad is not None:\n",
    "            for param in params:\n",
    "                param.grad.data.zero_()\n",
    "        \n",
    "        loss.backward()\n",
    "        grad_clipping(params, clipping_theta)\n",
    "        sgd(params, lr, 1)\n",
    "        loss_sum = loss.item()*y.shape[0]\n",
    "        n += y.shape[0]\n",
    "        \n",
    "        if (epoch+1)% pred_period ==0:\n",
    "            print('epoch %d, perplexity %f, time %.2f sec'%(epoch+1, math.exp(loss_sum/n), time.time()-start))\n",
    "            for prefix in prefixes:\n",
    "                print('-',predict_rnn(prefix, params, pred_len, num_hiddens, idx_to_char_dict, char_to_idx_dict ))"
   ]
  },
  {
   "cell_type": "code",
   "execution_count": 23,
   "id": "entertaining-provider",
   "metadata": {},
   "outputs": [],
   "source": [
    "num_epochs, num_steps, batch_size, lr, clipping_theta = 2000, 35, 32, 1e2, 1e-2\n",
    "pred_period, pred_len, prefixes = 100, 50, ['分开', '不分开']\n",
    "is_random_iter = False"
   ]
  },
  {
   "cell_type": "code",
   "execution_count": null,
   "id": "innocent-bailey",
   "metadata": {},
   "outputs": [
    {
     "name": "stdout",
     "output_type": "stream",
     "text": [
      "epoch 100, perplexity 191.440885, time 0.02 sec\n",
      "- 分开我的我的我的我的我的我的我的我的我的我的我的我的我的我的我的我的我的我的我的我的我的我的我的我的\n",
      "- 不分开我的我的我的我的我的我的我的我的我的我的我的我的我的我的我的我的我的我的我的我的我的我的我的我\n",
      "epoch 200, perplexity 79.224255, time 0.02 sec\n",
      "- 分开 我不我的 如果我的 如果我的 如果我的 如果我的 如果我的 如果我的 如果我的 如果我的 如果\n",
      "- 不分开 我不我的 如果我的 如果我的 如果我的 如果我的 如果我的 如果我的 如果我的 如果我的 如\n",
      "epoch 300, perplexity 19.089185, time 0.02 sec\n",
      "- 分开 这够 没不能 爱情走不 快使耿沙 漫使用 分数怎么停快 一直哈我 你你这 分数怎么停留 一直哈\n",
      "- 不分开  我在能停 我不能 爱情来的 快使定沙 漫使了 分数怎么停快 一直哈我 你你这 分数怎么停留\n",
      "epoch 400, perplexity 3.643646, time 0.02 sec\n",
      "- 分开一 三两银够不够 景色了我 说你说 分数怎么停留 一直在停留 谁让它停留 仙人掌事 温暖了空屋藤\n",
      "- 不分开 你我去吃 如果黄一切过 塞北的客 如果我有轻功 一檐走客 如果我有轻功 一檐走客 如果我有轻\n",
      "epoch 500, perplexity 1.431454, time 0.00 sec\n",
      "- 分开一点秀逗 猎物死了它比谁都难过 印地安斑鸠 会学人开口 仙人掌怕羞 我不往事抽离 如果我遇见你是\n",
      "- 不分开 W我的始婆 我非开始乡相信命运 感谢地心引力 让梭时间日落 一直到我们都睡着 我想就这样牵着\n",
      "epoch 600, perplexity 1.127959, time 0.02 sec\n",
      "- 分开一 三u银译 如果这一切 真的可以 我想要将我的寂寞封闭 然后在这胸离睡著 平言儿子重习被纵容手\n",
      "- 不分开攻 我的伤过去 我将往事抽离 如果我遇见你是一场悲剧 我想我这辈子注定一个人演戏 最后儿潮不个\n",
      "epoch 700, perplexity 1.059201, time 0.02 sec\n",
      "- 分开一 三两  爱情来的太快就像龙卷风 离不开暴风圈来不及逃 我不能再千年的誓言 感谢地 穿梭时间的\n",
      "- 不分开 你我的能汉家 我的我遇见你 一直到我们都睡着 我想就这样牵着你的手娘缓缓走过日等你 也们儿子\n",
      "epoch 800, perplexity 1.045995, time 0.03 sec\n",
      "- 分开一 Wu  爱情来的太快就像龙卷风 离不开暴风圈来不及逃 我不能再千年再都起 决谢动心引力 穿梭\n",
      "- 不分开 你我的吃爵柳要我的 感谢地心失控 穿梭时间联落天非场悲剧 我想开这辈圈来不及逃 我不能再千年\n",
      "epoch 900, perplexity 1.032522, time 0.02 sec\n",
      "- 分开一 W够翻译 如果这一切 真的可以 我想要将我的寂寞封闭 然后在这胸那句抱 誓言太沉重泪被纵容 \n",
      "- 不分开 你我的始婆家多命 我么儿这样牵着你的手娘缓缓走过日等著 单们儿沉重习被纵容 脸上汹涌失控 穿\n",
      "epoch 1000, perplexity 1.013009, time 0.02 sec\n",
      "- 分开一 Wu 译 如果我的切功撑透看 不懂  穿梭时间的画面的钟 从反方向开始移动枝逃柳 用楔形文字\n",
      "- 不分开 你我的吃汉著下不永  上地灌引鸠 让起看 它手的话像语言暴力 我已无能为力再提起 决定中心引\n",
      "epoch 1100, perplexity 1.010374, time 0.02 sec\n",
      "- 分开一 Wu 译 如果我的切这擅透 平 金钟罩铁步衫 他们儿子我习惯 从小这人已经不是我 上海一九四\n",
      "- 不分开 你我的吃汉著 我说我遇生活 我爱你我们都睡着 我想就这样牵着你的手娘缓缓走过 等著开心抽离 \n",
      "epoch 1200, perplexity 1.007734, time 0.02 sec\n",
      "- 分开一 Wu 译 如果我的切这被抱 平 金钟罩铁步衫 他们儿子我习惯 从小这人了经不是我 上海一九四\n",
      "- 不分开 你里的吃汉著 我起我遇生落 我直你我们都睡着 我想就这样牵着你的手娘缓缓走过 等著开始抽前信\n",
      "epoch 1300, perplexity 1.006976, time 0.03 sec\n",
      "- 分开一 Wu 译 如果我的切这撑抱 平 金钟罩铁步衫 他们儿子我习惯 从小这人了经不是我不找我着九 \n",
      "- 不分开 你里的吃汉著 我彻我遇生活 我直你我们都睡着 我想就这样牵着你的手娘缓缓走过 等著开始抽前信\n"
     ]
    }
   ],
   "source": [
    "train_predict_rnn(corpus_indice, idx_to_char_dict, char_to_idx_dict, \n",
    "                      is_random_iter, num_hiddens, num_epochs, num_steps,\n",
    "                      lr, clipping_theta, batch_size,                     \n",
    "                      pred_period, pred_len, prefixes)"
   ]
  }
 ],
 "metadata": {
  "kernelspec": {
   "display_name": "Python 3",
   "language": "python",
   "name": "python3"
  },
  "language_info": {
   "codemirror_mode": {
    "name": "ipython",
    "version": 3
   },
   "file_extension": ".py",
   "mimetype": "text/x-python",
   "name": "python",
   "nbconvert_exporter": "python",
   "pygments_lexer": "ipython3",
   "version": "3.8.8"
  },
  "toc": {
   "base_numbering": 1,
   "nav_menu": {},
   "number_sections": true,
   "sideBar": true,
   "skip_h1_title": false,
   "title_cell": "Table of Contents",
   "title_sidebar": "Contents",
   "toc_cell": false,
   "toc_position": {},
   "toc_section_display": true,
   "toc_window_display": false
  }
 },
 "nbformat": 4,
 "nbformat_minor": 5
}
