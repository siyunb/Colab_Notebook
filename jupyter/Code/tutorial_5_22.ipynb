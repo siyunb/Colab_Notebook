{
 "cells": [
  {
   "cell_type": "markdown",
   "id": "public-avenue",
   "metadata": {},
   "source": [
    "# 神话，哲学，编程，认知"
   ]
  },
  {
   "cell_type": "markdown",
   "id": "false-clause",
   "metadata": {},
   "source": [
    "## 神话——人的诞生"
   ]
  },
  {
   "cell_type": "markdown",
   "id": "historic-deficit",
   "metadata": {},
   "source": [
    "### 亚当与夏娃\n",
    "上帝创造第一个人的时候，先找来泥土，然后就按照自己的模样捏了一个泥人。泥人捏成了，却不会运动，也没有思维。耶和华就对着他吹了一口气。奇迹出现了，泥人立刻有了呼吸，眼珠跟着转动起来，头脑中也有了人类的灵魂，能够行走跳跃。这就是来到世界上的第一个人，上帝耶和华为他取名叫亚当。\n",
    "\n",
    "亚当独自生活在伊甸园中，上帝担心他孤独，就想，“我应该为他创造一个伴侣，这样，他的生活一定会更美满。”于是，上帝念动了咒语，亚当就在咒语中沉睡了。上帝在亚当睡着的时候，走到他的身边，从他身上抽取了一根肋骨，就用这根肋骨造了一个女人，亚当为她取了个名字叫夏娃。\n",
    "\n",
    "亚当一觉醒来，发现身边多了一个陌生人，大吃一惊，上帝告诉他说：“她叫夏娃，来自你的一根肋骨，他将成为你的妻子和终身伴侣。”亚当一听非常高兴，说：“她是我的骨中之骨，肉中之肉。”于是二人就结成夫妻。"
   ]
  },
  {
   "cell_type": "markdown",
   "id": "normal-belief",
   "metadata": {},
   "source": [
    "### 女娲造人"
   ]
  },
  {
   "cell_type": "markdown",
   "id": "knowing-provincial",
   "metadata": {},
   "source": [
    "## 哲学——道生一，一生二，二生三，三生万物"
   ]
  },
  {
   "cell_type": "markdown",
   "id": "arabic-injection",
   "metadata": {},
   "source": [
    "《道生一，一生二，二生三，三生万物》出自老子的《道德经》第四十二章，是老子的宇宙生成论。这里老子说到“一”、“二”、“三”，乃是指“道”创生万物的过程。主要讲述了一、二、三这几个数字，并不把一、二、三看作具体的事物和具体数量。它们只是表示“道”生万物从少到多，从简单到复杂的一个过程。《淮南子·天文训》是迄今看到的对它的一个最早的哲学上的解释:“道(曰规)始于一,一而不生,故分而为阴阳,阴阳合和而万物生。故曰:一生二,二生三,三生万物”。照《淮南子》的解释, “二”是“阴阳”,三是“阴阳合和”。\n",
    "\n",
    "我觉得哲学可能有这样的题目，发现自交的生物是否对一生二，二生三，三生万物的宇宙生成论造成冲击。"
   ]
  },
  {
   "cell_type": "markdown",
   "id": "greek-clerk",
   "metadata": {},
   "source": []
  },
  {
   "cell_type": "markdown",
   "id": "ranking-annex",
   "metadata": {},
   "source": [
    "## 编程——对象生万物"
   ]
  },
  {
   "cell_type": "markdown",
   "id": "daily-senator",
   "metadata": {},
   "source": [
    "什么Matlab，Maple，R，这些面向过程的编程其实就是面向对象的的一个包一个小实例的程序而已，编程还得看对象"
   ]
  },
  {
   "cell_type": "code",
   "execution_count": 17,
   "id": "recovered-soviet",
   "metadata": {},
   "outputs": [],
   "source": [
    "#魔法函数'__call__'\n",
    "class Person():\n",
    "    def __init__(self, name, identity):\n",
    "        self.name = name\n",
    "        self.idenity = identity\n",
    "    def __call__(self):\n",
    "        print('I am {}, {}'.format(self.name, self.idenity))\n",
    "    def say(self):\n",
    "        print('hello world')"
   ]
  },
  {
   "cell_type": "code",
   "execution_count": 22,
   "id": "completed-classics",
   "metadata": {},
   "outputs": [
    {
     "name": "stdout",
     "output_type": "stream",
     "text": [
      "I am Adam, the First Human of the World\n",
      "hello world\n"
     ]
    },
    {
     "data": {
      "text/plain": [
       "True"
      ]
     },
     "execution_count": 22,
     "metadata": {},
     "output_type": "execute_result"
    }
   ],
   "source": [
    "adam = Person('Adam', 'the First Human of the World')\n",
    "adam.__call__()\n",
    "adam.say()\n",
    "hasattr(adam,'say')\n",
    "hasattr(adam,'name')\n",
    "hasattr(adam.say,'__call__')\n",
    "hasattr(adam.__call__, '__call__')\n",
    "hasattr(adam.__call__.__call__,'__call__')"
   ]
  },
  {
   "cell_type": "code",
   "execution_count": 25,
   "id": "willing-invitation",
   "metadata": {},
   "outputs": [
    {
     "name": "stdout",
     "output_type": "stream",
     "text": [
      "__iter__\n",
      "0\n",
      "1\n",
      "2\n",
      "3\n",
      "4\n",
      "5\n",
      "6\n",
      "7\n",
      "8\n",
      "9\n"
     ]
    }
   ],
   "source": [
    "#魔法函数'__iter__'\n",
    "\n",
    "class A():\n",
    "    def __init__(self,num):\n",
    "        self.num = num\n",
    "        self.start_num = -1\n",
    "    \n",
    "    def __iter__(self):\n",
    "        '''\n",
    "        @summary: 迭代器，生成迭代对象时调用，返回值必须是对象自己,然后for可以循环调用next方法\n",
    "        '''\n",
    "        print (\"__iter__\")\n",
    "        return self\n",
    "    \n",
    "    def __next__(self):\n",
    "        '''\n",
    "        @summary: 每一次for循环都调用该方法（必须存在）\n",
    "        '''\n",
    "        self.start_num += 1\n",
    "        if self.start_num >= self.num:\n",
    "            raise StopIteration()\n",
    "        return self.start_num\n",
    "    \n",
    "if __name__ == \"__main__\":\n",
    "    a = A(10)\n",
    "    for i in a:\n",
    "        print(i)"
   ]
  },
  {
   "cell_type": "code",
   "execution_count": 10,
   "id": "structural-exhibition",
   "metadata": {},
   "outputs": [
    {
     "name": "stdout",
     "output_type": "stream",
     "text": [
      "what's great! you find the secret that I'm a callable\n",
      "4\n",
      "3\n",
      "2\n",
      "1\n",
      "0\n"
     ]
    }
   ],
   "source": [
    "#python重载运算符实现列表，然后实现迭代\n",
    "class ListDemo(object):\n",
    "    def __init__(self):\n",
    "        self._res = []\n",
    "        self.total_indexes = 0\n",
    "    def __call__(self):\n",
    "        print('what\\'s great! you find the secret that I\\'m a callable')\n",
    "    def __iter__(self):\n",
    "        return self \n",
    "    def __next__(self):\n",
    "        if self.total_indexes != 0:\n",
    "            self.total_indexes -= 1\n",
    "            return self._res[self.total_indexes]\n",
    "        else:\n",
    "            raise StopIteration\n",
    "    def __setitem__(self, index, value):\n",
    "        self._res.insert(index, value) \n",
    "        self.total_indexes += 1\n",
    "    def __getitem__(self, index):\n",
    "        return self._res[index]\n",
    "\n",
    "mylist = ListDemo()\n",
    "mylist[0] = 0 \n",
    "mylist[2] = 2\n",
    "mylist[1] = 1\n",
    "mylist[3] = 3\n",
    "mylist[4] = 4\n",
    "mylist()\n",
    "for i in mylist:\n",
    "    print(i)"
   ]
  },
  {
   "cell_type": "code",
   "execution_count": 44,
   "id": "rising-mustang",
   "metadata": {},
   "outputs": [],
   "source": [
    "mylist = [1,2,3]\n",
    "hasattr(mylist, '__iter__')\n",
    "hasattr(mylist, '__next__')\n",
    "\n",
    "class MyIter(object):\n",
    "    def __init__(self, list_value):\n",
    "        self._res = list_value\n",
    "        self.total_indexes = len(list_value)\n",
    "    def __call__(self):\n",
    "        print('what\\'s great! you find the secret that I\\'m a callable')\n",
    "    def __iter__(self):\n",
    "        print('__iter__ is being called')\n",
    "        return self \n",
    "    def __next__(self):\n",
    "        print('__next__ is being called')\n",
    "        if self.total_indexes != 0:\n",
    "            self.total_indexes -= 1\n",
    "            return self._res[self.total_indexes]\n",
    "        else:\n",
    "            raise StopIteration\n",
    "    def __setitem__(self, index, value):\n",
    "        self._res.insert(index, value) \n",
    "        self.total_indexes += 1\n",
    "\n",
    "    def __getitem__(self, index):\n",
    "        return self._res[index]"
   ]
  },
  {
   "cell_type": "code",
   "execution_count": 55,
   "id": "suspected-oklahoma",
   "metadata": {},
   "outputs": [],
   "source": [
    "class A(object):\n",
    "    def __iter__(self):\n",
    "        print('__iter__ is being called')\n",
    "        return B()\n",
    "class B(object):\n",
    "    _step = 4\n",
    "    def __next__(self):\n",
    "        print('__next__ is being called')\n",
    "        if self._step != 0: \n",
    "            self._step -= 1\n",
    "            return self._step\n",
    "        else:\n",
    "            raise StopIteration \n",
    "\n",
    "for i in A():\n",
    "    print(i)"
   ]
  },
  {
   "cell_type": "code",
   "execution_count": 62,
   "id": "reserved-victim",
   "metadata": {},
   "outputs": [
    {
     "name": "stdout",
     "output_type": "stream",
     "text": [
      "__call__ is being called, which is  1\n",
      "1\n",
      "__call__ is being called, which is  2\n",
      "2\n",
      "__call__ is being called, which is  3\n"
     ]
    }
   ],
   "source": [
    "class TestIter(object):\n",
    "    def __init__(self):\n",
    "        self.l = iter([1,2,3,4,5])\n",
    "    def __call__(self):\n",
    "        item = next(self.l)\n",
    "        print('__call__ is being called, which is ', item)\n",
    "        return item\n",
    "\n",
    "\n",
    "t = TestIter()\n",
    "t1 = iter(t,3)\n",
    "for i in t1:\n",
    "    print(i)"
   ]
  },
  {
   "cell_type": "code",
   "execution_count": 45,
   "id": "understood-bachelor",
   "metadata": {},
   "outputs": [
    {
     "name": "stdout",
     "output_type": "stream",
     "text": [
      "__iter__ is being called\n",
      "__next__ is being called\n",
      "4\n",
      "__next__ is being called\n",
      "3\n",
      "__next__ is being called\n",
      "2\n",
      "__next__ is being called\n",
      "1\n",
      "__next__ is being called\n"
     ]
    }
   ],
   "source": [
    "mylist = MyIter([1,2,3])\n",
    "mylist[3] = 4\n",
    "for i in mylist:\n",
    "    print(i)"
   ]
  },
  {
   "cell_type": "code",
   "execution_count": 58,
   "id": "lightweight-parade",
   "metadata": {},
   "outputs": [
    {
     "data": {
      "text/plain": [
       "False"
      ]
     },
     "execution_count": 58,
     "metadata": {},
     "output_type": "execute_result"
    }
   ],
   "source": [
    "hasattr([1,2,3],'__next__')"
   ]
  },
  {
   "cell_type": "code",
   "execution_count": 40,
   "id": "environmental-drinking",
   "metadata": {},
   "outputs": [
    {
     "data": {
      "text/plain": [
       "1"
      ]
     },
     "execution_count": 40,
     "metadata": {},
     "output_type": "execute_result"
    }
   ],
   "source": [
    "mylist = iter([1,2,3])\n",
    "next(mylist)"
   ]
  },
  {
   "cell_type": "code",
   "execution_count": 63,
   "id": "historical-running",
   "metadata": {},
   "outputs": [
    {
     "name": "stdout",
     "output_type": "stream",
     "text": [
      "__main__\n"
     ]
    }
   ],
   "source": [
    "print(__name__)"
   ]
  },
  {
   "cell_type": "code",
   "execution_count": 29,
   "id": "unlikely-duration",
   "metadata": {},
   "outputs": [
    {
     "name": "stdout",
     "output_type": "stream",
     "text": [
      "1\n",
      "4\n",
      "9\n",
      "16\n",
      "25\n",
      "36\n",
      "49\n",
      "64\n",
      "81\n"
     ]
    }
   ],
   "source": [
    "#魔法函数'__next__'\n",
    "tuple1 = (x**2 for x in range(10))\n",
    "tuple1.__next__()\n",
    "for each in tuple1:\n",
    "    print(each)"
   ]
  },
  {
   "cell_type": "code",
   "execution_count": 32,
   "id": "third-tension",
   "metadata": {},
   "outputs": [
    {
     "name": "stdout",
     "output_type": "stream",
     "text": [
      "0\n",
      "1\n",
      "4\n",
      "9\n",
      "16\n",
      "25\n",
      "36\n",
      "49\n",
      "64\n",
      "81\n"
     ]
    }
   ],
   "source": [
    "for each in tuple1:\n",
    "    print(each)"
   ]
  },
  {
   "cell_type": "code",
   "execution_count": 37,
   "id": "hungarian-casino",
   "metadata": {},
   "outputs": [],
   "source": [
    "## encoding:utf-8\n",
    "\"\"\"\n",
    "这个类继承了object, object是Python的最小单元，\n",
    "可以在Python的\">>>\"控制台用dir(objct)或者dir (__builtins__.object)命令查看它的属性，\n",
    "可以看到__setattr__, __new__...他们是python中任何对象都会具有的属性，\n",
    "你也可以dir(1)和dir(int)看看，可看到更多内容，\n",
    "在这里，1作为一个实例化的int对象出现。而这些__xxx__属性有什么用呢？\n",
    "在接下来的代码中，我们可以了解__getitem__和__setitem__有什么用 \n",
    "(这两个属性在dict对象中非常重要)\n",
    "\"\"\"\n",
    "\n",
    "class WPUnit(object):\n",
    "    def __init__(self):\n",
    "        self._res={}\n",
    "\n",
    "    def __setitem__(self,key,val):\n",
    "        self._res[key]=val\n",
    "\n",
    "    def __getitem__(self,key):\n",
    "        if key in self._res:\n",
    "            return self._res[key]\n",
    "        else:\n",
    "            r=WPUnit()\n",
    "            self.__setitem__(key,r)\n",
    "        return r\n",
    "\n"
   ]
  },
  {
   "cell_type": "code",
   "execution_count": 40,
   "id": "cathedral-vessel",
   "metadata": {},
   "outputs": [
    {
     "name": "stdout",
     "output_type": "stream",
     "text": [
      "<__main__.WPUnit object at 0x000001CB259D3AC0>\n",
      "<__main__.WPUnit object at 0x000001CB259D36A0>\n"
     ]
    }
   ],
   "source": [
    "a=WPUnit()\n",
    "a['a']['b']['c']['d']['e']['f']['g']=5\n",
    "print (a['a']['b']['c']['d'])\n",
    "print (a['a']['b'])"
   ]
  },
  {
   "cell_type": "markdown",
   "id": "conservative-virgin",
   "metadata": {},
   "source": [
    "## 认知——什么是源"
   ]
  },
  {
   "cell_type": "code",
   "execution_count": null,
   "id": "joint-turkey",
   "metadata": {},
   "outputs": [],
   "source": []
  },
  {
   "cell_type": "markdown",
   "id": "sporting-barrier",
   "metadata": {},
   "source": [
    "# 题外话：国家的发展\n",
    "不断接受的高价和高质量"
   ]
  },
  {
   "cell_type": "markdown",
   "id": "fallen-chorus",
   "metadata": {},
   "source": [
    "国家的发展，GDP的飞跃，人民生活水平的提高，归结到一点就是“消费的升级”。经常听到up主测评日本的水果，然后得出结论“好吃一点点，但很贵，贵的这些钱换一点点好吃不值得，真正好的国家是会让国家里面的每一个人都能吃上水果，而不仅仅是有钱人（暗指中国才是民主专政国家，人民都能享受红利，想吃水果就吃，日本垃圾，只有资本家能吃到，普通人生活在水深火热之中）”。以前听到这句话，真的想在弹幕中打上“赞同，泪目”，但他们根本就不得经济是什么，经济真的不是理所应当，人人有好处拿，都符合每个人的利益，让每个人都觉得合理值得（于是在自己的认知与社会的经济发展产生偏差后，颠覆三观后，往往就会在脑海里蹦出一句话，“被资本裹挟”，“被资本所杀”，“都是资本在运作”）。日本人当然能吃到水果，而且是每一个人。来了一段时间发现，确实什么都贵，比中国贵的多，质量好点但又没好到你觉得他很值得，毕竟西瓜都是甜的，95分的甜度和99分的甜度也差不多，边际效应递减，几乎可以忽略不计吧。至于服务人员的服务态度好坏，无所谓呀，扔过来和双手递过来的鸡腿都香，差不多。但其实人的生活还能怎么样呢，在同一时代，同一科技水平下，什么叫发达国家，什么叫发展中国家，什么叫贫穷国家，其实就是生活水平的差距，还真不是到底谁的火星车，谁能上月球，因为那些不是民用科技（注意我说的发达，发展中国家，登月，导弹，军队代表我们是强大的国家）。可能贫穷国家物资匮乏，连饭都吃不起与发展中国家和发达国家有差距。但同一时代，同一科技水平是有上限的，就一百分，中国人吃的，喝的，穿的，戴的，开的都有，对于现在的生活我们很骄傲，甚至还能说上一句，日本香港也不过如此，他们吃我们也吃，他们有穿我们也有穿，车我们也开着呢，手机中国人的平均摄像头三个（小米华为都是堆摄像头的高手），日本人香港人不过如此，用用苹果而已。但这就是差距所在，“你有我也有而我比你好”，苹果在哪里卖都是一个价格（他们每台手机赚的外汇都一样，估计价格的差异只是各个国家的税收不同，哈哈）。中国人工作一年就买下一只小布丁，一个小米，一双安踏，一辆哈弗，而日本人就是哈根达斯，一个苹果，一双亚瑟士，一辆奔驰。真的差距很大，千万不要认为人家也就不过如此，差距不是‘能不能买，能买多少’而是在‘能买啥’。还记得洋崽说她回九江老家化妆品就只能用超市货了，在北京可以网购SKII。我也终于明白了为什么去大城市，为什么背井离乡到外国了，因为那里可以用到“好东西（环境，人文，医疗等等）”。\n",
    "\n",
    "“资本”中国人心中的恶魔。人是资本的创造者之一，同时也是控诉者，受益者。很有意思的是有一些人吃了资本的亏，变得不愿意承认自己是‘资本’的代理人，于是他们狭义化“资本”，并跳出圈指着一小撮人说“他们是资本家，我们吃得亏都让他们拿去了，打到他们”。\n",
    "\n",
    "再联想到现在的‘钟薛高’，二百万的小米logo，是人民生活进步的写照。什么时候我们接受钟薛高的价格，奶茶的价格，并认为他是合理的，我们的社会就进步了一点，不断的接受高价，高质量和高品质的生活，就是进步。一切的‘不合理’的背后是比人的思维更合理的经济，但现在想想这些话可真是可笑啊。也许这就是上帝附加给人类社会的规则之一——经济规则和死亡规则一样的强规则。经济学家可能认为经济规则可以由人制定是不同于自然规则，我始终认为这就是笼罩在人类世界的铁律，只可研究运用不可改变。‘消亡’是每个人都认可的，自然的，但也仅仅是规则，谁知道“消亡”有没有存在的必要呢？也许哪里不存在消亡，也许哪一天有一位人类英雄帮我们把这个规则拿掉。"
   ]
  }
 ],
 "metadata": {
  "kernelspec": {
   "display_name": "Python 3",
   "language": "python",
   "name": "python3"
  },
  "language_info": {
   "codemirror_mode": {
    "name": "ipython",
    "version": 3
   },
   "file_extension": ".py",
   "mimetype": "text/x-python",
   "name": "python",
   "nbconvert_exporter": "python",
   "pygments_lexer": "ipython3",
   "version": "3.8.8"
  },
  "toc": {
   "base_numbering": 1,
   "nav_menu": {},
   "number_sections": true,
   "sideBar": true,
   "skip_h1_title": false,
   "title_cell": "Table of Contents",
   "title_sidebar": "Contents",
   "toc_cell": false,
   "toc_position": {},
   "toc_section_display": true,
   "toc_window_display": false
  }
 },
 "nbformat": 4,
 "nbformat_minor": 5
}
