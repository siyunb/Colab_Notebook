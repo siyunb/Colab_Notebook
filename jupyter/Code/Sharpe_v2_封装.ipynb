{
 "cells": [
  {
   "cell_type": "code",
   "execution_count": 1,
   "metadata": {},
   "outputs": [
    {
     "ename": "ModuleNotFoundError",
     "evalue": "No module named 'statsmodels'",
     "output_type": "error",
     "traceback": [
      "\u001b[1;31m---------------------------------------------------------------------------\u001b[0m",
      "\u001b[1;31mModuleNotFoundError\u001b[0m                       Traceback (most recent call last)",
      "\u001b[1;32m<ipython-input-1-6eb951b46669>\u001b[0m in \u001b[0;36m<module>\u001b[1;34m\u001b[0m\n\u001b[0;32m      1\u001b[0m \u001b[1;32mimport\u001b[0m \u001b[0mpandas\u001b[0m \u001b[1;32mas\u001b[0m \u001b[0mpd\u001b[0m\u001b[1;33m\u001b[0m\u001b[1;33m\u001b[0m\u001b[0m\n\u001b[0;32m      2\u001b[0m \u001b[1;32mimport\u001b[0m \u001b[0mnumpy\u001b[0m \u001b[1;32mas\u001b[0m \u001b[0mnp\u001b[0m\u001b[1;33m\u001b[0m\u001b[1;33m\u001b[0m\u001b[0m\n\u001b[1;32m----> 3\u001b[1;33m \u001b[1;32mimport\u001b[0m \u001b[0mstatsmodels\u001b[0m\u001b[1;33m.\u001b[0m\u001b[0mapi\u001b[0m \u001b[1;32mas\u001b[0m \u001b[0msm\u001b[0m\u001b[1;33m\u001b[0m\u001b[1;33m\u001b[0m\u001b[0m\n\u001b[0m\u001b[0;32m      4\u001b[0m \u001b[1;32mfrom\u001b[0m \u001b[0mstatsmodels\u001b[0m\u001b[1;33m.\u001b[0m\u001b[0mstats\u001b[0m\u001b[1;33m.\u001b[0m\u001b[0moutliers_influence\u001b[0m \u001b[1;32mimport\u001b[0m \u001b[0msummary_table\u001b[0m\u001b[1;33m\u001b[0m\u001b[1;33m\u001b[0m\u001b[0m\n\u001b[0;32m      5\u001b[0m \u001b[1;32mfrom\u001b[0m \u001b[0mscipy\u001b[0m\u001b[1;33m.\u001b[0m\u001b[0moptimize\u001b[0m \u001b[1;32mimport\u001b[0m \u001b[0mminimize\u001b[0m\u001b[1;33m\u001b[0m\u001b[1;33m\u001b[0m\u001b[0m\n",
      "\u001b[1;31mModuleNotFoundError\u001b[0m: No module named 'statsmodels'"
     ]
    }
   ],
   "source": [
    "import pandas as pd\n",
    "import numpy as np\n",
    "import statsmodels.api as sm\n",
    "from statsmodels.stats.outliers_influence import summary_table \n",
    "from scipy.optimize import minimize"
   ]
  },
  {
   "cell_type": "code",
   "execution_count": null,
   "metadata": {},
   "outputs": [],
   "source": [
    "from WindPy import w\n",
    "w.start() # 默认命令超时时间为120秒，如需设置超时时间可以加入waitTime参数，例如waitTime=60,即设置命令超时时间为60秒  \n",
    "w.isconnected() # 判断WindPy是否已经登录成功"
   ]
  },
  {
   "cell_type": "code",
   "execution_count": 29,
   "metadata": {},
   "outputs": [],
   "source": [
    "#从万得获取价格数据并计算收益率\n",
    "def get_price(fund_code,benchmark_code,stock_index_code,debt_index_code,start_date,end_date,PriceAdj):\n",
    "    fund = w.wsd(fund_code, \"close\", start_date, end_date, PriceAdj)             #usedf=True\n",
    "    benchmark = w.wsd(benchmark_code, \"close\", start_date, end_date, PriceAdj)\n",
    "    stock_index = w.wsd(stock_index_code, \"close\", start_date, end_date, PriceAdj)\n",
    "    debt_index = w.wsd(debt_index_code ,\"close\", start_date, end_date, PriceAdj)\n",
    "    raw_price = pd.DataFrame({fund_code[0]:fund.Data[0],\n",
    "                         benchmark_code[0]:benchmark.Data[0],\n",
    "                         stock_index_code[0]:stock_index.Data[0],\n",
    "                         stock_index_code[1]:stock_index.Data[1],\n",
    "                         stock_index_code[2]:stock_index.Data[2],\n",
    "                         stock_index_code[3]:stock_index.Data[3],\n",
    "                         stock_index_code[4]:stock_index.Data[4],\n",
    "                         stock_index_code[5]:stock_index.Data[5],\n",
    "                         debt_index_code[0]: debt_index.Data[0]},index=fund.Times)\n",
    "   \n",
    "    return raw_price\n",
    "\n",
    "def get_price_return(raw_price):\n",
    "    price_return = pd.DataFrame(np.array(raw_price.iloc[:-1,:])/np.array(raw_price.iloc[1:,:])-1,\n",
    "                            columns= fund_code+benchmark_code+stock_index_code+debt_index_code, index=raw_price.index[1:])\n",
    "    return price_return"
   ]
  },
  {
   "cell_type": "code",
   "execution_count": 49,
   "metadata": {},
   "outputs": [],
   "source": [
    "#规划求解系数\n",
    "def solve_slsqp_params(start_date,end_date,period,PriceAdj,fund_code,benchmark_code,stock_index_code,debt_index_code):\n",
    "    #获取数据并计算收益率\n",
    "    raw_price = get_price(fund_code,benchmark_code,stock_index_code,debt_index_code,start_date,end_date,PriceAdj)\n",
    "    price_return = get_price_return(raw_price)\n",
    "    #时间分段\n",
    "    time_list = w.tdays(start_date, end_date, period,\"Days=Alldays\")\n",
    "    #定义数据框记录规划求解的结果\n",
    "    slsqp_params = pd.DataFrame(index=time_list.Times,\n",
    "                            columns=stock_index_code+debt_index_code\n",
    "                                     +['R_squared','1-R_squared']\n",
    "                                     +['fund_return','style_return','benchmark_return'])\n",
    "    #最小化目标函数：\n",
    "    def fun(args):\n",
    "        x0,x1,x2,x3,x4,x5,x6,y = args\n",
    "        def sq2(a):\n",
    "            s = 0\n",
    "            for j in range(len(y)):\n",
    "                s += (y[j]-a[0]*x0[j]-a[1]*x1[j]-a[2]*x2[j]-a[3]*x3[j]-a[4]*x4[j]-a[5]*x5[j]-a[6]*x6[j])**2\n",
    "            return s\n",
    "        return sq2 \n",
    "    #风格系数约束条件:\n",
    "    def cons(args):\n",
    "        stock_low = args\n",
    "        con = ({'type': 'eq', 'fun': lambda a:  sum(a)-1},\\\n",
    "               {'type': 'ineq', 'fun': lambda a: sum(a[:-1])-stock_low})\n",
    "        return con\n",
    "    #循环各期求解:\n",
    "    for i in range(len(time_list.Times)):\n",
    "        #按照区间将价格序列和收益率序列分段\n",
    "        if i == 0:\n",
    "            raw_price_interval = raw_price[raw_price.index<=time_list.Times[i]]\n",
    "            price_return_interval = price_return[price_return.index<=time_list.Times[i]]\n",
    "        else:\n",
    "            raw_price_interval = raw_price[(raw_price.index<=time_list.Times[i]) & (raw_price.index>=time_list.Times[i-1])]\n",
    "            price_return_interval = price_return[(price_return.index<=time_list.Times[i]) & (price_return.index>time_list.Times[i-1])]\n",
    "        #提取回归变量序列\n",
    "        x = price_return_interval[stock_index_code+debt_index_code]\n",
    "        y = price_return_interval[fund_code]\n",
    "        for k in range(len(stock_index_code+debt_index_code)):\n",
    "            vars()['x'+str(k)] = np.array(x.iloc[:,k])\n",
    "        y = np.array(y)\n",
    "        #SLSQP算法规划求解：最小化残差平方和\n",
    "        stock_low = 0.8\n",
    "        args_1 = (x0,x1,x2,x3,x4,x5,x6,y)\n",
    "        args_2 = stock_low\n",
    "        bounds = ((0,1), (0,1), (0,1), (0,1), (0,1), (0,1),(0,1))   #各个风格系数的取值范围\n",
    "        a0 = np.array([0,0,0,0,0,0,0])  #初始化系数的值，注意不同初始化值会影响最后系数的取值大小，但最小目标值差异很小\n",
    "        vars()['res_'+str(i)] = minimize(fun(args_1), a0, method='SLSQP',constraints=cons(args_2), bounds=bounds)\n",
    "        #计算R方\n",
    "        sse = vars()['res_'+str(i)].fun\n",
    "        sst = 0\n",
    "        for j in range(len(y)):\n",
    "            sst += (y[j]-y.mean())**2\n",
    "        R2 = 1-sse/sst\n",
    "        #风格回归系数\n",
    "        slsqp_params.loc[time_list.Times[i],stock_index_code+debt_index_code] = vars()['res_'+str(i)].x\n",
    "        #R方\n",
    "        slsqp_params.loc[time_list.Times[i],['R_squared','1-R_squared']] = [R2[0],1-R2[0]]\n",
    "        #基金区间收益\n",
    "        slsqp_params.loc[time_list.Times[i],fund_return] = raw_price_interval.iloc[-1][fund_code]/raw_price_interval.iloc[0][fund_code]-1\n",
    "        #风格区间收益\n",
    "        slsqp_params.loc[time_list.Times[i],style_return] = np.inner(np.array(raw_price_interval.iloc[-1][stock_index_code+debt_index_code])/np.array(raw_price_interval.iloc[0][stock_index_code+debt_index_code])-1,np.array(vars()['res_'+str(i)].x))\n",
    "        #基准区间收益\n",
    "        slsqp_params.loc[time_list.Times[i],benchmark_return] = raw_price_interval.iloc[-1][benchmark_code]/raw_price_interval.iloc[0][benchmark_code]-1\n",
    "    return slsqp_params"
   ]
  },
  {
   "cell_type": "code",
   "execution_count": 50,
   "metadata": {},
   "outputs": [],
   "source": [
    "#基金及指数代码列表\n",
    "\n",
    "jc_index_code_list = [\"399372.SZ\",\"399373.SZ\",\"399374.SZ\",\"399375.SZ\",\"399376.SZ\",\"399377.SZ\"]\n",
    "\n",
    "sw_index_code_list = [\"801811.SI\",\"801812.SI\",\"801813.SI\",\"801821.SI\",\"801822.SI\",\"801823.SI\",\"801831.SI\",\"801832.SI\",\"801833.SI\",\n",
    "                 \"801841.SI\",\"801842.SI\",\"801843.SI\",\"801851.SI\",\"801852.SI\",\"801853.SI\",\"801863.SI\"]\n",
    "\n",
    "wind_index_code_list = [\"8888701.WI\",\"8888702.WI\",\"8888703.WI\",\"8888704.WI\",\"8888705.WI\",\"8888706.WI\",\n",
    "                        \"8888707.WI\",\"8888708.WI\",\"8888709.WI\",\"8888710.WI\"]\n",
    "\n",
    "zxbp_index_code_list = [\"816000G.CI\",\"816000PG.CI\",\"816000PV.CI\",\"816000V.CI\",\"CSPSADRP.CI\"]\n",
    "\n",
    "debt_index_code = ['H11001.CSI']\n",
    "\n",
    "fund_code = [\"161005.OF\"]\n",
    "\n",
    "benchmark_code =[\"000300.SH\"]"
   ]
  },
  {
   "cell_type": "code",
   "execution_count": 51,
   "metadata": {},
   "outputs": [],
   "source": [
    "#时间区间及频率设置\n",
    "PriceAdj = \"PriceAdj = F\" #前复权\n",
    "start_date = \"2015-01-01\"\n",
    "end_date = \"2020-12-31\"\n",
    "period = \"Period=S\"  #半年度\n",
    "stock_index_code = jc_index_code_list"
   ]
  },
  {
   "cell_type": "code",
   "execution_count": 52,
   "metadata": {},
   "outputs": [
    {
     "ename": "NameError",
     "evalue": "name 'x0' is not defined",
     "output_type": "error",
     "traceback": [
      "\u001b[1;31m---------------------------------------------------------------------------\u001b[0m",
      "\u001b[1;31mNameError\u001b[0m                                 Traceback (most recent call last)",
      "\u001b[1;32m<ipython-input-52-9cfcbcab2785>\u001b[0m in \u001b[0;36m<module>\u001b[1;34m\u001b[0m\n\u001b[1;32m----> 1\u001b[1;33m \u001b[0mslsqp_params\u001b[0m \u001b[1;33m=\u001b[0m \u001b[0msolve_slsqp_params\u001b[0m\u001b[1;33m(\u001b[0m\u001b[0mstart_date\u001b[0m\u001b[1;33m,\u001b[0m\u001b[0mend_date\u001b[0m\u001b[1;33m,\u001b[0m\u001b[0mperiod\u001b[0m\u001b[1;33m,\u001b[0m\u001b[0mPriceAdj\u001b[0m\u001b[1;33m,\u001b[0m\u001b[0mfund_code\u001b[0m\u001b[1;33m,\u001b[0m\u001b[0mbenchmark_code\u001b[0m\u001b[1;33m,\u001b[0m\u001b[0mstock_index_code\u001b[0m\u001b[1;33m,\u001b[0m\u001b[0mdebt_index_code\u001b[0m\u001b[1;33m)\u001b[0m\u001b[1;33m\u001b[0m\u001b[1;33m\u001b[0m\u001b[0m\n\u001b[0m",
      "\u001b[1;32m<ipython-input-49-668bdb45f59a>\u001b[0m in \u001b[0;36msolve_slsqp_params\u001b[1;34m(start_date, end_date, period, PriceAdj, fund_code, benchmark_code, stock_index_code, debt_index_code)\u001b[0m\n\u001b[0;32m     43\u001b[0m         \u001b[1;31m#SLSQP算法规划求解：最小化残差平方和\u001b[0m\u001b[1;33m\u001b[0m\u001b[1;33m\u001b[0m\u001b[1;33m\u001b[0m\u001b[0m\n\u001b[0;32m     44\u001b[0m         \u001b[0mstock_low\u001b[0m \u001b[1;33m=\u001b[0m \u001b[1;36m0.8\u001b[0m\u001b[1;33m\u001b[0m\u001b[1;33m\u001b[0m\u001b[0m\n\u001b[1;32m---> 45\u001b[1;33m         \u001b[0margs_1\u001b[0m \u001b[1;33m=\u001b[0m \u001b[1;33m(\u001b[0m\u001b[0mx0\u001b[0m\u001b[1;33m,\u001b[0m\u001b[0mx1\u001b[0m\u001b[1;33m,\u001b[0m\u001b[0mx2\u001b[0m\u001b[1;33m,\u001b[0m\u001b[0mx3\u001b[0m\u001b[1;33m,\u001b[0m\u001b[0mx4\u001b[0m\u001b[1;33m,\u001b[0m\u001b[0mx5\u001b[0m\u001b[1;33m,\u001b[0m\u001b[0mx6\u001b[0m\u001b[1;33m,\u001b[0m\u001b[0my\u001b[0m\u001b[1;33m)\u001b[0m\u001b[1;33m\u001b[0m\u001b[1;33m\u001b[0m\u001b[0m\n\u001b[0m\u001b[0;32m     46\u001b[0m         \u001b[0margs_2\u001b[0m \u001b[1;33m=\u001b[0m \u001b[0mstock_low\u001b[0m\u001b[1;33m\u001b[0m\u001b[1;33m\u001b[0m\u001b[0m\n\u001b[0;32m     47\u001b[0m         \u001b[0mbounds\u001b[0m \u001b[1;33m=\u001b[0m \u001b[1;33m(\u001b[0m\u001b[1;33m(\u001b[0m\u001b[1;36m0\u001b[0m\u001b[1;33m,\u001b[0m\u001b[1;36m1\u001b[0m\u001b[1;33m)\u001b[0m\u001b[1;33m,\u001b[0m \u001b[1;33m(\u001b[0m\u001b[1;36m0\u001b[0m\u001b[1;33m,\u001b[0m\u001b[1;36m1\u001b[0m\u001b[1;33m)\u001b[0m\u001b[1;33m,\u001b[0m \u001b[1;33m(\u001b[0m\u001b[1;36m0\u001b[0m\u001b[1;33m,\u001b[0m\u001b[1;36m1\u001b[0m\u001b[1;33m)\u001b[0m\u001b[1;33m,\u001b[0m \u001b[1;33m(\u001b[0m\u001b[1;36m0\u001b[0m\u001b[1;33m,\u001b[0m\u001b[1;36m1\u001b[0m\u001b[1;33m)\u001b[0m\u001b[1;33m,\u001b[0m \u001b[1;33m(\u001b[0m\u001b[1;36m0\u001b[0m\u001b[1;33m,\u001b[0m\u001b[1;36m1\u001b[0m\u001b[1;33m)\u001b[0m\u001b[1;33m,\u001b[0m \u001b[1;33m(\u001b[0m\u001b[1;36m0\u001b[0m\u001b[1;33m,\u001b[0m\u001b[1;36m1\u001b[0m\u001b[1;33m)\u001b[0m\u001b[1;33m,\u001b[0m\u001b[1;33m(\u001b[0m\u001b[1;36m0\u001b[0m\u001b[1;33m,\u001b[0m\u001b[1;36m1\u001b[0m\u001b[1;33m)\u001b[0m\u001b[1;33m)\u001b[0m   \u001b[1;31m#各个风格系数的取值范围\u001b[0m\u001b[1;33m\u001b[0m\u001b[1;33m\u001b[0m\u001b[0m\n",
      "\u001b[1;31mNameError\u001b[0m: name 'x0' is not defined"
     ]
    }
   ],
   "source": [
    "slsqp_params = solve_slsqp_params(start_date,end_date,period,PriceAdj,fund_code,benchmark_code,stock_index_code,debt_index_code)"
   ]
  },
  {
   "cell_type": "code",
   "execution_count": null,
   "metadata": {},
   "outputs": [],
   "source": []
  }
 ],
 "metadata": {
  "kernelspec": {
   "display_name": "Python 3",
   "language": "python",
   "name": "python3"
  },
  "language_info": {
   "codemirror_mode": {
    "name": "ipython",
    "version": 3
   },
   "file_extension": ".py",
   "mimetype": "text/x-python",
   "name": "python",
   "nbconvert_exporter": "python",
   "pygments_lexer": "ipython3",
   "version": "3.8.0"
  },
  "toc": {
   "base_numbering": 1,
   "nav_menu": {},
   "number_sections": true,
   "sideBar": true,
   "skip_h1_title": false,
   "title_cell": "Table of Contents",
   "title_sidebar": "Contents",
   "toc_cell": false,
   "toc_position": {},
   "toc_section_display": true,
   "toc_window_display": false
  }
 },
 "nbformat": 4,
 "nbformat_minor": 4
}
