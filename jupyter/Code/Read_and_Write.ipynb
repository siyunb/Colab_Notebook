{
 "cells": [
  {
   "cell_type": "code",
   "execution_count": 20,
   "id": "eaaf9adb",
   "metadata": {},
   "outputs": [],
   "source": [
    "import os\n",
    "import re\n",
    "import pandas as pd"
   ]
  },
  {
   "cell_type": "code",
   "execution_count": 43,
   "id": "f404a1a0",
   "metadata": {},
   "outputs": [],
   "source": [
    "path = '/Users/kumadaken/Desktop/Wang/Result/AudioCartography/recon'\n",
    "pattern1 = 'sub'\n",
    "pattern2 = '7Networks'"
   ]
  },
  {
   "cell_type": "code",
   "execution_count": 78,
   "id": "8154c5d3",
   "metadata": {},
   "outputs": [],
   "source": [
    "subjects_dir = {}\n",
    "for subj in os.listdir(path):\n",
    "    if re.match(pattern1, subj):\n",
    "        subjects_dir[subj]=[]\n",
    "        path_txt = os.path.join(path, subj, 'stats', 'lh_yeo200.txt')\n",
    "        with open(path_txt, 'r') as file:\n",
    "            for line in file.readlines():\n",
    "                if re.match(pattern2, line):\n",
    "                    part = '_'.join(line.strip('\\n').split()[0].split('_')[1:])\n",
    "                    subjects_dir[subj].append((part, line.strip('\\n').split()[4]))\n",
    "\n",
    "exl = pd.DataFrame(columns = [tup[0] for tup in subjects_dir['sub-01']], index = list(subjects_dir.keys()))\n",
    "for subj, cor_list in subjects_dir.items():\n",
    "    for cor_tuple in cor_list:\n",
    "        exl.loc[subj].loc[cor_tuple[0]] = cor_tuple[1]\n",
    "        exl.to_csv(os.path.join(path, subj, 'stats','lh_yeo200_thickness.csv'))"
   ]
  }
 ],
 "metadata": {
  "kernelspec": {
   "display_name": "mne",
   "language": "python",
   "name": "mne"
  },
  "language_info": {
   "codemirror_mode": {
    "name": "ipython",
    "version": 3
   },
   "file_extension": ".py",
   "mimetype": "text/x-python",
   "name": "python",
   "nbconvert_exporter": "python",
   "pygments_lexer": "ipython3",
   "version": "3.8.5"
  },
  "toc": {
   "base_numbering": 1,
   "nav_menu": {},
   "number_sections": true,
   "sideBar": true,
   "skip_h1_title": false,
   "title_cell": "Table of Contents",
   "title_sidebar": "Contents",
   "toc_cell": false,
   "toc_position": {},
   "toc_section_display": true,
   "toc_window_display": false
  }
 },
 "nbformat": 4,
 "nbformat_minor": 5
}
