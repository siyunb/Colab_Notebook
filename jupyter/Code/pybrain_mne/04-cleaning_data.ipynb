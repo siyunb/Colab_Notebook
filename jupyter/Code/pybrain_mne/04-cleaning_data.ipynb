{
 "cells": [
  {
   "cell_type": "markdown",
   "metadata": {},
   "source": [
    "## Cleaning epoched data"
   ]
  },
  {
   "cell_type": "code",
   "execution_count": 1,
   "metadata": {},
   "outputs": [],
   "source": [
    "import pathlib\n",
    "import matplotlib\n",
    "import mne\n",
    "import mne_bids\n",
    "\n",
    "matplotlib.use('Qt5Agg')\n",
    "mne.set_log_level('warning')"
   ]
  },
  {
   "cell_type": "code",
   "execution_count": 2,
   "metadata": {},
   "outputs": [
    {
     "data": {
      "text/html": [
       "\n",
       "<table class=\"table table-hover\">\n",
       "    <tr>\n",
       "        <th>Number of events</th>\n",
       "        <td>320</td>\n",
       "    </tr>\n",
       "    <tr>\n",
       "        <th>Events</th>\n",
       "        <td>Auditory/Left: 72<br>Auditory/Right: 73<br>Button: 16<br>Smiley: 15<br>Visual/Left: 73<br>Visual/Right: 71<br></td>\n",
       "    </tr>\n",
       "    <tr>\n",
       "        <th>Time range</th>\n",
       "        <td>-0.250 – 0.799 sec</td>\n",
       "    </tr>\n",
       "    <tr>\n",
       "        <th>Baseline</th>\n",
       "        <td>-0.250 – 0.000 sec</td>\n",
       "    </tr>\n",
       "</table>\n"
      ],
      "text/plain": [
       "<EpochsFIF |  320 events (all good), -0.249744 - 0.799181 sec, baseline -0.249744 – 0 sec, ~582.5 MB, data loaded,\n",
       " 'Auditory/Left': 72\n",
       " 'Auditory/Right': 73\n",
       " 'Button': 16\n",
       " 'Smiley': 15\n",
       " 'Visual/Left': 73\n",
       " 'Visual/Right': 71>"
      ]
     },
     "execution_count": 2,
     "metadata": {},
     "output_type": "execute_result"
    }
   ],
   "source": [
    "epochs = mne.read_epochs(pathlib.Path('../../Result') /'Mne_Result'/'sample_BIDS'/'sub-01'/'ses-01'/ 'epochs_epo.fif')\n",
    "epochs.apply_baseline((None, 0))"
   ]
  },
  {
   "cell_type": "code",
   "execution_count": 3,
   "metadata": {},
   "outputs": [
    {
     "data": {
      "text/plain": [
       "<MNEBrowseFigure size 1920x745 with 4 Axes>"
      ]
     },
     "execution_count": 3,
     "metadata": {},
     "output_type": "execute_result"
    }
   ],
   "source": [
    "epochs.plot()"
   ]
  },
  {
   "cell_type": "markdown",
   "metadata": {},
   "source": [
    "## Reject artifacts based on channel signal amplitude"
   ]
  },
  {
   "cell_type": "code",
   "execution_count": 4,
   "metadata": {},
   "outputs": [],
   "source": [
    "reject_criteria = dict(mag=3000e-15,     # 3000 fT\n",
    "                       grad=3000e-13,    # 3000 fT/cm\n",
    "                       eeg=150e-6,       # 150 µV\n",
    "                       eog=200e-6)       # 200 µV\n",
    "\n",
    "flat_criteria = dict(mag=1e-15,          # 1 fT\n",
    "                     grad=1e-13,         # 1 fT/cm\n",
    "                     eeg=1e-6)           # 1 µV"
   ]
  },
  {
   "cell_type": "code",
   "execution_count": 5,
   "metadata": {},
   "outputs": [
    {
     "data": {
      "text/html": [
       "\n",
       "<table class=\"table table-hover\">\n",
       "    <tr>\n",
       "        <th>Number of events</th>\n",
       "        <td>251</td>\n",
       "    </tr>\n",
       "    <tr>\n",
       "        <th>Events</th>\n",
       "        <td>Auditory/Left: 52<br>Auditory/Right: 59<br>Button: 14<br>Smiley: 12<br>Visual/Left: 59<br>Visual/Right: 55<br></td>\n",
       "    </tr>\n",
       "    <tr>\n",
       "        <th>Time range</th>\n",
       "        <td>-0.250 – 0.799 sec</td>\n",
       "    </tr>\n",
       "    <tr>\n",
       "        <th>Baseline</th>\n",
       "        <td>-0.250 – 0.000 sec</td>\n",
       "    </tr>\n",
       "</table>\n"
      ],
      "text/plain": [
       "<EpochsFIF |  251 events (all good), -0.249744 - 0.799181 sec, baseline -0.249744 – 0 sec, ~457.6 MB, data loaded,\n",
       " 'Auditory/Left': 52\n",
       " 'Auditory/Right': 59\n",
       " 'Button': 14\n",
       " 'Smiley': 12\n",
       " 'Visual/Left': 59\n",
       " 'Visual/Right': 55>"
      ]
     },
     "execution_count": 5,
     "metadata": {},
     "output_type": "execute_result"
    }
   ],
   "source": [
    "epochs.drop_bad(reject=reject_criteria, flat=flat_criteria)"
   ]
  },
  {
   "cell_type": "code",
   "execution_count": 6,
   "metadata": {},
   "outputs": [
    {
     "data": {
      "text/plain": [
       "<Figure size 800x600 with 1 Axes>"
      ]
     },
     "execution_count": 6,
     "metadata": {},
     "output_type": "execute_result"
    }
   ],
   "source": [
    "epochs.plot_drop_log()"
   ]
  },
  {
   "cell_type": "markdown",
   "metadata": {},
   "source": [
    "Quite a number of Epochs were dropped due to EOG artifacts."
   ]
  },
  {
   "cell_type": "code",
   "execution_count": 7,
   "metadata": {},
   "outputs": [
    {
     "data": {
      "text/plain": [
       "[<Figure size 800x600 with 3 Axes>,\n",
       " <Figure size 800x600 with 3 Axes>,\n",
       " <Figure size 800x600 with 3 Axes>]"
      ]
     },
     "execution_count": 7,
     "metadata": {},
     "output_type": "execute_result"
    }
   ],
   "source": [
    "epochs['Visual'].plot_image()"
   ]
  },
  {
   "cell_type": "code",
   "execution_count": 8,
   "metadata": {},
   "outputs": [
    {
     "data": {
      "text/plain": [
       "<Figure size 800x800 with 1 Axes>"
      ]
     },
     "execution_count": 8,
     "metadata": {},
     "output_type": "execute_result"
    }
   ],
   "source": [
    "epochs.plot_sensors(ch_type='eeg')"
   ]
  },
  {
   "cell_type": "code",
   "execution_count": 9,
   "metadata": {},
   "outputs": [
    {
     "data": {
      "text/plain": [
       "[<Figure size 800x600 with 4 Axes>]"
      ]
     },
     "execution_count": 9,
     "metadata": {},
     "output_type": "execute_result"
    }
   ],
   "source": [
    "epochs['Visual'].plot_image(picks='EEG 060')"
   ]
  },
  {
   "cell_type": "markdown",
   "metadata": {},
   "source": [
    "## SSP"
   ]
  },
  {
   "cell_type": "markdown",
   "metadata": {},
   "source": [
    "### Let's see if we can retain most the epochs, but still get rid of the EOG artifact. And while we're at it, the ECG artifacts too 😉"
   ]
  },
  {
   "cell_type": "code",
   "execution_count": 10,
   "metadata": {},
   "outputs": [
    {
     "name": "stderr",
     "output_type": "stream",
     "text": [
      "<ipython-input-10-a432fc72aab6>:10: RuntimeWarning: The unit for channel(s) STI 001, STI 002, STI 003, STI 004, STI 005, STI 006, STI 014, STI 015, STI 016 has changed from V to NA.\n",
      "  raw = mne_bids.read_raw_bids(bids_path)\n"
     ]
    }
   ],
   "source": [
    "bids_root = pathlib.Path('../../Result') /'Mne_Result'/'sample_BIDS'\n",
    "\n",
    "bids_path = mne_bids.BIDSPath(subject='01',\n",
    "                              session='01',\n",
    "                              task='audiovisual',\n",
    "                              run='01',\n",
    "                              datatype='meg',\n",
    "                              root=bids_root)\n",
    "\n",
    "raw = mne_bids.read_raw_bids(bids_path)\n",
    "raw.load_data()\n",
    "raw.filter(l_freq=0.1, h_freq=40)  \n",
    "\n",
    "ecg_projs, ecg_events = mne.preprocessing.compute_proj_ecg(raw, n_grad=1, n_mag=1, n_eeg=0,\n",
    "                                                           average=True)\n",
    "\n",
    "eog_projs, eog_events = mne.preprocessing.compute_proj_eog(raw, n_grad=1, n_mag=1, n_eeg=1, \n",
    "                                                           average=True)"
   ]
  },
  {
   "cell_type": "code",
   "execution_count": 11,
   "metadata": {},
   "outputs": [
    {
     "data": {
      "text/plain": [
       "[<Projection | PCA-v1, active : False, n_channels : 102>,\n",
       " <Projection | PCA-v2, active : False, n_channels : 102>,\n",
       " <Projection | PCA-v3, active : False, n_channels : 102>,\n",
       " <Projection | EOG-planar--0.200-0.200-PCA-01, active : False, n_channels : 203>,\n",
       " <Projection | EOG-axial--0.200-0.200-PCA-01, active : False, n_channels : 102>,\n",
       " <Projection | EOG-eeg--0.200-0.200-PCA-01, active : False, n_channels : 59>]"
      ]
     },
     "execution_count": 11,
     "metadata": {},
     "output_type": "execute_result"
    }
   ],
   "source": [
    "eog_projs"
   ]
  },
  {
   "cell_type": "code",
   "execution_count": 12,
   "metadata": {},
   "outputs": [
    {
     "data": {
      "text/plain": [
       "[<Projection | PCA-v1, active : False, n_channels : 102>,\n",
       " <Projection | PCA-v2, active : False, n_channels : 102>,\n",
       " <Projection | PCA-v3, active : False, n_channels : 102>,\n",
       " <Projection | EOG-planar--0.200-0.200-PCA-01, active : False, n_channels : 203>,\n",
       " <Projection | EOG-axial--0.200-0.200-PCA-01, active : False, n_channels : 102>,\n",
       " <Projection | EOG-eeg--0.200-0.200-PCA-01, active : False, n_channels : 59>,\n",
       " <Projection | PCA-v1, active : False, n_channels : 102>,\n",
       " <Projection | PCA-v2, active : False, n_channels : 102>,\n",
       " <Projection | PCA-v3, active : False, n_channels : 102>,\n",
       " <Projection | ECG-planar--0.200-0.400-PCA-01, active : False, n_channels : 203>,\n",
       " <Projection | ECG-axial--0.200-0.400-PCA-01, active : False, n_channels : 102>]"
      ]
     },
     "execution_count": 12,
     "metadata": {},
     "output_type": "execute_result"
    }
   ],
   "source": [
    "projs = eog_projs + ecg_projs\n",
    "projs"
   ]
  },
  {
   "cell_type": "code",
   "execution_count": 27,
   "metadata": {},
   "outputs": [
    {
     "data": {
      "text/plain": [
       "<MNEBrowseFigure size 3840x1854 with 5 Axes>"
      ]
     },
     "execution_count": 27,
     "metadata": {},
     "output_type": "execute_result"
    }
   ],
   "source": [
    "epochs.add_proj(projs)\n",
    "epochs.plot()"
   ]
  },
  {
   "cell_type": "code",
   "execution_count": 26,
   "metadata": {},
   "outputs": [
    {
     "data": {
      "text/plain": [
       "[<Figure size 1280x960 with 4 Axes>]"
      ]
     },
     "execution_count": 26,
     "metadata": {},
     "output_type": "execute_result"
    }
   ],
   "source": [
    "epochs_cleaned = epochs.copy().apply_proj()\n",
    "\n",
    "epochs_cleaned['Visual'].plot_image()\n",
    "epochs_cleaned['Visual'].plot_image(picks='EEG 060')"
   ]
  },
  {
   "cell_type": "markdown",
   "metadata": {},
   "source": [
    "## ICA\n",
    "\n",
    "First, start with the **raw data** again and apply a 1.0 Hz high-pass filter, which is advantegeous for ICA performance."
   ]
  },
  {
   "cell_type": "code",
   "execution_count": 28,
   "metadata": {},
   "outputs": [
    {
     "name": "stderr",
     "output_type": "stream",
     "text": [
      "<ipython-input-28-fc812bdaa4b8>:10: RuntimeWarning: The unit for channel(s) STI 001, STI 002, STI 003, STI 004, STI 005, STI 006, STI 014, STI 015, STI 016 has changed from V to NA.\n",
      "  raw = mne_bids.read_raw_bids(bids_path)\n"
     ]
    },
    {
     "data": {
      "text/html": [
       "\n",
       "\n",
       "<table class=\"table table-hover\">\n",
       "    <tr>\n",
       "        <th>Measurement date</th>\n",
       "        <td>December 03, 2002  19:01:10 GMT</td>\n",
       "        \n",
       "    </tr>\n",
       "    <tr>\n",
       "        <th>Experimenter</th>\n",
       "        <td>MEG</td>\n",
       "        \n",
       "    </tr>\n",
       "        <th>Participant</th>\n",
       "            <td>sub-01</td>\n",
       "        \n",
       "    </tr>\n",
       "    <tr>\n",
       "        <th>Digitized points</th>\n",
       "        <td>146 points</td>\n",
       "    </tr>\n",
       "    <tr>\n",
       "        <th>Good channels</th>\n",
       "        <td>102 magnetometer, 203 gradiometer,\n",
       "            and 59 EEG channels</td>\n",
       "    </tr>\n",
       "    <tr>\n",
       "        <th>Bad channels</th>\n",
       "        <td>MEG 2443, EEG 053</td>\n",
       "        \n",
       "    </tr>\n",
       "    <tr>\n",
       "        <th>EOG channels</th>\n",
       "        <td>EOG 061</td>\n",
       "    </tr>\n",
       "    <tr>\n",
       "        <th>ECG channels</th>\n",
       "        <td>Not available</td>\n",
       "    <tr>\n",
       "        <th>Sampling frequency</th>\n",
       "        <td>600.61 Hz</td>\n",
       "    </tr>\n",
       "    <tr>\n",
       "        <th>Highpass</th>\n",
       "        <td>1.00 Hz</td>\n",
       "    </tr>\n",
       "     <tr>\n",
       "        <th>Lowpass</th>\n",
       "        <td>40.00 Hz</td>\n",
       "    </tr>\n",
       "\n",
       "    <tr>\n",
       "        <th>Filenames</th>\n",
       "        <td>sub-01_ses-01_task-audiovisual_run-01_meg.fif</td>\n",
       "    </tr>\n",
       "    <tr>\n",
       "        <th>Duration</th>\n",
       "        <td>00:04:37 (HH:MM:SS)</td>\n",
       "    </tr>\n",
       "</table>\n"
      ],
      "text/plain": [
       "<Raw | sub-01_ses-01_task-audiovisual_run-01_meg.fif, 376 x 166800 (277.7 s), ~481.8 MB, data loaded>"
      ]
     },
     "execution_count": 28,
     "metadata": {},
     "output_type": "execute_result"
    }
   ],
   "source": [
    "bids_root = pathlib.Path('../../Result') /'Mne_Result'/'sample_BIDS'\n",
    "\n",
    "bids_path = mne_bids.BIDSPath(subject='01',\n",
    "                              session='01',\n",
    "                              task='audiovisual',\n",
    "                              run='01',\n",
    "                              datatype='meg',\n",
    "                              root=bids_root)\n",
    "\n",
    "raw = mne_bids.read_raw_bids(bids_path)\n",
    "raw.load_data()\n",
    "raw.filter(l_freq=1, h_freq=40)  # High-pass with 1. Hz cut-off is recommended for ICA"
   ]
  },
  {
   "cell_type": "markdown",
   "metadata": {},
   "source": [
    "Read our epochs and extract which ones that were kept (**all** in our case, because we didn't apply any rejection procedure before saving the epochs in notebook 3; but this could be different in a real-world scenario, and you want to calculate ICA on the same set of epochs you're actually feeding into your analysis!)"
   ]
  },
  {
   "cell_type": "code",
   "execution_count": 29,
   "metadata": {},
   "outputs": [
    {
     "data": {
      "text/plain": [
       "array([  0,   1,   2,   3,   4,   5,   6,   7,   8,   9,  10,  11,  12,\n",
       "        13,  14,  15,  16,  17,  18,  19,  20,  21,  22,  23,  24,  25,\n",
       "        26,  27,  28,  29,  30,  31,  32,  33,  34,  35,  36,  37,  38,\n",
       "        39,  40,  41,  42,  43,  44,  45,  46,  47,  48,  49,  50,  51,\n",
       "        52,  53,  54,  55,  56,  57,  58,  59,  60,  61,  62,  63,  64,\n",
       "        65,  66,  67,  68,  69,  70,  71,  72,  73,  74,  75,  76,  77,\n",
       "        78,  79,  80,  81,  82,  83,  84,  85,  86,  87,  88,  89,  90,\n",
       "        91,  92,  93,  94,  95,  96,  97,  98,  99, 100, 101, 102, 103,\n",
       "       104, 105, 106, 107, 108, 109, 110, 111, 112, 113, 114, 115, 116,\n",
       "       117, 118, 119, 120, 121, 122, 123, 124, 125, 126, 127, 128, 129,\n",
       "       130, 131, 132, 133, 134, 135, 136, 137, 138, 139, 140, 141, 142,\n",
       "       143, 144, 145, 146, 147, 148, 149, 150, 151, 152, 153, 154, 155,\n",
       "       156, 157, 158, 159, 160, 161, 162, 163, 164, 165, 166, 167, 168,\n",
       "       169, 170, 171, 172, 173, 174, 175, 176, 177, 178, 179, 180, 181,\n",
       "       182, 183, 184, 185, 186, 187, 188, 189, 190, 191, 192, 193, 194,\n",
       "       195, 196, 197, 198, 199, 200, 201, 202, 203, 204, 205, 206, 207,\n",
       "       208, 209, 210, 211, 212, 213, 214, 215, 216, 217, 218, 219, 220,\n",
       "       221, 222, 223, 224, 225, 226, 227, 228, 229, 230, 231, 232, 233,\n",
       "       234, 235, 236, 237, 238, 239, 240, 241, 242, 243, 244, 245, 246,\n",
       "       247, 248, 249, 250, 251, 252, 253, 254, 255, 256, 257, 258, 259,\n",
       "       260, 261, 262, 263, 264, 265, 266, 267, 268, 269, 270, 271, 272,\n",
       "       273, 274, 275, 276, 277, 278, 279, 280, 281, 282, 283, 284, 285,\n",
       "       286, 287, 288, 289, 290, 291, 292, 293, 294, 295, 296, 297, 298,\n",
       "       299, 300, 301, 302, 303, 304, 305, 306, 307, 308, 309, 310, 311,\n",
       "       312, 313, 314, 315, 316, 317, 318, 319])"
      ]
     },
     "execution_count": 29,
     "metadata": {},
     "output_type": "execute_result"
    }
   ],
   "source": [
    "epochs = mne.read_epochs(pathlib.Path('../../Result') /'Mne_Result'/'sample_BIDS'/'sub-01'/'ses-01'/'epochs_epo.fif')\n",
    "epochs_selection = epochs.selection\n",
    "epochs_selection"
   ]
  },
  {
   "cell_type": "markdown",
   "metadata": {},
   "source": [
    "Only keep the subset of events that corresponds to the retained epochs."
   ]
  },
  {
   "cell_type": "code",
   "execution_count": 34,
   "metadata": {},
   "outputs": [
    {
     "data": {
      "text/plain": [
       "(320, 3)"
      ]
     },
     "execution_count": 34,
     "metadata": {},
     "output_type": "execute_result"
    }
   ],
   "source": [
    "events, event_id = mne.events_from_annotations(raw)\n",
    "events = events[epochs_selection]\n",
    "events.shape"
   ]
  },
  {
   "cell_type": "markdown",
   "metadata": {},
   "source": [
    "Create epochs for ICA. All parameters should match **exactly** the ones of the epochs we intend to clean."
   ]
  },
  {
   "cell_type": "code",
   "execution_count": 36,
   "metadata": {},
   "outputs": [],
   "source": [
    "tmin = epochs.tmin\n",
    "tmax = epochs.tmax\n",
    "baseline = epochs.baseline\n",
    "\n",
    "epochs_ica = mne.Epochs(raw,\n",
    "                        events=events,\n",
    "                        event_id=event_id,\n",
    "                        tmin=tmin,\n",
    "                        tmax=tmax,\n",
    "                        baseline=baseline,\n",
    "                        preload=True)"
   ]
  },
  {
   "cell_type": "markdown",
   "metadata": {},
   "source": [
    "### Finally, fit ICA!"
   ]
  },
  {
   "cell_type": "code",
   "execution_count": 38,
   "metadata": {},
   "outputs": [
    {
     "data": {
      "text/html": [
       "\n",
       "<table class=\"table table-hover\">\n",
       "    <tr>\n",
       "        <th>Measurement date</th>\n",
       "        <td>December 03, 2002  19:01:10 GMT</td>\n",
       "        \n",
       "    </tr>\n",
       "    <tr>\n",
       "        <th>Experimenter</th>\n",
       "        <td>MEG</td>\n",
       "        \n",
       "    </tr>\n",
       "        <th>Participant</th>\n",
       "            <td>sub-01</td>\n",
       "        \n",
       "    </tr>\n",
       "    <tr>\n",
       "        <th>Digitized points</th>\n",
       "        <td>146 points</td>\n",
       "    </tr>\n",
       "    <tr>\n",
       "        <th>Good channels</th>\n",
       "        <td>102 magnetometer, 203 gradiometer,\n",
       "            and 59 EEG channels</td>\n",
       "    </tr>\n",
       "    <tr>\n",
       "        <th>Bad channels</th>\n",
       "        <td>MEG 2443, EEG 053</td>\n",
       "        \n",
       "    </tr>\n",
       "    <tr>\n",
       "        <th>EOG channels</th>\n",
       "        <td>EOG 061</td>\n",
       "    </tr>\n",
       "    <tr>\n",
       "        <th>ECG channels</th>\n",
       "        <td>Not available</td>\n",
       "    <tr>\n",
       "        <th>Sampling frequency</th>\n",
       "        <td>600.61 Hz</td>\n",
       "    </tr>\n",
       "    <tr>\n",
       "        <th>Highpass</th>\n",
       "        <td>1.00 Hz</td>\n",
       "    </tr>\n",
       "     <tr>\n",
       "        <th>Lowpass</th>\n",
       "        <td>40.00 Hz</td>\n",
       "    </tr>\n",
       "</table>\n"
      ],
      "text/plain": [
       "<Info | 23 non-empty values\n",
       " acq_pars: ACQch001 110113 ACQch002 110112 ACQch003 110111 ACQch004 110122 ...\n",
       " bads: 2 items (MEG 2443, EEG 053)\n",
       " ch_names: MEG 0113, MEG 0112, MEG 0111, MEG 0122, MEG 0123, MEG 0121, MEG ...\n",
       " chs: 204 GRAD, 102 MAG, 9 STIM, 60 EEG, 1 EOG\n",
       " custom_ref_applied: False\n",
       " description: acquisition (megacq) VectorView system at NMR-MGH\n",
       " dev_head_t: MEG device -> head transform\n",
       " dig: 146 items (3 Cardinal, 4 HPI, 61 EEG, 78 Extra)\n",
       " events: 1 item (list)\n",
       " experimenter: MEG\n",
       " file_id: 4 items (dict)\n",
       " highpass: 1.0 Hz\n",
       " hpi_meas: 1 item (list)\n",
       " hpi_results: 1 item (list)\n",
       " line_freq: 60\n",
       " lowpass: 40.0 Hz\n",
       " meas_date: 2002-12-03 19:01:10 UTC\n",
       " meas_id: 4 items (dict)\n",
       " nchan: 376\n",
       " proj_id: 1 item (ndarray)\n",
       " proj_name: test\n",
       " projs: PCA-v1: on, PCA-v2: on, PCA-v3: on\n",
       " sfreq: 600.6 Hz\n",
       " subject_info: 5 items (dict)\n",
       ">"
      ]
     },
     "execution_count": 38,
     "metadata": {},
     "output_type": "execute_result"
    }
   ],
   "source": [
    "epochs_ica.info"
   ]
  },
  {
   "cell_type": "code",
   "execution_count": 45,
   "metadata": {},
   "outputs": [
    {
     "name": "stderr",
     "output_type": "stream",
     "text": [
      "<ipython-input-45-e8bdada4f6ac>:12: RuntimeWarning: The epochs you passed to ICA.fit() were baseline-corrected. However, we suggest to fit ICA only on data that has been high-pass filtered, but NOT baseline-corrected.\n",
      "  ica.fit(epochs_ica)\n",
      "D:\\anaconda\\anaconda\\envs\\mne\\lib\\site-packages\\picard\\solver.py:213: UserWarning: Picard did not converge. Final gradient norm : 8.074e-05. Requested tolerance : 1e-07. Consider increasing the number of iterations or the tolerance.\n",
      "  warnings.warn('Picard did not converge. Final gradient norm : %.4g.'\n"
     ]
    },
    {
     "data": {
      "text/plain": [
       "<ICA | epochs decomposition, fit (picard): 201920 samples, 28 components, channels used: \"mag\"; \"grad\"; \"eeg\">"
      ]
     },
     "execution_count": 45,
     "metadata": {},
     "output_type": "execute_result"
    }
   ],
   "source": [
    "n_components = 0.8  # Should normally be higher, like 0.999!!\n",
    "method = 'picard'\n",
    "max_iter = 100  # Should normally be higher, like 500 or even 1000!!\n",
    "fit_params = dict(fastica_it=5)\n",
    "random_state = 42\n",
    "\n",
    "ica = mne.preprocessing.ICA(n_components=n_components,\n",
    "                            method=method,\n",
    "                            max_iter=max_iter,\n",
    "                            fit_params=fit_params,\n",
    "                            random_state=random_state)\n",
    "ica.fit(epochs_ica)"
   ]
  },
  {
   "cell_type": "code",
   "execution_count": 46,
   "metadata": {},
   "outputs": [
    {
     "data": {
      "text/plain": [
       "[<MNEFigure size 1950x1934 with 20 Axes>,\n",
       " <MNEFigure size 1950x992 with 8 Axes>]"
      ]
     },
     "execution_count": 46,
     "metadata": {},
     "output_type": "execute_result"
    }
   ],
   "source": [
    "ica.plot_components(inst=epochs)"
   ]
  },
  {
   "cell_type": "markdown",
   "metadata": {},
   "source": [
    "### Detect ECG and EOG patterns"
   ]
  },
  {
   "cell_type": "code",
   "execution_count": 47,
   "metadata": {},
   "outputs": [],
   "source": [
    "ecg_epochs = mne.preprocessing.create_ecg_epochs(raw, reject=None,\n",
    "                                                 baseline=(None, -0.2),\n",
    "                                                 tmin=-0.5, tmax=0.5)\n",
    "ecg_evoked = ecg_epochs.average()\n",
    "ecg_inds, ecg_scores = ica.find_bads_ecg(ecg_epochs, method='ctps')\n",
    "\n",
    "\n",
    "eog_epochs = mne.preprocessing.create_eog_epochs(raw, reject=None,\n",
    "                                                 baseline=(None, -0.2),\n",
    "                                                 tmin=-0.5, tmax=0.5)\n",
    "eog_evoked = eog_epochs.average()\n",
    "eog_inds, eog_scores = ica.find_bads_eog(eog_epochs)\n",
    "\n",
    "components_to_exclude = ecg_inds + eog_inds\n",
    "ica.exclude = components_to_exclude"
   ]
  },
  {
   "cell_type": "markdown",
   "metadata": {},
   "source": [
    "## Plot automated artifact detection scores"
   ]
  },
  {
   "cell_type": "code",
   "execution_count": 49,
   "metadata": {},
   "outputs": [
    {
     "data": {
      "text/plain": [
       "<Figure size 1280x540 with 1 Axes>"
      ]
     },
     "execution_count": 49,
     "metadata": {},
     "output_type": "execute_result"
    }
   ],
   "source": [
    "#ica.plot_scores(ecg_scores)\n",
    "ica.plot_scores(eog_scores)"
   ]
  },
  {
   "cell_type": "markdown",
   "metadata": {},
   "source": [
    "## Plot ICA sources"
   ]
  },
  {
   "cell_type": "code",
   "execution_count": 51,
   "metadata": {},
   "outputs": [
    {
     "data": {
      "text/plain": [
       "<Figure size 1280x960 with 1 Axes>"
      ]
     },
     "execution_count": 51,
     "metadata": {},
     "output_type": "execute_result"
    }
   ],
   "source": [
    "ica.plot_sources(eog_evoked)"
   ]
  },
  {
   "cell_type": "markdown",
   "metadata": {},
   "source": [
    "## Plot overlay of original and cleaned data"
   ]
  },
  {
   "cell_type": "code",
   "execution_count": 53,
   "metadata": {},
   "outputs": [
    {
     "name": "stderr",
     "output_type": "stream",
     "text": [
      "<ipython-input-53-64d5fc30032c>:2: RuntimeWarning: The data you passed to ICA.apply() was baseline-corrected. Please note that ICA can introduce DC shifts, therefore you may wish to consider baseline-correcting the cleaned data again.\n",
      "  ica.plot_overlay(eog_evoked)\n"
     ]
    },
    {
     "data": {
      "text/plain": [
       "<Figure size 1280x960 with 3 Axes>"
      ]
     },
     "execution_count": 53,
     "metadata": {},
     "output_type": "execute_result"
    }
   ],
   "source": [
    "#ica.plot_overlay(ecg_evoked)\n",
    "ica.plot_overlay(eog_evoked)"
   ]
  },
  {
   "cell_type": "markdown",
   "metadata": {},
   "source": [
    "<div class=\"alert alert-success\">\n",
    "    <b>EXERCISE</b>:\n",
    "     <ul>\n",
    "         <li>Visualize artifact detection scores, ICA sources, and an overlay of original and cleaned data based on the EOG epochs.</li>\n",
    "         <li>Visualize artifact detection scores, ICA sources, and an overlay of original and cleaned data based on the epochs we actually intend to analyze.</li>\n",
    "    </ul>\n",
    "</div>"
   ]
  },
  {
   "cell_type": "code",
   "execution_count": 54,
   "metadata": {},
   "outputs": [
    {
     "name": "stderr",
     "output_type": "stream",
     "text": [
      "<ipython-input-54-fa7578ef095d>:1: RuntimeWarning: The data you passed to ICA.apply() was baseline-corrected. Please note that ICA can introduce DC shifts, therefore you may wish to consider baseline-correcting the cleaned data again.\n",
      "  epochs_cleaned = ica.apply(epochs.copy())\n"
     ]
    }
   ],
   "source": [
    "epochs_cleaned = ica.apply(epochs.copy())"
   ]
  },
  {
   "cell_type": "code",
   "execution_count": 56,
   "metadata": {},
   "outputs": [
    {
     "data": {
      "text/plain": [
       "<MNEBrowseFigure size 3840x1854 with 4 Axes>"
      ]
     },
     "execution_count": 56,
     "metadata": {},
     "output_type": "execute_result"
    }
   ],
   "source": [
    "epochs_cleaned.plot(title = \"After ICA\")\n",
    "epochs.plot(title = \"Before ICA\")"
   ]
  },
  {
   "cell_type": "code",
   "execution_count": null,
   "metadata": {},
   "outputs": [],
   "source": []
  }
 ],
 "metadata": {
  "kernelspec": {
   "display_name": "mne",
   "language": "python",
   "name": "mne"
  },
  "language_info": {
   "codemirror_mode": {
    "name": "ipython",
    "version": 3
   },
   "file_extension": ".py",
   "mimetype": "text/x-python",
   "name": "python",
   "nbconvert_exporter": "python",
   "pygments_lexer": "ipython3",
   "version": "3.8.5"
  },
  "toc": {
   "base_numbering": 1,
   "nav_menu": {},
   "number_sections": true,
   "sideBar": true,
   "skip_h1_title": false,
   "title_cell": "Table of Contents",
   "title_sidebar": "Contents",
   "toc_cell": false,
   "toc_position": {},
   "toc_section_display": true,
   "toc_window_display": false
  }
 },
 "nbformat": 4,
 "nbformat_minor": 4
}
