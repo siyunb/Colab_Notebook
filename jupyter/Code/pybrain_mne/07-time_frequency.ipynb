{
 "cells": [
  {
   "cell_type": "markdown",
   "metadata": {},
   "source": [
    "# Frequency and time-frequency sensors analysis\n",
    "\n",
    "\n",
    "The objective is to show you how to explore the spectral content\n",
    "of your data (frequency and time-frequency). Here we'll work on Epochs.\n",
    "\n",
    "    Authors: Alexandre Gramfort <alexandre.gramfort@inria.fr>\n",
    "             Stefan Appelhoff <stefan.appelhoff@mailbox.org>\n",
    "             Richard Höchenberger <richard.hoechenberger@gmail.com>\n",
    "             Denis A. Engemann <denis.engemann@gmail.com>\n",
    "             Richard Höchenberger <richard.hoechenberger@gmail.com>\n",
    "    License: BSD (3-clause)"
   ]
  },
  {
   "cell_type": "code",
   "execution_count": 1,
   "metadata": {},
   "outputs": [],
   "source": [
    "import pathlib\n",
    "import matplotlib\n",
    "\n",
    "import mne\n",
    "import mne_bids\n",
    "\n",
    "matplotlib.use('Qt5Agg')\n",
    "mne.set_log_level('warning')"
   ]
  },
  {
   "cell_type": "markdown",
   "metadata": {},
   "source": [
    "Set parameters\n",
    "\n"
   ]
  },
  {
   "cell_type": "code",
   "execution_count": 2,
   "metadata": {},
   "outputs": [],
   "source": [
    "epochs = mne.read_epochs(pathlib.Path('../../Result') /'Mne_Result'/'sample_BIDS'/'sub-01'/'ses-01'/'epochs_epo.fif')"
   ]
  },
  {
   "cell_type": "code",
   "execution_count": 3,
   "metadata": {},
   "outputs": [],
   "source": [
    "epochs.apply_proj()\n",
    "epochs_auditory = epochs['Auditory']"
   ]
  },
  {
   "cell_type": "markdown",
   "metadata": {},
   "source": [
    "Frequency analysis\n",
    "------------------\n",
    "\n",
    "We start by exploring the frequence content of our epochs.\n",
    "\n"
   ]
  },
  {
   "cell_type": "markdown",
   "metadata": {},
   "source": [
    "Let's first check out all channel types by averaging across epochs.\n",
    "\n"
   ]
  },
  {
   "cell_type": "code",
   "execution_count": 4,
   "metadata": {},
   "outputs": [
    {
     "data": {
      "text/plain": [
       "<MNELineFigure size 797.5x615 with 3 Axes>"
      ]
     },
     "execution_count": 4,
     "metadata": {},
     "output_type": "execute_result"
    }
   ],
   "source": [
    "epochs_auditory.plot_psd(fmin=2., fmax=40., average=True, bandwidth=2)"
   ]
  },
  {
   "cell_type": "markdown",
   "metadata": {},
   "source": [
    "<div class=\"alert alert-info\">\n",
    "    <b>REMARK</b>:\n",
    "     <ul>\n",
    "    <li> Select a frequency range in the plot to inspect topographies</li>\n",
    "\n",
    "<li> The \"bandwidth\" parameter controls the spectral resolution of the multitaper. You can increase the resolution by chosing a narrower bandwidth at the cost of longer computation time.</li>\n",
    "    </ul>\n",
    "</div>"
   ]
  },
  {
   "cell_type": "markdown",
   "metadata": {},
   "source": [
    "Now let's take a look at the spatial distributions of the PSD.\n",
    "\n"
   ]
  },
  {
   "cell_type": "code",
   "execution_count": 5,
   "metadata": {},
   "outputs": [
    {
     "data": {
      "text/plain": [
       "<Figure size 1250x370 with 10 Axes>"
      ]
     },
     "execution_count": 5,
     "metadata": {},
     "output_type": "execute_result"
    }
   ],
   "source": [
    "epochs_auditory.plot_psd_topomap(ch_type='eeg', normalize=False)"
   ]
  },
  {
   "cell_type": "code",
   "execution_count": 6,
   "metadata": {},
   "outputs": [
    {
     "name": "stderr",
     "output_type": "stream",
     "text": [
      "D:\\anaconda\\envs\\mne\\lib\\site-packages\\matplotlib\\ticker.py:428: UserWarning: Warning: converting a masked element to nan.\n",
      "  return self.fmt % x\n"
     ]
    },
    {
     "data": {
      "text/plain": [
       "<Figure size 1250x186.25 with 10 Axes>"
      ]
     },
     "execution_count": 6,
     "metadata": {},
     "output_type": "execute_result"
    }
   ],
   "source": [
    "epochs_auditory.plot_psd_topomap(ch_type='mag', normalize=False)"
   ]
  },
  {
   "cell_type": "code",
   "execution_count": 7,
   "metadata": {},
   "outputs": [
    {
     "data": {
      "text/plain": [
       "<Figure size 1250x186.25 with 10 Axes>"
      ]
     },
     "execution_count": 7,
     "metadata": {},
     "output_type": "execute_result"
    }
   ],
   "source": [
    "epochs_auditory.plot_psd_topomap(ch_type='grad', normalize=False)"
   ]
  },
  {
   "cell_type": "markdown",
   "metadata": {},
   "source": [
    "<div class=\"alert alert-info\">\n",
    "    <b>REMARK</b>:\n",
    "     <ul>\n",
    "    <li>Sometimes it can be interesting  to consider the relative power, defined as the power in a given band divided by the total power. To explore this option, have a look at the \"normalize\" keyword. </li>\n",
    "    </ul>\n",
    "</div>"
   ]
  },
  {
   "cell_type": "markdown",
   "metadata": {},
   "source": [
    "## Time-frequency analysis: power and inter-trial coherence\n",
    "\n",
    "We now compute time-frequency representations (TFRs) from our Epochs.\n",
    "We'll look at power and inter-trial coherence (ITC).\n",
    "\n",
    "To this we'll use the function `mne.time_frequency.tfr_morlet`\n",
    "but you can also use `mne.time_frequency.tfr_multitaper`\n",
    "or `mne.time_frequency.tfr_stockwell`."
   ]
  },
  {
   "cell_type": "code",
   "execution_count": null,
   "metadata": {},
   "outputs": [],
   "source": [
    "import numpy as np\n",
    "\n",
    "# define frequencies of interest (log-spaced)\n",
    "freqs = np.logspace(*np.log10([2, 30]), num=20)\n",
    "n_cycles = freqs / 2.  # different number of cycle per frequency\n",
    "power, itc = mne.time_frequency.tfr_morlet(epochs_auditory, freqs=freqs, n_cycles=n_cycles, use_fft=True,\n",
    "                                           return_itc=True, decim=3, n_jobs=1)"
   ]
  },
  {
   "cell_type": "code",
   "execution_count": null,
   "metadata": {},
   "outputs": [],
   "source": [
    "power.crop(-0.1, 0.7)  # crop to remove edge artifacts"
   ]
  },
  {
   "cell_type": "code",
   "execution_count": 11,
   "metadata": {},
   "outputs": [
    {
     "data": {
      "text/plain": [
       "<AverageTFR | time : [-0.099898, 0.699283], freq : [2.000000, 30.000000], nave : 145, channels : 364, ~12.2 MB>"
      ]
     },
     "execution_count": 11,
     "metadata": {},
     "output_type": "execute_result"
    }
   ],
   "source": [
    "itc.crop(-0.1, 0.7)  # crop to remove edge artifacts"
   ]
  },
  {
   "cell_type": "markdown",
   "metadata": {},
   "source": [
    "Inspect power\n",
    "-------------\n",
    "\n",
    "<div class=\"alert alert-info\"><h4>Note</h4><p>The generated figures are interactive. In the topo you can click\n",
    "    on an image to visualize the data for one sensor.\n",
    "    You can also select a portion in the time-frequency plane to\n",
    "    obtain a topomap for a certain time-frequency region.</p></div>\n",
    "\n"
   ]
  },
  {
   "cell_type": "code",
   "execution_count": 12,
   "metadata": {},
   "outputs": [],
   "source": [
    "baseline_mode = 'logratio'\n",
    "baseline = (None, 0)"
   ]
  },
  {
   "cell_type": "markdown",
   "metadata": {},
   "source": [
    "## Plot power topomap"
   ]
  },
  {
   "cell_type": "code",
   "execution_count": 13,
   "metadata": {},
   "outputs": [
    {
     "name": "stderr",
     "output_type": "stream",
     "text": [
      "D:\\anaconda\\anaconda\\envs\\mne\\lib\\site-packages\\matplotlib\\cbook\\__init__.py:270: RuntimeWarning: `mask` is None, not masking the plot ...\n",
      "  func(*args, **kwargs)\n",
      "D:\\anaconda\\anaconda\\envs\\mne\\lib\\site-packages\\matplotlib\\cbook\\__init__.py:270: RuntimeWarning: `mask` is None, not adding contour to the plot ...\n",
      "  func(*args, **kwargs)\n"
     ]
    },
    {
     "data": {
      "text/plain": [
       "<Figure size 1280x960 with 2 Axes>"
      ]
     },
     "execution_count": 13,
     "metadata": {},
     "output_type": "execute_result"
    }
   ],
   "source": [
    "(power.copy()\n",
    " .pick_types(eeg=True, meg=False)\n",
    " .plot_topo())"
   ]
  },
  {
   "cell_type": "markdown",
   "metadata": {},
   "source": [
    "## Plot power of an individual channel"
   ]
  },
  {
   "cell_type": "code",
   "execution_count": 14,
   "metadata": {},
   "outputs": [
    {
     "name": "stderr",
     "output_type": "stream",
     "text": [
      "Traceback (most recent call last):\n",
      "  File \"D:\\anaconda\\anaconda\\envs\\mne\\lib\\site-packages\\matplotlib\\cbook\\__init__.py\", line 270, in process\n",
      "    func(*args, **kwargs)\n",
      "  File \"D:\\anaconda\\anaconda\\envs\\mne\\lib\\site-packages\\matplotlib\\widgets.py\", line 1841, in release\n",
      "    self._release(event)\n",
      "  File \"D:\\anaconda\\anaconda\\envs\\mne\\lib\\site-packages\\matplotlib\\widgets.py\", line 2396, in _release\n",
      "    self.onselect(self.eventpress, self.eventrelease)\n",
      "  File \"<decorator-gen-129>\", line 24, in _onselect\n",
      "  File \"D:\\anaconda\\anaconda\\envs\\mne\\lib\\site-packages\\mne\\time_frequency\\tfr.py\", line 1765, in _onselect\n",
      "    plot_tfr_topomap(self, ch_type=ch_type, tmin=tmin, tmax=tmax,\n",
      "  File \"D:\\anaconda\\anaconda\\envs\\mne\\lib\\site-packages\\mne\\viz\\topomap.py\", line 1415, in plot_tfr_topomap\n",
      "    im, _ = plot_topomap(data[:, 0], pos, vmin=vmin, vmax=vmax,\n",
      "  File \"D:\\anaconda\\anaconda\\envs\\mne\\lib\\site-packages\\mne\\viz\\topomap.py\", line 768, in plot_topomap\n",
      "    return _plot_topomap(data, pos, vmin, vmax, cmap, sensors, res, axes,\n",
      "  File \"D:\\anaconda\\anaconda\\envs\\mne\\lib\\site-packages\\mne\\viz\\topomap.py\", line 909, in _plot_topomap\n",
      "    extent, Xi, Yi, interp = _setup_interp(\n",
      "  File \"D:\\anaconda\\anaconda\\envs\\mne\\lib\\site-packages\\mne\\viz\\topomap.py\", line 797, in _setup_interp\n",
      "    interp = _GridData(pos, extrapolate, clip_origin, clip_radius, border)\n",
      "  File \"D:\\anaconda\\anaconda\\envs\\mne\\lib\\site-packages\\mne\\viz\\topomap.py\", line 608, in __init__\n",
      "    outer_pts, mask_pts, tri = _get_extra_points(\n",
      "  File \"D:\\anaconda\\anaconda\\envs\\mne\\lib\\site-packages\\mne\\viz\\topomap.py\", line 493, in _get_extra_points\n",
      "    colinear = ((slopes == slopes[0]).all() or np.isinf(slopes).all())\n",
      "IndexError: index 0 is out of bounds for axis 0 with size 0\n",
      "Traceback (most recent call last):\n",
      "  File \"D:\\anaconda\\anaconda\\envs\\mne\\lib\\site-packages\\matplotlib\\cbook\\__init__.py\", line 270, in process\n",
      "    func(*args, **kwargs)\n",
      "  File \"D:\\anaconda\\anaconda\\envs\\mne\\lib\\site-packages\\matplotlib\\widgets.py\", line 1841, in release\n",
      "    self._release(event)\n",
      "  File \"D:\\anaconda\\anaconda\\envs\\mne\\lib\\site-packages\\matplotlib\\widgets.py\", line 2396, in _release\n",
      "    self.onselect(self.eventpress, self.eventrelease)\n",
      "  File \"<decorator-gen-129>\", line 24, in _onselect\n",
      "  File \"D:\\anaconda\\anaconda\\envs\\mne\\lib\\site-packages\\mne\\time_frequency\\tfr.py\", line 1765, in _onselect\n",
      "    plot_tfr_topomap(self, ch_type=ch_type, tmin=tmin, tmax=tmax,\n",
      "  File \"D:\\anaconda\\anaconda\\envs\\mne\\lib\\site-packages\\mne\\viz\\topomap.py\", line 1415, in plot_tfr_topomap\n",
      "    im, _ = plot_topomap(data[:, 0], pos, vmin=vmin, vmax=vmax,\n",
      "  File \"D:\\anaconda\\anaconda\\envs\\mne\\lib\\site-packages\\mne\\viz\\topomap.py\", line 768, in plot_topomap\n",
      "    return _plot_topomap(data, pos, vmin, vmax, cmap, sensors, res, axes,\n",
      "  File \"D:\\anaconda\\anaconda\\envs\\mne\\lib\\site-packages\\mne\\viz\\topomap.py\", line 909, in _plot_topomap\n",
      "    extent, Xi, Yi, interp = _setup_interp(\n",
      "  File \"D:\\anaconda\\anaconda\\envs\\mne\\lib\\site-packages\\mne\\viz\\topomap.py\", line 797, in _setup_interp\n",
      "    interp = _GridData(pos, extrapolate, clip_origin, clip_radius, border)\n",
      "  File \"D:\\anaconda\\anaconda\\envs\\mne\\lib\\site-packages\\mne\\viz\\topomap.py\", line 608, in __init__\n",
      "    outer_pts, mask_pts, tri = _get_extra_points(\n",
      "  File \"D:\\anaconda\\anaconda\\envs\\mne\\lib\\site-packages\\mne\\viz\\topomap.py\", line 493, in _get_extra_points\n",
      "    colinear = ((slopes == slopes[0]).all() or np.isinf(slopes).all())\n",
      "IndexError: index 0 is out of bounds for axis 0 with size 0\n"
     ]
    },
    {
     "data": {
      "text/plain": [
       "[<Figure size 1280x960 with 2 Axes>]"
      ]
     },
     "execution_count": 14,
     "metadata": {},
     "output_type": "execute_result"
    }
   ],
   "source": [
    "power.plot(picks='EEG 050', baseline=baseline, mode=baseline_mode)"
   ]
  },
  {
   "cell_type": "markdown",
   "metadata": {},
   "source": [
    "## Plot topomaps for specified frequency ranges"
   ]
  },
  {
   "cell_type": "code",
   "execution_count": 15,
   "metadata": {},
   "outputs": [
    {
     "name": "stderr",
     "output_type": "stream",
     "text": [
      "D:\\anaconda\\anaconda\\envs\\mne\\lib\\site-packages\\matplotlib\\ticker.py:428: UserWarning: Warning: converting a masked element to nan.\n",
      "  return self.fmt % x\n"
     ]
    }
   ],
   "source": [
    "import matplotlib.pyplot as plt\n",
    "\n",
    "fig, axis = plt.subplots(1, 3, figsize=(7, 4))\n",
    "power.plot_topomap(ch_type='grad', tmin=0.5, tmax=1.5, fmin=4, fmax=7,\n",
    "                   baseline=baseline, mode=baseline_mode, axes=axis[0],\n",
    "                   title='Theta', show=False, contours=1)\n",
    "power.plot_topomap(ch_type='grad', tmin=0.5, tmax=1.5, fmin=8, fmax=12,\n",
    "                   baseline=baseline, mode=baseline_mode, axes=axis[1],\n",
    "                   title='Alpha', show=False, contours=1)\n",
    "power.plot_topomap(ch_type='grad', tmin=0.5, tmax=1.5, fmin=15, fmax=30,\n",
    "                   baseline=baseline, mode=baseline_mode, axes=axis[2],\n",
    "                   title='Beta', show=False, contours=1)\n",
    "mne.viz.tight_layout()\n",
    "plt.show()"
   ]
  },
  {
   "cell_type": "markdown",
   "metadata": {},
   "source": [
    "Joint Plot\n",
    "----------\n",
    "You can also create a joint plot showing both the aggregated TFR\n",
    "across channels and topomaps at specific times and frequencies to obtain\n",
    "a quick overview regarding oscillatory effects across time and space.\n",
    "\n"
   ]
  },
  {
   "cell_type": "code",
   "execution_count": 16,
   "metadata": {},
   "outputs": [],
   "source": [
    "power.plot_joint(baseline=baseline, mode='mean', tmin=None, tmax=None,\n",
    "                 timefreqs=[(0.05, 2.), (0.1, 11.)])\n",
    "plt.show()"
   ]
  },
  {
   "cell_type": "markdown",
   "metadata": {},
   "source": [
    "Inspect ITC\n",
    "-----------\n",
    "\n"
   ]
  },
  {
   "cell_type": "code",
   "execution_count": 17,
   "metadata": {},
   "outputs": [
    {
     "name": "stderr",
     "output_type": "stream",
     "text": [
      "D:\\anaconda\\anaconda\\envs\\mne\\lib\\site-packages\\matplotlib\\cbook\\__init__.py:270: RuntimeWarning: `mask` is None, not masking the plot ...\n",
      "  func(*args, **kwargs)\n",
      "D:\\anaconda\\anaconda\\envs\\mne\\lib\\site-packages\\matplotlib\\cbook\\__init__.py:270: RuntimeWarning: `mask` is None, not adding contour to the plot ...\n",
      "  func(*args, **kwargs)\n"
     ]
    },
    {
     "data": {
      "text/plain": [
       "<Figure size 1280x960 with 2 Axes>"
      ]
     },
     "execution_count": 17,
     "metadata": {},
     "output_type": "execute_result"
    }
   ],
   "source": [
    "itc.plot_topo(title='Inter-Trial coherence', vmin=0., vmax=0.5, cmap='Reds')"
   ]
  },
  {
   "cell_type": "markdown",
   "metadata": {},
   "source": [
    "<div class=\"alert alert-info\"><h4>Note</h4><p>Baseline correction can be applied to power or done in plots.\n",
    "    To illustrate the baseline correction in plots, the next line is\n",
    "    commented power.apply_baseline(baseline=(-0.5, 0), mode='logratio')</p></div>\n",
    "\n",
    "<div class=\"alert alert-success\">\n",
    "    <b>EXERCISE</b>:\n",
    "     <ul>\n",
    "      <li>Visualize the inter-trial coherence values as topomaps as done with\n",
    "     power</li>\n",
    "    </ul>\n",
    "</div>"
   ]
  }
 ],
 "metadata": {
  "kernelspec": {
   "display_name": "mne",
   "language": "python",
   "name": "mne"
  },
  "language_info": {
   "codemirror_mode": {
    "name": "ipython",
    "version": 3
   },
   "file_extension": ".py",
   "mimetype": "text/x-python",
   "name": "python",
   "nbconvert_exporter": "python",
   "pygments_lexer": "ipython3",
   "version": "3.8.5"
  },
  "toc": {
   "base_numbering": 1,
   "nav_menu": {},
   "number_sections": true,
   "sideBar": true,
   "skip_h1_title": false,
   "title_cell": "Table of Contents",
   "title_sidebar": "Contents",
   "toc_cell": false,
   "toc_position": {},
   "toc_section_display": true,
   "toc_window_display": false
  }
 },
 "nbformat": 4,
 "nbformat_minor": 4
}
