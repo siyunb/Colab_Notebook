{
 "cells": [
  {
   "cell_type": "code",
   "execution_count": 1,
   "id": "another-ecology",
   "metadata": {},
   "outputs": [],
   "source": [
    "# 载入python库\n",
    "import pandas as pd\n",
    "import xlrd, openpyxl\n",
    "import re\n",
    "import os\n",
    "from copy import deepcopy"
   ]
  },
  {
   "cell_type": "code",
   "execution_count": 2,
   "id": "grand-letter",
   "metadata": {},
   "outputs": [],
   "source": [
    "#排除数据源中的干扰行\n",
    "def fliter_none(issue):\n",
    "    pattern = re.compile('\\d{6}.[A-Z]{2}')\n",
    "    try:\n",
    "        id_stock = pattern.search(issue)\n",
    "        if id_stock is not None :\n",
    "            return True\n",
    "        else:\n",
    "            return False\n",
    "    except:\n",
    "        return False "
   ]
  },
  {
   "cell_type": "code",
   "execution_count": 3,
   "id": "desperate-experience",
   "metadata": {},
   "outputs": [],
   "source": [
    "#分别生成每只基金重仓股即其持股比例的列表\n",
    "def generate_dict(dataframe):\n",
    "    fund_network = {}\n",
    "    for _, row in dataframe.iterrows():\n",
    "        fund, stock, stock_rate = row\n",
    "        if fund in fund_network:\n",
    "            fund_network[fund].append((stock, stock_rate))\n",
    "        else:    \n",
    "            fund_network[fund] = []\n",
    "            fund_network[fund].append((stock, stock_rate))\n",
    "    return fund_network"
   ]
  },
  {
   "cell_type": "code",
   "execution_count": 9,
   "id": "built-bolivia",
   "metadata": {},
   "outputs": [],
   "source": [
    "#统计两只基金相同持股的股票列表，若比例大于临界值则记为1，否则记为0\n",
    "def find_common(stock_list1, stock_list2, threshold):\n",
    "    coshare_element = []\n",
    "    for stock_name1, rate1 in stock_list1:\n",
    "        for stock_name2, rate2 in stock_list2:\n",
    "            if (stock_name1 == stock_name2) and ((rate1 > threshold) & (rate2>threshold)):\n",
    "                coshare_element.append((stock_name1, 1))\n",
    "            elif (stock_name1 == stock_name2) and ((rate1 <= threshold) | (rate2<=threshold)):\n",
    "                coshare_element.append((stock_name1, 0))\n",
    "    return coshare_element"
   ]
  },
  {
   "cell_type": "code",
   "execution_count": 35,
   "id": "saving-outreach",
   "metadata": {},
   "outputs": [],
   "source": [
    "#统计两只基金相同持股的股票数量及均大于临界值的股票数量\n",
    "def generate_network_dataframe(fund_network, fund_network_copy, threshold = 4.0):\n",
    "    network_dataframe = {'source':[],'target':[],'stock':[],'share_num':[], 'weight':[]}\n",
    "    for key1, stock_list1 in fund_network.items():\n",
    "        del fund_network_copy[key1]\n",
    "        for key2, stock_list2 in fund_network_copy.items():\n",
    "            coshare_element = find_common(stock_list1, stock_list2, threshold)\n",
    "            if len(coshare_element)>0:\n",
    "                network_dataframe['source'].append(key1)\n",
    "                network_dataframe['target'].append(key2)\n",
    "                network_dataframe['stock'].append('*'.join([share_stock[0] for share_stock in coshare_element]))\n",
    "                network_dataframe['share_num'].append(len(coshare_element))\n",
    "                network_dataframe['weight'].append(sum([share_stock[1] for share_stock in coshare_element]))\n",
    "    return pd.DataFrame(network_dataframe)"
   ]
  },
  {
   "cell_type": "code",
   "execution_count": 36,
   "id": "fantastic-constitution",
   "metadata": {},
   "outputs": [],
   "source": [
    "#生成网络结构数据\n",
    "def xlsx_csv_fund(xlsx_filepath, csv_filepath, fund_filepath):\n",
    "    list_dir =  [os.path.splitext(dir) for dir in os.listdir(xlsx_filepath)]\n",
    "    for tuple_dir in list_dir:\n",
    "        #读取wind数据\n",
    "        date_name, format_name = tuple_dir\n",
    "        dataframe = pd.read_excel(xlsx_filepath+'/'+date_name+format_name)\n",
    "        \n",
    "        #从原始数据提取必要信息\n",
    "        data_csv = dataframe[dataframe['代码'].apply(fliter_none)][['代码','名称','股票代码','股票简称','持股市值占基金净值比(%)']]\n",
    "        data_csv = data_csv.rename(columns = {'代码':'code','名称':'source','股票代码':'stock_code','股票简称':'target', '持股市值占基金净值比(%)':'rate'})\n",
    "        csv_name = ('_').join(date_name.split('-'))\n",
    "        data_csv[['source','target', 'rate']].to_csv(csv_filepath+'/'+csv_name+'.csv', encoding='utf_8_sig', index=True)\n",
    "        dataframe_fund = data_csv[['source','target','rate']]\n",
    "        \n",
    "        #生成制作网络的数据表\n",
    "        fund_network = generate_dict(dataframe_fund)\n",
    "        fund_network_copy = deepcopy(fund_network)\n",
    "        network_dataframe = generate_network_dataframe(fund_network,fund_network_copy)\n",
    "        network_dataframe.to_csv(fund_filepath+'/'+csv_name+'.csv', encoding='utf_8_sig', index=True)"
   ]
  },
  {
   "cell_type": "code",
   "execution_count": 37,
   "id": "accepting-dating",
   "metadata": {},
   "outputs": [],
   "source": [
    "xlsx_filepath = './Dataset/StockData'\n",
    "csv_filepath = './Dataset/StockData_csv'\n",
    "fund_filepath = './Dataset/StockData_fund'"
   ]
  },
  {
   "cell_type": "code",
   "execution_count": 38,
   "id": "little-lotus",
   "metadata": {},
   "outputs": [],
   "source": [
    "xlsx_csv_fund(xlsx_filepath, csv_filepath, fund_filepath)"
   ]
  },
  {
   "cell_type": "code",
   "execution_count": null,
   "id": "valuable-nitrogen",
   "metadata": {},
   "outputs": [],
   "source": []
  }
 ],
 "metadata": {
  "kernelspec": {
   "display_name": "Python 3",
   "language": "python",
   "name": "python3"
  },
  "language_info": {
   "codemirror_mode": {
    "name": "ipython",
    "version": 3
   },
   "file_extension": ".py",
   "mimetype": "text/x-python",
   "name": "python",
   "nbconvert_exporter": "python",
   "pygments_lexer": "ipython3",
   "version": "3.8.5"
  },
  "toc": {
   "base_numbering": 1,
   "nav_menu": {},
   "number_sections": true,
   "sideBar": true,
   "skip_h1_title": false,
   "title_cell": "Table of Contents",
   "title_sidebar": "Contents",
   "toc_cell": false,
   "toc_position": {},
   "toc_section_display": true,
   "toc_window_display": false
  }
 },
 "nbformat": 4,
 "nbformat_minor": 5
}
