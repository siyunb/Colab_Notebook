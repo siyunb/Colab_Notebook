{
 "cells": [
  {
   "cell_type": "markdown",
   "id": "maritime-teens",
   "metadata": {},
   "source": [
    "## zip 函数"
   ]
  },
  {
   "cell_type": "markdown",
   "id": "elegant-smile",
   "metadata": {},
   "source": [
    "## python符号'\\*'与'\\**'"
   ]
  },
  {
   "cell_type": "markdown",
   "id": "engaged-tampa",
   "metadata": {},
   "source": [
    "### 运算符号"
   ]
  },
  {
   "cell_type": "markdown",
   "id": "consecutive-visitor",
   "metadata": {},
   "source": [
    "### 作为形参"
   ]
  },
  {
   "cell_type": "markdown",
   "id": "mounted-spread",
   "metadata": {},
   "source": [
    "### 作为实参"
   ]
  },
  {
   "cell_type": "code",
   "execution_count": null,
   "id": "voluntary-briefing",
   "metadata": {},
   "outputs": [],
   "source": [
    "for i in (iter(init_list),):\n",
    "    print(i)"
   ]
  },
  {
   "cell_type": "code",
   "execution_count": null,
   "id": "consolidated-facing",
   "metadata": {},
   "outputs": [],
   "source": [
    "(iter(init_list),)*3"
   ]
  },
  {
   "cell_type": "code",
   "execution_count": null,
   "id": "governing-draft",
   "metadata": {},
   "outputs": [],
   "source": [
    "for i in (1,2,3):\n",
    "    print(i)"
   ]
  },
  {
   "cell_type": "code",
   "execution_count": null,
   "id": "confused-volunteer",
   "metadata": {},
   "outputs": [],
   "source": [
    "for i in zip((1,2,3)):\n",
    "    print(i)"
   ]
  },
  {
   "cell_type": "code",
   "execution_count": null,
   "id": "pacific-replacement",
   "metadata": {},
   "outputs": [],
   "source": [
    "print(((1),(2),(3)))\n",
    "print(((1,),(2,),(3,))) #代表只有一个元素的元组"
   ]
  },
  {
   "cell_type": "code",
   "execution_count": null,
   "id": "downtown-palestinian",
   "metadata": {},
   "outputs": [],
   "source": [
    "[1,]"
   ]
  },
  {
   "cell_type": "code",
   "execution_count": null,
   "id": "secure-woman",
   "metadata": {},
   "outputs": [],
   "source": [
    "[1]"
   ]
  },
  {
   "cell_type": "code",
   "execution_count": null,
   "id": "statutory-arlington",
   "metadata": {},
   "outputs": [],
   "source": [
    "import numpy as np\n",
    "a = np.zeros(1)\n",
    "a.shape"
   ]
  },
  {
   "cell_type": "code",
   "execution_count": null,
   "id": "sorted-albuquerque",
   "metadata": {},
   "outputs": [],
   "source": [
    "(1,)*3"
   ]
  },
  {
   "cell_type": "code",
   "execution_count": null,
   "id": "fuzzy-democracy",
   "metadata": {},
   "outputs": [],
   "source": [
    "(1)*3"
   ]
  },
  {
   "cell_type": "code",
   "execution_count": null,
   "id": "clean-worthy",
   "metadata": {},
   "outputs": [],
   "source": [
    "[1]*3"
   ]
  },
  {
   "cell_type": "code",
   "execution_count": null,
   "id": "thermal-interview",
   "metadata": {},
   "outputs": [],
   "source": [
    "[1,]*3"
   ]
  },
  {
   "cell_type": "code",
   "execution_count": null,
   "id": "psychological-realtor",
   "metadata": {},
   "outputs": [],
   "source": [
    "[1,2]*3"
   ]
  },
  {
   "cell_type": "code",
   "execution_count": null,
   "id": "suspended-laundry",
   "metadata": {},
   "outputs": [],
   "source": [
    "x = [1, 2, 3]\n",
    "r = zip(* [x] * 3)\n",
    "for i in r:\n",
    "    print(i)"
   ]
  },
  {
   "cell_type": "code",
   "execution_count": null,
   "id": "turkish-hamilton",
   "metadata": {},
   "outputs": [],
   "source": [
    "for i in (iter(init_list),)*children_list_len:\n",
    "    for j in i:\n",
    "        print(j)\n",
    "    "
   ]
  },
  {
   "cell_type": "markdown",
   "id": "threaded-adobe",
   "metadata": {},
   "source": [
    "## iter函数的深度解析"
   ]
  },
  {
   "cell_type": "code",
   "execution_count": null,
   "id": "engaging-mexico",
   "metadata": {},
   "outputs": [],
   "source": [
    "#什么是可迭代对象，python3中的可迭代对象是怎样的，list和dict都需要iter成为可迭代对象，items（）\n",
    "iter()\n",
    "next()"
   ]
  },
  {
   "cell_type": "markdown",
   "id": "upset-image",
   "metadata": {},
   "source": [
    "## python 魔法函数的深度理解——以自建iter函数为例\n",
    "Start from scratch"
   ]
  },
  {
   "cell_type": "markdown",
   "id": "surface-celtic",
   "metadata": {},
   "source": []
  },
  {
   "cell_type": "markdown",
   "id": "prime-phone",
   "metadata": {},
   "source": [
    "## 练习 ‘zip(\\*(iter(list),) \\*child_list_len)’"
   ]
  },
  {
   "cell_type": "code",
   "execution_count": 3,
   "id": "offshore-kazakhstan",
   "metadata": {},
   "outputs": [],
   "source": [
    "init_list = [1,2,3,4]"
   ]
  },
  {
   "cell_type": "code",
   "execution_count": 4,
   "id": "encouraging-crisis",
   "metadata": {},
   "outputs": [
    {
     "name": "stdout",
     "output_type": "stream",
     "text": [
      "[<list_iterator object at 0x0000018AB060ED30>, <list_iterator object at 0x0000018B0CB89280>]\n",
      "[<list_iterator object at 0x0000018B0CB891F0>, <list_iterator object at 0x0000018B0CB891F0>]\n"
     ]
    }
   ],
   "source": [
    "#到底是几个对象?\n",
    "print([iter(init_list),iter(init_list)])\n",
    "print([iter(init_list)]*2)"
   ]
  },
  {
   "cell_type": "code",
   "execution_count": 5,
   "id": "simplified-profile",
   "metadata": {},
   "outputs": [
    {
     "name": "stdout",
     "output_type": "stream",
     "text": [
      "(1, 1)\n",
      "(2, 2)\n",
      "(3, 3)\n",
      "(4, 4)\n"
     ]
    }
   ],
   "source": [
    "for i in zip(iter(init_list),iter(init_list)):\n",
    "    print(i)"
   ]
  },
  {
   "cell_type": "code",
   "execution_count": 9,
   "id": "parallel-specialist",
   "metadata": {},
   "outputs": [
    {
     "name": "stdout",
     "output_type": "stream",
     "text": [
      "(1, 2)\n",
      "(3, 4)\n"
     ]
    }
   ],
   "source": [
    "for i in zip(*[iter(init_list)]*2):\n",
    "    print(i)"
   ]
  },
  {
   "cell_type": "code",
   "execution_count": 8,
   "id": "civic-paper",
   "metadata": {},
   "outputs": [
    {
     "name": "stdout",
     "output_type": "stream",
     "text": [
      "(1, 2)\n",
      "(3, 4)\n"
     ]
    }
   ],
   "source": [
    "for i in zip(*(iter(init_list),)*2):\n",
    "    print(i)"
   ]
  },
  {
   "cell_type": "code",
   "execution_count": null,
   "id": "systematic-technology",
   "metadata": {},
   "outputs": [],
   "source": [
    "def list_of_groups(init_list, children_list_len):\n",
    "    list_of_groups = zip(*(iter(init_list),) *children_list_len)\n",
    "    end_list = [list(i) for i in list_of_groups]\n",
    "    count = len(init_list) % children_list_len\n",
    "    end_list.append(init_list[-count:]) if count !=0 else end_list #!!!这种语句需要学\n",
    "    return end_list"
   ]
  },
  {
   "cell_type": "code",
   "execution_count": null,
   "id": "frank-swaziland",
   "metadata": {},
   "outputs": [],
   "source": [
    "# 我想改进上述函数使得并行更有效率, list 是迭代对象显出原形\n",
    "list_groups = [iter(init_list)] *number_thread\n",
    "[list(i) for i in list_groups]"
   ]
  }
 ],
 "metadata": {
  "kernelspec": {
   "display_name": "Python 3",
   "language": "python",
   "name": "python3"
  },
  "language_info": {
   "codemirror_mode": {
    "name": "ipython",
    "version": 3
   },
   "file_extension": ".py",
   "mimetype": "text/x-python",
   "name": "python",
   "nbconvert_exporter": "python",
   "pygments_lexer": "ipython3",
   "version": "3.8.8"
  },
  "toc": {
   "base_numbering": 1,
   "nav_menu": {},
   "number_sections": true,
   "sideBar": true,
   "skip_h1_title": false,
   "title_cell": "Table of Contents",
   "title_sidebar": "Contents",
   "toc_cell": false,
   "toc_position": {},
   "toc_section_display": true,
   "toc_window_display": false
  }
 },
 "nbformat": 4,
 "nbformat_minor": 5
}
