{
 "cells": [
  {
   "cell_type": "code",
   "execution_count": 8,
   "id": "unique-indicator",
   "metadata": {},
   "outputs": [],
   "source": [
    "%matplotlib inline\n",
    "import torch\n",
    "import torch.optim as optim \n",
    "import torch.nn as nn\n",
    "import torch.nn.functional as F\n",
    "import numpy as np\n",
    "from IPython import display\n",
    "from matplotlib import pyplot as plt\n",
    "import torch.utils.data as Data \n",
    "from torch.nn import init"
   ]
  },
  {
   "cell_type": "code",
   "execution_count": 3,
   "id": "sexual-vocabulary",
   "metadata": {},
   "outputs": [],
   "source": [
    "def set_figsize(figsize = (3.5, 2.5)):\n",
    "    display.set_matplotlib_formats('svg')\n",
    "    plt.rcParams['figure.figsize'] = figsize"
   ]
  },
  {
   "cell_type": "code",
   "execution_count": 4,
   "id": "ultimate-living",
   "metadata": {},
   "outputs": [],
   "source": [
    "num_feature = 2\n",
    "num_sample = 1000\n",
    "b = torch.tensor(4.2)\n",
    "w = torch.tensor([[2], [-3.4]], dtype = torch.float)\n",
    "x = torch.randn(num_sample, num_feature, dtype = torch.float)\n",
    "e = torch.tensor(np.random.normal(0,0.01, size = (num_sample,1)), dtype = torch.float)\n",
    "y = torch.mm(x, w) + b +e"
   ]
  },
  {
   "cell_type": "code",
   "execution_count": 6,
   "id": "overall-edition",
   "metadata": {},
   "outputs": [],
   "source": [
    "batch_size = 10\n",
    "dataset = Data.TensorDataset(x, y)\n",
    "data_iter = Data.DataLoader(dataset, batch_size, shuffle = True)"
   ]
  },
  {
   "cell_type": "code",
   "execution_count": 10,
   "id": "opened-holmes",
   "metadata": {},
   "outputs": [],
   "source": [
    "class LinearNet(nn.Module):\n",
    "    def __init__(self, feature):\n",
    "        super().__init__()\n",
    "        self.linear = nn.Linear(feature, 1)\n",
    "    def forward(self, x):\n",
    "        y = self.linear(x)\n",
    "        return y \n",
    "    \n",
    "network = LinearNet(2)"
   ]
  },
  {
   "cell_type": "code",
   "execution_count": 18,
   "id": "simple-mother",
   "metadata": {},
   "outputs": [
    {
     "data": {
      "text/plain": [
       "Parameter containing:\n",
       "tensor([0.], requires_grad=True)"
      ]
     },
     "execution_count": 18,
     "metadata": {},
     "output_type": "execute_result"
    }
   ],
   "source": [
    "init.normal_(network.linear.weight, mean = 0, std = 0.01)\n",
    "init.constant_(network.linear.bias, val = 0)"
   ]
  },
  {
   "cell_type": "code",
   "execution_count": 12,
   "id": "convertible-ivory",
   "metadata": {},
   "outputs": [],
   "source": [
    "loss_fn = nn.MSELoss()"
   ]
  },
  {
   "cell_type": "code",
   "execution_count": 13,
   "id": "upper-flour",
   "metadata": {},
   "outputs": [],
   "source": [
    "optimizer = optim.SGD(network.parameters(), lr = 1e-2)"
   ]
  },
  {
   "cell_type": "code",
   "execution_count": 16,
   "id": "changing-boost",
   "metadata": {},
   "outputs": [],
   "source": [
    "def training_loop(n_epoch, data_iter, x, y, model, loss_fn, optimizer):\n",
    "    for epoch in range(n_epoch):\n",
    "        for train_x, train_y in data_iter:\n",
    "            y_hat = model(train_x)\n",
    "            loss = loss_fn(y_hat, train_y)\n",
    "            optimizer.zero_grad()\n",
    "            loss.backward()\n",
    "            optimizer.step()\n",
    "        if epoch%50 == 0:\n",
    "            train_loss = loss_fn(model(x), y)\n",
    "            print('epoch: %d, train_loss: %.2f'%(epoch, train_loss))\n",
    "    for name, params in model.named_parameters():\n",
    "        print(name, params)"
   ]
  },
  {
   "cell_type": "code",
   "execution_count": 19,
   "id": "coastal-brooks",
   "metadata": {},
   "outputs": [
    {
     "name": "stdout",
     "output_type": "stream",
     "text": [
      "epoch: 0, train_loss: 0.54\n",
      "epoch: 50, train_loss: 0.00\n",
      "epoch: 100, train_loss: 0.00\n",
      "epoch: 150, train_loss: 0.00\n",
      "epoch: 200, train_loss: 0.00\n",
      "epoch: 250, train_loss: 0.00\n",
      "epoch: 300, train_loss: 0.00\n",
      "epoch: 350, train_loss: 0.00\n",
      "epoch: 400, train_loss: 0.00\n",
      "epoch: 450, train_loss: 0.00\n",
      "linear.weight Parameter containing:\n",
      "tensor([[ 2.0006, -3.3992]], requires_grad=True)\n",
      "linear.bias Parameter containing:\n",
      "tensor([4.2003], requires_grad=True)\n"
     ]
    }
   ],
   "source": [
    "training_loop(n_epoch = 500, data_iter = data_iter, \n",
    "              x = x, y = y, \n",
    "              model = network, loss_fn = loss_fn, optimizer = optimizer)"
   ]
  },
  {
   "cell_type": "code",
   "execution_count": null,
   "id": "sonic-gentleman",
   "metadata": {},
   "outputs": [],
   "source": []
  },
  {
   "cell_type": "code",
   "execution_count": 76,
   "id": "digital-makeup",
   "metadata": {},
   "outputs": [
    {
     "name": "stdout",
     "output_type": "stream",
     "text": [
      "True\n"
     ]
    }
   ],
   "source": [
    "x = torch.tensor([1,2])\n",
    "y = torch.tensor([3,4])\n",
    "id_before = id(y)\n",
    "torch.add(x, y, out = y)\n",
    "print(id(y) == id_before)"
   ]
  },
  {
   "cell_type": "code",
   "execution_count": 78,
   "id": "fluid-filter",
   "metadata": {},
   "outputs": [
    {
     "name": "stdout",
     "output_type": "stream",
     "text": [
      "tensor([2, 3], device='cuda:0')\n",
      "tensor([2., 3.], dtype=torch.float64)\n"
     ]
    }
   ],
   "source": [
    "gpu_device = torch.device('cuda')\n",
    "cpu_device = torch.device('cpu')\n",
    "y = torch.ones_like(x, device = gpu_device)\n",
    "x = x.to(gpu_device)\n",
    "z = x + y\n",
    "print(z)\n",
    "print(z.to(cpu_device, torch.double))"
   ]
  },
  {
   "cell_type": "code",
   "execution_count": 104,
   "id": "minus-harassment",
   "metadata": {},
   "outputs": [
    {
     "name": "stdout",
     "output_type": "stream",
     "text": [
      "tensor([2.0000, 0.2000, 0.0200, 0.0020])\n"
     ]
    }
   ],
   "source": [
    "x = torch.tensor([1,2,3,4], dtype = torch.float, requires_grad = True)\n",
    "y = 2*x\n",
    "z = y.view(2,2)\n",
    "v = torch.tensor([[1, 0.1],[0.01, 0.001]], dtype = torch.float)\n",
    "z.backward(v)\n",
    "print(x.grad)"
   ]
  },
  {
   "cell_type": "code",
   "execution_count": 134,
   "id": "academic-palestine",
   "metadata": {},
   "outputs": [],
   "source": [
    "def set_figsize(figsize = (3.5, 2.5)):\n",
    "    display.set_matplotlib_formats('svg')\n",
    "    plt.rcParams['figure.figsize'] = figsize"
   ]
  },
  {
   "cell_type": "code",
   "execution_count": 142,
   "id": "encouraging-response",
   "metadata": {},
   "outputs": [],
   "source": [
    "def data_iter(batch_size, x, y):\n",
    "    num_example = x.shape[0]\n",
    "    indices = torch.randperm(num_example)\n",
    "    for i in range(0, num_example, batch_size):\n",
    "        j = torch.LongTensor(indices[i:min(i+batch_size,num_example)])\n",
    "        yield x.index_select(0,j), y.index_select(0,j)"
   ]
  },
  {
   "cell_type": "code",
   "execution_count": 122,
   "id": "concerned-waterproof",
   "metadata": {},
   "outputs": [
    {
     "name": "stdout",
     "output_type": "stream",
     "text": [
      "tensor([1.])\n",
      "False\n",
      "tensor([2.])\n"
     ]
    }
   ],
   "source": [
    "x = torch.ones(1, requires_grad = True)\n",
    "print(x.data)\n",
    "print(x.data.requires_grad)\n",
    "\n",
    "y = x**2\n",
    "\n",
    "x.data *= 100\n",
    "y.backward()\n",
    "print(x.grad)"
   ]
  },
  {
   "cell_type": "code",
   "execution_count": 16,
   "id": "rough-voluntary",
   "metadata": {},
   "outputs": [],
   "source": [
    "t_c = [0.5,  14.0, 15.0, 28.0, 11.0,  8.0,  3.0, -4.0,  6.0, 13.0, 21.0] #known data\n",
    "t_u = [35.7, 55.9, 58.2, 81.9, 56.3, 48.9, 33.9, 21.8, 48.4, 60.4, 68.4] #unknown data\n",
    "t_c = torch.tensor(t_c)\n",
    "t_u = torch.tensor(t_u)"
   ]
  },
  {
   "cell_type": "code",
   "execution_count": 17,
   "id": "extraordinary-smile",
   "metadata": {},
   "outputs": [],
   "source": [
    "def model(t_u, w, b):\n",
    "    return w * t_u + b\n",
    "\n",
    "def loss_fn(t_p, t_c):\n",
    "    squared_diffs = (t_p - t_c)**2\n",
    "    return squared_diffs.mean()"
   ]
  },
  {
   "cell_type": "code",
   "execution_count": 18,
   "id": "eight-firmware",
   "metadata": {},
   "outputs": [],
   "source": [
    "def training_loop(n_epochs, learning_rate, params, t_u, t_c):\n",
    "    for epoch in range(1, n_epochs + 1):\n",
    "        if params.grad is not None: \n",
    "            params.grad.zero_() # 这可以在调用backward之前在循环中的任何时候完成\n",
    "        t_p = model(t_u, *params)\n",
    "        loss = loss_fn(t_p, t_c)\n",
    "        loss.backward()\n",
    "        params = (params - learning_rate * params.grad).detach().requires_grad_()\n",
    "        if epoch % 500 == 0:\n",
    "            print('Epoch %d, Loss %f' % (epoch, float(loss)))\n",
    "    return params"
   ]
  },
  {
   "cell_type": "code",
   "execution_count": 19,
   "id": "medieval-redhead",
   "metadata": {},
   "outputs": [
    {
     "name": "stdout",
     "output_type": "stream",
     "text": [
      "Epoch 500, Loss 7.860115\n",
      "Epoch 1000, Loss 3.828538\n",
      "Epoch 1500, Loss 3.092191\n",
      "Epoch 2000, Loss 2.957698\n",
      "Epoch 2500, Loss 2.933134\n",
      "Epoch 3000, Loss 2.928648\n",
      "Epoch 3500, Loss 2.927830\n",
      "Epoch 4000, Loss 2.927679\n",
      "Epoch 4500, Loss 2.927652\n",
      "Epoch 5000, Loss 2.927647\n"
     ]
    },
    {
     "data": {
      "text/plain": [
       "tensor([  5.3671, -17.3012], requires_grad=True)"
      ]
     },
     "execution_count": 19,
     "metadata": {},
     "output_type": "execute_result"
    }
   ],
   "source": [
    "t_un = 0.1 * t_u\n",
    "training_loop(\n",
    "    n_epochs = 5000,\n",
    "    learning_rate = 1e-2,\n",
    "    params = torch.tensor([1.0, 0.0], requires_grad=True),\n",
    "    t_u = t_un,\n",
    "    t_c = t_c)"
   ]
  },
  {
   "cell_type": "code",
   "execution_count": 32,
   "id": "likely-bolivia",
   "metadata": {},
   "outputs": [],
   "source": [
    "params = torch.tensor([1.0, 0.0], requires_grad = True)\n",
    "learning_rate = 1e-4\n",
    "optimizer = optim.SGD([params], lr = learning_rate)"
   ]
  },
  {
   "cell_type": "code",
   "execution_count": 25,
   "id": "powered-steel",
   "metadata": {},
   "outputs": [
    {
     "data": {
      "text/plain": [
       "tensor([ 0.0965, -0.0165], requires_grad=True)"
      ]
     },
     "execution_count": 25,
     "metadata": {},
     "output_type": "execute_result"
    }
   ],
   "source": [
    "loss = loss_fn(model(t_u, *params), t_c)\n",
    "loss.backward()\n",
    "optimizer.step()\n",
    "params"
   ]
  },
  {
   "cell_type": "code",
   "execution_count": 28,
   "id": "excited-greece",
   "metadata": {},
   "outputs": [],
   "source": [
    "def training_loop(n_epochs, learning_rate, params, t_u, t_c):\n",
    "    optimizer = optim.SGD([params], lr = learning_rate)\n",
    "    for epoch in range(1, n_epochs + 1):\n",
    "        if params.grad is not None: \n",
    "            params.grad.zero_() # 这可以在调用backward之前在循环中的任何时候完成\n",
    "        loss = loss_fn(model(t_u, *params), t_c)\n",
    "        loss.backward()\n",
    "        optimizer.step()\n",
    "        if epoch % 500 == 0:\n",
    "            print('Epoch %d, Loss %f' % (epoch, float(loss)))\n",
    "    return params"
   ]
  },
  {
   "cell_type": "code",
   "execution_count": 35,
   "id": "material-ethnic",
   "metadata": {},
   "outputs": [],
   "source": [
    "def training_loop(n_epochs, optimizer, params, t_u, t_c):\n",
    "    for epoch in range(1, n_epochs + 1):\n",
    "        loss = loss_fn(model(t_u, *params), t_c)\n",
    "        optimizer.zero_grad()\n",
    "        loss.backward()\n",
    "        optimizer.step()\n",
    "        if epoch % 500 == 0:\n",
    "            print('Epoch %d, Loss %f' % (epoch, float(loss)))\n",
    "    return params"
   ]
  },
  {
   "cell_type": "code",
   "execution_count": 38,
   "id": "coated-brother",
   "metadata": {},
   "outputs": [],
   "source": [
    "params = torch.tensor([1.0, 0.0], requires_grad = True)\n",
    "learning_rate = 1e-2\n",
    "optimizer = optim.SGD([params], lr = learning_rate)"
   ]
  },
  {
   "cell_type": "code",
   "execution_count": 39,
   "id": "supreme-nature",
   "metadata": {},
   "outputs": [
    {
     "name": "stdout",
     "output_type": "stream",
     "text": [
      "Epoch 500, Loss 7.860115\n",
      "Epoch 1000, Loss 3.828538\n",
      "Epoch 1500, Loss 3.092191\n",
      "Epoch 2000, Loss 2.957698\n",
      "Epoch 2500, Loss 2.933134\n",
      "Epoch 3000, Loss 2.928648\n",
      "Epoch 3500, Loss 2.927830\n",
      "Epoch 4000, Loss 2.927679\n",
      "Epoch 4500, Loss 2.927652\n",
      "Epoch 5000, Loss 2.927647\n"
     ]
    },
    {
     "data": {
      "text/plain": [
       "tensor([  5.3671, -17.3012], requires_grad=True)"
      ]
     },
     "execution_count": 39,
     "metadata": {},
     "output_type": "execute_result"
    }
   ],
   "source": [
    "t_un = 0.1 * t_u\n",
    "training_loop(\n",
    "    n_epochs = 5000,\n",
    "    optimizer = optimizer,\n",
    "    params = params,\n",
    "    t_u = t_un,\n",
    "    t_c = t_c)"
   ]
  },
  {
   "cell_type": "code",
   "execution_count": 40,
   "id": "unusual-sarah",
   "metadata": {},
   "outputs": [],
   "source": [
    "params = torch.tensor([1.0, 0.0], requires_grad = True)\n",
    "learning_rate = 1e-1\n",
    "optimizer = optim.Adam([params], lr = learning_rate)"
   ]
  },
  {
   "cell_type": "code",
   "execution_count": 41,
   "id": "agricultural-combat",
   "metadata": {},
   "outputs": [
    {
     "name": "stdout",
     "output_type": "stream",
     "text": [
      "Epoch 500, Loss 7.612900\n",
      "Epoch 1000, Loss 3.086700\n",
      "Epoch 1500, Loss 2.928579\n",
      "Epoch 2000, Loss 2.927644\n",
      "Epoch 2500, Loss 2.927645\n",
      "Epoch 3000, Loss 2.927646\n",
      "Epoch 3500, Loss 2.927645\n",
      "Epoch 4000, Loss 2.927646\n",
      "Epoch 4500, Loss 2.927646\n",
      "Epoch 5000, Loss 2.927645\n"
     ]
    },
    {
     "data": {
      "text/plain": [
       "tensor([  0.5368, -17.3048], requires_grad=True)"
      ]
     },
     "execution_count": 41,
     "metadata": {},
     "output_type": "execute_result"
    }
   ],
   "source": [
    "training_loop(\n",
    "    n_epochs = 5000,\n",
    "    optimizer = optimizer,\n",
    "    params = params,\n",
    "    t_u = t_u,\n",
    "    t_c = t_c)"
   ]
  },
  {
   "cell_type": "code",
   "execution_count": 42,
   "id": "preceding-viewer",
   "metadata": {},
   "outputs": [],
   "source": [
    "def training_loop(n_epochs, optimizer, params, t_u, t_c):\n",
    "    for epoch in range(1, n_epochs + 1):\n",
    "        t_p = model(t_u, *params)\n",
    "        loss = loss_fn(t_p, t_c)\n",
    "        optimizer.zero_grad()\n",
    "        loss.backward()\n",
    "        optimizer.step()\n",
    "        if epoch % 500 == 0:\n",
    "            print('Epoch %d, Loss %f' % (epoch, float(loss)))\n",
    "    return params"
   ]
  },
  {
   "cell_type": "code",
   "execution_count": 55,
   "id": "induced-contrast",
   "metadata": {},
   "outputs": [
    {
     "data": {
      "text/plain": [
       "(tensor([6, 5, 3, 1, 2, 8, 7, 0, 9]), tensor([10,  4]))"
      ]
     },
     "execution_count": 55,
     "metadata": {},
     "output_type": "execute_result"
    }
   ],
   "source": [
    "n_samples = t_u.shape[0]\n",
    "n_val = int(0.2*n_samples)\n",
    "shuffled_indices = torch.randperm(n_samples)\n",
    "train_indices = shuffled_indices[:-n_val]\n",
    "val_indices = shuffled_indices[-n_val:]\n",
    "train_indices, val_indices"
   ]
  },
  {
   "cell_type": "code",
   "execution_count": 94,
   "id": "steady-authentication",
   "metadata": {},
   "outputs": [],
   "source": [
    "train_t_u = t_u[train_indices]\n",
    "train_t_c = t_c[train_indices]\n",
    "\n",
    "val_t_u = t_u[val_indices] \n",
    "val_t_c = t_c[val_indices]\n",
    "\n",
    "train_t_un = train_t_u*0.1\n",
    "val_t_un = val_t_u*0.1"
   ]
  },
  {
   "cell_type": "code",
   "execution_count": 72,
   "id": "equipped-solid",
   "metadata": {},
   "outputs": [],
   "source": [
    "def training_loop(n_epochs, optimizer, params, train_t_u, train_t_c, val_t_u, val_t_c):\n",
    "    for epoch in range(1, n_epochs + 1):\n",
    "        train_t_p = model(train_t_u, *params)\n",
    "        train_loss = loss_fn(train_t_p, train_t_c)\n",
    "        \n",
    "        val_t_p = model(val_t_u, *params)\n",
    "        val_loss = loss_fn(val_t_p, val_t_c)\n",
    "        \n",
    "        optimizer.zero_grad()\n",
    "        train_loss.backward()\n",
    "        optimizer.step()\n",
    "        \n",
    "        if epoch % 50 == 0:\n",
    "            print('Epoch %d, Training Loss %.2f, Validation Loss %.2f' % (epoch, train_loss.float(), val_loss.float()))\n",
    "    \n",
    "    return params"
   ]
  },
  {
   "cell_type": "code",
   "execution_count": 70,
   "id": "processed-christmas",
   "metadata": {},
   "outputs": [],
   "source": [
    "params = torch.tensor([1.0, 0.0], requires_grad = True)\n",
    "learning_rate = 1e-1\n",
    "optimizer = optim.Adam([params], lr = learning_rate)"
   ]
  },
  {
   "cell_type": "code",
   "execution_count": 71,
   "id": "mature-atlas",
   "metadata": {},
   "outputs": [
    {
     "name": "stdout",
     "output_type": "stream",
     "text": [
      "Epoch 50, Training Loss 32.35, Validation Loss 14.88\n",
      "Epoch 100, Training Loss 26.35, Validation Loss 11.49\n",
      "Epoch 150, Training Loss 19.50, Validation Loss 9.84\n",
      "Epoch 200, Training Loss 13.95, Validation Loss 8.28\n",
      "Epoch 250, Training Loss 9.78, Validation Loss 6.98\n",
      "Epoch 300, Training Loss 6.88, Validation Loss 5.92\n",
      "Epoch 350, Training Loss 5.00, Validation Loss 5.08\n",
      "Epoch 400, Training Loss 3.88, Validation Loss 4.44\n",
      "Epoch 450, Training Loss 3.27, Validation Loss 3.96\n",
      "Epoch 500, Training Loss 2.99, Validation Loss 3.60\n"
     ]
    },
    {
     "data": {
      "text/plain": [
       "tensor([  5.1335, -15.9296], requires_grad=True)"
      ]
     },
     "execution_count": 71,
     "metadata": {},
     "output_type": "execute_result"
    }
   ],
   "source": [
    "training_loop(n_epochs=500, optimizer = optimizer, params = params, \n",
    "              train_t_u = train_t_u, train_t_c = train_t_c, val_t_u = val_t_u, val_t_c = val_t_c)"
   ]
  },
  {
   "cell_type": "code",
   "execution_count": 73,
   "id": "dated-threat",
   "metadata": {},
   "outputs": [],
   "source": [
    "def training_loop(n_epochs, optimizer, params, train_t_u, train_t_c, val_t_u, val_t_c):\n",
    "    for epoch in range(1, n_epochs + 1):\n",
    "        train_t_p = model(train_t_u, *params)\n",
    "        train_loss = loss_fn(train_t_p, train_t_c)\n",
    "        \n",
    "        with torch.no_grad():\n",
    "            val_t_p = model(val_t_u, *params)\n",
    "            val_loss = loss_fn(val_t_p, val_t_c)\n",
    "            assert val_loss.requires_grad == False\n",
    "        \n",
    "        optimizer.zero_grad()\n",
    "        train_loss.backward()\n",
    "        optimizer.step()\n",
    "        \n",
    "        if epoch % 50 == 0:\n",
    "            print('Epoch %d, Training Loss %.2f, Validation Loss %.2f' % (epoch, train_loss.float(), val_loss.float()))\n",
    "    \n",
    "    return params"
   ]
  },
  {
   "cell_type": "code",
   "execution_count": 81,
   "id": "abandoned-advisory",
   "metadata": {},
   "outputs": [],
   "source": [
    "params = torch.tensor([1.0, 0.0], requires_grad = True)\n",
    "learning_rate = 1e-1\n",
    "optimizer = optim.Adam([params], lr = learning_rate)"
   ]
  },
  {
   "cell_type": "code",
   "execution_count": 75,
   "id": "split-degree",
   "metadata": {},
   "outputs": [
    {
     "name": "stdout",
     "output_type": "stream",
     "text": [
      "Epoch 50, Training Loss 27.32, Validation Loss 17.74\n",
      "Epoch 100, Training Loss 17.60, Validation Loss 12.63\n",
      "Epoch 150, Training Loss 10.88, Validation Loss 9.16\n",
      "Epoch 200, Training Loss 6.83, Validation Loss 6.84\n",
      "Epoch 250, Training Loss 4.66, Validation Loss 5.36\n",
      "Epoch 300, Training Loss 3.61, Validation Loss 4.46\n",
      "Epoch 350, Training Loss 3.15, Validation Loss 3.92\n",
      "Epoch 400, Training Loss 2.97, Validation Loss 3.61\n",
      "Epoch 450, Training Loss 2.90, Validation Loss 3.43\n",
      "Epoch 500, Training Loss 2.88, Validation Loss 3.34\n"
     ]
    },
    {
     "data": {
      "text/plain": [
       "tensor([  5.2488, -16.6556], requires_grad=True)"
      ]
     },
     "execution_count": 75,
     "metadata": {},
     "output_type": "execute_result"
    }
   ],
   "source": [
    "training_loop(n_epochs=500, optimizer = optimizer, params = params, \n",
    "              train_t_u = train_t_u, train_t_c = train_t_c, \n",
    "              val_t_u = val_t_u, val_t_c = val_t_c)"
   ]
  },
  {
   "cell_type": "code",
   "execution_count": 85,
   "id": "binary-compatibility",
   "metadata": {},
   "outputs": [],
   "source": [
    "def model(t_u, w, b):\n",
    "    t_p = w_2*t_u*t_u + w_1*t_u + b\n",
    "    return t_p"
   ]
  },
  {
   "cell_type": "code",
   "execution_count": 86,
   "id": "other-maple",
   "metadata": {},
   "outputs": [],
   "source": [
    "def clalc_forward(t_u, t_c, params,is_train):\n",
    "    with torch.set_grad_enabled(is_train):\n",
    "        t_p = model(t_u, *params)\n",
    "        loss = loss_fn(t_p, t_c)\n",
    "    return loss"
   ]
  },
  {
   "cell_type": "code",
   "execution_count": 87,
   "id": "amino-screening",
   "metadata": {},
   "outputs": [],
   "source": [
    "def training_loop(n_epochs, optimizer, params, train_t_u, train_t_c, val_t_u, val_t_c):\n",
    "    for epoch in range(1, n_epochs + 1):\n",
    "        train_loss = clalc_forward(train_t_u, train_t_c, params, is_train = True)\n",
    "        val_loss = clalc_forward(val_t_u, val_t_c, params, is_train = False)\n",
    "        \n",
    "        optimizer.zero_grad()\n",
    "        train_loss.backward()\n",
    "        optimizer.step()\n",
    "        \n",
    "        if epoch % 50 == 0:\n",
    "            print('Epoch %d, Training Loss %.2f, Validation Loss %.2f' % (epoch, train_loss.float(), val_loss.float()))\n",
    "    \n",
    "    return params"
   ]
  },
  {
   "cell_type": "code",
   "execution_count": 88,
   "id": "worth-newton",
   "metadata": {},
   "outputs": [],
   "source": [
    "params = torch.tensor([1.0, 1.0, 0.0], requires_grad = True)\n",
    "learning_rate = 1e-1\n",
    "optimizer = optim.Adam([params], lr = learning_rate)"
   ]
  },
  {
   "cell_type": "code",
   "execution_count": 89,
   "id": "verbal-arena",
   "metadata": {},
   "outputs": [
    {
     "name": "stdout",
     "output_type": "stream",
     "text": [
      "Epoch 50, Training Loss 7.06, Validation Loss 6.64\n",
      "Epoch 100, Training Loss 4.39, Validation Loss 3.14\n",
      "Epoch 150, Training Loss 3.49, Validation Loss 2.44\n",
      "Epoch 200, Training Loss 3.25, Validation Loss 2.10\n",
      "Epoch 250, Training Loss 3.18, Validation Loss 1.96\n",
      "Epoch 300, Training Loss 3.14, Validation Loss 1.91\n",
      "Epoch 350, Training Loss 3.10, Validation Loss 1.90\n",
      "Epoch 400, Training Loss 3.06, Validation Loss 1.89\n",
      "Epoch 450, Training Loss 3.01, Validation Loss 1.89\n",
      "Epoch 500, Training Loss 2.97, Validation Loss 1.89\n"
     ]
    },
    {
     "data": {
      "text/plain": [
       "tensor([ 0.5050, -0.0422, -4.1968], requires_grad=True)"
      ]
     },
     "execution_count": 89,
     "metadata": {},
     "output_type": "execute_result"
    }
   ],
   "source": [
    "training_loop(n_epochs=500, optimizer = optimizer, params = params, \n",
    "              train_t_u = train_t_u, train_t_c = train_t_c, \n",
    "              val_t_u = val_t_u, val_t_c = val_t_c)"
   ]
  },
  {
   "cell_type": "code",
   "execution_count": 27,
   "id": "amazing-seating",
   "metadata": {},
   "outputs": [],
   "source": [
    "t_c = [0.5,  14.0, 15.0, 28.0, 11.0,  8.0,  3.0, -4.0,  6.0, 13.0, 21.0] #known data\n",
    "t_u = [35.7, 55.9, 58.2, 81.9, 56.3, 48.9, 33.9, 21.8, 48.4, 60.4, 68.4] #unknown data\n",
    "t_u = torch.tensor(t_u)\n",
    "t_c = torch.tensor(t_c)\n",
    "\n",
    "n_samples = t_u.shape[0]\n",
    "n_val = int(0.2*n_samples)\n",
    "shuffled_indices = torch.randperm(n_samples)\n",
    "train_indices = shuffled_indices[:-n_val]\n",
    "val_indices = shuffled_indices[-n_val:]\n",
    "train_indices, val_indices\n",
    "\n",
    "train_t_u = t_u[train_indices].unsqueeze(1)\n",
    "train_t_c = t_c[train_indices].unsqueeze(1)\n",
    "val_t_u = t_u[val_indices].unsqueeze(1)\n",
    "val_t_c = t_c[val_indices].unsqueeze(1)\n",
    "\n",
    "train_t_un = train_t_u*0.1 \n",
    "val_t_un = val_t_u*0.1"
   ]
  },
  {
   "cell_type": "code",
   "execution_count": 28,
   "id": "wicked-conversation",
   "metadata": {},
   "outputs": [
    {
     "name": "stderr",
     "output_type": "stream",
     "text": [
      "D:\\anaconda\\anaconda\\envs\\pytorch\\lib\\site-packages\\torch\\nn\\_reduction.py:42: UserWarning: size_average and reduce args will be deprecated, please use reduction='mean' instead.\n",
      "  warnings.warn(warning.format(ret))\n"
     ]
    }
   ],
   "source": [
    "linear_model = nn.Linear(1,1)\n",
    "optimizer = optim.Adam(linear_model.parameters(),lr = 1e-2)\n",
    "loss_fn = torch.nn.MSELoss(size_average=True)"
   ]
  },
  {
   "cell_type": "code",
   "execution_count": 30,
   "id": "phantom-dylan",
   "metadata": {},
   "outputs": [],
   "source": [
    "def training_loop(n_epoch, model, loss_fn, optimizer, train_t_u, train_t_c, val_t_u, val_t_c):\n",
    "    for epoch in range(1,n_epoch+1):\n",
    "        train_t_p = model(train_t_u)\n",
    "        train_loss = loss_fn(train_t_p, train_t_c)\n",
    "        \n",
    "        val_t_p = model(val_t_u)\n",
    "        val_loss = loss_fn(val_t_p, val_t_c)\n",
    "        \n",
    "        optimizer.zero_grad()\n",
    "        train_loss.backward()\n",
    "        optimizer.step()\n",
    "        \n",
    "        if epoch%500 ==0:\n",
    "            print('Epoch: %d, Train_Loss: %.2f, Val_Loss: %.2f'%(epoch, train_loss, val_loss))"
   ]
  },
  {
   "cell_type": "code",
   "execution_count": 35,
   "id": "demanding-casting",
   "metadata": {},
   "outputs": [
    {
     "name": "stdout",
     "output_type": "stream",
     "text": [
      "Epoch: 500, Train_Loss: 4.42, Val_Loss: 10.54\n",
      "Epoch: 1000, Train_Loss: 4.11, Val_Loss: 9.39\n",
      "Epoch: 1500, Train_Loss: 3.81, Val_Loss: 8.25\n",
      "Epoch: 2000, Train_Loss: 3.52, Val_Loss: 7.12\n",
      "Epoch: 2500, Train_Loss: 3.28, Val_Loss: 6.08\n",
      "Epoch: 3000, Train_Loss: 3.09, Val_Loss: 5.20\n",
      "Epoch: 3500, Train_Loss: 2.96, Val_Loss: 4.52\n",
      "Epoch: 4000, Train_Loss: 2.89, Val_Loss: 4.05\n",
      "Epoch: 4500, Train_Loss: 2.86, Val_Loss: 3.75\n",
      "Epoch: 5000, Train_Loss: 2.85, Val_Loss: 3.59\n"
     ]
    }
   ],
   "source": [
    "training_loop(n_epoch = 5000, model = linear_model, loss_fn = loss_fn, optimizer = optimizer, \n",
    "              train_t_u = train_t_un, train_t_c = train_t_c, val_t_u = val_t_un, val_t_c = val_t_c)"
   ]
  },
  {
   "cell_type": "code",
   "execution_count": 36,
   "id": "conditional-dublin",
   "metadata": {},
   "outputs": [
    {
     "data": {
      "text/plain": [
       "[Parameter containing:\n",
       " tensor([[5.2194]], requires_grad=True),\n",
       " Parameter containing:\n",
       " tensor([-16.5031], requires_grad=True)]"
      ]
     },
     "execution_count": 36,
     "metadata": {},
     "output_type": "execute_result"
    }
   ],
   "source": [
    "list(linear_model.parameters())"
   ]
  },
  {
   "cell_type": "code",
   "execution_count": 38,
   "id": "extensive-impression",
   "metadata": {},
   "outputs": [],
   "source": [
    "seq_model = nn.Sequential(\n",
    "            nn.Linear(1,13),\n",
    "            nn.Tanh(),\n",
    "            nn.Linear(13,1))"
   ]
  },
  {
   "cell_type": "code",
   "execution_count": 42,
   "id": "terminal-alpha",
   "metadata": {},
   "outputs": [
    {
     "data": {
      "text/plain": [
       "[Parameter containing:\n",
       " tensor([[-0.7766],\n",
       "         [ 0.6892],\n",
       "         [-0.8019],\n",
       "         [-0.6600],\n",
       "         [ 0.6577],\n",
       "         [-0.6652],\n",
       "         [ 0.3134],\n",
       "         [ 0.0567],\n",
       "         [-0.9726],\n",
       "         [-0.0121],\n",
       "         [-0.4719],\n",
       "         [-0.7999],\n",
       "         [ 0.9525]], requires_grad=True),\n",
       " Parameter containing:\n",
       " tensor([-0.5310,  0.4305, -0.0568,  0.7060,  0.3968, -0.6428, -0.0676,  0.6612,\n",
       "         -0.4612,  0.0518, -0.0779, -0.5959,  0.6725], requires_grad=True),\n",
       " Parameter containing:\n",
       " tensor([[-0.1151, -0.0934, -0.2451, -0.1570, -0.0616,  0.2053,  0.0405, -0.0290,\n",
       "           0.0036,  0.1307,  0.1540, -0.0044,  0.0348]], requires_grad=True),\n",
       " Parameter containing:\n",
       " tensor([0.0443], requires_grad=True)]"
      ]
     },
     "execution_count": 42,
     "metadata": {},
     "output_type": "execute_result"
    }
   ],
   "source": [
    "[param for param in seq_model.parameters()]# 线性层的权重和偏差"
   ]
  },
  {
   "cell_type": "code",
   "execution_count": 43,
   "id": "handled-shadow",
   "metadata": {},
   "outputs": [
    {
     "name": "stdout",
     "output_type": "stream",
     "text": [
      "0.weight torch.Size([13, 1])\n",
      "0.bias torch.Size([13])\n",
      "2.weight torch.Size([1, 13])\n",
      "2.bias torch.Size([1])\n"
     ]
    }
   ],
   "source": [
    "for name, param in seq_model.named_parameters():\n",
    "    print(name, param.shape)"
   ]
  },
  {
   "cell_type": "code",
   "execution_count": 79,
   "id": "likely-number",
   "metadata": {},
   "outputs": [],
   "source": [
    "from collections import OrderedDict"
   ]
  },
  {
   "cell_type": "code",
   "execution_count": 80,
   "id": "structured-variety",
   "metadata": {},
   "outputs": [],
   "source": [
    "seq_model = nn.Sequential(OrderedDict([\n",
    "    ('hidden_linear', nn.Linear(1,8)),\n",
    "    ('hidden_activation', nn.Tanh()),\n",
    "    ('output_linear', nn.Linear(8,1))]))"
   ]
  },
  {
   "cell_type": "code",
   "execution_count": 81,
   "id": "juvenile-variation",
   "metadata": {},
   "outputs": [
    {
     "name": "stdout",
     "output_type": "stream",
     "text": [
      "hidden_linear.weight torch.Size([8, 1])\n",
      "hidden_linear.bias torch.Size([8])\n",
      "output_linear.weight torch.Size([1, 8])\n",
      "output_linear.bias torch.Size([1])\n"
     ]
    }
   ],
   "source": [
    "for name, param in seq_model.named_parameters():\n",
    "    print(name, param.shape)"
   ]
  },
  {
   "cell_type": "code",
   "execution_count": 82,
   "id": "advance-netscape",
   "metadata": {},
   "outputs": [],
   "source": [
    "optimizer = optim.Adam(seq_model.parameters(),lr = 1e-3)"
   ]
  },
  {
   "cell_type": "code",
   "execution_count": 83,
   "id": "disciplinary-mauritius",
   "metadata": {},
   "outputs": [
    {
     "name": "stdout",
     "output_type": "stream",
     "text": [
      "Epoch: 500, Train_Loss: 60.61, Val_Loss: 300.73\n",
      "Epoch: 1000, Train_Loss: 32.88, Val_Loss: 209.32\n",
      "Epoch: 1500, Train_Loss: 18.16, Val_Loss: 150.69\n",
      "Epoch: 2000, Train_Loss: 11.69, Val_Loss: 114.63\n",
      "Epoch: 2500, Train_Loss: 8.10, Val_Loss: 89.95\n",
      "Epoch: 3000, Train_Loss: 5.63, Val_Loss: 70.97\n",
      "Epoch: 3500, Train_Loss: 3.96, Val_Loss: 56.26\n",
      "Epoch: 4000, Train_Loss: 2.77, Val_Loss: 44.85\n",
      "Epoch: 4500, Train_Loss: 1.99, Val_Loss: 36.39\n",
      "Epoch: 5000, Train_Loss: 1.58, Val_Loss: 30.52\n"
     ]
    }
   ],
   "source": [
    "training_loop(n_epoch = 5000, model = seq_model, loss_fn = loss_fn, optimizer = optimizer, \n",
    "              train_t_u = train_t_un, train_t_c = train_t_c, val_t_u = val_t_un, val_t_c = val_t_c)"
   ]
  },
  {
   "cell_type": "code",
   "execution_count": 56,
   "id": "industrial-canal",
   "metadata": {},
   "outputs": [
    {
     "name": "stdout",
     "output_type": "stream",
     "text": [
      "output tensor([[22.8139],\n",
      "        [16.3079]], grad_fn=<AddmmBackward>)\n",
      "answer tensor([[28.],\n",
      "        [13.]])\n",
      "hidden tensor([[-0.0002],\n",
      "        [-0.0032],\n",
      "        [-0.0003],\n",
      "        [-0.0019],\n",
      "        [ 0.0007],\n",
      "        [-0.0020],\n",
      "        [ 0.0002],\n",
      "        [ 0.0020]])\n"
     ]
    }
   ],
   "source": [
    "print('output', seq_model(val_t_un))\n",
    "print('answer', val_t_c)\n",
    "print('hidden', seq_model.hidden_linear.weight.grad )"
   ]
  },
  {
   "cell_type": "code",
   "execution_count": 59,
   "id": "substantial-share",
   "metadata": {},
   "outputs": [
    {
     "data": {
      "image/png": "[encoded data removed]",
      "text/plain": [
       "<Figure size 600x400 with 1 Axes>"
      ]
     },
     "metadata": {
      "needs_background": "light"
     },
     "output_type": "display_data"
    }
   ],
   "source": [
    "from matplotlib import pyplot as plt\n",
    "\n",
    "t_range = torch.arange(20., 90.).unsqueeze(1)\n",
    "\n",
    "fig = plt.figure(dpi=100)\n",
    "plt.xlabel(\"Fahrenheit\")\n",
    "plt.ylabel(\"Celsius\")\n",
    "plt.plot(t_u.numpy(), t_c.numpy(), 'o')\n",
    "plt.plot(t_range.numpy(), seq_model(0.1 * t_range).detach().numpy(), 'c-')\n",
    "plt.plot(t_u.numpy(), seq_model(0.1 * t_u.unsqueeze(1)).detach().numpy(), 'kx')\n",
    "plt.show()"
   ]
  },
  {
   "cell_type": "code",
   "execution_count": 60,
   "id": "chronic-crowd",
   "metadata": {},
   "outputs": [
    {
     "data": {
      "text/plain": [
       "Sequential(\n",
       "  (0): Linear(in_features=1, out_features=11, bias=True)\n",
       "  (1): Tanh()\n",
       "  (2): Linear(in_features=11, out_features=1, bias=True)\n",
       ")"
      ]
     },
     "execution_count": 60,
     "metadata": {},
     "output_type": "execute_result"
    }
   ],
   "source": [
    "seq_model = nn.Sequential(\n",
    "                          nn.Linear(1, 11),\n",
    "                          nn.Tanh(),\n",
    "                          nn.Linear(11,1))\n",
    "seq_model"
   ]
  },
  {
   "cell_type": "code",
   "execution_count": 66,
   "id": "distributed-terminal",
   "metadata": {},
   "outputs": [
    {
     "data": {
      "text/plain": [
       "Sequential(\n",
       "  (hidden_linear): Linear(in_features=1, out_features=11, bias=True)\n",
       "  (hidden_activation): Tanh()\n",
       "  (output_linear): Linear(in_features=11, out_features=1, bias=True)\n",
       ")"
      ]
     },
     "execution_count": 66,
     "metadata": {},
     "output_type": "execute_result"
    }
   ],
   "source": [
    "from collections import OrderedDict\n",
    "seq_model = nn.Sequential(OrderedDict([\n",
    "                                      ('hidden_linear', nn.Linear(1, 11)),\n",
    "                                      ('hidden_activation', nn.Tanh()),\n",
    "                                      ('output_linear', nn.Linear(11, 1))\n",
    "                                      ]))\n",
    "seq_model"
   ]
  },
  {
   "cell_type": "code",
   "execution_count": 84,
   "id": "amber-guinea",
   "metadata": {},
   "outputs": [],
   "source": [
    "class SubclassModel(nn.Module):\n",
    "    def __init__(self):\n",
    "        super().__init__()\n",
    "        self.hidden_linear = nn.Linear(1, 11)\n",
    "        self.output_linear = nn.Linear(11, 1)\n",
    "    def forward(self, input):\n",
    "        hidden_t = self.hidden_linear(input)\n",
    "        activated_t = torch.tanh(hidden_t)\n",
    "        output_t = self.output_linear(activated_t)\n",
    "        return output_t"
   ]
  },
  {
   "cell_type": "code",
   "execution_count": 85,
   "id": "regional-ottawa",
   "metadata": {},
   "outputs": [
    {
     "data": {
      "text/plain": [
       "SubclassModel(\n",
       "  (hidden_linear): Linear(in_features=1, out_features=11, bias=True)\n",
       "  (output_linear): Linear(in_features=11, out_features=1, bias=True)\n",
       ")"
      ]
     },
     "execution_count": 85,
     "metadata": {},
     "output_type": "execute_result"
    }
   ],
   "source": [
    "seq_model = SubclassModel()\n",
    "seq_model"
   ]
  },
  {
   "cell_type": "code",
   "execution_count": 86,
   "id": "oriented-integration",
   "metadata": {},
   "outputs": [],
   "source": [
    "optimizer = optim.Adam(seq_model.parameters(),lr = 1e-3)"
   ]
  },
  {
   "cell_type": "code",
   "execution_count": 87,
   "id": "statistical-experience",
   "metadata": {},
   "outputs": [
    {
     "name": "stdout",
     "output_type": "stream",
     "text": [
      "Epoch: 500, Train_Loss: 56.56, Val_Loss: 279.17\n",
      "Epoch: 1000, Train_Loss: 29.55, Val_Loss: 182.59\n",
      "Epoch: 1500, Train_Loss: 14.65, Val_Loss: 123.20\n",
      "Epoch: 2000, Train_Loss: 8.54, Val_Loss: 88.12\n",
      "Epoch: 2500, Train_Loss: 6.04, Val_Loss: 66.98\n",
      "Epoch: 3000, Train_Loss: 4.32, Val_Loss: 51.31\n",
      "Epoch: 3500, Train_Loss: 3.24, Val_Loss: 39.41\n",
      "Epoch: 4000, Train_Loss: 2.55, Val_Loss: 30.66\n",
      "Epoch: 4500, Train_Loss: 2.09, Val_Loss: 24.14\n",
      "Epoch: 5000, Train_Loss: 1.76, Val_Loss: 19.32\n"
     ]
    }
   ],
   "source": [
    "training_loop(n_epoch = 5000, model = seq_model, loss_fn = loss_fn, optimizer = optimizer, \n",
    "              train_t_u = train_t_un, train_t_c = train_t_c, val_t_u = val_t_un, val_t_c = val_t_c)"
   ]
  },
  {
   "cell_type": "code",
   "execution_count": null,
   "id": "occupational-necklace",
   "metadata": {},
   "outputs": [],
   "source": []
  }
 ],
 "metadata": {
  "kernelspec": {
   "display_name": "Python 3",
   "language": "python",
   "name": "python3"
  },
  "language_info": {
   "codemirror_mode": {
    "name": "ipython",
    "version": 3
   },
   "file_extension": ".py",
   "mimetype": "text/x-python",
   "name": "python",
   "nbconvert_exporter": "python",
   "pygments_lexer": "ipython3",
   "version": "3.8.8"
  },
  "toc": {
   "base_numbering": 1,
   "nav_menu": {},
   "number_sections": true,
   "sideBar": true,
   "skip_h1_title": false,
   "title_cell": "Table of Contents",
   "title_sidebar": "Contents",
   "toc_cell": false,
   "toc_position": {},
   "toc_section_display": true,
   "toc_window_display": false
  }
 },
 "nbformat": 4,
 "nbformat_minor": 5
}
