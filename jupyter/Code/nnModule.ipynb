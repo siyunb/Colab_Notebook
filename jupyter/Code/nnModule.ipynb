{
 "cells": [
  {
   "cell_type": "code",
   "execution_count": 3,
   "id": "known-tissue",
   "metadata": {},
   "outputs": [],
   "source": [
    "%matplotlib inline\n",
    "import torch\n",
    "import torch.nn as nn\n",
    "from torch.utils.data import TensorDataset, DataLoader \n",
    "from torch import optim\n",
    "from collections import OrderedDict \n",
    "import numpy as np\n",
    "import pandas as pd\n",
    "import sys\n",
    "from IPython import display\n",
    "from matplotlib import pyplot as plt\n",
    "sys.path.append('..')"
   ]
  },
  {
   "cell_type": "code",
   "execution_count": 32,
   "id": "younger-biodiversity",
   "metadata": {},
   "outputs": [],
   "source": [
    "d = OrderedDict([('a',1),('b',2),('c',3)])"
   ]
  },
  {
   "cell_type": "code",
   "execution_count": 35,
   "id": "labeled-version",
   "metadata": {},
   "outputs": [
    {
     "data": {
      "text/plain": [
       "odict_values([1, 2, 3])"
      ]
     },
     "execution_count": 35,
     "metadata": {},
     "output_type": "execute_result"
    }
   ],
   "source": [
    "d.values()"
   ]
  },
  {
   "cell_type": "code",
   "execution_count": 37,
   "id": "biological-replication",
   "metadata": {},
   "outputs": [],
   "source": [
    "model = nn.Sequential(OrderedDict([('hidden_linear1', nn.Linear(331, 124)),\n",
    "                           ('activition1', nn.ReLU()),\n",
    "                           ('Dropout1',nn.Dropout(0.2)),\n",
    "                           ('hidden_linear2', nn.Linear(124, 56)),\n",
    "                           ('activition2', nn.ReLU()),\n",
    "                           ('Dropout2',nn.Dropout(0.2)),\n",
    "                           ('hidden_linear3', nn.Linear(56, 1))]))"
   ]
  },
  {
   "cell_type": "code",
   "execution_count": 47,
   "id": "arranged-bible",
   "metadata": {},
   "outputs": [],
   "source": [
    "class MySequential(nn.Module):\n",
    "    from collections import OrderedDict\n",
    "    def __init__(self, *args):\n",
    "        super().__init__()\n",
    "        if len(args) == 1 and isinstance(args[0], OrderedDict):\n",
    "            for key, module in args[0].items():\n",
    "                self.add_module(key, module)\n",
    "        else:\n",
    "            for idx, module in enumerate(args):\n",
    "                self.add_module(str(idx), module)\n",
    "    def forward(self, inputs):\n",
    "        for module in self._modules.values():\n",
    "            inputs = module(inputs)\n",
    "        return inputs"
   ]
  },
  {
   "cell_type": "code",
   "execution_count": 48,
   "id": "supposed-allen",
   "metadata": {},
   "outputs": [
    {
     "data": {
      "text/plain": [
       "MySequential(\n",
       "  (0): Linear(in_features=331, out_features=124, bias=True)\n",
       "  (1): ReLU()\n",
       "  (2): Dropout(p=0.2, inplace=False)\n",
       "  (3): Linear(in_features=124, out_features=56, bias=True)\n",
       "  (4): ReLU()\n",
       "  (5): Dropout(p=0.2, inplace=False)\n",
       "  (6): Linear(in_features=56, out_features=1, bias=True)\n",
       ")"
      ]
     },
     "execution_count": 48,
     "metadata": {},
     "output_type": "execute_result"
    }
   ],
   "source": [
    "MySequential(nn.Linear(331, 124),\n",
    "            nn.ReLU(),\n",
    "            nn.Dropout(0.2),\n",
    "            nn.Linear(124, 56),\n",
    "            nn.ReLU(),\n",
    "            nn.Dropout(0.2),\n",
    "            nn.Linear(56, 1))"
   ]
  },
  {
   "cell_type": "code",
   "execution_count": 50,
   "id": "mineral-agreement",
   "metadata": {},
   "outputs": [
    {
     "data": {
      "text/plain": [
       "MySequential(\n",
       "  (hidden_linear1): Linear(in_features=331, out_features=124, bias=True)\n",
       "  (activition1): ReLU()\n",
       "  (Dropout1): Dropout(p=0.2, inplace=False)\n",
       "  (hidden_linear2): Linear(in_features=124, out_features=56, bias=True)\n",
       "  (activition2): ReLU()\n",
       "  (Dropout2): Dropout(p=0.2, inplace=False)\n",
       "  (hidden_linear3): Linear(in_features=56, out_features=1, bias=True)\n",
       ")"
      ]
     },
     "execution_count": 50,
     "metadata": {},
     "output_type": "execute_result"
    }
   ],
   "source": [
    "MySequential(OrderedDict([('hidden_linear1', nn.Linear(331, 124)),\n",
    "                           ('activition1', nn.ReLU()),\n",
    "                           ('Dropout1',nn.Dropout(0.2)),\n",
    "                           ('hidden_linear2', nn.Linear(124, 56)),\n",
    "                           ('activition2', nn.ReLU()),\n",
    "                           ('Dropout2',nn.Dropout(0.2)),\n",
    "                           ('hidden_linear3', nn.Linear(56, 1))]))"
   ]
  },
  {
   "cell_type": "code",
   "execution_count": 53,
   "id": "portable-cholesterol",
   "metadata": {},
   "outputs": [
    {
     "data": {
      "text/plain": [
       "MySequential(\n",
       "  (hidden_linear1): Linear(in_features=331, out_features=124, bias=True)\n",
       "  (activition1): ReLU()\n",
       ")"
      ]
     },
     "execution_count": 53,
     "metadata": {},
     "output_type": "execute_result"
    }
   ],
   "source": [
    "MySequential(OrderedDict({'hidden_linear1': nn.Linear(331, 124),\n",
    "                           'activition1': nn.ReLU()}))"
   ]
  },
  {
   "cell_type": "code",
   "execution_count": 4,
   "id": "contrary-raising",
   "metadata": {},
   "outputs": [],
   "source": [
    "net = nn.ModuleDict({\n",
    "    'linear': nn.Linear(784, 256),\n",
    "    'act': nn.ReLU()})"
   ]
  },
  {
   "cell_type": "code",
   "execution_count": 3,
   "id": "recreational-breathing",
   "metadata": {},
   "outputs": [],
   "source": [
    "class MyModule(nn.Module):\n",
    "    def __init__(self):\n",
    "        super().__init__()\n",
    "        self.linears = nn.ModuleList([nn.Linear(10, 10) for i in range(10)])\n",
    "    \n",
    "    def forward(self, x):\n",
    "        for i, model in enumerate(self.linears):\n",
    "            x = self.linears[i//2](x) + model(x)\n",
    "        return x        "
   ]
  },
  {
   "cell_type": "code",
   "execution_count": 5,
   "id": "respective-territory",
   "metadata": {},
   "outputs": [],
   "source": [
    "mymodel = MyModule()"
   ]
  },
  {
   "cell_type": "code",
   "execution_count": 8,
   "id": "beautiful-religion",
   "metadata": {},
   "outputs": [
    {
     "data": {
      "text/plain": [
       "torch.Size([60, 10])"
      ]
     },
     "execution_count": 8,
     "metadata": {},
     "output_type": "execute_result"
    }
   ],
   "source": [
    "mymodel(torch.ones(60,10, dtype = torch.float)).shape"
   ]
  },
  {
   "cell_type": "code",
   "execution_count": 14,
   "id": "desperate-europe",
   "metadata": {},
   "outputs": [],
   "source": [
    "class Module_ModuleList(nn.Module):\n",
    "    def __init__(self):\n",
    "        super().__init__()\n",
    "        self.linears = nn.ModuleList([nn.Linear(10, 10) for i in range(10)])\n",
    "    def forward(self, x):\n",
    "        for i, model in enumerate(self.linears):\n",
    "            x = self.linears[i//2](x) + model(x)\n",
    "        return x"
   ]
  },
  {
   "cell_type": "code",
   "execution_count": 15,
   "id": "traditional-climb",
   "metadata": {},
   "outputs": [],
   "source": [
    "class Module_List(nn.Module):\n",
    "    def __init__(self):\n",
    "        super().__init__()\n",
    "        self.linears = [nn.Linear(10, 10) for i in range(10)]\n",
    "    def forward(self, x):\n",
    "        for i, model in enumerate(self.linears):\n",
    "            x = self.linears[i//2](x) + model(x)\n",
    "        return x"
   ]
  },
  {
   "cell_type": "code",
   "execution_count": 16,
   "id": "amino-guess",
   "metadata": {},
   "outputs": [],
   "source": [
    "mymodel1 = Module_ModuleList()\n",
    "mymodel2 = Module_List()"
   ]
  },
  {
   "cell_type": "code",
   "execution_count": 18,
   "id": "pacific-dakota",
   "metadata": {},
   "outputs": [],
   "source": [
    "for p in mymodel2.parameters():\n",
    "    print(p.size())"
   ]
  },
  {
   "cell_type": "code",
   "execution_count": 23,
   "id": "collect-singles",
   "metadata": {},
   "outputs": [
    {
     "data": {
      "text/plain": [
       "torch.Size([60, 10])"
      ]
     },
     "execution_count": 23,
     "metadata": {},
     "output_type": "execute_result"
    }
   ],
   "source": [
    "mymodel2(torch.ones(60,10, dtype = torch.float)).shape"
   ]
  },
  {
   "cell_type": "code",
   "execution_count": 25,
   "id": "double-investigator",
   "metadata": {},
   "outputs": [
    {
     "name": "stdout",
     "output_type": "stream",
     "text": [
      "Linear(in_features=10, out_features=10, bias=True)\n",
      "Linear(in_features=10, out_features=10, bias=True)\n",
      "ModuleDict(\n",
      "  (linear): Linear(in_features=10, out_features=10, bias=True)\n",
      "  (activation): ReLU()\n",
      "  (dropout): Dropout(p=0.5, inplace=False)\n",
      "  (output): Linear(in_features=10, out_features=10, bias=True)\n",
      ")\n"
     ]
    }
   ],
   "source": [
    "network = nn.ModuleDict({'linear': nn.Linear(10, 10), 'activation': nn.ReLU(), 'dropout': nn.Dropout()})\n",
    "network['output'] = nn.Linear(10,10)\n",
    "print(network['output'])\n",
    "print(network.output)\n",
    "print(network)"
   ]
  },
  {
   "cell_type": "code",
   "execution_count": 27,
   "id": "corrected-paraguay",
   "metadata": {},
   "outputs": [],
   "source": [
    "class MySequential(nn.Module):\n",
    "    from collections import OrderedDict\n",
    "    def __init__(self, *arg):\n",
    "        super().__init__()\n",
    "        if len(arg) == 1 and isinstance(arg[0], OrderedDict):\n",
    "            for name, module in arg[0].items():\n",
    "                self.add_module(name, module)\n",
    "        else:\n",
    "            for idx, module in enumerate(arg):\n",
    "                self.add_module(str(idx), module)\n",
    "    def forward(self, inputs):\n",
    "        for module in self._modules.values():\n",
    "            inputs = module(inputs)\n",
    "        return inputs"
   ]
  },
  {
   "cell_type": "code",
   "execution_count": 36,
   "id": "hydraulic-yukon",
   "metadata": {},
   "outputs": [],
   "source": [
    "model =  nn.Sequential(OrderedDict({\n",
    "     'linear': nn.Linear(10, 10),\n",
    "     'activition': nn.ReLU(),\n",
    "     'output': nn.Linear(10, 1)\n",
    " }))"
   ]
  },
  {
   "cell_type": "code",
   "execution_count": 30,
   "id": "violent-location",
   "metadata": {},
   "outputs": [
    {
     "data": {
      "text/plain": [
       "tensor([[-0.0429],\n",
       "        [-0.0429],\n",
       "        [-0.0429],\n",
       "        [-0.0429],\n",
       "        [-0.0429],\n",
       "        [-0.0429],\n",
       "        [-0.0429],\n",
       "        [-0.0429],\n",
       "        [-0.0429],\n",
       "        [-0.0429]], grad_fn=<AddmmBackward>)"
      ]
     },
     "execution_count": 30,
     "metadata": {},
     "output_type": "execute_result"
    }
   ],
   "source": [
    "model(torch.ones(10,10, dtype = torch.float))  "
   ]
  },
  {
   "cell_type": "code",
   "execution_count": 32,
   "id": "extended-cyprus",
   "metadata": {},
   "outputs": [],
   "source": [
    "model = nn.ModuleDict(OrderedDict({\n",
    "     'linear': nn.Linear(10, 10),\n",
    "     'activition': nn.ReLU(),\n",
    "     'output': nn.Linear(10, 1)\n",
    " }))"
   ]
  },
  {
   "cell_type": "code",
   "execution_count": 34,
   "id": "indoor-accused",
   "metadata": {},
   "outputs": [
    {
     "ename": "TypeError",
     "evalue": "forward() takes 1 positional argument but 2 were given",
     "output_type": "error",
     "traceback": [
      "\u001b[1;31m---------------------------------------------------------------------------\u001b[0m",
      "\u001b[1;31mTypeError\u001b[0m                                 Traceback (most recent call last)",
      "\u001b[1;32m<ipython-input-34-30bbd0164253>\u001b[0m in \u001b[0;36m<module>\u001b[1;34m\u001b[0m\n\u001b[1;32m----> 1\u001b[1;33m \u001b[0mmodel\u001b[0m\u001b[1;33m(\u001b[0m\u001b[0mtorch\u001b[0m\u001b[1;33m.\u001b[0m\u001b[0mones\u001b[0m\u001b[1;33m(\u001b[0m\u001b[1;36m10\u001b[0m\u001b[1;33m,\u001b[0m\u001b[1;36m10\u001b[0m\u001b[1;33m,\u001b[0m \u001b[0mdtype\u001b[0m \u001b[1;33m=\u001b[0m \u001b[0mtorch\u001b[0m\u001b[1;33m.\u001b[0m\u001b[0mfloat\u001b[0m\u001b[1;33m)\u001b[0m\u001b[1;33m)\u001b[0m\u001b[1;33m\u001b[0m\u001b[1;33m\u001b[0m\u001b[0m\n\u001b[0m",
      "\u001b[1;32mD:\\anaconda\\anaconda\\envs\\pytorch\\lib\\site-packages\\torch\\nn\\modules\\module.py\u001b[0m in \u001b[0;36m_call_impl\u001b[1;34m(self, *input, **kwargs)\u001b[0m\n\u001b[0;32m    887\u001b[0m             \u001b[0mresult\u001b[0m \u001b[1;33m=\u001b[0m \u001b[0mself\u001b[0m\u001b[1;33m.\u001b[0m\u001b[0m_slow_forward\u001b[0m\u001b[1;33m(\u001b[0m\u001b[1;33m*\u001b[0m\u001b[0minput\u001b[0m\u001b[1;33m,\u001b[0m \u001b[1;33m**\u001b[0m\u001b[0mkwargs\u001b[0m\u001b[1;33m)\u001b[0m\u001b[1;33m\u001b[0m\u001b[1;33m\u001b[0m\u001b[0m\n\u001b[0;32m    888\u001b[0m         \u001b[1;32melse\u001b[0m\u001b[1;33m:\u001b[0m\u001b[1;33m\u001b[0m\u001b[1;33m\u001b[0m\u001b[0m\n\u001b[1;32m--> 889\u001b[1;33m             \u001b[0mresult\u001b[0m \u001b[1;33m=\u001b[0m \u001b[0mself\u001b[0m\u001b[1;33m.\u001b[0m\u001b[0mforward\u001b[0m\u001b[1;33m(\u001b[0m\u001b[1;33m*\u001b[0m\u001b[0minput\u001b[0m\u001b[1;33m,\u001b[0m \u001b[1;33m**\u001b[0m\u001b[0mkwargs\u001b[0m\u001b[1;33m)\u001b[0m\u001b[1;33m\u001b[0m\u001b[1;33m\u001b[0m\u001b[0m\n\u001b[0m\u001b[0;32m    890\u001b[0m         for hook in itertools.chain(\n\u001b[0;32m    891\u001b[0m                 \u001b[0m_global_forward_hooks\u001b[0m\u001b[1;33m.\u001b[0m\u001b[0mvalues\u001b[0m\u001b[1;33m(\u001b[0m\u001b[1;33m)\u001b[0m\u001b[1;33m,\u001b[0m\u001b[1;33m\u001b[0m\u001b[1;33m\u001b[0m\u001b[0m\n",
      "\u001b[1;31mTypeError\u001b[0m: forward() takes 1 positional argument but 2 were given"
     ]
    }
   ],
   "source": [
    "model(torch.ones(10,10, dtype = torch.float))"
   ]
  },
  {
   "cell_type": "code",
   "execution_count": 39,
   "id": "gothic-bracket",
   "metadata": {},
   "outputs": [],
   "source": [
    "model = nn.Sequential(nn.Linear(10, 10),nn.ReLU(),nn.Linear(10, 1))"
   ]
  },
  {
   "cell_type": "code",
   "execution_count": 41,
   "id": "concrete-third",
   "metadata": {},
   "outputs": [],
   "source": [
    "model = nn.ModuleList([nn.Linear(10, 10),nn.ReLU(),nn.Linear(10, 1)])"
   ]
  },
  {
   "cell_type": "code",
   "execution_count": 73,
   "id": "rural-feeding",
   "metadata": {},
   "outputs": [],
   "source": [
    "class FancyMLP(nn.Module):\n",
    "    def __init__(self, *args):\n",
    "        super().__init__()\n",
    "        self.rand_weight = torch.rand((args[0], args[1]), requires_grad = False)\n",
    "        self.linear = nn.Linear(args[0], args[1])\n",
    "    \n",
    "    def forward(self, x):\n",
    "        from torch.nn import functional as F\n",
    "        x = self.linear(x)\n",
    "        x = F.relu(torch.mm(x, self.rand_weight.data)+1)\n",
    "        \n",
    "        x= self.linear(x)\n",
    "        while x.norm().item() > 1:\n",
    "            x /= 2\n",
    "        if x.norm().item() < 0.8:\n",
    "            x *= 10\n",
    "        return x.detach().sum().item()"
   ]
  },
  {
   "cell_type": "code",
   "execution_count": 74,
   "id": "worth-reserve",
   "metadata": {},
   "outputs": [
    {
     "data": {
      "text/plain": [
       "-33.16886901855469"
      ]
     },
     "execution_count": 74,
     "metadata": {},
     "output_type": "execute_result"
    }
   ],
   "source": [
    "X = torch.rand(20,20)\n",
    "network = FancyMLP(20, 20)\n",
    "network(X)"
   ]
  },
  {
   "cell_type": "code",
   "execution_count": 76,
   "id": "choice-packaging",
   "metadata": {},
   "outputs": [],
   "source": [
    "class NestMLP(nn.Module):\n",
    "    def __init__(self, *args):\n",
    "        super().__init__()\n",
    "        self.net_fn = nn.Sequential(nn.Linear(args[0], args[1]), nn.ReLU())\n",
    "        \n",
    "    def forward(self, x):\n",
    "        return self.net_fn(x)"
   ]
  },
  {
   "cell_type": "code",
   "execution_count": 80,
   "id": "reasonable-claim",
   "metadata": {},
   "outputs": [],
   "source": [
    "net = nn.Sequential(NestMLP(40, 30), nn.Linear(30, 20), FancyMLP(20, 20)) #I perfer to call it intergarter"
   ]
  },
  {
   "cell_type": "code",
   "execution_count": 81,
   "id": "critical-today",
   "metadata": {},
   "outputs": [],
   "source": [
    "X = torch.rand(10, 40, dtype = torch.float)"
   ]
  },
  {
   "cell_type": "code",
   "execution_count": 82,
   "id": "surface-sociology",
   "metadata": {},
   "outputs": [
    {
     "data": {
      "text/plain": [
       "-1.6865811347961426"
      ]
     },
     "execution_count": 82,
     "metadata": {},
     "output_type": "execute_result"
    }
   ],
   "source": [
    "net(X)"
   ]
  },
  {
   "cell_type": "code",
   "execution_count": 85,
   "id": "criminal-demographic",
   "metadata": {},
   "outputs": [
    {
     "name": "stdout",
     "output_type": "stream",
     "text": [
      "Sequential(\n",
      "  (0): Linear(in_features=4, out_features=3, bias=True)\n",
      "  (1): ReLU()\n",
      "  (2): Linear(in_features=3, out_features=1, bias=True)\n",
      ")\n"
     ]
    }
   ],
   "source": [
    "from torch.nn import init\n",
    "\n",
    "net =nn.Sequential(nn.Linear(4, 3), nn.ReLU(), nn.Linear(3, 1))\n",
    "print(net)"
   ]
  },
  {
   "cell_type": "code",
   "execution_count": 89,
   "id": "armed-march",
   "metadata": {},
   "outputs": [],
   "source": [
    "X = torch.rand(3, 4, dtype = torch.float)\n",
    "Y = net(X).sum()"
   ]
  },
  {
   "cell_type": "code",
   "execution_count": 91,
   "id": "further-stockholm",
   "metadata": {},
   "outputs": [
    {
     "name": "stdout",
     "output_type": "stream",
     "text": [
      "0.weight torch.Size([3, 4])\n",
      "0.bias torch.Size([3])\n",
      "2.weight torch.Size([1, 3])\n",
      "2.bias torch.Size([1])\n"
     ]
    }
   ],
   "source": [
    "for name, param in net.named_parameters():\n",
    "    print(name, param.size())"
   ]
  },
  {
   "cell_type": "code",
   "execution_count": 95,
   "id": "lasting-donna",
   "metadata": {},
   "outputs": [
    {
     "name": "stdout",
     "output_type": "stream",
     "text": [
      "weight torch.Size([3, 4]) <class 'torch.nn.parameter.Parameter'>\n",
      "bias torch.Size([3]) <class 'torch.nn.parameter.Parameter'>\n"
     ]
    }
   ],
   "source": [
    "for name, param in net[0].named_parameters():\n",
    "    print(name, param.size(), type(param))\n",
    "    "
   ]
  },
  {
   "cell_type": "code",
   "execution_count": 96,
   "id": "resident-creation",
   "metadata": {},
   "outputs": [],
   "source": [
    "class MyModel(nn.Module):\n",
    "    def __init__(self, **kwargs):\n",
    "        super().__init__()\n",
    "        self.weight1 = nn.Parameter(torch.rand(20, 20))\n",
    "        self.weight2 = torch.rand(20, 20)\n",
    "    def forward(self, x):\n",
    "        pass"
   ]
  },
  {
   "cell_type": "code",
   "execution_count": 126,
   "id": "colored-caribbean",
   "metadata": {},
   "outputs": [
    {
     "data": {
      "text/plain": [
       "Sequential(\n",
       "  (0): Linear(in_features=4, out_features=3, bias=True)\n",
       "  (1): ReLU()\n",
       "  (2): Linear(in_features=3, out_features=1, bias=True)\n",
       ")"
      ]
     },
     "execution_count": 126,
     "metadata": {},
     "output_type": "execute_result"
    }
   ],
   "source": [
    "net"
   ]
  },
  {
   "cell_type": "code",
   "execution_count": 132,
   "id": "about-trademark",
   "metadata": {},
   "outputs": [
    {
     "name": "stdout",
     "output_type": "stream",
     "text": [
      "0.weight Parameter containing:\n",
      "tensor([[ 0.0078,  0.0054,  0.0123,  0.0062],\n",
      "        [ 0.0060, -0.0102,  0.0030,  0.0012],\n",
      "        [-0.0203, -0.0085,  0.0132, -0.0061]], requires_grad=True)\n",
      "2.weight Parameter containing:\n",
      "tensor([[-0.0073, -0.0154,  0.0028]], requires_grad=True)\n"
     ]
    }
   ],
   "source": [
    "for name, param in net.named_parameters():\n",
    "    if 'weight' in name:\n",
    "        nn.init.normal_(param, mean = 0, std = 0.01)\n",
    "        print(name, param)"
   ]
  },
  {
   "cell_type": "code",
   "execution_count": 128,
   "id": "seasonal-transcription",
   "metadata": {},
   "outputs": [
    {
     "name": "stdout",
     "output_type": "stream",
     "text": [
      "0.bias Parameter containing:\n",
      "tensor([0., 0., 0.], requires_grad=True)\n",
      "2.bias Parameter containing:\n",
      "tensor([0.], requires_grad=True)\n"
     ]
    }
   ],
   "source": [
    "for name, param in net.named_parameters():\n",
    "    if 'bias' in name:\n",
    "        nn.init.constant_(param, val = 0)\n",
    "        print(name, param)"
   ]
  },
  {
   "cell_type": "code",
   "execution_count": 133,
   "id": "female-shower",
   "metadata": {},
   "outputs": [],
   "source": [
    "def normal_(tensor, mean, std):\n",
    "    with torch.no_grad():\n",
    "        return tensor.data.normal_(mean, std)"
   ]
  },
  {
   "cell_type": "code",
   "execution_count": 144,
   "id": "handled-mortgage",
   "metadata": {},
   "outputs": [],
   "source": [
    "def constant_(tensor, val):\n",
    "    with torch.no_grad():\n",
    "        return tensor.fill_(val)"
   ]
  },
  {
   "cell_type": "code",
   "execution_count": 145,
   "id": "turned-michael",
   "metadata": {},
   "outputs": [
    {
     "name": "stdout",
     "output_type": "stream",
     "text": [
      "0.weight Parameter containing:\n",
      "tensor([[ 0.0074,  0.0060, -0.0156, -0.0079],\n",
      "        [-0.0007,  0.0062,  0.0105, -0.0176],\n",
      "        [-0.0070, -0.0088, -0.0012,  0.0090]], requires_grad=True)\n",
      "0.bias Parameter containing:\n",
      "tensor([0., 0., 0.], requires_grad=True)\n",
      "2.weight Parameter containing:\n",
      "tensor([[-0.0198, -0.0055, -0.0130]], requires_grad=True)\n",
      "2.bias Parameter containing:\n",
      "tensor([0.], requires_grad=True)\n"
     ]
    }
   ],
   "source": [
    "for name, param in net.named_parameters():\n",
    "    if 'weight' in name:\n",
    "        normal_(param, mean = 0, std = 0.01)\n",
    "    elif 'bias' in name:\n",
    "        constant_(param, val = 0)\n",
    "    print(name, param)"
   ]
  },
  {
   "cell_type": "code",
   "execution_count": 142,
   "id": "pointed-feeding",
   "metadata": {},
   "outputs": [],
   "source": [
    "def init_weight_(tensor):\n",
    "    with torch.no_grad():\n",
    "        tensor.uniform_(-10, 10)\n",
    "        tensor *= (tensor.abs() >= 5).float()"
   ]
  },
  {
   "cell_type": "code",
   "execution_count": 143,
   "id": "corrected-violence",
   "metadata": {},
   "outputs": [
    {
     "name": "stdout",
     "output_type": "stream",
     "text": [
      "0.weight Parameter containing:\n",
      "tensor([[ 0.0000,  5.8672,  0.0000,  0.0000],\n",
      "        [ 6.8758, -7.1075,  7.3157, -0.0000],\n",
      "        [ 9.6720, -5.8303, -0.0000, -7.4539]], requires_grad=True)\n",
      "0.bias Parameter containing:\n",
      "tensor([ 0.0000, -5.8211, -0.0000], requires_grad=True)\n",
      "2.weight Parameter containing:\n",
      "tensor([[-0.0000, -5.7716,  0.0000]], requires_grad=True)\n",
      "2.bias Parameter containing:\n",
      "tensor([0.], requires_grad=True)\n"
     ]
    }
   ],
   "source": [
    "for name, param in net.named_parameters():\n",
    "    init_weight_(param)\n",
    "    print(name, param)"
   ]
  },
  {
   "cell_type": "code",
   "execution_count": 148,
   "id": "ecological-spice",
   "metadata": {},
   "outputs": [
    {
     "name": "stdout",
     "output_type": "stream",
     "text": [
      "0.bias Parameter containing:\n",
      "tensor([-1., -1., -1.], requires_grad=True)\n",
      "2.bias Parameter containing:\n",
      "tensor([-1.], requires_grad=True)\n"
     ]
    }
   ],
   "source": [
    "for name, param in net.named_parameters():\n",
    "    if 'bias' in name:\n",
    "        param.data -= 1\n",
    "        print(name, param)"
   ]
  },
  {
   "cell_type": "code",
   "execution_count": null,
   "id": "renewable-fifth",
   "metadata": {},
   "outputs": [],
   "source": [
    "linear = nn.Linear(1,1 )"
   ]
  },
  {
   "cell_type": "code",
   "execution_count": 21,
   "id": "italic-premiere",
   "metadata": {},
   "outputs": [],
   "source": [
    "class MyListdense(nn.Module):\n",
    "    def __init__(self):\n",
    "        super().__init__()\n",
    "        self.params = nn.ParameterList([nn.Parameter(torch.rand(4, 4)) for i in range(3)])\n",
    "        self.params.append(nn.Parameter(torch.rand(4,1, dtype = torch.float)))\n",
    "    def forward(self, x):\n",
    "        for i in range(len(self.params)):\n",
    "            x = torch.mm(x, self.params[i])\n",
    "        return x\n",
    "    "
   ]
  },
  {
   "cell_type": "code",
   "execution_count": 6,
   "id": "negative-executive",
   "metadata": {},
   "outputs": [
    {
     "name": "stdout",
     "output_type": "stream",
     "text": [
      "Mydense(\n",
      "  (params): ParameterList(\n",
      "      (0): Parameter containing: [torch.FloatTensor of size 4x4]\n",
      "      (1): Parameter containing: [torch.FloatTensor of size 4x4]\n",
      "      (2): Parameter containing: [torch.FloatTensor of size 4x4]\n",
      "      (3): Parameter containing: [torch.FloatTensor of size 4x1]\n",
      "  )\n",
      ")\n"
     ]
    }
   ],
   "source": [
    "net = Mydense()\n",
    "print(net)"
   ]
  },
  {
   "cell_type": "code",
   "execution_count": 9,
   "id": "difficult-tamil",
   "metadata": {},
   "outputs": [],
   "source": [
    "class MyDictDense(nn.Module):\n",
    "    def __init__(self):\n",
    "        super().__init__()\n",
    "        self.params = nn.ParameterDict({\n",
    "            'linear1':nn.Parameter(torch.randn(4, 4)),\n",
    "            'linear2':nn.Parameter(torch.randn(4, 1))\n",
    "        })\n",
    "        self.params.update({'linear3':nn.Parameter(torch.randn(4, 2))})\n",
    "    \n",
    "    def forward(self, x, choice = 'linear1'):\n",
    "        return torch.mm(x, self.params[choice])"
   ]
  },
  {
   "cell_type": "code",
   "execution_count": 11,
   "id": "hidden-phrase",
   "metadata": {},
   "outputs": [
    {
     "name": "stdout",
     "output_type": "stream",
     "text": [
      "MyDictDense(\n",
      "  (params): ParameterDict(\n",
      "      (linear1): Parameter containing: [torch.FloatTensor of size 4x4]\n",
      "      (linear2): Parameter containing: [torch.FloatTensor of size 4x1]\n",
      "      (linear3): Parameter containing: [torch.FloatTensor of size 4x2]\n",
      "  )\n",
      ")\n"
     ]
    }
   ],
   "source": [
    "net = MyDictDense()\n",
    "print(net)"
   ]
  },
  {
   "cell_type": "code",
   "execution_count": 12,
   "id": "creative-chamber",
   "metadata": {},
   "outputs": [],
   "source": [
    "x = torch.ones(1, 4, dtype = torch.float)"
   ]
  },
  {
   "cell_type": "code",
   "execution_count": 14,
   "id": "assured-dynamics",
   "metadata": {},
   "outputs": [
    {
     "name": "stdout",
     "output_type": "stream",
     "text": [
      "tensor([[-0.6055,  0.0334, -0.7267,  0.9622]], grad_fn=<MmBackward>)\n",
      "tensor([[2.8923]], grad_fn=<MmBackward>)\n",
      "tensor([[1.2046, 2.0032]], grad_fn=<MmBackward>)\n"
     ]
    }
   ],
   "source": [
    "print(net(x, 'linear1'))\n",
    "print(net(x, 'linear2'))\n",
    "print(net(x, 'linear3'))"
   ]
  },
  {
   "cell_type": "code",
   "execution_count": 16,
   "id": "useful-bride",
   "metadata": {},
   "outputs": [],
   "source": [
    "class DictDense(nn.Module):\n",
    "    def __init__(self):\n",
    "        super().__init__()\n",
    "        self.params = nn.ParameterDict({\n",
    "            'linear3': nn.Parameter(torch.randn(4, 3)),\n",
    "            'linear2': nn.Parameter(torch.randn(4, 2)),\n",
    "            'linear1': nn.Parameter(torch.randn(4, 1)),\n",
    "        })\n",
    "        self.params.update({'linear4': nn.Parameter(torch.randn(4, 4))})\n",
    "    def forward(self, x, choice):\n",
    "        return torch.mm(x, self.params[choice])"
   ]
  },
  {
   "cell_type": "code",
   "execution_count": 19,
   "id": "dental-explorer",
   "metadata": {},
   "outputs": [
    {
     "name": "stdout",
     "output_type": "stream",
     "text": [
      "tensor([[3.0205]], grad_fn=<MmBackward>)\n",
      "tensor([[2.6929, 3.5253]], grad_fn=<MmBackward>)\n",
      "tensor([[0.0908, 1.7414, 4.6160]], grad_fn=<MmBackward>)\n",
      "tensor([[ 2.4361, -0.8569, -4.2667, -3.0813]], grad_fn=<MmBackward>)\n"
     ]
    }
   ],
   "source": [
    "dictdense = DictDense()\n",
    "x = torch.ones(1, 4, dtype = torch.float)\n",
    "print(dictdense(x, 'linear1'))\n",
    "print(dictdense(x, 'linear2'))\n",
    "print(dictdense(x, 'linear3'))\n",
    "print(dictdense(x, 'linear4'))"
   ]
  },
  {
   "cell_type": "code",
   "execution_count": 22,
   "id": "clinical-change",
   "metadata": {},
   "outputs": [
    {
     "name": "stdout",
     "output_type": "stream",
     "text": [
      "Sequential(\n",
      "  (0): MyListdense(\n",
      "    (params): ParameterList(\n",
      "        (0): Parameter containing: [torch.FloatTensor of size 4x4]\n",
      "        (1): Parameter containing: [torch.FloatTensor of size 4x4]\n",
      "        (2): Parameter containing: [torch.FloatTensor of size 4x4]\n",
      "        (3): Parameter containing: [torch.FloatTensor of size 4x1]\n",
      "    )\n",
      "  )\n",
      "  (1): MyDictDense(\n",
      "    (params): ParameterDict(\n",
      "        (linear1): Parameter containing: [torch.FloatTensor of size 4x4]\n",
      "        (linear2): Parameter containing: [torch.FloatTensor of size 4x1]\n",
      "        (linear3): Parameter containing: [torch.FloatTensor of size 4x2]\n",
      "    )\n",
      "  )\n",
      ")\n"
     ]
    }
   ],
   "source": [
    "net = nn.Sequential(MyListdense(), MyDictDense()) #含有forward（）函数的nn.Module类都可以被序列化\n",
    "print(net)"
   ]
  },
  {
   "cell_type": "code",
   "execution_count": 24,
   "id": "convertible-crowd",
   "metadata": {},
   "outputs": [],
   "source": [
    "x = torch.ones(3)\n",
    "torch.save(x, 'x.pt')\n",
    "x1 = torch.load('x.pt')"
   ]
  },
  {
   "cell_type": "code",
   "execution_count": 28,
   "id": "trained-argentina",
   "metadata": {},
   "outputs": [
    {
     "name": "stdout",
     "output_type": "stream",
     "text": [
      "[tensor([1., 1., 1.]), tensor([1., 1., 1., 1.])]\n"
     ]
    }
   ],
   "source": [
    "y = torch.ones(4)\n",
    "torch.save([x, y], 'xy.pt')\n",
    "xy = torch.load('xy.pt')\n",
    "print(xy)"
   ]
  },
  {
   "cell_type": "code",
   "execution_count": 30,
   "id": "phantom-guitar",
   "metadata": {},
   "outputs": [
    {
     "name": "stdout",
     "output_type": "stream",
     "text": [
      "{'x': tensor([1., 1., 1.]), 'y': tensor([1., 1., 1., 1.])}\n"
     ]
    }
   ],
   "source": [
    "torch.save({'x': x, 'y': y}, 'xy_dict.pt')\n",
    "xy_dict = torch.load('xy_dict.pt')\n",
    "print(xy_dict)"
   ]
  },
  {
   "cell_type": "code",
   "execution_count": 46,
   "id": "purple-douglas",
   "metadata": {},
   "outputs": [],
   "source": [
    "class MLP(nn.Module):\n",
    "    def __init__(self):\n",
    "        super().__init__()\n",
    "        self.hidden = nn.Linear(3,2)\n",
    "        self.act = nn.ReLU()\n",
    "        self.output = nn.Linear(2,1)\n",
    "    def forward(self, x):\n",
    "        a = self.act(self.hidden(x))\n",
    "        return self.output(a)"
   ]
  },
  {
   "cell_type": "code",
   "execution_count": 34,
   "id": "significant-backing",
   "metadata": {},
   "outputs": [
    {
     "data": {
      "text/plain": [
       "OrderedDict([('hidden.weight',\n",
       "              tensor([[-0.1681,  0.0252,  0.4368],\n",
       "                      [-0.5363,  0.2891, -0.2816]])),\n",
       "             ('hidden.bias', tensor([ 0.5412, -0.1409])),\n",
       "             ('output.weight', tensor([[ 0.5406, -0.3947]])),\n",
       "             ('output.bias', tensor([-0.4893]))])"
      ]
     },
     "execution_count": 34,
     "metadata": {},
     "output_type": "execute_result"
    }
   ],
   "source": [
    "net = MLP()\n",
    "net.state_dict()"
   ]
  },
  {
   "cell_type": "code",
   "execution_count": 37,
   "id": "sunrise-cambridge",
   "metadata": {},
   "outputs": [
    {
     "data": {
      "text/plain": [
       "{'state': {},\n",
       " 'param_groups': [{'lr': 0.01,\n",
       "   'momentum': 0.9,\n",
       "   'dampening': 0,\n",
       "   'weight_decay': 0,\n",
       "   'nesterov': False,\n",
       "   'params': [0, 1, 2, 3]}]}"
      ]
     },
     "execution_count": 37,
     "metadata": {},
     "output_type": "execute_result"
    }
   ],
   "source": [
    "optimizer = optim.SGD(net.parameters(), lr = 0.01, momentum = 0.9)\n",
    "optimizer.state_dict()"
   ]
  },
  {
   "cell_type": "code",
   "execution_count": 39,
   "id": "amino-wells",
   "metadata": {},
   "outputs": [],
   "source": [
    "torch.save(net.state_dict(), 'net.pt')"
   ]
  },
  {
   "cell_type": "code",
   "execution_count": 47,
   "id": "announced-brass",
   "metadata": {},
   "outputs": [
    {
     "ename": "AttributeError",
     "evalue": "'function' object has no attribute 'copy'",
     "output_type": "error",
     "traceback": [
      "\u001b[1;31m---------------------------------------------------------------------------\u001b[0m",
      "\u001b[1;31mAttributeError\u001b[0m                            Traceback (most recent call last)",
      "\u001b[1;32m<ipython-input-47-4aa755680304>\u001b[0m in \u001b[0;36m<module>\u001b[1;34m\u001b[0m\n\u001b[0;32m      1\u001b[0m \u001b[0mmodel\u001b[0m \u001b[1;33m=\u001b[0m \u001b[0mMLP\u001b[0m\u001b[1;33m(\u001b[0m\u001b[1;33m)\u001b[0m\u001b[1;33m\u001b[0m\u001b[1;33m\u001b[0m\u001b[0m\n\u001b[1;32m----> 2\u001b[1;33m \u001b[0mmodel\u001b[0m\u001b[1;33m.\u001b[0m\u001b[0mload_state_dict\u001b[0m\u001b[1;33m(\u001b[0m\u001b[0mtorch\u001b[0m\u001b[1;33m.\u001b[0m\u001b[0mload\u001b[0m\u001b[1;33m(\u001b[0m\u001b[1;34m'net.pt'\u001b[0m\u001b[1;33m)\u001b[0m\u001b[1;33m)\u001b[0m\u001b[1;33m\u001b[0m\u001b[1;33m\u001b[0m\u001b[0m\n\u001b[0m",
      "\u001b[1;32mD:\\anaconda\\anaconda\\envs\\pytorch\\lib\\site-packages\\torch\\nn\\modules\\module.py\u001b[0m in \u001b[0;36mload_state_dict\u001b[1;34m(self, state_dict, strict)\u001b[0m\n\u001b[0;32m   1194\u001b[0m         \u001b[1;31m# copy state_dict so _load_from_state_dict can modify it\u001b[0m\u001b[1;33m\u001b[0m\u001b[1;33m\u001b[0m\u001b[1;33m\u001b[0m\u001b[0m\n\u001b[0;32m   1195\u001b[0m         \u001b[0mmetadata\u001b[0m \u001b[1;33m=\u001b[0m \u001b[0mgetattr\u001b[0m\u001b[1;33m(\u001b[0m\u001b[0mstate_dict\u001b[0m\u001b[1;33m,\u001b[0m \u001b[1;34m'_metadata'\u001b[0m\u001b[1;33m,\u001b[0m \u001b[1;32mNone\u001b[0m\u001b[1;33m)\u001b[0m\u001b[1;33m\u001b[0m\u001b[1;33m\u001b[0m\u001b[0m\n\u001b[1;32m-> 1196\u001b[1;33m         \u001b[0mstate_dict\u001b[0m \u001b[1;33m=\u001b[0m \u001b[0mstate_dict\u001b[0m\u001b[1;33m.\u001b[0m\u001b[0mcopy\u001b[0m\u001b[1;33m(\u001b[0m\u001b[1;33m)\u001b[0m\u001b[1;33m\u001b[0m\u001b[1;33m\u001b[0m\u001b[0m\n\u001b[0m\u001b[0;32m   1197\u001b[0m         \u001b[1;32mif\u001b[0m \u001b[0mmetadata\u001b[0m \u001b[1;32mis\u001b[0m \u001b[1;32mnot\u001b[0m \u001b[1;32mNone\u001b[0m\u001b[1;33m:\u001b[0m\u001b[1;33m\u001b[0m\u001b[1;33m\u001b[0m\u001b[0m\n\u001b[0;32m   1198\u001b[0m             \u001b[1;31m# mypy isn't aware that \"_metadata\" exists in state_dict\u001b[0m\u001b[1;33m\u001b[0m\u001b[1;33m\u001b[0m\u001b[1;33m\u001b[0m\u001b[0m\n",
      "\u001b[1;31mAttributeError\u001b[0m: 'function' object has no attribute 'copy'"
     ]
    }
   ],
   "source": [
    "model = MLP()\n",
    "model.load_state_dict(torch.load('net.pt'))"
   ]
  },
  {
   "cell_type": "code",
   "execution_count": 53,
   "id": "metric-cartoon",
   "metadata": {},
   "outputs": [],
   "source": [
    "X = torch.rand(4, 3, dtype = torch.float)\n",
    "path = './net1.pt'"
   ]
  },
  {
   "cell_type": "code",
   "execution_count": 50,
   "id": "imperial-status",
   "metadata": {},
   "outputs": [
    {
     "data": {
      "text/plain": [
       "tensor([[True],\n",
       "        [True],\n",
       "        [True],\n",
       "        [True]])"
      ]
     },
     "execution_count": 50,
     "metadata": {},
     "output_type": "execute_result"
    }
   ],
   "source": [
    "#method1: store the model with state_dict\n",
    "torch.save(net.state_dict(), path)\n",
    "net_load = MLP()\n",
    "net_load.load_state_dict(torch.load(path))\n",
    "net(X) == net_load(X)"
   ]
  },
  {
   "cell_type": "code",
   "execution_count": 69,
   "id": "revolutionary-findings",
   "metadata": {},
   "outputs": [],
   "source": [
    "x = torch.arange(1,4)\n",
    "y = x.cuda(0)"
   ]
  },
  {
   "cell_type": "code",
   "execution_count": 83,
   "id": "breathing-guess",
   "metadata": {},
   "outputs": [],
   "source": [
    "device = torch.device('cuda' if torch.cuda.is_available() else 'cpu')\n",
    "x = torch.arange(1,4, device = 'cpu')\n",
    "y = torch.arange(1, 4).to(device)"
   ]
  },
  {
   "cell_type": "code",
   "execution_count": 86,
   "id": "dedicated-hunger",
   "metadata": {},
   "outputs": [
    {
     "data": {
      "text/plain": [
       "tensor([1, 4, 9], device='cuda:0')"
      ]
     },
     "execution_count": 86,
     "metadata": {},
     "output_type": "execute_result"
    }
   ],
   "source": [
    "net = nn.Linear(3,1)\n",
    "list(net.parameters())[0].device\n",
    "net.cuda(0)\n",
    "list(net.parameters())[0].device"
   ]
  },
  {
   "cell_type": "code",
   "execution_count": 89,
   "id": "artificial-labor",
   "metadata": {},
   "outputs": [
    {
     "data": {
      "text/plain": [
       "tensor([2, 4, 6], device='cuda:0')"
      ]
     },
     "execution_count": 89,
     "metadata": {},
     "output_type": "execute_result"
    }
   ],
   "source": [
    "x.cuda(0) + y"
   ]
  },
  {
   "cell_type": "code",
   "execution_count": 92,
   "id": "lasting-scotland",
   "metadata": {},
   "outputs": [
    {
     "data": {
      "text/plain": [
       "device(type='cuda', index=0)"
      ]
     },
     "execution_count": 92,
     "metadata": {},
     "output_type": "execute_result"
    }
   ],
   "source": [
    "net = nn.Linear(3,1)\n",
    "list(net.parameters())[0].device\n",
    "net.cuda(0)\n",
    "list(net.parameters())[0].device"
   ]
  },
  {
   "cell_type": "code",
   "execution_count": 96,
   "id": "czech-sierra",
   "metadata": {},
   "outputs": [],
   "source": [
    "x = torch.rand(3,3).cpu()"
   ]
  },
  {
   "cell_type": "code",
   "execution_count": 99,
   "id": "crude-inflation",
   "metadata": {},
   "outputs": [
    {
     "data": {
      "text/plain": [
       "tensor([[0.3913],\n",
       "        [0.3681],\n",
       "        [0.5794]], device='cuda:0', grad_fn=<AddmmBackward>)"
      ]
     },
     "execution_count": 99,
     "metadata": {},
     "output_type": "execute_result"
    }
   ],
   "source": [
    "net(x.to(device))"
   ]
  },
  {
   "cell_type": "code",
   "execution_count": 101,
   "id": "secret-accountability",
   "metadata": {},
   "outputs": [
    {
     "data": {
      "text/plain": [
       "device(type='cpu')"
      ]
     },
     "execution_count": 101,
     "metadata": {},
     "output_type": "execute_result"
    }
   ],
   "source": [
    "x.device"
   ]
  }
 ],
 "metadata": {
  "kernelspec": {
   "display_name": "Python 3",
   "language": "python",
   "name": "python3"
  },
  "language_info": {
   "codemirror_mode": {
    "name": "ipython",
    "version": 3
   },
   "file_extension": ".py",
   "mimetype": "text/x-python",
   "name": "python",
   "nbconvert_exporter": "python",
   "pygments_lexer": "ipython3",
   "version": "3.8.8"
  },
  "toc": {
   "base_numbering": 1,
   "nav_menu": {},
   "number_sections": true,
   "sideBar": true,
   "skip_h1_title": false,
   "title_cell": "Table of Contents",
   "title_sidebar": "Contents",
   "toc_cell": false,
   "toc_position": {},
   "toc_section_display": true,
   "toc_window_display": false
  }
 },
 "nbformat": 4,
 "nbformat_minor": 5
}
