{
 "cells": [
  {
   "cell_type": "code",
   "execution_count": 1,
   "id": "statewide-walker",
   "metadata": {},
   "outputs": [],
   "source": [
    "import zipfile\n",
    "import r\n",
    "import os\n",
    "import csv\n",
    "import time\n",
    "from time import sleep\n",
    "#from tqdm import tqdm\n",
    "from tqdm.notebook import tqdm, tnrange"
   ]
  },
  {
   "cell_type": "markdown",
   "id": "hawaiian-review",
   "metadata": {},
   "source": [
    "## Tqdm 进度条显示\n",
    "https://pypi.org/project/tqdm/"
   ]
  },
  {
   "cell_type": "code",
   "execution_count": 27,
   "id": "informative-colombia",
   "metadata": {},
   "outputs": [
    {
     "data": {
      "application/vnd.jupyter.widget-view+json": {
       "model_id": "57fb75d3c4d4405eb4dc0b5a5d01b294",
       "version_major": 2,
       "version_minor": 0
      },
      "text/plain": [
       "  0%|          | 0/100 [00:00<?, ?it/s]"
      ]
     },
     "metadata": {},
     "output_type": "display_data"
    },
    {
     "name": "stdout",
     "output_type": "stream",
     "text": [
      "Wall time: 5.85 s\n"
     ]
    }
   ],
   "source": [
    "%%time\n",
    "for i in tqdm(range(100)):\n",
    "    sleep(0.05)"
   ]
  },
  {
   "cell_type": "code",
   "execution_count": 20,
   "id": "following-tennessee",
   "metadata": {},
   "outputs": [
    {
     "data": {
      "application/vnd.jupyter.widget-view+json": {
       "model_id": "18db14d2d7e141da87ba3e42f761094d",
       "version_major": 2,
       "version_minor": 0
      },
      "text/plain": [
       "1st loop:   0%|          | 0/20 [00:00<?, ?it/s]"
      ]
     },
     "metadata": {},
     "output_type": "display_data"
    },
    {
     "data": {
      "application/vnd.jupyter.widget-view+json": {
       "model_id": "51758101a6694b818d04ec7fce84e8cb",
       "version_major": 2,
       "version_minor": 0
      },
      "text/plain": [
       "2nd loop:   0%|          | 0/10 [00:00<?, ?it/s]"
      ]
     },
     "metadata": {},
     "output_type": "display_data"
    },
    {
     "data": {
      "application/vnd.jupyter.widget-view+json": {
       "model_id": "0f35d24bd60f4b4e85dcf88b30cdd1c2",
       "version_major": 2,
       "version_minor": 0
      },
      "text/plain": [
       "2nd loop:   0%|          | 0/10 [00:00<?, ?it/s]"
      ]
     },
     "metadata": {},
     "output_type": "display_data"
    },
    {
     "data": {
      "application/vnd.jupyter.widget-view+json": {
       "model_id": "200da725291d4f7eb280d83ebe08f68a",
       "version_major": 2,
       "version_minor": 0
      },
      "text/plain": [
       "2nd loop:   0%|          | 0/10 [00:00<?, ?it/s]"
      ]
     },
     "metadata": {},
     "output_type": "display_data"
    },
    {
     "data": {
      "application/vnd.jupyter.widget-view+json": {
       "model_id": "fa72fab9571047779b3d69ccade27895",
       "version_major": 2,
       "version_minor": 0
      },
      "text/plain": [
       "2nd loop:   0%|          | 0/10 [00:00<?, ?it/s]"
      ]
     },
     "metadata": {},
     "output_type": "display_data"
    },
    {
     "data": {
      "application/vnd.jupyter.widget-view+json": {
       "model_id": "6232b50bdc6e4545b002f64dcb0cbc2b",
       "version_major": 2,
       "version_minor": 0
      },
      "text/plain": [
       "2nd loop:   0%|          | 0/10 [00:00<?, ?it/s]"
      ]
     },
     "metadata": {},
     "output_type": "display_data"
    },
    {
     "data": {
      "application/vnd.jupyter.widget-view+json": {
       "model_id": "e30559fd86a8434e8526482808221a53",
       "version_major": 2,
       "version_minor": 0
      },
      "text/plain": [
       "2nd loop:   0%|          | 0/10 [00:00<?, ?it/s]"
      ]
     },
     "metadata": {},
     "output_type": "display_data"
    },
    {
     "data": {
      "application/vnd.jupyter.widget-view+json": {
       "model_id": "4e49db6e324c460b97d4349839d5abd2",
       "version_major": 2,
       "version_minor": 0
      },
      "text/plain": [
       "2nd loop:   0%|          | 0/10 [00:00<?, ?it/s]"
      ]
     },
     "metadata": {},
     "output_type": "display_data"
    },
    {
     "data": {
      "application/vnd.jupyter.widget-view+json": {
       "model_id": "3d2a4c3724bd4c23b09b6a59bcc6b929",
       "version_major": 2,
       "version_minor": 0
      },
      "text/plain": [
       "2nd loop:   0%|          | 0/10 [00:00<?, ?it/s]"
      ]
     },
     "metadata": {},
     "output_type": "display_data"
    },
    {
     "data": {
      "application/vnd.jupyter.widget-view+json": {
       "model_id": "5d62451995634fb4a93f08f3d0f09334",
       "version_major": 2,
       "version_minor": 0
      },
      "text/plain": [
       "2nd loop:   0%|          | 0/10 [00:00<?, ?it/s]"
      ]
     },
     "metadata": {},
     "output_type": "display_data"
    },
    {
     "data": {
      "application/vnd.jupyter.widget-view+json": {
       "model_id": "adf3f51668f740309e17eb27c2117626",
       "version_major": 2,
       "version_minor": 0
      },
      "text/plain": [
       "2nd loop:   0%|          | 0/10 [00:00<?, ?it/s]"
      ]
     },
     "metadata": {},
     "output_type": "display_data"
    },
    {
     "data": {
      "application/vnd.jupyter.widget-view+json": {
       "model_id": "8fed8f0d82074544a412f6e6ca711597",
       "version_major": 2,
       "version_minor": 0
      },
      "text/plain": [
       "2nd loop:   0%|          | 0/10 [00:00<?, ?it/s]"
      ]
     },
     "metadata": {},
     "output_type": "display_data"
    },
    {
     "data": {
      "application/vnd.jupyter.widget-view+json": {
       "model_id": "9abb72bc4c4446b997ec4c12c2faa2e8",
       "version_major": 2,
       "version_minor": 0
      },
      "text/plain": [
       "2nd loop:   0%|          | 0/10 [00:00<?, ?it/s]"
      ]
     },
     "metadata": {},
     "output_type": "display_data"
    },
    {
     "data": {
      "application/vnd.jupyter.widget-view+json": {
       "model_id": "bfc3edc6c8af4345b2563f3365845d71",
       "version_major": 2,
       "version_minor": 0
      },
      "text/plain": [
       "2nd loop:   0%|          | 0/10 [00:00<?, ?it/s]"
      ]
     },
     "metadata": {},
     "output_type": "display_data"
    },
    {
     "data": {
      "application/vnd.jupyter.widget-view+json": {
       "model_id": "76cde841ade14811b89330e0ee7b6037",
       "version_major": 2,
       "version_minor": 0
      },
      "text/plain": [
       "2nd loop:   0%|          | 0/10 [00:00<?, ?it/s]"
      ]
     },
     "metadata": {},
     "output_type": "display_data"
    },
    {
     "data": {
      "application/vnd.jupyter.widget-view+json": {
       "model_id": "7562bf538e4341fa88e9d03bc863bb78",
       "version_major": 2,
       "version_minor": 0
      },
      "text/plain": [
       "2nd loop:   0%|          | 0/10 [00:00<?, ?it/s]"
      ]
     },
     "metadata": {},
     "output_type": "display_data"
    },
    {
     "data": {
      "application/vnd.jupyter.widget-view+json": {
       "model_id": "e8043c998b5b45fda359ac4406f5adfb",
       "version_major": 2,
       "version_minor": 0
      },
      "text/plain": [
       "2nd loop:   0%|          | 0/10 [00:00<?, ?it/s]"
      ]
     },
     "metadata": {},
     "output_type": "display_data"
    },
    {
     "data": {
      "application/vnd.jupyter.widget-view+json": {
       "model_id": "2ceb38776b0c46519831871815e8a930",
       "version_major": 2,
       "version_minor": 0
      },
      "text/plain": [
       "2nd loop:   0%|          | 0/10 [00:00<?, ?it/s]"
      ]
     },
     "metadata": {},
     "output_type": "display_data"
    },
    {
     "data": {
      "application/vnd.jupyter.widget-view+json": {
       "model_id": "27c5c5bbf29b4ce281d3ede021d3cdd1",
       "version_major": 2,
       "version_minor": 0
      },
      "text/plain": [
       "2nd loop:   0%|          | 0/10 [00:00<?, ?it/s]"
      ]
     },
     "metadata": {},
     "output_type": "display_data"
    },
    {
     "data": {
      "application/vnd.jupyter.widget-view+json": {
       "model_id": "ff59b57bc2f94735a50b8be370384864",
       "version_major": 2,
       "version_minor": 0
      },
      "text/plain": [
       "2nd loop:   0%|          | 0/10 [00:00<?, ?it/s]"
      ]
     },
     "metadata": {},
     "output_type": "display_data"
    },
    {
     "data": {
      "application/vnd.jupyter.widget-view+json": {
       "model_id": "4525d2b70c3c4c6786267460ccd19330",
       "version_major": 2,
       "version_minor": 0
      },
      "text/plain": [
       "2nd loop:   0%|          | 0/10 [00:00<?, ?it/s]"
      ]
     },
     "metadata": {},
     "output_type": "display_data"
    }
   ],
   "source": [
    "'''method 1'''\n",
    "for i in tnrange(20, desc='1st loop'):\n",
    "    for j in tqdm(range(10), desc='2nd loop'):\n",
    "        sleep(0.01)"
   ]
  },
  {
   "cell_type": "code",
   "execution_count": 16,
   "id": "tired-lexington",
   "metadata": {},
   "outputs": [
    {
     "data": {
      "application/vnd.jupyter.widget-view+json": {
       "model_id": "1d7d42d172a146b6b64b0de8edb73e4f",
       "version_major": 2,
       "version_minor": 0
      },
      "text/plain": [
       "  0%|          | 0/100 [00:00<?, ?it/s]"
      ]
     },
     "metadata": {},
     "output_type": "display_data"
    }
   ],
   "source": [
    "'''method 2'''\n",
    "with tqdm(total=100) as pbar:\n",
    "    for i in range(10):\n",
    "        time.sleep(0.1)\n",
    "        pbar.update(10)"
   ]
  },
  {
   "cell_type": "code",
   "execution_count": 17,
   "id": "minimal-invention",
   "metadata": {},
   "outputs": [
    {
     "data": {
      "application/vnd.jupyter.widget-view+json": {
       "model_id": "44095906b4cd4cb9aeb5fc0efda7a2fc",
       "version_major": 2,
       "version_minor": 0
      },
      "text/plain": [
       "  0%|          | 0/100 [00:00<?, ?it/s]"
      ]
     },
     "metadata": {},
     "output_type": "display_data"
    }
   ],
   "source": [
    "'''method 3'''\n",
    "pbar = tqdm(total=100)\n",
    "for i in range(100):\n",
    "    time.sleep(0.1)\n",
    "    pbar.update(1)\n",
    "pbar.close()"
   ]
  },
  {
   "cell_type": "markdown",
   "id": "brief-council",
   "metadata": {},
   "source": [
    "## zipfile unfold zipfile "
   ]
  },
  {
   "cell_type": "code",
   "execution_count": 26,
   "id": "imperial-japan",
   "metadata": {},
   "outputs": [],
   "source": [
    "with zipfile.ZipFile('./Dataset/JayLyrics/jaychou_lyrics.txt.zip') as zin:\n",
    "    with zin.open('jaychou_lyrics.txt') as f:\n",
    "        corpus_chars = f.read().decode('utf-8')"
   ]
  },
  {
   "cell_type": "code",
   "execution_count": 37,
   "id": "hungarian-artist",
   "metadata": {},
   "outputs": [
    {
     "name": "stdout",
     "output_type": "stream",
     "text": [
      "想要有直升机\n",
      "\n",
      "想要和你飞到宇宙去\n",
      "\n",
      "想要和你融化在一起\n",
      "\n",
      "融化在宇宙里\n",
      "\n",
      "我每天每天每天在想想想想著你\n",
      "\n",
      "这样的甜蜜\n",
      "\n",
      "让我开始乡相信命运\n",
      "\n",
      "感谢地心引力\n",
      "\n",
      "让我碰到你\n",
      "\n",
      "漂亮的让我面红的可爱女人\n",
      "\n",
      "温柔的让我心疼的可爱女人\n",
      "\n",
      "透明的让我感动的可爱女人\n",
      "\n",
      "坏坏的让我疯狂的可爱女人\n",
      "\n",
      "坏坏的让我疯狂的可爱女人\n",
      "\n",
      "漂亮的让我面红的可爱女人\n",
      "\n",
      "温柔的让我心疼的可爱女人\n",
      "\n",
      "透明的让我感动的可爱女人\n",
      "\n",
      "坏坏的让我疯狂的可爱女人\n",
      "\n",
      "坏坏的让我疯狂的可爱女人\n",
      "\n",
      "想要有直升机\n",
      "\n",
      "想要和你飞到宇宙去\n",
      "\n",
      "想要和你融化在一起\n",
      "\n",
      "融化在宇宙里\n",
      "\n",
      "我每天每天每天在想想想想著你\n",
      "\n",
      "这样的甜蜜\n",
      "\n",
      "让我开始乡相信命运\n",
      "\n",
      "感谢地心引力\n",
      "\n",
      "让我碰到你\n",
      "\n",
      "漂亮的让我面红的可爱女人\n",
      "\n",
      "温柔的让我心疼的可爱女人\n",
      "\n",
      "透明的让我感动的可爱女人\n",
      "\n",
      "坏坏的让我疯狂的可爱女人\n",
      "\n",
      "坏坏的让我疯狂的可爱女人\n",
      "\n",
      "漂亮的让我面红的可爱女人\n",
      "\n",
      "温柔的让我心疼的可爱女人\n",
      "\n",
      "透明的让我感动的可爱女人\n",
      "\n",
      "坏坏的让我疯狂的可爱女人\n",
      "\n",
      "坏坏的让我疯狂的可爱女人\n",
      "\n",
      "漂亮的让我面红的可爱女人\n",
      "\n",
      "温柔的让我心疼的可爱女人\n",
      "\n",
      "透明的让我感动的可爱女人\n",
      "\n",
      "坏坏的让我疯狂的可爱女人\n",
      "\n",
      "坏坏的让我疯狂的可爱女人\n",
      "\n",
      "漂亮的让我面红的可爱女人\n",
      "\n",
      "温柔的让我心疼的可爱女人\n",
      "\n",
      "透明的让我感动的可爱女人\n",
      "\n",
      "坏坏的让我疯狂的可爱女人\n",
      "\n",
      "坏坏的让我疯狂的可爱女人\n",
      "\n",
      "如果说怀疑 可以造句如果说分离 能够翻译\n",
      "\n",
      "如果这一切 真的可以\n",
      "\n"
     ]
    }
   ],
   "source": [
    "with open('./Dataset/JayLyrics/jaychou_lyrics.txt', 'rb') as f:\n",
    "    sentence = f.readline().decode('utf-8')\n",
    "    for i in range(50):\n",
    "        print(sentence)\n",
    "        sentence = f.readline().decode('utf-8')"
   ]
  },
  {
   "cell_type": "code",
   "execution_count": 70,
   "id": "desperate-mechanics",
   "metadata": {},
   "outputs": [],
   "source": [
    "with open('./Dataset/JayLyrics/jaychou_lyrics_copy.txt', 'w', encoding='utf-8') as h:\n",
    "    f = open('./Dataset/JayLyrics/jaychou_lyrics.txt', 'rb') \n",
    "    for sentence in f.readlines():\n",
    "        #print(sentence.decode('utf-8'))\n",
    "        h.writelines(str(sentence.decode('utf-8')))\n",
    "    f.close()"
   ]
  },
  {
   "cell_type": "markdown",
   "id": "needed-universal",
   "metadata": {},
   "source": [
    "## magic function"
   ]
  },
  {
   "cell_type": "code",
   "execution_count": 5,
   "id": "dominican-cylinder",
   "metadata": {},
   "outputs": [
    {
     "data": {
      "text/plain": [
       "'D:\\\\wangsiyu\\\\jupyter'"
      ]
     },
     "execution_count": 5,
     "metadata": {},
     "output_type": "execute_result"
    }
   ],
   "source": [
    "%pwd"
   ]
  },
  {
   "cell_type": "code",
   "execution_count": 9,
   "id": "present-video",
   "metadata": {},
   "outputs": [
    {
     "name": "stdout",
     "output_type": "stream",
     "text": [
      "Microsoft Windows [Version 10.0.21376.1]\r\n",
      "(c) Microsoft Corporation. All rights reserved.\r\n",
      "\r\n",
      "D:\\wangsiyu\\jupyter>pip install numpy \n",
      "Requirement already satisfied: numpy in d:\\anaconda\\anaconda\\envs\\pytorch\\lib\\site-packages (1.19.5)\r\n",
      "\r\n",
      "D:\\wangsiyu\\jupyter>"
     ]
    }
   ],
   "source": [
    "%%cmd \n",
    "pip install numpy "
   ]
  },
  {
   "cell_type": "code",
   "execution_count": 12,
   "id": "bizarre-lesbian",
   "metadata": {},
   "outputs": [
    {
     "name": "stdout",
     "output_type": "stream",
     "text": [
      "D:\\wangsiyu\\jupyter\n"
     ]
    }
   ],
   "source": [
    "%cd jupyter"
   ]
  },
  {
   "cell_type": "code",
   "execution_count": 20,
   "id": "conventional-repeat",
   "metadata": {},
   "outputs": [
    {
     "name": "stdout",
     "output_type": "stream",
     "text": [
      "Interactive namespace is empty.\n"
     ]
    }
   ],
   "source": [
    "%whos"
   ]
  },
  {
   "cell_type": "code",
   "execution_count": 19,
   "id": "competent-rubber",
   "metadata": {},
   "outputs": [
    {
     "name": "stdout",
     "output_type": "stream",
     "text": [
      "Once deleted, variables cannot be recovered. Proceed (y/[n])? y\n"
     ]
    }
   ],
   "source": [
    "%reset"
   ]
  },
  {
   "cell_type": "code",
   "execution_count": 2,
   "id": "duplicate-franchise",
   "metadata": {},
   "outputs": [
    {
     "data": {
      "application/vnd.jupyter.widget-view+json": {
       "model_id": "b98fcdd839264e8bbdc33f636c4da0ba",
       "version_major": 2,
       "version_minor": 0
      },
      "text/plain": [
       "1st loop:   0%|          | 0/10 [00:00<?, ?it/s]"
      ]
     },
     "metadata": {},
     "output_type": "display_data"
    },
    {
     "data": {
      "application/vnd.jupyter.widget-view+json": {
       "model_id": "947f2690666542ecad25282bc395cdb3",
       "version_major": 2,
       "version_minor": 0
      },
      "text/plain": [
       "2nd loop:   0%|          | 0/100 [00:00<?, ?it/s]"
      ]
     },
     "metadata": {},
     "output_type": "display_data"
    },
    {
     "data": {
      "application/vnd.jupyter.widget-view+json": {
       "model_id": "5c9e8906555d4863afb4c61dd94111eb",
       "version_major": 2,
       "version_minor": 0
      },
      "text/plain": [
       "2nd loop:   0%|          | 0/100 [00:00<?, ?it/s]"
      ]
     },
     "metadata": {},
     "output_type": "display_data"
    },
    {
     "data": {
      "application/vnd.jupyter.widget-view+json": {
       "model_id": "f43f2da739f847a1b45dad453615b504",
       "version_major": 2,
       "version_minor": 0
      },
      "text/plain": [
       "2nd loop:   0%|          | 0/100 [00:00<?, ?it/s]"
      ]
     },
     "metadata": {},
     "output_type": "display_data"
    },
    {
     "data": {
      "application/vnd.jupyter.widget-view+json": {
       "model_id": "f652d9c2d9bb4ab7b8d57cf5983a69f5",
       "version_major": 2,
       "version_minor": 0
      },
      "text/plain": [
       "2nd loop:   0%|          | 0/100 [00:00<?, ?it/s]"
      ]
     },
     "metadata": {},
     "output_type": "display_data"
    },
    {
     "data": {
      "application/vnd.jupyter.widget-view+json": {
       "model_id": "a5909f009e4143a4b6d1b75034741cc1",
       "version_major": 2,
       "version_minor": 0
      },
      "text/plain": [
       "2nd loop:   0%|          | 0/100 [00:00<?, ?it/s]"
      ]
     },
     "metadata": {},
     "output_type": "display_data"
    },
    {
     "data": {
      "application/vnd.jupyter.widget-view+json": {
       "model_id": "ed58ebd149f648e485f03f939c7cd92e",
       "version_major": 2,
       "version_minor": 0
      },
      "text/plain": [
       "2nd loop:   0%|          | 0/100 [00:00<?, ?it/s]"
      ]
     },
     "metadata": {},
     "output_type": "display_data"
    },
    {
     "data": {
      "application/vnd.jupyter.widget-view+json": {
       "model_id": "0d552c8da6df40328db2a68d2ede3694",
       "version_major": 2,
       "version_minor": 0
      },
      "text/plain": [
       "2nd loop:   0%|          | 0/100 [00:00<?, ?it/s]"
      ]
     },
     "metadata": {},
     "output_type": "display_data"
    },
    {
     "data": {
      "application/vnd.jupyter.widget-view+json": {
       "model_id": "853ed18bc49d4a48afe8b90bc34ab396",
       "version_major": 2,
       "version_minor": 0
      },
      "text/plain": [
       "2nd loop:   0%|          | 0/100 [00:00<?, ?it/s]"
      ]
     },
     "metadata": {},
     "output_type": "display_data"
    },
    {
     "data": {
      "application/vnd.jupyter.widget-view+json": {
       "model_id": "82efb9c8510142fd9b1d73425c0c442f",
       "version_major": 2,
       "version_minor": 0
      },
      "text/plain": [
       "2nd loop:   0%|          | 0/100 [00:00<?, ?it/s]"
      ]
     },
     "metadata": {},
     "output_type": "display_data"
    },
    {
     "data": {
      "application/vnd.jupyter.widget-view+json": {
       "model_id": "d871f19bf5714af7bce93b476ad33598",
       "version_major": 2,
       "version_minor": 0
      },
      "text/plain": [
       "2nd loop:   0%|          | 0/100 [00:00<?, ?it/s]"
      ]
     },
     "metadata": {},
     "output_type": "display_data"
    },
    {
     "name": "stdout",
     "output_type": "stream",
     "text": [
      "Wall time: 16.8 s\n"
     ]
    }
   ],
   "source": [
    "%%time\n",
    "'''method 1'''\n",
    "for i in tnrange(10, desc='1st loop'):\n",
    "    for j in tqdm(range(100), desc='2nd loop'):\n",
    "        sleep(0.01)"
   ]
  },
  {
   "cell_type": "markdown",
   "id": "colonial-adapter",
   "metadata": {},
   "source": [
    "## try, except, finally 语句"
   ]
  },
  {
   "cell_type": "code",
   "execution_count": 14,
   "id": "supposed-desperate",
   "metadata": {},
   "outputs": [
    {
     "name": "stdout",
     "output_type": "stream",
     "text": [
      "321\n",
      "321\n",
      "123\n"
     ]
    }
   ],
   "source": [
    "def func():\n",
    "    try:\n",
    "        return 123\n",
    "    finally:\n",
    "        return 321\n",
    "print(func())#结果：321\n",
    " \n",
    "def func():\n",
    "    try:\n",
    "        return 123\n",
    "    finally:\n",
    "        print(321)\n",
    "print(func())#结果321 123"
   ]
  },
  {
   "cell_type": "code",
   "execution_count": 13,
   "id": "entitled-portable",
   "metadata": {
    "scrolled": true
   },
   "outputs": [
    {
     "name": "stdout",
     "output_type": "stream",
     "text": [
      "try--start\n",
      "finally\n"
     ]
    }
   ],
   "source": [
    "def fun():\n",
    "    try:\n",
    "        print('try--start')\n",
    "        a = 1/0\n",
    "    except ValueError as ret:\n",
    "        print(ret)\n",
    "    finally:\n",
    "        return 'finally'\n",
    "print(fun())"
   ]
  }
 ],
 "metadata": {
  "kernelspec": {
   "display_name": "Python 3",
   "language": "python",
   "name": "python3"
  },
  "language_info": {
   "codemirror_mode": {
    "name": "ipython",
    "version": 3
   },
   "file_extension": ".py",
   "mimetype": "text/x-python",
   "name": "python",
   "nbconvert_exporter": "python",
   "pygments_lexer": "ipython3",
   "version": "3.8.8"
  },
  "toc": {
   "base_numbering": 1,
   "nav_menu": {},
   "number_sections": true,
   "sideBar": true,
   "skip_h1_title": false,
   "title_cell": "Table of Contents",
   "title_sidebar": "Contents",
   "toc_cell": false,
   "toc_position": {},
   "toc_section_display": true,
   "toc_window_display": false
  }
 },
 "nbformat": 4,
 "nbformat_minor": 5
}
