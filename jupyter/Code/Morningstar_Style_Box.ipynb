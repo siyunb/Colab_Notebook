{
 "cells": [
  {
   "cell_type": "markdown",
   "metadata": {},
   "source": [
    "# 准备工作"
   ]
  },
  {
   "cell_type": "code",
   "execution_count": 1,
   "metadata": {},
   "outputs": [],
   "source": [
    "import numpy as np\n",
    "import pandas as pd\n",
    "import matplotlib as mpl\n",
    "import matplotlib.pyplot as plt\n",
    "import matplotlib.image as mpimg\n",
    "import pylab as pl\n",
    "import time\n",
    "import datetime\n",
    "from datetime import timedelta\n",
    "import calendar\n",
    "from tqdm import tqdm\n",
    "from sklearn import preprocessing\n",
    "from mpl_toolkits.mplot3d import Axes3D"
   ]
  },
  {
   "cell_type": "code",
   "execution_count": 2,
   "metadata": {},
   "outputs": [],
   "source": [
    "import math\n",
    "import re"
   ]
  },
  {
   "cell_type": "markdown",
   "metadata": {},
   "source": [
    "# 数据获取"
   ]
  },
  {
   "cell_type": "code",
   "execution_count": 4,
   "metadata": {},
   "outputs": [],
   "source": [
    "#小技巧：排除数据源中的干扰行\n",
    "def fliter_none(issue):\n",
    "    pattern = re.compile('\\d{6}.[A-Z]{2}')\n",
    "    try:\n",
    "        id_stock = pattern.search(issue)\n",
    "        if id_stock is not None :\n",
    "            return True\n",
    "        else:\n",
    "            return False\n",
    "    except:\n",
    "        return False "
   ]
  },
  {
   "cell_type": "markdown",
   "metadata": {},
   "source": [
    "## 股票"
   ]
  },
  {
   "cell_type": "code",
   "execution_count": 27,
   "metadata": {
    "scrolled": true
   },
   "outputs": [
    {
     "data": {
      "text/html": [
       "<div>\n",
       "<style scoped>\n",
       "    .dataframe tbody tr th:only-of-type {\n",
       "        vertical-align: middle;\n",
       "    }\n",
       "\n",
       "    .dataframe tbody tr th {\n",
       "        vertical-align: top;\n",
       "    }\n",
       "\n",
       "    .dataframe thead th {\n",
       "        text-align: right;\n",
       "    }\n",
       "</style>\n",
       "<table border=\"1\" class=\"dataframe\">\n",
       "  <thead>\n",
       "    <tr style=\"text-align: right;\">\n",
       "      <th></th>\n",
       "      <th>stock_code</th>\n",
       "      <th>stock_name</th>\n",
       "      <th>share_num</th>\n",
       "      <th>close_price</th>\n",
       "      <th>market_value</th>\n",
       "      <th>PE</th>\n",
       "      <th>PB</th>\n",
       "      <th>PR</th>\n",
       "      <th>PC</th>\n",
       "      <th>dp</th>\n",
       "      <th>...</th>\n",
       "      <th>g3e</th>\n",
       "      <th>g3b</th>\n",
       "      <th>g3r</th>\n",
       "      <th>g3c</th>\n",
       "      <th>g_e</th>\n",
       "      <th>g_b</th>\n",
       "      <th>g_r</th>\n",
       "      <th>g_c</th>\n",
       "      <th>cum_market_value</th>\n",
       "      <th>Cum_Ratio</th>\n",
       "    </tr>\n",
       "  </thead>\n",
       "  <tbody>\n",
       "    <tr>\n",
       "      <th>2833</th>\n",
       "      <td>600519.SH</td>\n",
       "      <td>贵州茅台</td>\n",
       "      <td>1.256198e+09</td>\n",
       "      <td>1998.00</td>\n",
       "      <td>2.509883e+12</td>\n",
       "      <td>56.3023</td>\n",
       "      <td>16.9070</td>\n",
       "      <td>27.3676</td>\n",
       "      <td>58.3609</td>\n",
       "      <td>0.9416</td>\n",
       "      <td>...</td>\n",
       "      <td>0.299629</td>\n",
       "      <td>0.233862</td>\n",
       "      <td>0.264884</td>\n",
       "      <td>0.868149</td>\n",
       "      <td>0.201151</td>\n",
       "      <td>0.208440</td>\n",
       "      <td>0.178679</td>\n",
       "      <td>0.367812</td>\n",
       "      <td>2.509883e+12</td>\n",
       "      <td>0.029713</td>\n",
       "    </tr>\n",
       "    <tr>\n",
       "      <th>3318</th>\n",
       "      <td>601398.SH</td>\n",
       "      <td>工商银行</td>\n",
       "      <td>3.564063e+11</td>\n",
       "      <td>4.99</td>\n",
       "      <td>1.712803e+12</td>\n",
       "      <td>6.1499</td>\n",
       "      <td>0.6892</td>\n",
       "      <td>2.0351</td>\n",
       "      <td>1.3275</td>\n",
       "      <td>5.1056</td>\n",
       "      <td>...</td>\n",
       "      <td>0.037975</td>\n",
       "      <td>0.099200</td>\n",
       "      <td>0.065100</td>\n",
       "      <td>-0.060613</td>\n",
       "      <td>0.028918</td>\n",
       "      <td>0.093324</td>\n",
       "      <td>0.067476</td>\n",
       "      <td>0.380387</td>\n",
       "      <td>4.222686e+12</td>\n",
       "      <td>0.049990</td>\n",
       "    </tr>\n",
       "    <tr>\n",
       "      <th>3302</th>\n",
       "      <td>601318.SH</td>\n",
       "      <td>中国平安</td>\n",
       "      <td>1.828024e+10</td>\n",
       "      <td>86.98</td>\n",
       "      <td>1.537702e+12</td>\n",
       "      <td>12.9395</td>\n",
       "      <td>2.2405</td>\n",
       "      <td>1.3326</td>\n",
       "      <td>8.6948</td>\n",
       "      <td>3.1442</td>\n",
       "      <td>...</td>\n",
       "      <td>0.206413</td>\n",
       "      <td>0.175674</td>\n",
       "      <td>0.096478</td>\n",
       "      <td>0.701471</td>\n",
       "      <td>0.188854</td>\n",
       "      <td>0.172699</td>\n",
       "      <td>0.111791</td>\n",
       "      <td>0.390929</td>\n",
       "      <td>5.760388e+12</td>\n",
       "      <td>0.068195</td>\n",
       "    </tr>\n",
       "    <tr>\n",
       "      <th>3409</th>\n",
       "      <td>601939.SH</td>\n",
       "      <td>建设银行</td>\n",
       "      <td>2.500110e+11</td>\n",
       "      <td>6.28</td>\n",
       "      <td>1.252059e+12</td>\n",
       "      <td>6.3509</td>\n",
       "      <td>0.7128</td>\n",
       "      <td>2.1291</td>\n",
       "      <td>1.5484</td>\n",
       "      <td>4.7042</td>\n",
       "      <td>...</td>\n",
       "      <td>0.041667</td>\n",
       "      <td>0.115702</td>\n",
       "      <td>0.059883</td>\n",
       "      <td>6.687500</td>\n",
       "      <td>0.033730</td>\n",
       "      <td>0.100423</td>\n",
       "      <td>0.067340</td>\n",
       "      <td>2.210121</td>\n",
       "      <td>7.012448e+12</td>\n",
       "      <td>0.083017</td>\n",
       "    </tr>\n",
       "    <tr>\n",
       "      <th>349</th>\n",
       "      <td>000858.SZ</td>\n",
       "      <td>五粮液</td>\n",
       "      <td>3.881608e+09</td>\n",
       "      <td>291.85</td>\n",
       "      <td>1.132847e+12</td>\n",
       "      <td>58.3819</td>\n",
       "      <td>14.1083</td>\n",
       "      <td>20.4083</td>\n",
       "      <td>104.2732</td>\n",
       "      <td>0.8521</td>\n",
       "      <td>...</td>\n",
       "      <td>0.363422</td>\n",
       "      <td>0.164104</td>\n",
       "      <td>0.296832</td>\n",
       "      <td>0.233403</td>\n",
       "      <td>0.266881</td>\n",
       "      <td>0.162643</td>\n",
       "      <td>0.230851</td>\n",
       "      <td>0.248580</td>\n",
       "      <td>8.145295e+12</td>\n",
       "      <td>0.096428</td>\n",
       "    </tr>\n",
       "    <tr>\n",
       "      <th>...</th>\n",
       "      <td>...</td>\n",
       "      <td>...</td>\n",
       "      <td>...</td>\n",
       "      <td>...</td>\n",
       "      <td>...</td>\n",
       "      <td>...</td>\n",
       "      <td>...</td>\n",
       "      <td>...</td>\n",
       "      <td>...</td>\n",
       "      <td>...</td>\n",
       "      <td>...</td>\n",
       "      <td>...</td>\n",
       "      <td>...</td>\n",
       "      <td>...</td>\n",
       "      <td>...</td>\n",
       "      <td>...</td>\n",
       "      <td>...</td>\n",
       "      <td>...</td>\n",
       "      <td>...</td>\n",
       "      <td>...</td>\n",
       "      <td>...</td>\n",
       "    </tr>\n",
       "    <tr>\n",
       "      <th>4300</th>\n",
       "      <td>688685.SH</td>\n",
       "      <td>迈信林</td>\n",
       "      <td>NaN</td>\n",
       "      <td>NaN</td>\n",
       "      <td>NaN</td>\n",
       "      <td>NaN</td>\n",
       "      <td>NaN</td>\n",
       "      <td>NaN</td>\n",
       "      <td>NaN</td>\n",
       "      <td>0.4146</td>\n",
       "      <td>...</td>\n",
       "      <td>0.080000</td>\n",
       "      <td>0.102632</td>\n",
       "      <td>0.723754</td>\n",
       "      <td>-0.642857</td>\n",
       "      <td>0.408709</td>\n",
       "      <td>0.221187</td>\n",
       "      <td>0.370864</td>\n",
       "      <td>3.579157</td>\n",
       "      <td>NaN</td>\n",
       "      <td>NaN</td>\n",
       "    </tr>\n",
       "    <tr>\n",
       "      <th>4302</th>\n",
       "      <td>688687.SH</td>\n",
       "      <td>凯因科技</td>\n",
       "      <td>NaN</td>\n",
       "      <td>NaN</td>\n",
       "      <td>NaN</td>\n",
       "      <td>NaN</td>\n",
       "      <td>NaN</td>\n",
       "      <td>NaN</td>\n",
       "      <td>NaN</td>\n",
       "      <td>0.2292</td>\n",
       "      <td>...</td>\n",
       "      <td>0.608696</td>\n",
       "      <td>0.075425</td>\n",
       "      <td>0.438914</td>\n",
       "      <td>3.166667</td>\n",
       "      <td>0.379598</td>\n",
       "      <td>0.097493</td>\n",
       "      <td>0.198060</td>\n",
       "      <td>1.353498</td>\n",
       "      <td>NaN</td>\n",
       "      <td>NaN</td>\n",
       "    </tr>\n",
       "    <tr>\n",
       "      <th>4303</th>\n",
       "      <td>688689.SH</td>\n",
       "      <td>银河微电</td>\n",
       "      <td>NaN</td>\n",
       "      <td>NaN</td>\n",
       "      <td>NaN</td>\n",
       "      <td>NaN</td>\n",
       "      <td>NaN</td>\n",
       "      <td>NaN</td>\n",
       "      <td>NaN</td>\n",
       "      <td>0.6667</td>\n",
       "      <td>...</td>\n",
       "      <td>0.017544</td>\n",
       "      <td>0.135834</td>\n",
       "      <td>-0.043021</td>\n",
       "      <td>-0.069444</td>\n",
       "      <td>0.089592</td>\n",
       "      <td>0.112791</td>\n",
       "      <td>0.003354</td>\n",
       "      <td>0.091237</td>\n",
       "      <td>NaN</td>\n",
       "      <td>NaN</td>\n",
       "    </tr>\n",
       "    <tr>\n",
       "      <th>4304</th>\n",
       "      <td>688696.SH</td>\n",
       "      <td>极米科技</td>\n",
       "      <td>NaN</td>\n",
       "      <td>NaN</td>\n",
       "      <td>NaN</td>\n",
       "      <td>NaN</td>\n",
       "      <td>NaN</td>\n",
       "      <td>NaN</td>\n",
       "      <td>NaN</td>\n",
       "      <td>0.4131</td>\n",
       "      <td>...</td>\n",
       "      <td>-0.423313</td>\n",
       "      <td>0.034295</td>\n",
       "      <td>0.660825</td>\n",
       "      <td>4.503788</td>\n",
       "      <td>1.059383</td>\n",
       "      <td>-0.083057</td>\n",
       "      <td>0.113636</td>\n",
       "      <td>0.827492</td>\n",
       "      <td>NaN</td>\n",
       "      <td>NaN</td>\n",
       "    </tr>\n",
       "    <tr>\n",
       "      <th>4309</th>\n",
       "      <td>688819.SH</td>\n",
       "      <td>天能股份</td>\n",
       "      <td>8.555000e+08</td>\n",
       "      <td>NaN</td>\n",
       "      <td>NaN</td>\n",
       "      <td>NaN</td>\n",
       "      <td>NaN</td>\n",
       "      <td>NaN</td>\n",
       "      <td>NaN</td>\n",
       "      <td>NaN</td>\n",
       "      <td>...</td>\n",
       "      <td>0.085106</td>\n",
       "      <td>-0.075336</td>\n",
       "      <td>0.272038</td>\n",
       "      <td>-0.107050</td>\n",
       "      <td>0.246452</td>\n",
       "      <td>0.071872</td>\n",
       "      <td>-0.015226</td>\n",
       "      <td>-0.003372</td>\n",
       "      <td>NaN</td>\n",
       "      <td>NaN</td>\n",
       "    </tr>\n",
       "  </tbody>\n",
       "</table>\n",
       "<p>4312 rows × 32 columns</p>\n",
       "</div>"
      ],
      "text/plain": [
       "     stock_code stock_name     share_num  close_price  market_value       PE  \\\n",
       "2833  600519.SH       贵州茅台  1.256198e+09      1998.00  2.509883e+12  56.3023   \n",
       "3318  601398.SH       工商银行  3.564063e+11         4.99  1.712803e+12   6.1499   \n",
       "3302  601318.SH       中国平安  1.828024e+10        86.98  1.537702e+12  12.9395   \n",
       "3409  601939.SH       建设银行  2.500110e+11         6.28  1.252059e+12   6.3509   \n",
       "349   000858.SZ        五粮液  3.881608e+09       291.85  1.132847e+12  58.3819   \n",
       "...         ...        ...           ...          ...           ...      ...   \n",
       "4300  688685.SH        迈信林           NaN          NaN           NaN      NaN   \n",
       "4302  688687.SH       凯因科技           NaN          NaN           NaN      NaN   \n",
       "4303  688689.SH       银河微电           NaN          NaN           NaN      NaN   \n",
       "4304  688696.SH       极米科技           NaN          NaN           NaN      NaN   \n",
       "4309  688819.SH       天能股份  8.555000e+08          NaN           NaN      NaN   \n",
       "\n",
       "           PB       PR        PC      dp  ...       g3e       g3b       g3r  \\\n",
       "2833  16.9070  27.3676   58.3609  0.9416  ...  0.299629  0.233862  0.264884   \n",
       "3318   0.6892   2.0351    1.3275  5.1056  ...  0.037975  0.099200  0.065100   \n",
       "3302   2.2405   1.3326    8.6948  3.1442  ...  0.206413  0.175674  0.096478   \n",
       "3409   0.7128   2.1291    1.5484  4.7042  ...  0.041667  0.115702  0.059883   \n",
       "349   14.1083  20.4083  104.2732  0.8521  ...  0.363422  0.164104  0.296832   \n",
       "...       ...      ...       ...     ...  ...       ...       ...       ...   \n",
       "4300      NaN      NaN       NaN  0.4146  ...  0.080000  0.102632  0.723754   \n",
       "4302      NaN      NaN       NaN  0.2292  ...  0.608696  0.075425  0.438914   \n",
       "4303      NaN      NaN       NaN  0.6667  ...  0.017544  0.135834 -0.043021   \n",
       "4304      NaN      NaN       NaN  0.4131  ... -0.423313  0.034295  0.660825   \n",
       "4309      NaN      NaN       NaN     NaN  ...  0.085106 -0.075336  0.272038   \n",
       "\n",
       "           g3c       g_e       g_b       g_r       g_c  cum_market_value  \\\n",
       "2833  0.868149  0.201151  0.208440  0.178679  0.367812      2.509883e+12   \n",
       "3318 -0.060613  0.028918  0.093324  0.067476  0.380387      4.222686e+12   \n",
       "3302  0.701471  0.188854  0.172699  0.111791  0.390929      5.760388e+12   \n",
       "3409  6.687500  0.033730  0.100423  0.067340  2.210121      7.012448e+12   \n",
       "349   0.233403  0.266881  0.162643  0.230851  0.248580      8.145295e+12   \n",
       "...        ...       ...       ...       ...       ...               ...   \n",
       "4300 -0.642857  0.408709  0.221187  0.370864  3.579157               NaN   \n",
       "4302  3.166667  0.379598  0.097493  0.198060  1.353498               NaN   \n",
       "4303 -0.069444  0.089592  0.112791  0.003354  0.091237               NaN   \n",
       "4304  4.503788  1.059383 -0.083057  0.113636  0.827492               NaN   \n",
       "4309 -0.107050  0.246452  0.071872 -0.015226 -0.003372               NaN   \n",
       "\n",
       "      Cum_Ratio  \n",
       "2833   0.029713  \n",
       "3318   0.049990  \n",
       "3302   0.068195  \n",
       "3409   0.083017  \n",
       "349    0.096428  \n",
       "...         ...  \n",
       "4300        NaN  \n",
       "4302        NaN  \n",
       "4303        NaN  \n",
       "4304        NaN  \n",
       "4309        NaN  \n",
       "\n",
       "[4312 rows x 32 columns]"
      ]
     },
     "execution_count": 27,
     "metadata": {},
     "output_type": "execute_result"
    }
   ],
   "source": [
    "#导入股票信息数据\n",
    "stock_filepath = './data/A股信息_202012.xlsx'\n",
    "all_stock = pd.read_excel(stock_filepath,sheet_name='share')\n",
    "all_stock.iloc[:,2:] = all_stock.iloc[:,2:].astype(float)\n",
    "# all_stock['market_value'] = all_stock['market_value']/100000000                   #变成以亿元为单位的市值数据\n",
    "all_stock = all_stock.sort_values('market_value',axis = 0,ascending=0)             #按照市值降序排列\n",
    "all_stock['cum_market_value'] = all_stock['market_value'].cumsum(axis=0)\n",
    "all_stock['Cum_Ratio'] = all_stock['cum_market_value']/sum(all_stock['market_value'].dropna())  #计算累计市值百分比\n",
    "\n",
    "all_stock"
   ]
  },
  {
   "cell_type": "markdown",
   "metadata": {},
   "source": [
    "## 基金"
   ]
  },
  {
   "cell_type": "code",
   "execution_count": 7,
   "metadata": {
    "scrolled": true
   },
   "outputs": [
    {
     "data": {
      "text/html": [
       "<div>\n",
       "<style scoped>\n",
       "    .dataframe tbody tr th:only-of-type {\n",
       "        vertical-align: middle;\n",
       "    }\n",
       "\n",
       "    .dataframe tbody tr th {\n",
       "        vertical-align: top;\n",
       "    }\n",
       "\n",
       "    .dataframe thead th {\n",
       "        text-align: right;\n",
       "    }\n",
       "</style>\n",
       "<table border=\"1\" class=\"dataframe\">\n",
       "  <thead>\n",
       "    <tr style=\"text-align: right;\">\n",
       "      <th></th>\n",
       "      <th>代码</th>\n",
       "      <th>名称</th>\n",
       "      <th>报告期</th>\n",
       "      <th>股票代码</th>\n",
       "      <th>股票简称</th>\n",
       "      <th>持股数量(万股)</th>\n",
       "      <th>半年度持股变动(万股)</th>\n",
       "      <th>持股占流通股比(%)</th>\n",
       "      <th>持股市值(万元)</th>\n",
       "      <th>占净值比(%)</th>\n",
       "      <th>占股票投资市值比(%)</th>\n",
       "      <th>投资类型</th>\n",
       "      <th>管理公司</th>\n",
       "    </tr>\n",
       "  </thead>\n",
       "  <tbody>\n",
       "    <tr>\n",
       "      <th>0</th>\n",
       "      <td>000001.OF</td>\n",
       "      <td>华夏成长</td>\n",
       "      <td>2020年年报</td>\n",
       "      <td>601318.SH</td>\n",
       "      <td>中国平安</td>\n",
       "      <td>333.7526</td>\n",
       "      <td>NaN</td>\n",
       "      <td>0.030810</td>\n",
       "      <td>29029.801148</td>\n",
       "      <td>6.035095</td>\n",
       "      <td>8.016716</td>\n",
       "      <td>偏股混合型基金</td>\n",
       "      <td>华夏基金管理有限公司</td>\n",
       "    </tr>\n",
       "    <tr>\n",
       "      <th>1</th>\n",
       "      <td>000001.OF</td>\n",
       "      <td>华夏成长</td>\n",
       "      <td>2020年年报</td>\n",
       "      <td>002127.SZ</td>\n",
       "      <td>南极电商</td>\n",
       "      <td>2074.4721</td>\n",
       "      <td>166.6814</td>\n",
       "      <td>1.057654</td>\n",
       "      <td>28378.778328</td>\n",
       "      <td>5.899752</td>\n",
       "      <td>7.836933</td>\n",
       "      <td>偏股混合型基金</td>\n",
       "      <td>华夏基金管理有限公司</td>\n",
       "    </tr>\n",
       "    <tr>\n",
       "      <th>2</th>\n",
       "      <td>000001.OF</td>\n",
       "      <td>华夏成长</td>\n",
       "      <td>2020年年报</td>\n",
       "      <td>000961.SZ</td>\n",
       "      <td>中南建设</td>\n",
       "      <td>2889.7307</td>\n",
       "      <td>NaN</td>\n",
       "      <td>0.759232</td>\n",
       "      <td>25516.322081</td>\n",
       "      <td>5.304667</td>\n",
       "      <td>7.046452</td>\n",
       "      <td>偏股混合型基金</td>\n",
       "      <td>华夏基金管理有限公司</td>\n",
       "    </tr>\n",
       "    <tr>\n",
       "      <th>3</th>\n",
       "      <td>000001.OF</td>\n",
       "      <td>华夏成长</td>\n",
       "      <td>2020年年报</td>\n",
       "      <td>600519.SH</td>\n",
       "      <td>贵州茅台</td>\n",
       "      <td>12.0575</td>\n",
       "      <td>8.4349</td>\n",
       "      <td>0.009598</td>\n",
       "      <td>24090.885000</td>\n",
       "      <td>5.008328</td>\n",
       "      <td>6.652811</td>\n",
       "      <td>偏股混合型基金</td>\n",
       "      <td>华夏基金管理有限公司</td>\n",
       "    </tr>\n",
       "    <tr>\n",
       "      <th>4</th>\n",
       "      <td>000001.OF</td>\n",
       "      <td>华夏成长</td>\n",
       "      <td>2020年年报</td>\n",
       "      <td>002271.SZ</td>\n",
       "      <td>东方雨虹</td>\n",
       "      <td>566.8427</td>\n",
       "      <td>18.3244</td>\n",
       "      <td>0.337064</td>\n",
       "      <td>21993.496760</td>\n",
       "      <td>4.572296</td>\n",
       "      <td>6.073608</td>\n",
       "      <td>偏股混合型基金</td>\n",
       "      <td>华夏基金管理有限公司</td>\n",
       "    </tr>\n",
       "    <tr>\n",
       "      <th>...</th>\n",
       "      <td>...</td>\n",
       "      <td>...</td>\n",
       "      <td>...</td>\n",
       "      <td>...</td>\n",
       "      <td>...</td>\n",
       "      <td>...</td>\n",
       "      <td>...</td>\n",
       "      <td>...</td>\n",
       "      <td>...</td>\n",
       "      <td>...</td>\n",
       "      <td>...</td>\n",
       "      <td>...</td>\n",
       "      <td>...</td>\n",
       "    </tr>\n",
       "    <tr>\n",
       "      <th>19806</th>\n",
       "      <td>000841.OF</td>\n",
       "      <td>富国新回报AB</td>\n",
       "      <td>2020年年报</td>\n",
       "      <td>300882.SZ</td>\n",
       "      <td>万胜智能</td>\n",
       "      <td>0.0440</td>\n",
       "      <td>NaN</td>\n",
       "      <td>0.001180</td>\n",
       "      <td>1.134760</td>\n",
       "      <td>0.001751</td>\n",
       "      <td>0.002043</td>\n",
       "      <td>灵活配置型基金</td>\n",
       "      <td>富国基金管理有限公司</td>\n",
       "    </tr>\n",
       "    <tr>\n",
       "      <th>19807</th>\n",
       "      <td>000841.OF</td>\n",
       "      <td>富国新回报AB</td>\n",
       "      <td>2020年年报</td>\n",
       "      <td>605277.SH</td>\n",
       "      <td>新亚电子</td>\n",
       "      <td>0.0507</td>\n",
       "      <td>NaN</td>\n",
       "      <td>0.001520</td>\n",
       "      <td>0.859365</td>\n",
       "      <td>0.001326</td>\n",
       "      <td>0.001547</td>\n",
       "      <td>灵活配置型基金</td>\n",
       "      <td>富国基金管理有限公司</td>\n",
       "    </tr>\n",
       "    <tr>\n",
       "      <th>19808</th>\n",
       "      <td>000841.OF</td>\n",
       "      <td>富国新回报AB</td>\n",
       "      <td>2020年年报</td>\n",
       "      <td>003030.SZ</td>\n",
       "      <td>祖名股份</td>\n",
       "      <td>0.0480</td>\n",
       "      <td>NaN</td>\n",
       "      <td>0.001538</td>\n",
       "      <td>0.728640</td>\n",
       "      <td>0.001124</td>\n",
       "      <td>0.001312</td>\n",
       "      <td>灵活配置型基金</td>\n",
       "      <td>富国基金管理有限公司</td>\n",
       "    </tr>\n",
       "    <tr>\n",
       "      <th>19809</th>\n",
       "      <td>000841.OF</td>\n",
       "      <td>富国新回报AB</td>\n",
       "      <td>2020年年报</td>\n",
       "      <td>300886.SZ</td>\n",
       "      <td>华业香料</td>\n",
       "      <td>0.0147</td>\n",
       "      <td>NaN</td>\n",
       "      <td>0.001080</td>\n",
       "      <td>0.671349</td>\n",
       "      <td>0.001036</td>\n",
       "      <td>0.001209</td>\n",
       "      <td>灵活配置型基金</td>\n",
       "      <td>富国基金管理有限公司</td>\n",
       "    </tr>\n",
       "    <tr>\n",
       "      <th>19810</th>\n",
       "      <td>000841.OF</td>\n",
       "      <td>富国新回报AB</td>\n",
       "      <td>2020年年报</td>\n",
       "      <td>003031.SZ</td>\n",
       "      <td>中瓷电子</td>\n",
       "      <td>0.0387</td>\n",
       "      <td>NaN</td>\n",
       "      <td>0.001451</td>\n",
       "      <td>0.590949</td>\n",
       "      <td>0.000912</td>\n",
       "      <td>0.001064</td>\n",
       "      <td>灵活配置型基金</td>\n",
       "      <td>富国基金管理有限公司</td>\n",
       "    </tr>\n",
       "  </tbody>\n",
       "</table>\n",
       "<p>19811 rows × 13 columns</p>\n",
       "</div>"
      ],
      "text/plain": [
       "              代码       名称      报告期       股票代码  股票简称   持股数量(万股)  半年度持股变动(万股)  \\\n",
       "0      000001.OF     华夏成长  2020年年报  601318.SH  中国平安   333.7526          NaN   \n",
       "1      000001.OF     华夏成长  2020年年报  002127.SZ  南极电商  2074.4721     166.6814   \n",
       "2      000001.OF     华夏成长  2020年年报  000961.SZ  中南建设  2889.7307          NaN   \n",
       "3      000001.OF     华夏成长  2020年年报  600519.SH  贵州茅台    12.0575       8.4349   \n",
       "4      000001.OF     华夏成长  2020年年报  002271.SZ  东方雨虹   566.8427      18.3244   \n",
       "...          ...      ...      ...        ...   ...        ...          ...   \n",
       "19806  000841.OF  富国新回报AB  2020年年报  300882.SZ  万胜智能     0.0440          NaN   \n",
       "19807  000841.OF  富国新回报AB  2020年年报  605277.SH  新亚电子     0.0507          NaN   \n",
       "19808  000841.OF  富国新回报AB  2020年年报  003030.SZ  祖名股份     0.0480          NaN   \n",
       "19809  000841.OF  富国新回报AB  2020年年报  300886.SZ  华业香料     0.0147          NaN   \n",
       "19810  000841.OF  富国新回报AB  2020年年报  003031.SZ  中瓷电子     0.0387          NaN   \n",
       "\n",
       "       持股占流通股比(%)      持股市值(万元)   占净值比(%)  占股票投资市值比(%)     投资类型        管理公司  \n",
       "0        0.030810  29029.801148  6.035095     8.016716  偏股混合型基金  华夏基金管理有限公司  \n",
       "1        1.057654  28378.778328  5.899752     7.836933  偏股混合型基金  华夏基金管理有限公司  \n",
       "2        0.759232  25516.322081  5.304667     7.046452  偏股混合型基金  华夏基金管理有限公司  \n",
       "3        0.009598  24090.885000  5.008328     6.652811  偏股混合型基金  华夏基金管理有限公司  \n",
       "4        0.337064  21993.496760  4.572296     6.073608  偏股混合型基金  华夏基金管理有限公司  \n",
       "...           ...           ...       ...          ...      ...         ...  \n",
       "19806    0.001180      1.134760  0.001751     0.002043  灵活配置型基金  富国基金管理有限公司  \n",
       "19807    0.001520      0.859365  0.001326     0.001547  灵活配置型基金  富国基金管理有限公司  \n",
       "19808    0.001538      0.728640  0.001124     0.001312  灵活配置型基金  富国基金管理有限公司  \n",
       "19809    0.001080      0.671349  0.001036     0.001209  灵活配置型基金  富国基金管理有限公司  \n",
       "19810    0.001451      0.590949  0.000912     0.001064  灵活配置型基金  富国基金管理有限公司  \n",
       "\n",
       "[19811 rows x 13 columns]"
      ]
     },
     "execution_count": 7,
     "metadata": {},
     "output_type": "execute_result"
    }
   ],
   "source": [
    "#导入基金持仓明细数据\n",
    "fund_filepath = './data/基金全部持股(明细)_202012.xlsx'\n",
    "all_fund = pd.read_excel(fund_filepath)\n",
    "all_fund = all_fund[all_fund['代码'].apply(fliter_none)]  #排除数据源中的干扰行,最后是“数据来源wind”\n",
    "all_fund"
   ]
  },
  {
   "cell_type": "markdown",
   "metadata": {},
   "source": [
    "# 计算xy得分"
   ]
  },
  {
   "cell_type": "markdown",
   "metadata": {},
   "source": [
    "## 股票"
   ]
  },
  {
   "cell_type": "code",
   "execution_count": 143,
   "metadata": {},
   "outputs": [],
   "source": [
    "## 大中小盘股票门限值\n",
    "LMT = all_stock['market_value'].quantile(0.3)                           #大中盘门限值\n",
    "MST = all_stock['market_value'].quantile(0.1)                           #中小盘门限值\n"
   ]
  },
  {
   "cell_type": "code",
   "execution_count": 158,
   "metadata": {},
   "outputs": [],
   "source": [
    "#计算VCG\n",
    "def calculate_VCG(stock_code):\n",
    "    multi = all_stock[all_stock['stock_code']==stock_code][['ep','bp','rp','cp','dp']]   #获取该股票的估值参数\n",
    "    growth = all_stock[all_stock['stock_code']==stock_code][['g_e','g_b','g_r','g_c']]   #获取该股票的盈利增长参数\n",
    "    \n",
    "    \n",
    "    OVS = 0.5 * multi['ep'] + 0.125 * (multi['bp']+multi['rp']+multi['cp']+multi['dp'])  #计算股票价值得分\n",
    "    OGS = 0.25 * (sum(growth.iloc[0,:]))                                                  #计算股票成长得分\n",
    "    VCG = OGS - OVS                                                         #成长得分-价值得分    \n",
    "    return VCG.values[0]\n",
    "###注意：VCG返回值是一个复合类型。加“.values[0]”！！！\n",
    "\n",
    "for stock_code in all_stock['stock_code']:\n",
    "    all_stock.loc[all_stock['stock_code']==stock_code,'VCG'] = calculate_VCG(stock_code)\n",
    "\n",
    "###求大中小盘各类股票中的风格类型门限值\n",
    "#大盘股\n",
    "big_stock = all_stock[all_stock['market_value']>LMT]\n",
    "VT_big = big_stock['VCG'].quantile(0.3333)\n",
    "GT_big = big_stock['VCG'].quantile(0.6666)\n",
    "#中盘股\n",
    "mid_stock = all_stock[(all_stock['market_value']>=MST)&(all_stock['market_value']<LMT)]\n",
    "VT_mid = mid_stock['VCG'].quantile(0.3333)\n",
    "GT_mid = mid_stock['VCG'].quantile(0.6666)\n",
    "#小盘股\n",
    "small_stock = all_stock[all_stock['market_value']<MST]\n",
    "VT_small = small_stock['VCG'].quantile(0.3333)\n",
    "GT_small = small_stock['VCG'].quantile(0.6666)\n",
    "\n"
   ]
  },
  {
   "cell_type": "code",
   "execution_count": 159,
   "metadata": {},
   "outputs": [
    {
     "data": {
      "text/plain": [
       "{'LMT': 3542277587.2560005,\n",
       " 'MST': 2121584958.6,\n",
       " 'VT_big': -0.42224034302961405,\n",
       " 'GT_big': -0.017515544471351407,\n",
       " 'VT_mid': -0.4592353559734895,\n",
       " 'GT_mid': -0.11195411242579453,\n",
       " 'VT_small': -0.5156495102402098,\n",
       " 'GT_small': -0.1718822060529751}"
      ]
     },
     "execution_count": 159,
     "metadata": {},
     "output_type": "execute_result"
    }
   ],
   "source": [
    "#门限值汇总\n",
    "threshold ={'LMT':LMT,'MST':MST,\n",
    "              'VT_big':VT_big,'GT_big':GT_big,\n",
    "              'VT_mid':VT_mid,'GT_mid':GT_mid,\n",
    "              'VT_small':VT_small,'GT_small':GT_small}\n",
    "threshold"
   ]
  },
  {
   "cell_type": "code",
   "execution_count": 219,
   "metadata": {},
   "outputs": [],
   "source": [
    "#计算每只股票市值得分——y轴得分\n",
    "def calculate_score_y_stock(stock_code):\n",
    "    cap = all_stock[all_stock['stock_code']==stock_code]['market_value']    #该股票市值\n",
    "    cap = cap.values[0]  #cap是一个复合类型\n",
    "    if np.isnan(cap):          \n",
    "        return \"股票市值数据缺失\"\n",
    "    else:\n",
    "        score_y_stock = 100*(1+(math.log(cap)-math.log(MST))/(math.log(LMT)-math.log(MST)))\n",
    "        return score_y_stock\n",
    "         "
   ]
  },
  {
   "cell_type": "code",
   "execution_count": 223,
   "metadata": {},
   "outputs": [],
   "source": [
    "#计算组内股票价值成长得分——x轴得分\n",
    "def calculate_score_x_stock(stock_code):\n",
    "    VCG = calculate_VCG(stock_code)\n",
    "    if np.isnan(VCG):\n",
    "        return \"VCG计算数据缺失\"\n",
    "    else:\n",
    "        flag = identify_stock_size(stock_code)       #判断该股票所属规模类型，不同类型的阈值不同\n",
    "        if flag == '大盘':   \n",
    "            VT = VT_big\n",
    "            GT = GT_big\n",
    "        else:\n",
    "            if flag == '中盘':\n",
    "                VT = VT_mid\n",
    "                GT = GT_mid\n",
    "            else:\n",
    "                VT = VT_small\n",
    "                GT = GT_small\n",
    "            \n",
    "        score_x_stock = 100*(1+(VCG-VT)/(GT-VT))\n",
    "        return score_x_stock"
   ]
  },
  {
   "cell_type": "markdown",
   "metadata": {},
   "source": [
    "## 基金"
   ]
  },
  {
   "cell_type": "code",
   "execution_count": 285,
   "metadata": {},
   "outputs": [],
   "source": [
    "#计算持仓股票加权市值得分——y轴得分\n",
    "def calculate_score_y_fund(fund_code):\n",
    "    holdings = all_fund[all_fund['代码']==fund_code][['股票代码','占股票投资市值比(%)']]\n",
    "    for stock_code in np.array(holdings['股票代码']):\n",
    "        holdings.loc[holdings['股票代码']==stock_code,'该股票y得分'] = calculate_score_y_stock(stock_code)  ## 给dataframe增加一列\n",
    "        nocap = holdings[holdings['该股票y得分']==\"股票市值数据缺失\"]['股票代码'].values #市值数据缺失的股票列表\n",
    "    if len(nocap) !=0:  \n",
    "        print(\"有股票市值数据缺失，其股票代码如下：\")\n",
    "        print(nocap)\n",
    "        return False\n",
    "    else:\n",
    "        score_y_fund = np.inner(np.array(holdings['该股票y得分']),np.array(holdings['占股票投资市值比(%)']))*0.01\n",
    "        return score_y_fund"
   ]
  },
  {
   "cell_type": "code",
   "execution_count": 286,
   "metadata": {},
   "outputs": [],
   "source": [
    "#计算持仓股票加权价值成长得分——x轴得分\n",
    "def calculate_score_x_fund(fund_code):\n",
    "    holdings = all_fund[all_fund['代码']==fund_code][['股票代码','占股票投资市值比(%)']]\n",
    "    for stock_code in np.array(holdings['股票代码']):\n",
    "        holdings.loc[holdings['股票代码']==stock_code,'该股票x得分'] = calculate_score_x_stock(stock_code) ##\n",
    "    novcg = holdings[holdings['该股票x得分']==\"VCG计算数据缺失\"]['股票代码'].values #VCG计算数据缺失的股票列表\n",
    "    if len(novcg) !=0:  \n",
    "        print(\"有股票VCG计算数据缺失，其股票代码如下：\")\n",
    "        print(novcg)\n",
    "        return False\n",
    "    else:\n",
    "        score_x_fund = np.inner(np.array(holdings['该股票x得分']),np.array(holdings['占股票投资市值比(%)']))*0.01\n",
    "        return score_x_fund"
   ]
  },
  {
   "cell_type": "markdown",
   "metadata": {},
   "source": [
    "# 类型判断"
   ]
  },
  {
   "cell_type": "markdown",
   "metadata": {},
   "source": [
    "## 股票"
   ]
  },
  {
   "cell_type": "code",
   "execution_count": 271,
   "metadata": {},
   "outputs": [],
   "source": [
    "#根据市值得分划分规模类型（股票）\n",
    "def identify_stock_size(stock_code):\n",
    "    score_y_stock = calculate_score_y_stock(stock_code)\n",
    "    if score_y_stock == \"股票市值数据缺失\":\n",
    "        return \"该股票市值数据缺失,无法判断规模类型\"\n",
    "    else:\n",
    "        if score_y_stock > 200:\n",
    "            return '大盘'\n",
    "        else:\n",
    "            if score_y_stock >=100:\n",
    "                return '中盘'\n",
    "            else:\n",
    "                return '小盘'"
   ]
  },
  {
   "cell_type": "code",
   "execution_count": 272,
   "metadata": {},
   "outputs": [],
   "source": [
    "#根据价值成长得分判断风格类型（股票）\n",
    "def identify_stock_style(stock_code):    \n",
    "    score_x_stock = calculate_score_x_stock(stock_code)\n",
    "    if score_x_stock == \"VCG计算数据缺失\":\n",
    "        return \"该股票VCG计算数据缺失,无法判断风格类型\"\n",
    "    else:\n",
    "        if score_x_stock > 200:\n",
    "            return '成长型'\n",
    "        else:\n",
    "            if score_x_stock >=100:\n",
    "                return '混合型'\n",
    "            else:\n",
    "                return '价值型'       "
   ]
  },
  {
   "cell_type": "markdown",
   "metadata": {},
   "source": [
    "## 基金"
   ]
  },
  {
   "cell_type": "code",
   "execution_count": 279,
   "metadata": {},
   "outputs": [],
   "source": [
    "#根据市值得分划分规模类型（基金）\n",
    "def identify_fund_size(fund_code):\n",
    "    score_y_fund =calculate_score_y_fund(fund_code)\n",
    "    if score_y_fund == False:\n",
    "        print(\"因为数据缺失无法判断规模类型\")\n",
    "    else:\n",
    "        if score_y_fund >200:\n",
    "            return '大盘'\n",
    "        else:\n",
    "            if score_y_fund >=100:\n",
    "                return '中盘'\n",
    "            else:\n",
    "                return '小盘'\n"
   ]
  },
  {
   "cell_type": "code",
   "execution_count": 280,
   "metadata": {},
   "outputs": [],
   "source": [
    "#根据价值成长得分判断风格类型（基金）\n",
    "def identify_fund_style(fund_code,gamma=0.5):\n",
    "    score_x_fund =calculate_score_x_fund(fund_code)\n",
    "    if score_x_fund == False:\n",
    "        print(\"因为数据缺失无法判断风格类型\")\n",
    "    else:\n",
    "        if score_x_fund > 150*(1+gamma/3):\n",
    "            return '成长型'\n",
    "        else:\n",
    "            if score_x_fund >=150*(1-gamma/3):\n",
    "                return '混合型'\n",
    "            else:\n",
    "                return '价值型'"
   ]
  },
  {
   "cell_type": "markdown",
   "metadata": {},
   "source": [
    "# 案例"
   ]
  },
  {
   "cell_type": "markdown",
   "metadata": {},
   "source": [
    "## 股票"
   ]
  },
  {
   "cell_type": "markdown",
   "metadata": {},
   "source": [
    "### 数据不缺失"
   ]
  },
  {
   "cell_type": "code",
   "execution_count": 241,
   "metadata": {},
   "outputs": [],
   "source": [
    "#中国平安\n",
    "stock_code1 = '601318.SH'"
   ]
  },
  {
   "cell_type": "code",
   "execution_count": 244,
   "metadata": {
    "scrolled": true
   },
   "outputs": [
    {
     "data": {
      "text/plain": [
       "3302   -0.379567\n",
       "dtype: float64"
      ]
     },
     "execution_count": 244,
     "metadata": {},
     "output_type": "execute_result"
    }
   ],
   "source": [
    "multi = all_stock[all_stock['stock_code']==stock_code1][['ep','bp','rp','cp','dp']]   #获取该股票的估值参数\n",
    "growth = all_stock[all_stock['stock_code']==stock_code1][['g_e','g_b','g_r','g_c']]            #获取该股票的盈利增长参数\n",
    "OVS = 0.5 * multi['ep'] + 0.125 * (multi['bp']+multi['rp']+multi['cp']+multi['dp'])  #计算股票价值得分\n",
    "OGS = 0.25 * (sum(growth.iloc[0,:]))                                                       #计算股票成长得分\n",
    "VCG = OGS - OVS\n",
    "VCG\n",
    "\n",
    "###注意：VCG是一个复合类型。\n",
    "####calculate_VCG函数返回值需要加“.values[0]”！！！\n"
   ]
  },
  {
   "cell_type": "code",
   "execution_count": 296,
   "metadata": {},
   "outputs": [
    {
     "data": {
      "text/html": [
       "<div>\n",
       "<style scoped>\n",
       "    .dataframe tbody tr th:only-of-type {\n",
       "        vertical-align: middle;\n",
       "    }\n",
       "\n",
       "    .dataframe tbody tr th {\n",
       "        vertical-align: top;\n",
       "    }\n",
       "\n",
       "    .dataframe thead th {\n",
       "        text-align: right;\n",
       "    }\n",
       "</style>\n",
       "<table border=\"1\" class=\"dataframe\">\n",
       "  <thead>\n",
       "    <tr style=\"text-align: right;\">\n",
       "      <th></th>\n",
       "      <th>market_value</th>\n",
       "      <th>ep</th>\n",
       "      <th>bp</th>\n",
       "      <th>rp</th>\n",
       "      <th>cp</th>\n",
       "      <th>dp</th>\n",
       "      <th>g_e</th>\n",
       "      <th>g_b</th>\n",
       "      <th>g_r</th>\n",
       "      <th>g_c</th>\n",
       "    </tr>\n",
       "  </thead>\n",
       "  <tbody>\n",
       "    <tr>\n",
       "      <th>3302</th>\n",
       "      <td>1.537702e+12</td>\n",
       "      <td>0.077283</td>\n",
       "      <td>0.446329</td>\n",
       "      <td>0.750413</td>\n",
       "      <td>0.115011</td>\n",
       "      <td>3.1442</td>\n",
       "      <td>0.188854</td>\n",
       "      <td>0.172699</td>\n",
       "      <td>0.111791</td>\n",
       "      <td>0.390929</td>\n",
       "    </tr>\n",
       "  </tbody>\n",
       "</table>\n",
       "</div>"
      ],
      "text/plain": [
       "      market_value        ep        bp        rp        cp      dp       g_e  \\\n",
       "3302  1.537702e+12  0.077283  0.446329  0.750413  0.115011  3.1442  0.188854   \n",
       "\n",
       "           g_b       g_r       g_c  \n",
       "3302  0.172699  0.111791  0.390929  "
      ]
     },
     "execution_count": 296,
     "metadata": {},
     "output_type": "execute_result"
    }
   ],
   "source": [
    "all_stock.loc[all_stock['stock_code'] == stock_code1,['market_value','ep','bp','rp','cp','dp','g_e','g_b','g_r','g_c']]"
   ]
  },
  {
   "cell_type": "code",
   "execution_count": 297,
   "metadata": {
    "scrolled": true
   },
   "outputs": [
    {
     "data": {
      "text/plain": [
       "-0.3795673158723164"
      ]
     },
     "execution_count": 297,
     "metadata": {},
     "output_type": "execute_result"
    }
   ],
   "source": [
    "calculate_VCG(stock_code1)"
   ]
  },
  {
   "cell_type": "code",
   "execution_count": 298,
   "metadata": {},
   "outputs": [
    {
     "data": {
      "text/plain": [
       "110.5437144719845"
      ]
     },
     "execution_count": 298,
     "metadata": {},
     "output_type": "execute_result"
    }
   ],
   "source": [
    "calculate_score_x_stock(stock_code1)  "
   ]
  },
  {
   "cell_type": "code",
   "execution_count": 299,
   "metadata": {},
   "outputs": [
    {
     "data": {
      "text/plain": [
       "1384.7830342204975"
      ]
     },
     "execution_count": 299,
     "metadata": {},
     "output_type": "execute_result"
    }
   ],
   "source": [
    "calculate_score_y_stock(stock_code1)"
   ]
  },
  {
   "cell_type": "code",
   "execution_count": 300,
   "metadata": {},
   "outputs": [
    {
     "data": {
      "text/plain": [
       "'大盘'"
      ]
     },
     "execution_count": 300,
     "metadata": {},
     "output_type": "execute_result"
    }
   ],
   "source": [
    "identify_stock_size(stock_code1)"
   ]
  },
  {
   "cell_type": "code",
   "execution_count": 301,
   "metadata": {
    "scrolled": true
   },
   "outputs": [
    {
     "data": {
      "text/plain": [
       "'混合型'"
      ]
     },
     "execution_count": 301,
     "metadata": {},
     "output_type": "execute_result"
    }
   ],
   "source": [
    "identify_stock_style(stock_code1)"
   ]
  },
  {
   "cell_type": "markdown",
   "metadata": {},
   "source": [
    "### 数据缺失"
   ]
  },
  {
   "cell_type": "code",
   "execution_count": 233,
   "metadata": {},
   "outputs": [],
   "source": [
    "##新亚电子\n",
    "stock_code2 = '605277.SH'"
   ]
  },
  {
   "cell_type": "code",
   "execution_count": 291,
   "metadata": {},
   "outputs": [
    {
     "data": {
      "text/html": [
       "<div>\n",
       "<style scoped>\n",
       "    .dataframe tbody tr th:only-of-type {\n",
       "        vertical-align: middle;\n",
       "    }\n",
       "\n",
       "    .dataframe tbody tr th {\n",
       "        vertical-align: top;\n",
       "    }\n",
       "\n",
       "    .dataframe thead th {\n",
       "        text-align: right;\n",
       "    }\n",
       "</style>\n",
       "<table border=\"1\" class=\"dataframe\">\n",
       "  <thead>\n",
       "    <tr style=\"text-align: right;\">\n",
       "      <th></th>\n",
       "      <th>market_value</th>\n",
       "      <th>ep</th>\n",
       "      <th>bp</th>\n",
       "      <th>rp</th>\n",
       "      <th>cp</th>\n",
       "      <th>dp</th>\n",
       "      <th>g_e</th>\n",
       "      <th>g_b</th>\n",
       "      <th>g_r</th>\n",
       "      <th>g_c</th>\n",
       "    </tr>\n",
       "  </thead>\n",
       "  <tbody>\n",
       "    <tr>\n",
       "      <th>4003</th>\n",
       "      <td>NaN</td>\n",
       "      <td>NaN</td>\n",
       "      <td>NaN</td>\n",
       "      <td>NaN</td>\n",
       "      <td>NaN</td>\n",
       "      <td>1.4416</td>\n",
       "      <td>NaN</td>\n",
       "      <td>0.529968</td>\n",
       "      <td>-0.043499</td>\n",
       "      <td>0.046094</td>\n",
       "    </tr>\n",
       "  </tbody>\n",
       "</table>\n",
       "</div>"
      ],
      "text/plain": [
       "      market_value  ep  bp  rp  cp      dp  g_e       g_b       g_r       g_c\n",
       "4003           NaN NaN NaN NaN NaN  1.4416  NaN  0.529968 -0.043499  0.046094"
      ]
     },
     "execution_count": 291,
     "metadata": {},
     "output_type": "execute_result"
    }
   ],
   "source": [
    "all_stock.loc[all_stock['stock_code'] == stock_code2,['market_value','ep','bp','rp','cp','dp','g_e','g_b','g_r','g_c']]"
   ]
  },
  {
   "cell_type": "code",
   "execution_count": 293,
   "metadata": {},
   "outputs": [
    {
     "data": {
      "text/plain": [
       "'股票市值数据缺失'"
      ]
     },
     "execution_count": 293,
     "metadata": {},
     "output_type": "execute_result"
    }
   ],
   "source": [
    "calculate_score_y_stock(stock_code2)"
   ]
  },
  {
   "cell_type": "code",
   "execution_count": 235,
   "metadata": {},
   "outputs": [
    {
     "data": {
      "text/plain": [
       "'VCG计算数据缺失'"
      ]
     },
     "execution_count": 235,
     "metadata": {},
     "output_type": "execute_result"
    }
   ],
   "source": [
    "calculate_score_x_stock(stock_code2)"
   ]
  },
  {
   "cell_type": "code",
   "execution_count": 295,
   "metadata": {},
   "outputs": [
    {
     "data": {
      "text/plain": [
       "'该股票市值数据缺失,无法判断规模类型'"
      ]
     },
     "execution_count": 295,
     "metadata": {},
     "output_type": "execute_result"
    }
   ],
   "source": [
    "identify_stock_size(stock_code2)"
   ]
  },
  {
   "cell_type": "code",
   "execution_count": 237,
   "metadata": {},
   "outputs": [
    {
     "data": {
      "text/plain": [
       "'VCG计算数据缺失,无法判断风格类型'"
      ]
     },
     "execution_count": 237,
     "metadata": {},
     "output_type": "execute_result"
    }
   ],
   "source": [
    "identify_stock_style(stock_code2)"
   ]
  },
  {
   "cell_type": "markdown",
   "metadata": {},
   "source": [
    "## 基金"
   ]
  },
  {
   "cell_type": "markdown",
   "metadata": {},
   "source": [
    "### 数据不缺失"
   ]
  },
  {
   "cell_type": "code",
   "execution_count": 331,
   "metadata": {
    "scrolled": true
   },
   "outputs": [
    {
     "data": {
      "text/html": [
       "<div>\n",
       "<style scoped>\n",
       "    .dataframe tbody tr th:only-of-type {\n",
       "        vertical-align: middle;\n",
       "    }\n",
       "\n",
       "    .dataframe tbody tr th {\n",
       "        vertical-align: top;\n",
       "    }\n",
       "\n",
       "    .dataframe thead th {\n",
       "        text-align: right;\n",
       "    }\n",
       "</style>\n",
       "<table border=\"1\" class=\"dataframe\">\n",
       "  <thead>\n",
       "    <tr style=\"text-align: right;\">\n",
       "      <th></th>\n",
       "      <th>代码</th>\n",
       "      <th>名称</th>\n",
       "      <th>报告期</th>\n",
       "      <th>股票代码</th>\n",
       "      <th>股票简称</th>\n",
       "      <th>持股数量(万股)</th>\n",
       "      <th>半年度持股变动(万股)</th>\n",
       "      <th>持股占流通股比(%)</th>\n",
       "      <th>持股市值(万元)</th>\n",
       "      <th>占净值比(%)</th>\n",
       "      <th>占股票投资市值比(%)</th>\n",
       "      <th>投资类型</th>\n",
       "      <th>管理公司</th>\n",
       "    </tr>\n",
       "  </thead>\n",
       "  <tbody>\n",
       "    <tr>\n",
       "      <th>15127</th>\n",
       "      <td>000639.OF</td>\n",
       "      <td>宝盈祥瑞A</td>\n",
       "      <td>2020年年报</td>\n",
       "      <td>600585.SH</td>\n",
       "      <td>海螺水泥</td>\n",
       "      <td>0.65</td>\n",
       "      <td>NaN</td>\n",
       "      <td>0.000163</td>\n",
       "      <td>33.5530</td>\n",
       "      <td>3.249200</td>\n",
       "      <td>16.428801</td>\n",
       "      <td>偏债混合型基金</td>\n",
       "      <td>宝盈基金管理有限公司</td>\n",
       "    </tr>\n",
       "    <tr>\n",
       "      <th>15128</th>\n",
       "      <td>000639.OF</td>\n",
       "      <td>宝盈祥瑞A</td>\n",
       "      <td>2020年年报</td>\n",
       "      <td>600900.SH</td>\n",
       "      <td>长江电力</td>\n",
       "      <td>1.60</td>\n",
       "      <td>NaN</td>\n",
       "      <td>0.000070</td>\n",
       "      <td>30.6560</td>\n",
       "      <td>2.968661</td>\n",
       "      <td>15.010322</td>\n",
       "      <td>偏债混合型基金</td>\n",
       "      <td>宝盈基金管理有限公司</td>\n",
       "    </tr>\n",
       "    <tr>\n",
       "      <th>15129</th>\n",
       "      <td>000639.OF</td>\n",
       "      <td>宝盈祥瑞A</td>\n",
       "      <td>2020年年报</td>\n",
       "      <td>600547.SH</td>\n",
       "      <td>山东黄金</td>\n",
       "      <td>1.10</td>\n",
       "      <td>NaN</td>\n",
       "      <td>0.000334</td>\n",
       "      <td>25.9820</td>\n",
       "      <td>2.516041</td>\n",
       "      <td>12.721757</td>\n",
       "      <td>偏债混合型基金</td>\n",
       "      <td>宝盈基金管理有限公司</td>\n",
       "    </tr>\n",
       "    <tr>\n",
       "      <th>15130</th>\n",
       "      <td>000639.OF</td>\n",
       "      <td>宝盈祥瑞A</td>\n",
       "      <td>2020年年报</td>\n",
       "      <td>000651.SZ</td>\n",
       "      <td>格力电器</td>\n",
       "      <td>0.28</td>\n",
       "      <td>NaN</td>\n",
       "      <td>0.000047</td>\n",
       "      <td>17.3432</td>\n",
       "      <td>1.679478</td>\n",
       "      <td>8.491878</td>\n",
       "      <td>偏债混合型基金</td>\n",
       "      <td>宝盈基金管理有限公司</td>\n",
       "    </tr>\n",
       "    <tr>\n",
       "      <th>15131</th>\n",
       "      <td>000639.OF</td>\n",
       "      <td>宝盈祥瑞A</td>\n",
       "      <td>2020年年报</td>\n",
       "      <td>601088.SH</td>\n",
       "      <td>中国神华</td>\n",
       "      <td>0.80</td>\n",
       "      <td>NaN</td>\n",
       "      <td>0.000049</td>\n",
       "      <td>14.4080</td>\n",
       "      <td>1.395239</td>\n",
       "      <td>7.054694</td>\n",
       "      <td>偏债混合型基金</td>\n",
       "      <td>宝盈基金管理有限公司</td>\n",
       "    </tr>\n",
       "    <tr>\n",
       "      <th>15132</th>\n",
       "      <td>000639.OF</td>\n",
       "      <td>宝盈祥瑞A</td>\n",
       "      <td>2020年年报</td>\n",
       "      <td>300463.SZ</td>\n",
       "      <td>迈克生物</td>\n",
       "      <td>0.25</td>\n",
       "      <td>NaN</td>\n",
       "      <td>0.000636</td>\n",
       "      <td>11.6500</td>\n",
       "      <td>1.128161</td>\n",
       "      <td>5.704275</td>\n",
       "      <td>偏债混合型基金</td>\n",
       "      <td>宝盈基金管理有限公司</td>\n",
       "    </tr>\n",
       "    <tr>\n",
       "      <th>15133</th>\n",
       "      <td>000639.OF</td>\n",
       "      <td>宝盈祥瑞A</td>\n",
       "      <td>2020年年报</td>\n",
       "      <td>600309.SH</td>\n",
       "      <td>万华化学</td>\n",
       "      <td>0.10</td>\n",
       "      <td>NaN</td>\n",
       "      <td>0.000070</td>\n",
       "      <td>9.1040</td>\n",
       "      <td>0.881612</td>\n",
       "      <td>4.457658</td>\n",
       "      <td>偏债混合型基金</td>\n",
       "      <td>宝盈基金管理有限公司</td>\n",
       "    </tr>\n",
       "    <tr>\n",
       "      <th>15134</th>\n",
       "      <td>000639.OF</td>\n",
       "      <td>宝盈祥瑞A</td>\n",
       "      <td>2020年年报</td>\n",
       "      <td>000568.SZ</td>\n",
       "      <td>泸州老窖</td>\n",
       "      <td>0.04</td>\n",
       "      <td>NaN</td>\n",
       "      <td>0.000027</td>\n",
       "      <td>9.0464</td>\n",
       "      <td>0.876034</td>\n",
       "      <td>4.429455</td>\n",
       "      <td>偏债混合型基金</td>\n",
       "      <td>宝盈基金管理有限公司</td>\n",
       "    </tr>\n",
       "    <tr>\n",
       "      <th>15135</th>\n",
       "      <td>000639.OF</td>\n",
       "      <td>宝盈祥瑞A</td>\n",
       "      <td>2020年年报</td>\n",
       "      <td>300136.SZ</td>\n",
       "      <td>信维通信</td>\n",
       "      <td>0.25</td>\n",
       "      <td>NaN</td>\n",
       "      <td>0.000306</td>\n",
       "      <td>8.9700</td>\n",
       "      <td>0.868635</td>\n",
       "      <td>4.392047</td>\n",
       "      <td>偏债混合型基金</td>\n",
       "      <td>宝盈基金管理有限公司</td>\n",
       "    </tr>\n",
       "    <tr>\n",
       "      <th>15136</th>\n",
       "      <td>000639.OF</td>\n",
       "      <td>宝盈祥瑞A</td>\n",
       "      <td>2020年年报</td>\n",
       "      <td>600887.SH</td>\n",
       "      <td>伊利股份</td>\n",
       "      <td>0.20</td>\n",
       "      <td>NaN</td>\n",
       "      <td>0.000034</td>\n",
       "      <td>8.8740</td>\n",
       "      <td>0.859339</td>\n",
       "      <td>4.345042</td>\n",
       "      <td>偏债混合型基金</td>\n",
       "      <td>宝盈基金管理有限公司</td>\n",
       "    </tr>\n",
       "    <tr>\n",
       "      <th>15137</th>\n",
       "      <td>000639.OF</td>\n",
       "      <td>宝盈祥瑞A</td>\n",
       "      <td>2020年年报</td>\n",
       "      <td>300452.SZ</td>\n",
       "      <td>山河药辅</td>\n",
       "      <td>0.50</td>\n",
       "      <td>NaN</td>\n",
       "      <td>0.003554</td>\n",
       "      <td>8.6500</td>\n",
       "      <td>0.837647</td>\n",
       "      <td>4.235363</td>\n",
       "      <td>偏债混合型基金</td>\n",
       "      <td>宝盈基金管理有限公司</td>\n",
       "    </tr>\n",
       "    <tr>\n",
       "      <th>15138</th>\n",
       "      <td>000639.OF</td>\n",
       "      <td>宝盈祥瑞A</td>\n",
       "      <td>2020年年报</td>\n",
       "      <td>600048.SH</td>\n",
       "      <td>保利地产</td>\n",
       "      <td>0.50</td>\n",
       "      <td>-1.5</td>\n",
       "      <td>0.000042</td>\n",
       "      <td>7.9100</td>\n",
       "      <td>0.765987</td>\n",
       "      <td>3.873031</td>\n",
       "      <td>偏债混合型基金</td>\n",
       "      <td>宝盈基金管理有限公司</td>\n",
       "    </tr>\n",
       "    <tr>\n",
       "      <th>15139</th>\n",
       "      <td>000639.OF</td>\n",
       "      <td>宝盈祥瑞A</td>\n",
       "      <td>2020年年报</td>\n",
       "      <td>601628.SH</td>\n",
       "      <td>中国人寿</td>\n",
       "      <td>0.20</td>\n",
       "      <td>NaN</td>\n",
       "      <td>0.000010</td>\n",
       "      <td>7.6780</td>\n",
       "      <td>0.743521</td>\n",
       "      <td>3.759435</td>\n",
       "      <td>偏债混合型基金</td>\n",
       "      <td>宝盈基金管理有限公司</td>\n",
       "    </tr>\n",
       "    <tr>\n",
       "      <th>15140</th>\n",
       "      <td>000639.OF</td>\n",
       "      <td>宝盈祥瑞A</td>\n",
       "      <td>2020年年报</td>\n",
       "      <td>002043.SZ</td>\n",
       "      <td>兔宝宝</td>\n",
       "      <td>0.80</td>\n",
       "      <td>NaN</td>\n",
       "      <td>0.001105</td>\n",
       "      <td>7.1760</td>\n",
       "      <td>0.694908</td>\n",
       "      <td>3.513637</td>\n",
       "      <td>偏债混合型基金</td>\n",
       "      <td>宝盈基金管理有限公司</td>\n",
       "    </tr>\n",
       "    <tr>\n",
       "      <th>15141</th>\n",
       "      <td>000639.OF</td>\n",
       "      <td>宝盈祥瑞A</td>\n",
       "      <td>2020年年报</td>\n",
       "      <td>300347.SZ</td>\n",
       "      <td>泰格医药</td>\n",
       "      <td>0.02</td>\n",
       "      <td>NaN</td>\n",
       "      <td>0.000036</td>\n",
       "      <td>3.2322</td>\n",
       "      <td>0.312999</td>\n",
       "      <td>1.582606</td>\n",
       "      <td>偏债混合型基金</td>\n",
       "      <td>宝盈基金管理有限公司</td>\n",
       "    </tr>\n",
       "  </tbody>\n",
       "</table>\n",
       "</div>"
      ],
      "text/plain": [
       "              代码     名称      报告期       股票代码  股票简称  持股数量(万股)  半年度持股变动(万股)  \\\n",
       "15127  000639.OF  宝盈祥瑞A  2020年年报  600585.SH  海螺水泥      0.65          NaN   \n",
       "15128  000639.OF  宝盈祥瑞A  2020年年报  600900.SH  长江电力      1.60          NaN   \n",
       "15129  000639.OF  宝盈祥瑞A  2020年年报  600547.SH  山东黄金      1.10          NaN   \n",
       "15130  000639.OF  宝盈祥瑞A  2020年年报  000651.SZ  格力电器      0.28          NaN   \n",
       "15131  000639.OF  宝盈祥瑞A  2020年年报  601088.SH  中国神华      0.80          NaN   \n",
       "15132  000639.OF  宝盈祥瑞A  2020年年报  300463.SZ  迈克生物      0.25          NaN   \n",
       "15133  000639.OF  宝盈祥瑞A  2020年年报  600309.SH  万华化学      0.10          NaN   \n",
       "15134  000639.OF  宝盈祥瑞A  2020年年报  000568.SZ  泸州老窖      0.04          NaN   \n",
       "15135  000639.OF  宝盈祥瑞A  2020年年报  300136.SZ  信维通信      0.25          NaN   \n",
       "15136  000639.OF  宝盈祥瑞A  2020年年报  600887.SH  伊利股份      0.20          NaN   \n",
       "15137  000639.OF  宝盈祥瑞A  2020年年报  300452.SZ  山河药辅      0.50          NaN   \n",
       "15138  000639.OF  宝盈祥瑞A  2020年年报  600048.SH  保利地产      0.50         -1.5   \n",
       "15139  000639.OF  宝盈祥瑞A  2020年年报  601628.SH  中国人寿      0.20          NaN   \n",
       "15140  000639.OF  宝盈祥瑞A  2020年年报  002043.SZ   兔宝宝      0.80          NaN   \n",
       "15141  000639.OF  宝盈祥瑞A  2020年年报  300347.SZ  泰格医药      0.02          NaN   \n",
       "\n",
       "       持股占流通股比(%)  持股市值(万元)   占净值比(%)  占股票投资市值比(%)     投资类型        管理公司  \n",
       "15127    0.000163   33.5530  3.249200    16.428801  偏债混合型基金  宝盈基金管理有限公司  \n",
       "15128    0.000070   30.6560  2.968661    15.010322  偏债混合型基金  宝盈基金管理有限公司  \n",
       "15129    0.000334   25.9820  2.516041    12.721757  偏债混合型基金  宝盈基金管理有限公司  \n",
       "15130    0.000047   17.3432  1.679478     8.491878  偏债混合型基金  宝盈基金管理有限公司  \n",
       "15131    0.000049   14.4080  1.395239     7.054694  偏债混合型基金  宝盈基金管理有限公司  \n",
       "15132    0.000636   11.6500  1.128161     5.704275  偏债混合型基金  宝盈基金管理有限公司  \n",
       "15133    0.000070    9.1040  0.881612     4.457658  偏债混合型基金  宝盈基金管理有限公司  \n",
       "15134    0.000027    9.0464  0.876034     4.429455  偏债混合型基金  宝盈基金管理有限公司  \n",
       "15135    0.000306    8.9700  0.868635     4.392047  偏债混合型基金  宝盈基金管理有限公司  \n",
       "15136    0.000034    8.8740  0.859339     4.345042  偏债混合型基金  宝盈基金管理有限公司  \n",
       "15137    0.003554    8.6500  0.837647     4.235363  偏债混合型基金  宝盈基金管理有限公司  \n",
       "15138    0.000042    7.9100  0.765987     3.873031  偏债混合型基金  宝盈基金管理有限公司  \n",
       "15139    0.000010    7.6780  0.743521     3.759435  偏债混合型基金  宝盈基金管理有限公司  \n",
       "15140    0.001105    7.1760  0.694908     3.513637  偏债混合型基金  宝盈基金管理有限公司  \n",
       "15141    0.000036    3.2322  0.312999     1.582606  偏债混合型基金  宝盈基金管理有限公司  "
      ]
     },
     "execution_count": 331,
     "metadata": {},
     "output_type": "execute_result"
    }
   ],
   "source": [
    "### 宝盈祥瑞A\n",
    "fund_code2 = '000639.OF'\n",
    "all_fund[all_fund['代码']==fund_code2] #持仓详情"
   ]
  },
  {
   "cell_type": "code",
   "execution_count": 332,
   "metadata": {},
   "outputs": [
    {
     "data": {
      "text/plain": [
       "941.7958812287194"
      ]
     },
     "execution_count": 332,
     "metadata": {},
     "output_type": "execute_result"
    }
   ],
   "source": [
    "calculate_score_y_fund(fund_code2)"
   ]
  },
  {
   "cell_type": "code",
   "execution_count": 333,
   "metadata": {
    "scrolled": true
   },
   "outputs": [
    {
     "data": {
      "text/plain": [
       "108.4322182082493"
      ]
     },
     "execution_count": 333,
     "metadata": {},
     "output_type": "execute_result"
    }
   ],
   "source": [
    "calculate_score_x_fund(fund_code2)"
   ]
  },
  {
   "cell_type": "code",
   "execution_count": 334,
   "metadata": {},
   "outputs": [
    {
     "data": {
      "text/plain": [
       "'大盘'"
      ]
     },
     "execution_count": 334,
     "metadata": {},
     "output_type": "execute_result"
    }
   ],
   "source": [
    "identify_fund_size(fund_code2)"
   ]
  },
  {
   "cell_type": "code",
   "execution_count": 335,
   "metadata": {},
   "outputs": [
    {
     "data": {
      "text/plain": [
       "'价值型'"
      ]
     },
     "execution_count": 335,
     "metadata": {},
     "output_type": "execute_result"
    }
   ],
   "source": [
    "identify_fund_style(fund_code2)"
   ]
  },
  {
   "cell_type": "markdown",
   "metadata": {},
   "source": [
    "### 数据缺失"
   ]
  },
  {
   "cell_type": "code",
   "execution_count": 322,
   "metadata": {
    "scrolled": true
   },
   "outputs": [
    {
     "data": {
      "text/html": [
       "<div>\n",
       "<style scoped>\n",
       "    .dataframe tbody tr th:only-of-type {\n",
       "        vertical-align: middle;\n",
       "    }\n",
       "\n",
       "    .dataframe tbody tr th {\n",
       "        vertical-align: top;\n",
       "    }\n",
       "\n",
       "    .dataframe thead th {\n",
       "        text-align: right;\n",
       "    }\n",
       "</style>\n",
       "<table border=\"1\" class=\"dataframe\">\n",
       "  <thead>\n",
       "    <tr style=\"text-align: right;\">\n",
       "      <th></th>\n",
       "      <th>代码</th>\n",
       "      <th>名称</th>\n",
       "      <th>报告期</th>\n",
       "      <th>股票代码</th>\n",
       "      <th>股票简称</th>\n",
       "      <th>持股数量(万股)</th>\n",
       "      <th>半年度持股变动(万股)</th>\n",
       "      <th>持股占流通股比(%)</th>\n",
       "      <th>持股市值(万元)</th>\n",
       "      <th>占净值比(%)</th>\n",
       "      <th>占股票投资市值比(%)</th>\n",
       "      <th>投资类型</th>\n",
       "      <th>管理公司</th>\n",
       "    </tr>\n",
       "  </thead>\n",
       "  <tbody>\n",
       "    <tr>\n",
       "      <th>787</th>\n",
       "      <td>000011.OF</td>\n",
       "      <td>华夏大盘精选</td>\n",
       "      <td>2020年年报</td>\n",
       "      <td>600754.SH</td>\n",
       "      <td>锦江酒店</td>\n",
       "      <td>1083.6716</td>\n",
       "      <td>44.8251</td>\n",
       "      <td>1.351319</td>\n",
       "      <td>55841.597548</td>\n",
       "      <td>7.822949</td>\n",
       "      <td>8.547976</td>\n",
       "      <td>偏股混合型基金</td>\n",
       "      <td>华夏基金管理有限公司</td>\n",
       "    </tr>\n",
       "    <tr>\n",
       "      <th>788</th>\n",
       "      <td>000011.OF</td>\n",
       "      <td>华夏大盘精选</td>\n",
       "      <td>2020年年报</td>\n",
       "      <td>600690.SH</td>\n",
       "      <td>海尔智家</td>\n",
       "      <td>1517.0146</td>\n",
       "      <td>117.6077</td>\n",
       "      <td>0.240470</td>\n",
       "      <td>44311.996466</td>\n",
       "      <td>6.207746</td>\n",
       "      <td>6.783077</td>\n",
       "      <td>偏股混合型基金</td>\n",
       "      <td>华夏基金管理有限公司</td>\n",
       "    </tr>\n",
       "    <tr>\n",
       "      <th>789</th>\n",
       "      <td>000011.OF</td>\n",
       "      <td>华夏大盘精选</td>\n",
       "      <td>2020年年报</td>\n",
       "      <td>603806.SH</td>\n",
       "      <td>福斯特</td>\n",
       "      <td>459.1191</td>\n",
       "      <td>-101.0303</td>\n",
       "      <td>0.596605</td>\n",
       "      <td>39208.771140</td>\n",
       "      <td>5.492827</td>\n",
       "      <td>6.001899</td>\n",
       "      <td>偏股混合型基金</td>\n",
       "      <td>华夏基金管理有限公司</td>\n",
       "    </tr>\n",
       "    <tr>\n",
       "      <th>790</th>\n",
       "      <td>000011.OF</td>\n",
       "      <td>华夏大盘精选</td>\n",
       "      <td>2020年年报</td>\n",
       "      <td>002311.SZ</td>\n",
       "      <td>海大集团</td>\n",
       "      <td>598.2614</td>\n",
       "      <td>153.2784</td>\n",
       "      <td>0.363353</td>\n",
       "      <td>39186.121700</td>\n",
       "      <td>5.489654</td>\n",
       "      <td>5.998432</td>\n",
       "      <td>偏股混合型基金</td>\n",
       "      <td>华夏基金管理有限公司</td>\n",
       "    </tr>\n",
       "    <tr>\n",
       "      <th>791</th>\n",
       "      <td>000011.OF</td>\n",
       "      <td>华夏大盘精选</td>\n",
       "      <td>2020年年报</td>\n",
       "      <td>601021.SH</td>\n",
       "      <td>春秋航空</td>\n",
       "      <td>691.5670</td>\n",
       "      <td>299.9868</td>\n",
       "      <td>0.754605</td>\n",
       "      <td>38333.558810</td>\n",
       "      <td>5.370216</td>\n",
       "      <td>5.867925</td>\n",
       "      <td>偏股混合型基金</td>\n",
       "      <td>华夏基金管理有限公司</td>\n",
       "    </tr>\n",
       "    <tr>\n",
       "      <th>...</th>\n",
       "      <td>...</td>\n",
       "      <td>...</td>\n",
       "      <td>...</td>\n",
       "      <td>...</td>\n",
       "      <td>...</td>\n",
       "      <td>...</td>\n",
       "      <td>...</td>\n",
       "      <td>...</td>\n",
       "      <td>...</td>\n",
       "      <td>...</td>\n",
       "      <td>...</td>\n",
       "      <td>...</td>\n",
       "      <td>...</td>\n",
       "    </tr>\n",
       "    <tr>\n",
       "      <th>863</th>\n",
       "      <td>000011.OF</td>\n",
       "      <td>华夏大盘精选</td>\n",
       "      <td>2020年年报</td>\n",
       "      <td>300917.SZ</td>\n",
       "      <td>特发服务</td>\n",
       "      <td>0.0281</td>\n",
       "      <td>NaN</td>\n",
       "      <td>0.001179</td>\n",
       "      <td>0.897514</td>\n",
       "      <td>0.000126</td>\n",
       "      <td>0.000137</td>\n",
       "      <td>偏股混合型基金</td>\n",
       "      <td>华夏基金管理有限公司</td>\n",
       "    </tr>\n",
       "    <tr>\n",
       "      <th>864</th>\n",
       "      <td>000011.OF</td>\n",
       "      <td>华夏大盘精选</td>\n",
       "      <td>2020年年报</td>\n",
       "      <td>605277.SH</td>\n",
       "      <td>新亚电子</td>\n",
       "      <td>0.0507</td>\n",
       "      <td>NaN</td>\n",
       "      <td>0.001520</td>\n",
       "      <td>0.859365</td>\n",
       "      <td>0.000120</td>\n",
       "      <td>0.000132</td>\n",
       "      <td>偏股混合型基金</td>\n",
       "      <td>华夏基金管理有限公司</td>\n",
       "    </tr>\n",
       "    <tr>\n",
       "      <th>865</th>\n",
       "      <td>000011.OF</td>\n",
       "      <td>华夏大盘精选</td>\n",
       "      <td>2020年年报</td>\n",
       "      <td>003030.SZ</td>\n",
       "      <td>祖名股份</td>\n",
       "      <td>0.0480</td>\n",
       "      <td>NaN</td>\n",
       "      <td>0.001538</td>\n",
       "      <td>0.728640</td>\n",
       "      <td>0.000102</td>\n",
       "      <td>0.000112</td>\n",
       "      <td>偏股混合型基金</td>\n",
       "      <td>华夏基金管理有限公司</td>\n",
       "    </tr>\n",
       "    <tr>\n",
       "      <th>866</th>\n",
       "      <td>000011.OF</td>\n",
       "      <td>华夏大盘精选</td>\n",
       "      <td>2020年年报</td>\n",
       "      <td>300886.SZ</td>\n",
       "      <td>华业香料</td>\n",
       "      <td>0.0147</td>\n",
       "      <td>NaN</td>\n",
       "      <td>0.001080</td>\n",
       "      <td>0.671349</td>\n",
       "      <td>0.000094</td>\n",
       "      <td>0.000103</td>\n",
       "      <td>偏股混合型基金</td>\n",
       "      <td>华夏基金管理有限公司</td>\n",
       "    </tr>\n",
       "    <tr>\n",
       "      <th>867</th>\n",
       "      <td>000011.OF</td>\n",
       "      <td>华夏大盘精选</td>\n",
       "      <td>2020年年报</td>\n",
       "      <td>003031.SZ</td>\n",
       "      <td>中瓷电子</td>\n",
       "      <td>0.0387</td>\n",
       "      <td>NaN</td>\n",
       "      <td>0.001451</td>\n",
       "      <td>0.590949</td>\n",
       "      <td>0.000083</td>\n",
       "      <td>0.000090</td>\n",
       "      <td>偏股混合型基金</td>\n",
       "      <td>华夏基金管理有限公司</td>\n",
       "    </tr>\n",
       "  </tbody>\n",
       "</table>\n",
       "<p>81 rows × 13 columns</p>\n",
       "</div>"
      ],
      "text/plain": [
       "            代码      名称      报告期       股票代码  股票简称   持股数量(万股)  半年度持股变动(万股)  \\\n",
       "787  000011.OF  华夏大盘精选  2020年年报  600754.SH  锦江酒店  1083.6716      44.8251   \n",
       "788  000011.OF  华夏大盘精选  2020年年报  600690.SH  海尔智家  1517.0146     117.6077   \n",
       "789  000011.OF  华夏大盘精选  2020年年报  603806.SH   福斯特   459.1191    -101.0303   \n",
       "790  000011.OF  华夏大盘精选  2020年年报  002311.SZ  海大集团   598.2614     153.2784   \n",
       "791  000011.OF  华夏大盘精选  2020年年报  601021.SH  春秋航空   691.5670     299.9868   \n",
       "..         ...     ...      ...        ...   ...        ...          ...   \n",
       "863  000011.OF  华夏大盘精选  2020年年报  300917.SZ  特发服务     0.0281          NaN   \n",
       "864  000011.OF  华夏大盘精选  2020年年报  605277.SH  新亚电子     0.0507          NaN   \n",
       "865  000011.OF  华夏大盘精选  2020年年报  003030.SZ  祖名股份     0.0480          NaN   \n",
       "866  000011.OF  华夏大盘精选  2020年年报  300886.SZ  华业香料     0.0147          NaN   \n",
       "867  000011.OF  华夏大盘精选  2020年年报  003031.SZ  中瓷电子     0.0387          NaN   \n",
       "\n",
       "     持股占流通股比(%)      持股市值(万元)   占净值比(%)  占股票投资市值比(%)     投资类型        管理公司  \n",
       "787    1.351319  55841.597548  7.822949     8.547976  偏股混合型基金  华夏基金管理有限公司  \n",
       "788    0.240470  44311.996466  6.207746     6.783077  偏股混合型基金  华夏基金管理有限公司  \n",
       "789    0.596605  39208.771140  5.492827     6.001899  偏股混合型基金  华夏基金管理有限公司  \n",
       "790    0.363353  39186.121700  5.489654     5.998432  偏股混合型基金  华夏基金管理有限公司  \n",
       "791    0.754605  38333.558810  5.370216     5.867925  偏股混合型基金  华夏基金管理有限公司  \n",
       "..          ...           ...       ...          ...      ...         ...  \n",
       "863    0.001179      0.897514  0.000126     0.000137  偏股混合型基金  华夏基金管理有限公司  \n",
       "864    0.001520      0.859365  0.000120     0.000132  偏股混合型基金  华夏基金管理有限公司  \n",
       "865    0.001538      0.728640  0.000102     0.000112  偏股混合型基金  华夏基金管理有限公司  \n",
       "866    0.001080      0.671349  0.000094     0.000103  偏股混合型基金  华夏基金管理有限公司  \n",
       "867    0.001451      0.590949  0.000083     0.000090  偏股混合型基金  华夏基金管理有限公司  \n",
       "\n",
       "[81 rows x 13 columns]"
      ]
     },
     "execution_count": 322,
     "metadata": {},
     "output_type": "execute_result"
    }
   ],
   "source": [
    "#华夏大盘成长\n",
    "fund_code1 = '000011.OF'\n",
    "all_fund[all_fund['代码']==fund_code1] #持仓详情"
   ]
  },
  {
   "cell_type": "code",
   "execution_count": 287,
   "metadata": {},
   "outputs": [
    {
     "name": "stdout",
     "output_type": "stream",
     "text": [
      "有股票市值数据缺失，其股票代码如下：\n",
      "['688617.SH' '300926.SZ' '300927.SZ' '605277.SH' '003030.SZ' '003031.SZ']\n"
     ]
    },
    {
     "data": {
      "text/plain": [
       "False"
      ]
     },
     "execution_count": 287,
     "metadata": {},
     "output_type": "execute_result"
    }
   ],
   "source": [
    "calculate_score_y_fund(fund_code1)"
   ]
  },
  {
   "cell_type": "code",
   "execution_count": 288,
   "metadata": {},
   "outputs": [
    {
     "name": "stdout",
     "output_type": "stream",
     "text": [
      "有股票VCG计算数据缺失，其股票代码如下：\n",
      "['601021.SH' '600258.SH' '000876.SZ' '600009.SH' '300999.SZ' '688617.SH'\n",
      " '300926.SZ' '300919.SZ' '300927.SZ' '605277.SH' '003030.SZ' '003031.SZ']\n"
     ]
    },
    {
     "data": {
      "text/plain": [
       "False"
      ]
     },
     "execution_count": 288,
     "metadata": {},
     "output_type": "execute_result"
    }
   ],
   "source": [
    "calculate_score_x_fund(fund_code)"
   ]
  },
  {
   "cell_type": "code",
   "execution_count": 289,
   "metadata": {},
   "outputs": [
    {
     "name": "stdout",
     "output_type": "stream",
     "text": [
      "有股票市值数据缺失，其股票代码如下：\n",
      "['688617.SH' '300926.SZ' '300927.SZ' '605277.SH' '003030.SZ' '003031.SZ']\n",
      "因为数据缺失无法判断规模类型\n"
     ]
    }
   ],
   "source": [
    "identify_fund_size(fund_code1)"
   ]
  },
  {
   "cell_type": "code",
   "execution_count": 290,
   "metadata": {},
   "outputs": [
    {
     "name": "stdout",
     "output_type": "stream",
     "text": [
      "有股票VCG计算数据缺失，其股票代码如下：\n",
      "['601021.SH' '600258.SH' '000876.SZ' '600009.SH' '300999.SZ' '688617.SH'\n",
      " '300926.SZ' '300919.SZ' '300927.SZ' '605277.SH' '003030.SZ' '003031.SZ']\n",
      "因为数据缺失无法判断风格类型\n"
     ]
    }
   ],
   "source": [
    "identify_fund_style(fund_code1)"
   ]
  },
  {
   "cell_type": "code",
   "execution_count": null,
   "metadata": {},
   "outputs": [],
   "source": []
  }
 ],
 "metadata": {
  "kernelspec": {
   "display_name": "Python 3",
   "language": "python",
   "name": "python3"
  },
  "language_info": {
   "codemirror_mode": {
    "name": "ipython",
    "version": 3
   },
   "file_extension": ".py",
   "mimetype": "text/x-python",
   "name": "python",
   "nbconvert_exporter": "python",
   "pygments_lexer": "ipython3",
   "version": "3.8.5"
  },
  "toc": {
   "base_numbering": 1,
   "nav_menu": {},
   "number_sections": true,
   "sideBar": true,
   "skip_h1_title": false,
   "title_cell": "Table of Contents",
   "title_sidebar": "Contents",
   "toc_cell": false,
   "toc_position": {
    "height": "calc(100% - 180px)",
    "left": "10px",
    "top": "150px",
    "width": "260.179px"
   },
   "toc_section_display": true,
   "toc_window_display": true
  }
 },
 "nbformat": 4,
 "nbformat_minor": 4
}
