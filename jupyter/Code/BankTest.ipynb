{
 "cells": [
  {
   "cell_type": "code",
   "execution_count": 201,
   "id": "irish-electricity",
   "metadata": {},
   "outputs": [],
   "source": [
    "import os \n",
    "import pandas as pd\n",
    "import numpy as np\n",
    "import math\n",
    "import csv\n",
    "from copy import deepcopy\n",
    "import datetime"
   ]
  },
  {
   "cell_type": "code",
   "execution_count": 393,
   "id": "coordinate-punishment",
   "metadata": {},
   "outputs": [],
   "source": [
    "#读取太慢可以改成多线程读取\n",
    "def read_origin_stock_data(origin_stock_path):\n",
    "    year_list = []\n",
    "    for file_name, file_format in [os.path.splitext(dir) for dir in os.listdir(origin_stock_path)]:\n",
    "        if file_format == '.xlsx':\n",
    "            year = file_name.strip('_.')\n",
    "            year_list.append(year)\n",
    "            one_year_stock_path = os.path.join(origin_stock_path, year + file_format) \n",
    "            one_year_stock = pd.read_excel(one_year_stock_path, skiprows = 4)\n",
    "            list_columns = [ column  for column in one_year_stock.columns if 'Unnamed' in str(column)] \n",
    "            globals()['stock_'+year] = one_year_stock.drop(list_columns, axis=1)\n",
    "    return list(set(year_list))"
   ]
  },
  {
   "cell_type": "code",
   "execution_count": 257,
   "id": "partial-saint",
   "metadata": {},
   "outputs": [],
   "source": [
    "def read_stock_group_data(stock_group_path):\n",
    "    category_list = []\n",
    "    for file_name, file_format in [os.path.splitext(dir) for dir in os.listdir(stock_group_path)]:\n",
    "        if file_format == '.csv':\n",
    "            category = file_name.strip('_.')\n",
    "            category_list.append(category)\n",
    "            one_stock_group_path = os.path.join(stock_group_path, category + file_format) \n",
    "            one_stock_group = pd.read_csv(one_stock_group_path, index_col = 0, encoding='utf-8')\n",
    "            globals()['group_'+category] = one_stock_group\n",
    "    return list(set(category_list))"
   ]
  },
  {
   "cell_type": "code",
   "execution_count": 418,
   "id": "democratic-breast",
   "metadata": {},
   "outputs": [],
   "source": [
    "def generate_sequence_stat(category_list, year_list, year_category_63_path, year_asset_stat_path):\n",
    "    asset_stat = {}\n",
    "    for year in year_list:\n",
    "        asset_stat[year] = {}\n",
    "        asset_stat[year]['date'] = []\n",
    "        for category in category_list:\n",
    "            asset_stat[year][category] =[]\n",
    "    for year in year_list:\n",
    "        for category in category_list:\n",
    "            the_group = eval('group_'+ category)\n",
    "            the_year_stock = eval('stock_'+year)\n",
    "            year_category_group = the_group[the_group['最新调整日期'].apply(lambda x: x.split('-')[0]) == year]\n",
    "            year_category_group_seq = pd.merge(year_category_group, the_year_stock.drop('最新调整日期', axis=1), on='Wind代码', how='left')\n",
    "            globals()['_'.join([year,category,'seq'])] = year_category_group_seq\n",
    "            fill_the_chart(year, category, year_category_group_seq, asset_stat)\n",
    "            store_path = os.path.join(year_category_63_path, '_'.join([year,category,'seq'])+'.csv')\n",
    "            year_category_group_seq.to_csv(store_path, encoding='utf_8_sig', index = False)\n",
    "            comupute_rate_store(store_path, year_category_group_seq)\n",
    "    asset_store(asset_stat, year_asset_stat_path)\n",
    "\n",
    "            \n",
    "def comupute_rate_store(store_path, year_category_group_seq):\n",
    "    date_seq = [column for column in year_category_group_seq.columns if isinstance(column,datetime.datetime)]\n",
    "    new_line = ['' for _ in range(len(year_category_group_seq.columns))]\n",
    "    replace_index_list = []\n",
    "    last_seq = date_seq[:-1]\n",
    "    current_seq = date_seq[1:]\n",
    "    for last_date , current_date in zip(last_seq, current_seq):\n",
    "        last_amount = np.inner(np.array(year_category_group_seq['pct']), np.array(year_category_group_seq[last_date]))\n",
    "        current_amount = np.inner(np.array(year_category_group_seq['pct']), np.array(year_category_group_seq[current_date]))\n",
    "        mean_return_rate = np.log(current_amount) - np.log(last_amount)\n",
    "        replace_index = list(year_category_group_seq.columns).index(current_date)\n",
    "        new_line[replace_index] = mean_return_rate\n",
    "    with open(store_path, 'a', newline='') as f: \n",
    "        csv_write = csv.writer(f)\n",
    "        csv_write.writerow(new_line)\n",
    "        \n",
    "        \n",
    "def fill_the_chart(year, category, year_category_group_seq, asset_stat):\n",
    "    date_seq = [column for column in year_category_group_seq.columns if isinstance(column,datetime.datetime)]\n",
    "    for date_data in date_seq:\n",
    "        if date_data not in asset_stat[year]['date']:\n",
    "            asset_stat[year]['date'].append(date_data)\n",
    "        asset_stat[year][category].append(np.around(np.inner(np.array(year_category_group_seq['pct']), np.array(year_category_group_seq[date_data])), 4))\n",
    "\n",
    "        \n",
    "def asset_store(asset_stat, year_asset_stat_path):        \n",
    "    for year, asset in asset_stat.items():\n",
    "        year_asset_path = os.path.join(year_asset_stat_path, '_'.join([year,'asset'])+'.csv')\n",
    "        year_asset_df = pd.DataFrame(asset_stat[year])\n",
    "        year_asset_df.to_csv(year_asset_path, encoding='utf_8_sig', index = False)"
   ]
  },
  {
   "cell_type": "code",
   "execution_count": 420,
   "id": "bored-momentum",
   "metadata": {},
   "outputs": [],
   "source": [
    "origin_stock_path = './Dataset/BankExam/origin_stock'\n",
    "stock_group_path = './Dataset/BankExam/stock_group'\n",
    "year_category_63_path = './Result/BankExam_Result/Sequence'\n",
    "year_asset_stat_path = './Result/BankExam_Result/Stat'"
   ]
  },
  {
   "cell_type": "code",
   "execution_count": 415,
   "id": "specified-quebec",
   "metadata": {},
   "outputs": [],
   "source": [
    "year_list = read_origin_stock_data(origin_stock_path)"
   ]
  },
  {
   "cell_type": "code",
   "execution_count": 416,
   "id": "terminal-button",
   "metadata": {},
   "outputs": [],
   "source": [
    "category_list = read_stock_group_data(stock_group_path)"
   ]
  },
  {
   "cell_type": "code",
   "execution_count": 421,
   "id": "representative-signal",
   "metadata": {
    "scrolled": true
   },
   "outputs": [],
   "source": [
    "generate_sequence_stat(category_list, year_list, year_category_63_path, year_asset_stat_path)"
   ]
  }
 ],
 "metadata": {
  "kernelspec": {
   "display_name": "Python 3",
   "language": "python",
   "name": "python3"
  },
  "language_info": {
   "codemirror_mode": {
    "name": "ipython",
    "version": 3
   },
   "file_extension": ".py",
   "mimetype": "text/x-python",
   "name": "python",
   "nbconvert_exporter": "python",
   "pygments_lexer": "ipython3",
   "version": "3.8.8"
  },
  "toc": {
   "base_numbering": 1,
   "nav_menu": {},
   "number_sections": true,
   "sideBar": true,
   "skip_h1_title": false,
   "title_cell": "Table of Contents",
   "title_sidebar": "Contents",
   "toc_cell": false,
   "toc_position": {},
   "toc_section_display": true,
   "toc_window_display": false
  }
 },
 "nbformat": 4,
 "nbformat_minor": 5
}
