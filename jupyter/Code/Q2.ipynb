{
 "cells": [
  {
   "cell_type": "markdown",
   "id": "wireless-somewhere",
   "metadata": {},
   "source": [
    "# 准备工作"
   ]
  },
  {
   "cell_type": "markdown",
   "id": "demonstrated-clark",
   "metadata": {},
   "source": [
    "## 导入模块"
   ]
  },
  {
   "cell_type": "code",
   "execution_count": 1,
   "id": "dependent-friendship",
   "metadata": {},
   "outputs": [],
   "source": [
    "import os \n",
    "import pandas as pd\n",
    "import numpy as np\n",
    "import math\n",
    "import csv\n",
    "from copy import deepcopy\n",
    "import datetime\n",
    "import matplotlib.pyplot as plt\n",
    "%matplotlib inline   \n",
    "\n",
    "#正常显示画图时出现的中文和负号 ！！！！！！！！这个部分不用导入新的包，很容易记混，就用plt自带的就行\n",
    "plt.rcParams['font.sans-serif']=['SimHei']                    \n",
    "plt.rcParams['axes.unicode_minus']=False"
   ]
  },
  {
   "cell_type": "markdown",
   "id": "progressive-worry",
   "metadata": {},
   "source": [
    "## 导入数据函数"
   ]
  },
  {
   "cell_type": "code",
   "execution_count": 3,
   "id": "similar-sleeping",
   "metadata": {},
   "outputs": [],
   "source": [
    "##导入各持有期股价数据\n",
    "def read_origin_stock_data(origin_stock_path):  #读取太慢可以改成多线程读取\n",
    "    year_list = []\n",
    "    for file_name, file_format in [os.path.splitext(dir) for dir in os.listdir(origin_stock_path)]:\n",
    "        if file_format == '.xlsx':\n",
    "            year = file_name.strip('_.')\n",
    "            year_list.append(year)\n",
    "            one_year_stock_path = os.path.join(origin_stock_path, year + file_format) \n",
    "            one_year_stock = pd.read_excel(one_year_stock_path, skiprows = 4)\n",
    "            list_columns = [ column  for column in one_year_stock.columns if 'Unnamed' in str(column)] \n",
    "            globals()['stock_'+year] = one_year_stock.drop(list_columns, axis=1)     ### globals()是什么作用啊？ !!!这个其实目前看来没什么用，就是我想储存一下变量，怕到时候妹妹有什么需求可以及时改，而且声明为全局变量，在哪里都可以用下面有些函数就用到了!\n",
    "    return list(set(year_list))   ## set(year_list)是什么啊？！！！有时候读取文件时有一些缓存，然后文件名会重复，就是删除一下重复的年份。    "
   ]
  },
  {
   "cell_type": "code",
   "execution_count": 4,
   "id": "digital-douglas",
   "metadata": {},
   "outputs": [],
   "source": [
    "##导入分组持仓数据\n",
    "def read_stock_group_data(stock_group_path):\n",
    "    category_list = []\n",
    "    for file_name, file_format in [os.path.splitext(dir) for dir in os.listdir(stock_group_path)]:\n",
    "        if file_format == '.csv':\n",
    "            category = file_name.strip('_.')\n",
    "            category_list.append(category)\n",
    "            one_stock_group_path = os.path.join(stock_group_path, category + file_format) \n",
    "            one_stock_group = pd.read_csv(one_stock_group_path, index_col = 0, encoding='utf-8')  ###！！！index_col = 0表示设置日期为index！！！！就是当时读文件时有些小bug，好像是big，mid，small三张表多出一行index，要是直接读入就会有两行index，索性将原有的index设置为index，加上这个就好了？\n",
    "            globals()['group_'+category] = one_stock_group\n",
    "    return list(set(category_list))"
   ]
  },
  {
   "cell_type": "markdown",
   "id": "swedish-connecticut",
   "metadata": {},
   "source": [
    "## 数据整理函数"
   ]
  },
  {
   "cell_type": "code",
   "execution_count": 5,
   "id": "threaded-defense",
   "metadata": {},
   "outputs": [],
   "source": [
    "def generate_sequence_stat(category_list, year_list, year_category_63_path, year_asset_stat_path, asset_value_path):\n",
    "    asset_stat = {}\n",
    "    for year in year_list:\n",
    "        asset_stat[year] = {}\n",
    "        asset_stat[year]['date'] = []\n",
    "        for category in category_list:\n",
    "            asset_stat[year][category] =[]\n",
    "    for year in year_list:\n",
    "        for category in category_list:\n",
    "            the_group = eval('group_'+ category)\n",
    "            the_year_stock = eval('stock_'+year)\n",
    "            year_category_group = the_group[the_group['最新调整日期'].apply(lambda x: x.split('-')[0]) == year]\n",
    "            year_category_group_seq = pd.merge(year_category_group, the_year_stock.drop('最新调整日期', axis=1), \n",
    "                                               on='Wind代码', how='left')\n",
    "            globals()['_'.join([year,category,'seq'])] = year_category_group_seq\n",
    "            fill_the_chart(year, category, year_category_group_seq, asset_stat)\n",
    "            store_path = os.path.join(year_category_63_path, '_'.join([year,category,'seq'])+'.csv')\n",
    "            year_category_group_seq.to_csv(store_path, encoding='utf_8_sig', index = False)\n",
    "            comupute_rate_store(store_path, year_category_group_seq)\n",
    "    asset_store(asset_stat, year_asset_stat_path, asset_value_path)\n",
    "\n",
    "            \n",
    "def comupute_rate_store(store_path, year_category_group_seq):\n",
    "    date_seq = [column for column in year_category_group_seq.columns \n",
    "                if isinstance(column,datetime.datetime)]                  ##？？ ！！！！判断列名是否为日期的实例，如果是日期就收录这个函数经常用就是判断是哪个类的实例\n",
    "    new_line = ['' for _ in range(len(year_category_group_seq.columns))]\n",
    "    replace_index_list = []\n",
    "    last_seq = date_seq[:-1]\n",
    "    current_seq = date_seq[1:]\n",
    "    for last_date , current_date in zip(last_seq, current_seq):\n",
    "        last_amount = np.inner(np.array(year_category_group_seq['pct']),\n",
    "                               np.array(year_category_group_seq[last_date]))\n",
    "        current_amount = np.inner(np.array(year_category_group_seq['pct']), \n",
    "                                  np.array(year_category_group_seq[current_date]))\n",
    "        mean_return_rate = np.log(current_amount) - np.log(last_amount)\n",
    "        replace_index = list(year_category_group_seq.columns).index(current_date)\n",
    "        new_line[replace_index] = mean_return_rate        #！！！求各期对数收益率，补充到各年各组的表格中\n",
    "    with open(store_path, 'a', newline='') as f:         ##！！！！这个就是添加哪个总收益率的那一行,向csv中写入操作\n",
    "        csv_write = csv.writer(f)\n",
    "        csv_write.writerow(new_line)\n",
    "        \n",
    "\n",
    "##哥哥可以解释一下各个函数的意思嘛？！！！！这个函数就是昨天晚上妹妹的要求啊，形成每年各个分类的持股量， 前面我生成了字典，这个就是向字典asset_stat里面填写计算后的数字\n",
    "def fill_the_chart(year, category, year_category_group_seq, asset_stat):\n",
    "    date_seq = [column for column in year_category_group_seq.columns if isinstance(column,datetime.datetime)]\n",
    "    for date_data in date_seq:\n",
    "        if date_data not in asset_stat[year]['date']:\n",
    "            asset_stat[year]['date'].append(date_data)\n",
    "        asset_stat[year][category].append(np.around(np.inner(np.array(year_category_group_seq['pct']), \n",
    "                                                             np.array(year_category_group_seq[date_data])), 4))\n",
    "\n",
    "        ###np.inner为对应相乘再求和？！！！就是内积\n",
    "        \n",
    "def asset_store(asset_stat, year_asset_stat_path, asset_value_path): \n",
    "    asset_value = pd.DataFrame()\n",
    "    for year, asset in asset_stat.items():\n",
    "        year_asset_path = os.path.join(year_asset_stat_path, '_'.join([year,'asset'])+'.csv')\n",
    "        year_asset_df = pd.DataFrame(asset_stat[year])\n",
    "        if year != '2020':\n",
    "            year_asset_df_del = year_asset_df.iloc[:-1,:]     #除了最后一年的表，均删掉最后一行\n",
    "        else:\n",
    "            year_asset_df_del = year_asset_df\n",
    "        asset_value = asset_value.append(year_asset_df_del)     #将统一组合的各年度组合价值汇总\n",
    "        year_asset_df.to_csv(year_asset_path, encoding='utf_8_sig', index = False)      #分年份生成组合价值表\n",
    "    asset_value.to_csv(asset_value_path,encoding='utf_8_sig', index = False)     #生成组合价值汇总表"
   ]
  },
  {
   "cell_type": "markdown",
   "id": "arctic-cooper",
   "metadata": {},
   "source": [
    "## 开始导入数据"
   ]
  },
  {
   "cell_type": "code",
   "execution_count": 6,
   "id": "forbidden-defeat",
   "metadata": {},
   "outputs": [],
   "source": [
    "origin_stock_path = './Dataset/Raw/origin_stock'\n",
    "stock_group_path = './Dataset/Raw/stock_group'\n",
    "year_category_63_path = './Dataset/Result/Sequence'\n",
    "year_asset_stat_path = './Dataset/Result/Portfolio_year'\n",
    "asset_value_path =  './Dataset/Result/Portfolio_all/portfolio_value_all.csv'"
   ]
  },
  {
   "cell_type": "code",
   "execution_count": 7,
   "id": "hidden-pacific",
   "metadata": {},
   "outputs": [],
   "source": [
    "year_list = read_origin_stock_data(origin_stock_path)"
   ]
  },
  {
   "cell_type": "code",
   "execution_count": 8,
   "id": "talented-representative",
   "metadata": {},
   "outputs": [],
   "source": [
    "category_list = read_stock_group_data(stock_group_path)"
   ]
  },
  {
   "cell_type": "code",
   "execution_count": 9,
   "id": "administrative-summary",
   "metadata": {
    "scrolled": true
   },
   "outputs": [],
   "source": [
    "generate_sequence_stat(category_list, year_list, year_category_63_path, year_asset_stat_path, asset_value_path)"
   ]
  },
  {
   "cell_type": "code",
   "execution_count": 21,
   "id": "dental-wheat",
   "metadata": {},
   "outputs": [
    {
     "name": "stderr",
     "output_type": "stream",
     "text": [
      "<ipython-input-21-ba84472a4255>:2: UserWarning: Pandas doesn't allow columns to be created via a new attribute name - see https://pandas.pydata.org/pandas-docs/stable/indexing.html#attribute-access\n",
      "  asset_value.timestamp=pd.to_datetime(asset_value.date,format='%Y-%m-%d')\n"
     ]
    },
    {
     "data": {
      "text/html": [
       "<div>\n",
       "<style scoped>\n",
       "    .dataframe tbody tr th:only-of-type {\n",
       "        vertical-align: middle;\n",
       "    }\n",
       "\n",
       "    .dataframe tbody tr th {\n",
       "        vertical-align: top;\n",
       "    }\n",
       "\n",
       "    .dataframe thead th {\n",
       "        text-align: right;\n",
       "    }\n",
       "</style>\n",
       "<table border=\"1\" class=\"dataframe\">\n",
       "  <thead>\n",
       "    <tr style=\"text-align: right;\">\n",
       "      <th></th>\n",
       "      <th>small</th>\n",
       "      <th>mid</th>\n",
       "      <th>big</th>\n",
       "    </tr>\n",
       "    <tr>\n",
       "      <th>date</th>\n",
       "      <th></th>\n",
       "      <th></th>\n",
       "      <th></th>\n",
       "    </tr>\n",
       "  </thead>\n",
       "  <tbody>\n",
       "    <tr>\n",
       "      <th>2000-05-12</th>\n",
       "      <td>5.9123</td>\n",
       "      <td>4.4818</td>\n",
       "      <td>3.5168</td>\n",
       "    </tr>\n",
       "    <tr>\n",
       "      <th>2000-05-19</th>\n",
       "      <td>6.1417</td>\n",
       "      <td>4.6537</td>\n",
       "      <td>3.6598</td>\n",
       "    </tr>\n",
       "    <tr>\n",
       "      <th>2000-05-26</th>\n",
       "      <td>6.4536</td>\n",
       "      <td>4.9186</td>\n",
       "      <td>3.8978</td>\n",
       "    </tr>\n",
       "    <tr>\n",
       "      <th>2000-06-02</th>\n",
       "      <td>6.4872</td>\n",
       "      <td>4.9441</td>\n",
       "      <td>4.0123</td>\n",
       "    </tr>\n",
       "    <tr>\n",
       "      <th>2000-06-09</th>\n",
       "      <td>6.4952</td>\n",
       "      <td>4.9157</td>\n",
       "      <td>3.9739</td>\n",
       "    </tr>\n",
       "    <tr>\n",
       "      <th>...</th>\n",
       "      <td>...</td>\n",
       "      <td>...</td>\n",
       "      <td>...</td>\n",
       "    </tr>\n",
       "    <tr>\n",
       "      <th>2020-06-05</th>\n",
       "      <td>24.5943</td>\n",
       "      <td>11.3219</td>\n",
       "      <td>6.1759</td>\n",
       "    </tr>\n",
       "    <tr>\n",
       "      <th>2020-06-12</th>\n",
       "      <td>24.8061</td>\n",
       "      <td>11.3263</td>\n",
       "      <td>6.1511</td>\n",
       "    </tr>\n",
       "    <tr>\n",
       "      <th>2020-06-19</th>\n",
       "      <td>25.6523</td>\n",
       "      <td>11.6216</td>\n",
       "      <td>6.2939</td>\n",
       "    </tr>\n",
       "    <tr>\n",
       "      <th>2020-06-24</th>\n",
       "      <td>26.1157</td>\n",
       "      <td>11.6328</td>\n",
       "      <td>6.2406</td>\n",
       "    </tr>\n",
       "    <tr>\n",
       "      <th>2020-06-30</th>\n",
       "      <td>26.6506</td>\n",
       "      <td>11.7718</td>\n",
       "      <td>6.2685</td>\n",
       "    </tr>\n",
       "  </tbody>\n",
       "</table>\n",
       "<p>1020 rows × 3 columns</p>\n",
       "</div>"
      ],
      "text/plain": [
       "              small      mid     big\n",
       "date                                \n",
       "2000-05-12   5.9123   4.4818  3.5168\n",
       "2000-05-19   6.1417   4.6537  3.6598\n",
       "2000-05-26   6.4536   4.9186  3.8978\n",
       "2000-06-02   6.4872   4.9441  4.0123\n",
       "2000-06-09   6.4952   4.9157  3.9739\n",
       "...             ...      ...     ...\n",
       "2020-06-05  24.5943  11.3219  6.1759\n",
       "2020-06-12  24.8061  11.3263  6.1511\n",
       "2020-06-19  25.6523  11.6216  6.2939\n",
       "2020-06-24  26.1157  11.6328  6.2406\n",
       "2020-06-30  26.6506  11.7718  6.2685\n",
       "\n",
       "[1020 rows x 3 columns]"
      ]
     },
     "execution_count": 21,
     "metadata": {},
     "output_type": "execute_result"
    }
   ],
   "source": [
    "asset_value = pd.read_csv('./Dataset/Result/Portfolio_all/portfolio_value_all.csv')\n",
    "asset_value.timestamp=pd.to_datetime(asset_value.date,format='%Y-%m-%d')\n",
    "asset_value.index=asset_value.timestamp        \n",
    "asset_value = asset_value.sort_index()             #期初行序是乱的，按照日期升序排列！！！妹妹好棒，昨天我也注意到了，但偷懒了\n",
    "asset_value = asset_value[['small','mid','big']]   #调整行顺序\n",
    "asset_value"
   ]
  },
  {
   "cell_type": "markdown",
   "id": "dietary-namibia",
   "metadata": {},
   "source": [
    "# 回测分析"
   ]
  },
  {
   "cell_type": "markdown",
   "id": "velvet-violence",
   "metadata": {},
   "source": [
    "## 净值曲线"
   ]
  },
  {
   "cell_type": "code",
   "execution_count": 99,
   "id": "cardiovascular-floor",
   "metadata": {},
   "outputs": [
    {
     "data": {
      "image/png": "[encoded data removed]",
      "text/plain": [
       "<Figure size 1440x432 with 1 Axes>"
      ]
     },
     "metadata": {
      "needs_background": "light"
     },
     "output_type": "display_data"
    }
   ],
   "source": [
    "#将回测期间内的净值可视化\n",
    "all_value.plot(figsize=(20,6))\n",
    "#图标题\n",
    "plt.title('模拟组合净值曲线（绝对值）',fontsize=15)\n",
    "#设置x轴坐标\n",
    "my_ticks = pd.date_range('2000-05-12','2021-01-01',freq='Y')\n",
    "plt.xticks(my_ticks,fontsize=12)\n",
    "# 去掉上和右的图边界线\n",
    "ax=plt.gca()\n",
    "ax.spines['right'].set_color('none')             \n",
    "ax.spines['top'].set_color('none')\n",
    "plt.show()"
   ]
  },
  {
   "cell_type": "code",
   "execution_count": 124,
   "id": "organic-shannon",
   "metadata": {},
   "outputs": [
    {
     "data": {
      "image/png": "[encoded data removed]",
      "text/plain": [
       "<Figure size 1440x432 with 1 Axes>"
      ]
     },
     "metadata": {
      "needs_background": "light"
     },
     "output_type": "display_data"
    }
   ],
   "source": [
    "#以第一交易日为基点，计算净值\n",
    "all_value_new=all_value_new/all_value_new.iloc[0]  ##all_value_new包含指数，下文生成\n",
    "#将回测期间内的净值可视化\n",
    "all_value_new.plot(figsize=(20,6))\n",
    "#图标题\n",
    "plt.title('模拟组合净值曲线（相对值）',fontsize=15)\n",
    "# 设置x轴坐标\n",
    "my_ticks = pd.date_range('2000-05-12','2021-01-01',freq='Y')\n",
    "plt.xticks(my_ticks,fontsize=12)\n",
    "# 去掉上和右的图边界线\n",
    "ax=plt.gca()           \n",
    "ax.spines['right'].set_color('none')\n",
    "ax.spines['top'].set_color('none')\n",
    "plt.show()"
   ]
  },
  {
   "cell_type": "markdown",
   "id": "realistic-grain",
   "metadata": {},
   "source": [
    "## 累计收益率 & 年化收益率"
   ]
  },
  {
   "cell_type": "code",
   "execution_count": 85,
   "id": "reserved-perspective",
   "metadata": {},
   "outputs": [
    {
     "data": {
      "text/html": [
       "<div>\n",
       "<style scoped>\n",
       "    .dataframe tbody tr th:only-of-type {\n",
       "        vertical-align: middle;\n",
       "    }\n",
       "\n",
       "    .dataframe tbody tr th {\n",
       "        vertical-align: top;\n",
       "    }\n",
       "\n",
       "    .dataframe thead th {\n",
       "        text-align: right;\n",
       "    }\n",
       "</style>\n",
       "<table border=\"1\" class=\"dataframe\">\n",
       "  <thead>\n",
       "    <tr style=\"text-align: right;\">\n",
       "      <th></th>\n",
       "      <th>累计收益率</th>\n",
       "    </tr>\n",
       "  </thead>\n",
       "  <tbody>\n",
       "    <tr>\n",
       "      <th>small</th>\n",
       "      <td>3.507654</td>\n",
       "    </tr>\n",
       "    <tr>\n",
       "      <th>mid</th>\n",
       "      <td>1.626579</td>\n",
       "    </tr>\n",
       "    <tr>\n",
       "      <th>big</th>\n",
       "      <td>0.782444</td>\n",
       "    </tr>\n",
       "  </tbody>\n",
       "</table>\n",
       "</div>"
      ],
      "text/plain": [
       "          累计收益率\n",
       "small  3.507654\n",
       "mid    1.626579\n",
       "big    0.782444"
      ]
     },
     "execution_count": 85,
     "metadata": {},
     "output_type": "execute_result"
    }
   ],
   "source": [
    "### 区间累计收益率(绝对收益率)\n",
    "total_ret=asset_value_new.iloc[-1]-1\n",
    "TR=pd.DataFrame(total_ret.values,columns=['累计收益率'],index=total_ret.index)\n",
    "TR"
   ]
  },
  {
   "cell_type": "code",
   "execution_count": 86,
   "id": "short-craps",
   "metadata": {},
   "outputs": [
    {
     "data": {
      "text/html": [
       "<div>\n",
       "<style scoped>\n",
       "    .dataframe tbody tr th:only-of-type {\n",
       "        vertical-align: middle;\n",
       "    }\n",
       "\n",
       "    .dataframe tbody tr th {\n",
       "        vertical-align: top;\n",
       "    }\n",
       "\n",
       "    .dataframe thead th {\n",
       "        text-align: right;\n",
       "    }\n",
       "</style>\n",
       "<table border=\"1\" class=\"dataframe\">\n",
       "  <thead>\n",
       "    <tr style=\"text-align: right;\">\n",
       "      <th></th>\n",
       "      <th>年化收益率</th>\n",
       "    </tr>\n",
       "  </thead>\n",
       "  <tbody>\n",
       "    <tr>\n",
       "      <th>small</th>\n",
       "      <td>0.446379</td>\n",
       "    </tr>\n",
       "    <tr>\n",
       "      <th>mid</th>\n",
       "      <td>0.267044</td>\n",
       "    </tr>\n",
       "    <tr>\n",
       "      <th>big</th>\n",
       "      <td>0.152188</td>\n",
       "    </tr>\n",
       "  </tbody>\n",
       "</table>\n",
       "</div>"
      ],
      "text/plain": [
       "          年化收益率\n",
       "small  0.446379\n",
       "mid    0.267044\n",
       "big    0.152188"
      ]
     },
     "execution_count": 86,
     "metadata": {},
     "output_type": "execute_result"
    }
   ],
   "source": [
    "###年化收益率,假设一年以250交易日计算\n",
    "annual_ret=pow(1+total_ret,250/len(asset_value_new))-1\n",
    "AR=pd.DataFrame(annual_ret.values,columns=['年化收益率'],index=annual_ret.index)\n",
    "AR"
   ]
  },
  {
   "cell_type": "markdown",
   "id": "trying-freeware",
   "metadata": {},
   "source": [
    "## 最大回撤"
   ]
  },
  {
   "cell_type": "code",
   "execution_count": 87,
   "id": "instant-marble",
   "metadata": {},
   "outputs": [
    {
     "name": "stdout",
     "output_type": "stream",
     "text": [
      "numpy方法下small组合最大回撤的计算结果：72.85%\n",
      "pandas方法下small组合最大回撤的计算结果：72.85%\n"
     ]
    }
   ],
   "source": [
    "#numpy:np.maximum.accumulate计算序列累计最大值\n",
    "code='small' #以small为例\n",
    "n_d=((np.maximum.accumulate(asset_value[code])-asset_value[code])/np.maximum.accumulate(asset_value[code])).max()\n",
    "#pandas使用cummax（）计算序列累计最大值\n",
    "p_d=((asset_value[code].cummax()-asset_value[code])/asset_value[code].cummax()).max()\n",
    "#打印结果\n",
    "print(f'numpy方法下small组合最大回撤的计算结果：{round(n_d*100,2)}%')\n",
    "print(f'pandas方法下small组合最大回撤的计算结果：{round(p_d*100,2)}%') "
   ]
  },
  {
   "cell_type": "code",
   "execution_count": 88,
   "id": "potential-arnold",
   "metadata": {},
   "outputs": [
    {
     "data": {
      "text/html": [
       "<div>\n",
       "<style scoped>\n",
       "    .dataframe tbody tr th:only-of-type {\n",
       "        vertical-align: middle;\n",
       "    }\n",
       "\n",
       "    .dataframe tbody tr th {\n",
       "        vertical-align: top;\n",
       "    }\n",
       "\n",
       "    .dataframe thead th {\n",
       "        text-align: right;\n",
       "    }\n",
       "</style>\n",
       "<table border=\"1\" class=\"dataframe\">\n",
       "  <thead>\n",
       "    <tr style=\"text-align: right;\">\n",
       "      <th></th>\n",
       "      <th>最大回撤</th>\n",
       "    </tr>\n",
       "  </thead>\n",
       "  <tbody>\n",
       "    <tr>\n",
       "      <th>small</th>\n",
       "      <td>0.7285</td>\n",
       "    </tr>\n",
       "    <tr>\n",
       "      <th>mid</th>\n",
       "      <td>0.7554</td>\n",
       "    </tr>\n",
       "    <tr>\n",
       "      <th>big</th>\n",
       "      <td>0.7512</td>\n",
       "    </tr>\n",
       "  </tbody>\n",
       "</table>\n",
       "</div>"
      ],
      "text/plain": [
       "         最大回撤\n",
       "small  0.7285\n",
       "mid    0.7554\n",
       "big    0.7512"
      ]
     },
     "execution_count": 88,
     "metadata": {},
     "output_type": "execute_result"
    }
   ],
   "source": [
    "#定义求最大回撤的函数成函数\n",
    "def max_drawdown(df):\n",
    "    md=((df.cummax()-df)/df.cummax()).max()\n",
    "    return round(md,4)\n",
    "md={}\n",
    "for name in asset_value.columns:\n",
    "    md[name]=max_drawdown(asset_value[name])\n",
    "#最大回撤率结果：\n",
    "MD=pd.DataFrame(md,index=['最大回撤']).T\n",
    "MD"
   ]
  },
  {
   "cell_type": "markdown",
   "id": "wireless-waters",
   "metadata": {},
   "source": [
    "## beta & alpha\n"
   ]
  },
  {
   "cell_type": "code",
   "execution_count": 112,
   "id": "specific-philosophy",
   "metadata": {
    "scrolled": true
   },
   "outputs": [
    {
     "ename": "Exception",
     "evalue": "抱歉，您没有访问该接口的权限，权限的具体详情访问：https://tushare.pro/document/1?doc_id=108。",
     "output_type": "error",
     "traceback": [
      "\u001b[1;31m---------------------------------------------------------------------------\u001b[0m",
      "\u001b[1;31mException\u001b[0m                                 Traceback (most recent call last)",
      "\u001b[1;32m<ipython-input-112-f1ad3e7ce617>\u001b[0m in \u001b[0;36m<module>\u001b[1;34m\u001b[0m\n\u001b[0;32m      3\u001b[0m \u001b[0mts\u001b[0m\u001b[1;33m.\u001b[0m\u001b[0mset_token\u001b[0m\u001b[1;33m(\u001b[0m\u001b[1;34m'4920c9b877799be6efcaccc0cf3f726382de233f693dd3b54d360185'\u001b[0m\u001b[1;33m)\u001b[0m\u001b[1;33m\u001b[0m\u001b[1;33m\u001b[0m\u001b[0m\n\u001b[0;32m      4\u001b[0m \u001b[0mpro\u001b[0m \u001b[1;33m=\u001b[0m \u001b[0mts\u001b[0m\u001b[1;33m.\u001b[0m\u001b[0mpro_api\u001b[0m\u001b[1;33m(\u001b[0m\u001b[1;33m)\u001b[0m\u001b[1;33m\u001b[0m\u001b[1;33m\u001b[0m\u001b[0m\n\u001b[1;32m----> 5\u001b[1;33m df = pro.index_weekly(ts_code='000001.SH', start_date='20000512', end_date='20200630', \n\u001b[0m\u001b[0;32m      6\u001b[0m                       fields='ts_code,trade_date,open,high,low,close,vol,amount')\n\u001b[0;32m      7\u001b[0m \u001b[1;31m# ZZZS = ts.get_hist_data('sh',start='2020-01-01',end='2020-7-17')\u001b[0m\u001b[1;33m\u001b[0m\u001b[1;33m\u001b[0m\u001b[1;33m\u001b[0m\u001b[0m\n",
      "\u001b[1;32m~\\anaconda3\\lib\\site-packages\\tushare\\pro\\client.py\u001b[0m in \u001b[0;36mquery\u001b[1;34m(self, api_name, fields, **kwargs)\u001b[0m\n\u001b[0;32m     42\u001b[0m             \u001b[0mresult\u001b[0m \u001b[1;33m=\u001b[0m \u001b[0mjson\u001b[0m\u001b[1;33m.\u001b[0m\u001b[0mloads\u001b[0m\u001b[1;33m(\u001b[0m\u001b[0mres\u001b[0m\u001b[1;33m.\u001b[0m\u001b[0mtext\u001b[0m\u001b[1;33m)\u001b[0m\u001b[1;33m\u001b[0m\u001b[1;33m\u001b[0m\u001b[0m\n\u001b[0;32m     43\u001b[0m             \u001b[1;32mif\u001b[0m \u001b[0mresult\u001b[0m\u001b[1;33m[\u001b[0m\u001b[1;34m'code'\u001b[0m\u001b[1;33m]\u001b[0m \u001b[1;33m!=\u001b[0m \u001b[1;36m0\u001b[0m\u001b[1;33m:\u001b[0m\u001b[1;33m\u001b[0m\u001b[1;33m\u001b[0m\u001b[0m\n\u001b[1;32m---> 44\u001b[1;33m                 \u001b[1;32mraise\u001b[0m \u001b[0mException\u001b[0m\u001b[1;33m(\u001b[0m\u001b[0mresult\u001b[0m\u001b[1;33m[\u001b[0m\u001b[1;34m'msg'\u001b[0m\u001b[1;33m]\u001b[0m\u001b[1;33m)\u001b[0m\u001b[1;33m\u001b[0m\u001b[1;33m\u001b[0m\u001b[0m\n\u001b[0m\u001b[0;32m     45\u001b[0m             \u001b[0mdata\u001b[0m \u001b[1;33m=\u001b[0m \u001b[0mresult\u001b[0m\u001b[1;33m[\u001b[0m\u001b[1;34m'data'\u001b[0m\u001b[1;33m]\u001b[0m\u001b[1;33m\u001b[0m\u001b[1;33m\u001b[0m\u001b[0m\n\u001b[0;32m     46\u001b[0m             \u001b[0mcolumns\u001b[0m \u001b[1;33m=\u001b[0m \u001b[0mdata\u001b[0m\u001b[1;33m[\u001b[0m\u001b[1;34m'fields'\u001b[0m\u001b[1;33m]\u001b[0m\u001b[1;33m\u001b[0m\u001b[1;33m\u001b[0m\u001b[0m\n",
      "\u001b[1;31mException\u001b[0m: 抱歉，您没有访问该接口的权限，权限的具体详情访问：https://tushare.pro/document/1?doc_id=108。"
     ]
    }
   ],
   "source": [
    "#选取上证综合指数为基准\n",
    "import tushare as ts\n",
    "ts.set_token('4920c9b877799be6efcaccc0cf3f726382de233f693dd3b54d360185')\n",
    "pro = ts.pro_api()\n",
    "df = pro.index_weekly(ts_code='000001.SH', start_date='20000512', end_date='20200630', \n",
    "                      fields='ts_code,trade_date,open,high,low,close,vol,amount')"
   ]
  },
  {
   "cell_type": "code",
   "execution_count": 116,
   "id": "southeast-infrastructure",
   "metadata": {},
   "outputs": [
    {
     "name": "stdout",
     "output_type": "stream",
     "text": [
      "本接口即将停止更新，请尽快使用Pro版接口：https://waditu.com/document/2\n"
     ]
    },
    {
     "name": "stderr",
     "output_type": "stream",
     "text": [
      "<ipython-input-116-fe5933642282>:3: UserWarning: Pandas doesn't allow columns to be created via a new attribute name - see https://pandas.pydata.org/pandas-docs/stable/indexing.html#attribute-access\n",
      "  df.timestamp=pd.to_datetime(df.date,format='%Y-%m-%d')\n"
     ]
    },
    {
     "data": {
      "text/html": [
       "<div>\n",
       "<style scoped>\n",
       "    .dataframe tbody tr th:only-of-type {\n",
       "        vertical-align: middle;\n",
       "    }\n",
       "\n",
       "    .dataframe tbody tr th {\n",
       "        vertical-align: top;\n",
       "    }\n",
       "\n",
       "    .dataframe thead th {\n",
       "        text-align: right;\n",
       "    }\n",
       "</style>\n",
       "<table border=\"1\" class=\"dataframe\">\n",
       "  <thead>\n",
       "    <tr style=\"text-align: right;\">\n",
       "      <th></th>\n",
       "      <th>close</th>\n",
       "    </tr>\n",
       "    <tr>\n",
       "      <th>date</th>\n",
       "      <th></th>\n",
       "    </tr>\n",
       "  </thead>\n",
       "  <tbody>\n",
       "    <tr>\n",
       "      <th>2000-05-12</th>\n",
       "      <td>1720.61</td>\n",
       "    </tr>\n",
       "    <tr>\n",
       "      <th>2000-05-19</th>\n",
       "      <td>1777.83</td>\n",
       "    </tr>\n",
       "    <tr>\n",
       "      <th>2000-05-26</th>\n",
       "      <td>1879.62</td>\n",
       "    </tr>\n",
       "    <tr>\n",
       "      <th>2000-06-02</th>\n",
       "      <td>1916.25</td>\n",
       "    </tr>\n",
       "    <tr>\n",
       "      <th>2000-06-09</th>\n",
       "      <td>1900.79</td>\n",
       "    </tr>\n",
       "    <tr>\n",
       "      <th>...</th>\n",
       "      <td>...</td>\n",
       "    </tr>\n",
       "    <tr>\n",
       "      <th>2020-05-29</th>\n",
       "      <td>2852.35</td>\n",
       "    </tr>\n",
       "    <tr>\n",
       "      <th>2020-06-05</th>\n",
       "      <td>2930.80</td>\n",
       "    </tr>\n",
       "    <tr>\n",
       "      <th>2020-06-12</th>\n",
       "      <td>2919.74</td>\n",
       "    </tr>\n",
       "    <tr>\n",
       "      <th>2020-06-19</th>\n",
       "      <td>2967.63</td>\n",
       "    </tr>\n",
       "    <tr>\n",
       "      <th>2020-06-24</th>\n",
       "      <td>2979.55</td>\n",
       "    </tr>\n",
       "  </tbody>\n",
       "</table>\n",
       "<p>1020 rows × 1 columns</p>\n",
       "</div>"
      ],
      "text/plain": [
       "              close\n",
       "date               \n",
       "2000-05-12  1720.61\n",
       "2000-05-19  1777.83\n",
       "2000-05-26  1879.62\n",
       "2000-06-02  1916.25\n",
       "2000-06-09  1900.79\n",
       "...             ...\n",
       "2020-05-29  2852.35\n",
       "2020-06-05  2930.80\n",
       "2020-06-12  2919.74\n",
       "2020-06-19  2967.63\n",
       "2020-06-24  2979.55\n",
       "\n",
       "[1020 rows x 1 columns]"
      ]
     },
     "execution_count": 116,
     "metadata": {},
     "output_type": "execute_result"
    }
   ],
   "source": [
    "df= ts.get_k_data('sh',start='2000-05-12',end='2020-06-30',ktype='W') #默认前复权\n",
    "df = df.sort_values( by = 'date')\n",
    "df.timestamp=pd.to_datetime(df.date,format='%Y-%m-%d')\n",
    "df.index=df.timestamp\n",
    "df = df.sort_index()\n",
    "df.index.name = 'date'\n",
    "SZ_value = pd.DataFrame(df['close'])\n",
    "SZ_value"
   ]
  },
  {
   "cell_type": "code",
   "execution_count": 117,
   "id": "third-budapest",
   "metadata": {},
   "outputs": [
    {
     "data": {
      "text/html": [
       "<div>\n",
       "<style scoped>\n",
       "    .dataframe tbody tr th:only-of-type {\n",
       "        vertical-align: middle;\n",
       "    }\n",
       "\n",
       "    .dataframe tbody tr th {\n",
       "        vertical-align: top;\n",
       "    }\n",
       "\n",
       "    .dataframe thead th {\n",
       "        text-align: right;\n",
       "    }\n",
       "</style>\n",
       "<table border=\"1\" class=\"dataframe\">\n",
       "  <thead>\n",
       "    <tr style=\"text-align: right;\">\n",
       "      <th></th>\n",
       "      <th>Shangzheng</th>\n",
       "      <th>small</th>\n",
       "      <th>mid</th>\n",
       "      <th>big</th>\n",
       "    </tr>\n",
       "    <tr>\n",
       "      <th>date</th>\n",
       "      <th></th>\n",
       "      <th></th>\n",
       "      <th></th>\n",
       "      <th></th>\n",
       "    </tr>\n",
       "  </thead>\n",
       "  <tbody>\n",
       "    <tr>\n",
       "      <th>2000-05-12</th>\n",
       "      <td>1720.61</td>\n",
       "      <td>5.9123</td>\n",
       "      <td>4.4818</td>\n",
       "      <td>3.5168</td>\n",
       "    </tr>\n",
       "    <tr>\n",
       "      <th>2000-05-19</th>\n",
       "      <td>1777.83</td>\n",
       "      <td>6.1417</td>\n",
       "      <td>4.6537</td>\n",
       "      <td>3.6598</td>\n",
       "    </tr>\n",
       "    <tr>\n",
       "      <th>2000-05-26</th>\n",
       "      <td>1879.62</td>\n",
       "      <td>6.4536</td>\n",
       "      <td>4.9186</td>\n",
       "      <td>3.8978</td>\n",
       "    </tr>\n",
       "    <tr>\n",
       "      <th>2000-06-02</th>\n",
       "      <td>1916.25</td>\n",
       "      <td>6.4872</td>\n",
       "      <td>4.9441</td>\n",
       "      <td>4.0123</td>\n",
       "    </tr>\n",
       "    <tr>\n",
       "      <th>2000-06-09</th>\n",
       "      <td>1900.79</td>\n",
       "      <td>6.4952</td>\n",
       "      <td>4.9157</td>\n",
       "      <td>3.9739</td>\n",
       "    </tr>\n",
       "    <tr>\n",
       "      <th>...</th>\n",
       "      <td>...</td>\n",
       "      <td>...</td>\n",
       "      <td>...</td>\n",
       "      <td>...</td>\n",
       "    </tr>\n",
       "    <tr>\n",
       "      <th>2020-06-05</th>\n",
       "      <td>2930.80</td>\n",
       "      <td>24.5943</td>\n",
       "      <td>11.3219</td>\n",
       "      <td>6.1759</td>\n",
       "    </tr>\n",
       "    <tr>\n",
       "      <th>2020-06-12</th>\n",
       "      <td>2919.74</td>\n",
       "      <td>24.8061</td>\n",
       "      <td>11.3263</td>\n",
       "      <td>6.1511</td>\n",
       "    </tr>\n",
       "    <tr>\n",
       "      <th>2020-06-19</th>\n",
       "      <td>2967.63</td>\n",
       "      <td>25.6523</td>\n",
       "      <td>11.6216</td>\n",
       "      <td>6.2939</td>\n",
       "    </tr>\n",
       "    <tr>\n",
       "      <th>2020-06-24</th>\n",
       "      <td>2979.55</td>\n",
       "      <td>26.1157</td>\n",
       "      <td>11.6328</td>\n",
       "      <td>6.2406</td>\n",
       "    </tr>\n",
       "    <tr>\n",
       "      <th>2020-06-30</th>\n",
       "      <td>NaN</td>\n",
       "      <td>26.6506</td>\n",
       "      <td>11.7718</td>\n",
       "      <td>6.2685</td>\n",
       "    </tr>\n",
       "  </tbody>\n",
       "</table>\n",
       "<p>1020 rows × 4 columns</p>\n",
       "</div>"
      ],
      "text/plain": [
       "            Shangzheng    small      mid     big\n",
       "date                                            \n",
       "2000-05-12     1720.61   5.9123   4.4818  3.5168\n",
       "2000-05-19     1777.83   6.1417   4.6537  3.6598\n",
       "2000-05-26     1879.62   6.4536   4.9186  3.8978\n",
       "2000-06-02     1916.25   6.4872   4.9441  4.0123\n",
       "2000-06-09     1900.79   6.4952   4.9157  3.9739\n",
       "...                ...      ...      ...     ...\n",
       "2020-06-05     2930.80  24.5943  11.3219  6.1759\n",
       "2020-06-12     2919.74  24.8061  11.3263  6.1511\n",
       "2020-06-19     2967.63  25.6523  11.6216  6.2939\n",
       "2020-06-24     2979.55  26.1157  11.6328  6.2406\n",
       "2020-06-30         NaN  26.6506  11.7718  6.2685\n",
       "\n",
       "[1020 rows x 4 columns]"
      ]
     },
     "execution_count": 117,
     "metadata": {},
     "output_type": "execute_result"
    }
   ],
   "source": [
    "#合并投资组合表和基础指数表\n",
    "all_value = asset_value.join(SZ_value)        \n",
    "all_value = all_value.rename(columns={'close':'Shangzheng'})\n",
    "all_value = all_value[['Shangzheng','small','mid','big']]\n",
    "all_value"
   ]
  },
  {
   "cell_type": "code",
   "execution_count": 118,
   "id": "aggressive-action",
   "metadata": {},
   "outputs": [
    {
     "data": {
      "text/html": [
       "<div>\n",
       "<style scoped>\n",
       "    .dataframe tbody tr th:only-of-type {\n",
       "        vertical-align: middle;\n",
       "    }\n",
       "\n",
       "    .dataframe tbody tr th {\n",
       "        vertical-align: top;\n",
       "    }\n",
       "\n",
       "    .dataframe thead th {\n",
       "        text-align: right;\n",
       "    }\n",
       "</style>\n",
       "<table border=\"1\" class=\"dataframe\">\n",
       "  <thead>\n",
       "    <tr style=\"text-align: right;\">\n",
       "      <th></th>\n",
       "      <th>Shangzheng</th>\n",
       "      <th>small</th>\n",
       "      <th>mid</th>\n",
       "      <th>big</th>\n",
       "    </tr>\n",
       "    <tr>\n",
       "      <th>date</th>\n",
       "      <th></th>\n",
       "      <th></th>\n",
       "      <th></th>\n",
       "      <th></th>\n",
       "    </tr>\n",
       "  </thead>\n",
       "  <tbody>\n",
       "    <tr>\n",
       "      <th>2000-05-19</th>\n",
       "      <td>0.033256</td>\n",
       "      <td>0.038800</td>\n",
       "      <td>0.038355</td>\n",
       "      <td>0.040662</td>\n",
       "    </tr>\n",
       "    <tr>\n",
       "      <th>2000-05-26</th>\n",
       "      <td>0.057255</td>\n",
       "      <td>0.050784</td>\n",
       "      <td>0.056922</td>\n",
       "      <td>0.065031</td>\n",
       "    </tr>\n",
       "    <tr>\n",
       "      <th>2000-06-02</th>\n",
       "      <td>0.019488</td>\n",
       "      <td>0.005206</td>\n",
       "      <td>0.005184</td>\n",
       "      <td>0.029376</td>\n",
       "    </tr>\n",
       "    <tr>\n",
       "      <th>2000-06-09</th>\n",
       "      <td>-0.008068</td>\n",
       "      <td>0.001233</td>\n",
       "      <td>-0.005744</td>\n",
       "      <td>-0.009571</td>\n",
       "    </tr>\n",
       "    <tr>\n",
       "      <th>2000-06-16</th>\n",
       "      <td>0.013757</td>\n",
       "      <td>-0.001909</td>\n",
       "      <td>0.011840</td>\n",
       "      <td>0.027303</td>\n",
       "    </tr>\n",
       "    <tr>\n",
       "      <th>...</th>\n",
       "      <td>...</td>\n",
       "      <td>...</td>\n",
       "      <td>...</td>\n",
       "      <td>...</td>\n",
       "    </tr>\n",
       "    <tr>\n",
       "      <th>2020-06-05</th>\n",
       "      <td>0.027504</td>\n",
       "      <td>0.040302</td>\n",
       "      <td>0.035808</td>\n",
       "      <td>0.030725</td>\n",
       "    </tr>\n",
       "    <tr>\n",
       "      <th>2020-06-12</th>\n",
       "      <td>-0.003774</td>\n",
       "      <td>0.008612</td>\n",
       "      <td>0.000389</td>\n",
       "      <td>-0.004016</td>\n",
       "    </tr>\n",
       "    <tr>\n",
       "      <th>2020-06-19</th>\n",
       "      <td>0.016402</td>\n",
       "      <td>0.034113</td>\n",
       "      <td>0.026072</td>\n",
       "      <td>0.023215</td>\n",
       "    </tr>\n",
       "    <tr>\n",
       "      <th>2020-06-24</th>\n",
       "      <td>0.004017</td>\n",
       "      <td>0.018065</td>\n",
       "      <td>0.000964</td>\n",
       "      <td>-0.008469</td>\n",
       "    </tr>\n",
       "    <tr>\n",
       "      <th>2020-06-30</th>\n",
       "      <td>0.000000</td>\n",
       "      <td>0.020482</td>\n",
       "      <td>0.011949</td>\n",
       "      <td>0.004471</td>\n",
       "    </tr>\n",
       "  </tbody>\n",
       "</table>\n",
       "<p>1019 rows × 4 columns</p>\n",
       "</div>"
      ],
      "text/plain": [
       "            Shangzheng     small       mid       big\n",
       "date                                                \n",
       "2000-05-19    0.033256  0.038800  0.038355  0.040662\n",
       "2000-05-26    0.057255  0.050784  0.056922  0.065031\n",
       "2000-06-02    0.019488  0.005206  0.005184  0.029376\n",
       "2000-06-09   -0.008068  0.001233 -0.005744 -0.009571\n",
       "2000-06-16    0.013757 -0.001909  0.011840  0.027303\n",
       "...                ...       ...       ...       ...\n",
       "2020-06-05    0.027504  0.040302  0.035808  0.030725\n",
       "2020-06-12   -0.003774  0.008612  0.000389 -0.004016\n",
       "2020-06-19    0.016402  0.034113  0.026072  0.023215\n",
       "2020-06-24    0.004017  0.018065  0.000964 -0.008469\n",
       "2020-06-30    0.000000  0.020482  0.011949  0.004471\n",
       "\n",
       "[1019 rows x 4 columns]"
      ]
     },
     "execution_count": 118,
     "metadata": {},
     "output_type": "execute_result"
    }
   ],
   "source": [
    "#计算每日收益率\n",
    "#收盘价缺失值，使用前值代替\n",
    "rets=(all_value.fillna(method='pad')).apply(lambda x:x/x.shift(1)-1)[1:]\n",
    "rets"
   ]
  },
  {
   "cell_type": "code",
   "execution_count": 119,
   "id": "chief-fossil",
   "metadata": {},
   "outputs": [
    {
     "data": {
      "text/html": [
       "<div>\n",
       "<style scoped>\n",
       "    .dataframe tbody tr th:only-of-type {\n",
       "        vertical-align: middle;\n",
       "    }\n",
       "\n",
       "    .dataframe tbody tr th {\n",
       "        vertical-align: top;\n",
       "    }\n",
       "\n",
       "    .dataframe thead th {\n",
       "        text-align: right;\n",
       "    }\n",
       "</style>\n",
       "<table border=\"1\" class=\"dataframe\">\n",
       "  <thead>\n",
       "    <tr style=\"text-align: right;\">\n",
       "      <th></th>\n",
       "      <th>beta</th>\n",
       "      <th>alpha</th>\n",
       "    </tr>\n",
       "  </thead>\n",
       "  <tbody>\n",
       "    <tr>\n",
       "      <th>small</th>\n",
       "      <td>0.986</td>\n",
       "      <td>0.319</td>\n",
       "    </tr>\n",
       "    <tr>\n",
       "      <th>mid</th>\n",
       "      <td>1.065</td>\n",
       "      <td>0.165</td>\n",
       "    </tr>\n",
       "    <tr>\n",
       "      <th>big</th>\n",
       "      <td>1.062</td>\n",
       "      <td>0.067</td>\n",
       "    </tr>\n",
       "  </tbody>\n",
       "</table>\n",
       "</div>"
      ],
      "text/plain": [
       "        beta  alpha\n",
       "small  0.986  0.319\n",
       "mid    1.065  0.165\n",
       "big    1.062  0.067"
      ]
     },
     "execution_count": 119,
     "metadata": {},
     "output_type": "execute_result"
    }
   ],
   "source": [
    "#基准收益为x，组合收益为y\n",
    "from scipy import stats\n",
    "x=rets.iloc[:,0].values\n",
    "y=rets.iloc[:,1:].values\n",
    "AB_reg=pd.DataFrame()\n",
    "alpha=[]\n",
    "beta=[]\n",
    "for i in range(3):\n",
    "#使用scipy库中的stats.linregress线性回归\n",
    "#python回归有多种实现方式，\n",
    "#如statsmodels.api的OLS，sklearn库等等\n",
    "    b,a,r_value,p_value,std_err=stats.linregress(x,y[:,i])\n",
    "    alpha.append(round(a*250,3))      #alpha转化为年化\n",
    "    beta.append(round(b,3))\n",
    "AB_reg['beta']=beta\n",
    "AB_reg['alpha']=alpha\n",
    "AB_reg.index=rets.columns[1:]\n",
    "\n",
    "AB_reg"
   ]
  },
  {
   "cell_type": "code",
   "execution_count": 120,
   "id": "graphic-creation",
   "metadata": {
    "scrolled": true
   },
   "outputs": [
    {
     "data": {
      "text/html": [
       "<div>\n",
       "<style scoped>\n",
       "    .dataframe tbody tr th:only-of-type {\n",
       "        vertical-align: middle;\n",
       "    }\n",
       "\n",
       "    .dataframe tbody tr th {\n",
       "        vertical-align: top;\n",
       "    }\n",
       "\n",
       "    .dataframe thead th {\n",
       "        text-align: right;\n",
       "    }\n",
       "</style>\n",
       "<table border=\"1\" class=\"dataframe\">\n",
       "  <thead>\n",
       "    <tr style=\"text-align: right;\">\n",
       "      <th></th>\n",
       "      <th>beta</th>\n",
       "      <th>alpha</th>\n",
       "    </tr>\n",
       "  </thead>\n",
       "  <tbody>\n",
       "    <tr>\n",
       "      <th>small</th>\n",
       "      <td>0.986</td>\n",
       "      <td>0.304</td>\n",
       "    </tr>\n",
       "    <tr>\n",
       "      <th>mid</th>\n",
       "      <td>1.065</td>\n",
       "      <td>0.114</td>\n",
       "    </tr>\n",
       "    <tr>\n",
       "      <th>big</th>\n",
       "      <td>1.062</td>\n",
       "      <td>-0.001</td>\n",
       "    </tr>\n",
       "  </tbody>\n",
       "</table>\n",
       "</div>"
      ],
      "text/plain": [
       "        beta  alpha\n",
       "small  0.986  0.304\n",
       "mid    1.065  0.114\n",
       "big    1.062 -0.001"
      ]
     },
     "execution_count": 120,
     "metadata": {},
     "output_type": "execute_result"
    }
   ],
   "source": [
    "#使用公式法直接计算beta值：\n",
    "beta1=rets[['Shangzheng','small']].cov().iat[0,1]/rets['Shangzheng'].var()\n",
    "beta2=rets[['Shangzheng','mid']].cov().iat[0,1]/rets['Shangzheng'].var()\n",
    "beta3=rets[['Shangzheng','big']].cov().iat[0,1]/rets['Shangzheng'].var()\n",
    "# print(f'small_beta:{round(beta1,3)}')\n",
    "# print(f'mid_beta:{round(beta2,3)}')\n",
    "# print(f'big_beta:{round(beta3,3)}')\n",
    "\n",
    "#使用公式法直接计算alpha值:(由于误差，和第一种方法不一样？)\n",
    "all_value_new=all_value/all_value.iloc[0]\n",
    "all_total_ret=(all_value_new.fillna(method='pad')).iloc[-1]-1\n",
    "all_annual_ret=pow(1+all_total_ret,250/len(all_value_new))-1\n",
    "alpha1=(all_annual_ret[1]-all_annual_ret[0]*beta1)\n",
    "alpha2=(all_annual_ret[2]-all_annual_ret[0]*beta2)\n",
    "alpha3=(all_annual_ret[3]-all_annual_ret[0]*beta3)\n",
    "# print(f'small_alpha:{round(alpha1,3)}')\n",
    "# print(f'mid_alpha:{round(alpha2,3)}')\n",
    "# print(f'big_alpha:{round(alpha3,3)}')\n",
    "\n",
    "AB_formu=pd.DataFrame({'beta':[round(beta1,3),round(beta2,3),round(beta3,3)],\n",
    "                        'alpha':[round(alpha1,3),round(alpha2,3),round(alpha3,3)]},index=['small','mid','big'])\n",
    "\n",
    "AB_formu"
   ]
  },
  {
   "cell_type": "markdown",
   "id": "standing-procurement",
   "metadata": {},
   "source": [
    "## 夏普比率 & 信息比率"
   ]
  },
  {
   "cell_type": "code",
   "execution_count": 121,
   "id": "authentic-fight",
   "metadata": {},
   "outputs": [
    {
     "data": {
      "text/html": [
       "<div>\n",
       "<style scoped>\n",
       "    .dataframe tbody tr th:only-of-type {\n",
       "        vertical-align: middle;\n",
       "    }\n",
       "\n",
       "    .dataframe tbody tr th {\n",
       "        vertical-align: top;\n",
       "    }\n",
       "\n",
       "    .dataframe thead th {\n",
       "        text-align: right;\n",
       "    }\n",
       "</style>\n",
       "<table border=\"1\" class=\"dataframe\">\n",
       "  <thead>\n",
       "    <tr style=\"text-align: right;\">\n",
       "      <th></th>\n",
       "      <th>夏普比率</th>\n",
       "    </tr>\n",
       "  </thead>\n",
       "  <tbody>\n",
       "    <tr>\n",
       "      <th>Shangzheng</th>\n",
       "      <td>0.931778</td>\n",
       "    </tr>\n",
       "    <tr>\n",
       "      <th>small</th>\n",
       "      <td>1.710854</td>\n",
       "    </tr>\n",
       "    <tr>\n",
       "      <th>mid</th>\n",
       "      <td>1.304939</td>\n",
       "    </tr>\n",
       "    <tr>\n",
       "      <th>big</th>\n",
       "      <td>1.009828</td>\n",
       "    </tr>\n",
       "  </tbody>\n",
       "</table>\n",
       "</div>"
      ],
      "text/plain": [
       "                夏普比率\n",
       "Shangzheng  0.931778\n",
       "small       1.710854\n",
       "mid         1.304939\n",
       "big         1.009828"
      ]
     },
     "execution_count": 121,
     "metadata": {},
     "output_type": "execute_result"
    }
   ],
   "source": [
    "#超额收益率以无风险收益率为基准\n",
    "#假设无风险收益率为年化3%\n",
    "exReturn=rets-0.03/250\n",
    "#计算夏普比率\n",
    "sharperatio=np.sqrt(len(exReturn))*exReturn.mean()/exReturn.std()\n",
    "#夏普比率的输出结果\n",
    "SHR=pd.DataFrame(sharperatio,columns=['夏普比率'])\n",
    "\n",
    "SHR"
   ]
  },
  {
   "cell_type": "code",
   "execution_count": 122,
   "id": "normal-drill",
   "metadata": {
    "scrolled": true
   },
   "outputs": [
    {
     "data": {
      "text/html": [
       "<div>\n",
       "<style scoped>\n",
       "    .dataframe tbody tr th:only-of-type {\n",
       "        vertical-align: middle;\n",
       "    }\n",
       "\n",
       "    .dataframe tbody tr th {\n",
       "        vertical-align: top;\n",
       "    }\n",
       "\n",
       "    .dataframe thead th {\n",
       "        text-align: right;\n",
       "    }\n",
       "</style>\n",
       "<table border=\"1\" class=\"dataframe\">\n",
       "  <thead>\n",
       "    <tr style=\"text-align: right;\">\n",
       "      <th></th>\n",
       "      <th>信息比率</th>\n",
       "    </tr>\n",
       "  </thead>\n",
       "  <tbody>\n",
       "    <tr>\n",
       "      <th>mid</th>\n",
       "      <td>1.558953</td>\n",
       "    </tr>\n",
       "    <tr>\n",
       "      <th>small</th>\n",
       "      <td>1.055588</td>\n",
       "    </tr>\n",
       "    <tr>\n",
       "      <th>big</th>\n",
       "      <td>0.498965</td>\n",
       "    </tr>\n",
       "  </tbody>\n",
       "</table>\n",
       "</div>"
      ],
      "text/plain": [
       "           信息比率\n",
       "mid    1.558953\n",
       "small  1.055588\n",
       "big    0.498965"
      ]
     },
     "execution_count": 122,
     "metadata": {},
     "output_type": "execute_result"
    }
   ],
   "source": [
    "##信息比率\n",
    "#超额收益率以指数收益率或其他为基准\n",
    "#这里以上证综指为基准\n",
    "ex_return=pd.DataFrame() \n",
    "ex_return['mid']=rets.iloc[:,1]-rets.iloc[:,0]\n",
    "ex_return['small']=rets.iloc[:,2]-rets.iloc[:,0]                  \n",
    "ex_return['big']=rets.iloc[:,3]-rets.iloc[:,0]\n",
    "\n",
    "#计算信息比率\n",
    "information=np.sqrt(len(ex_return))*ex_return.mean()/ex_return.std()\n",
    "#信息比率的输出结果\n",
    "INR=pd.DataFrame(information,columns=['信息比率'])\n",
    "\n",
    "INR  "
   ]
  },
  {
   "cell_type": "markdown",
   "id": "comfortable-finnish",
   "metadata": {},
   "source": [
    "## 结果汇总"
   ]
  },
  {
   "cell_type": "code",
   "execution_count": 123,
   "id": "laughing-messaging",
   "metadata": {},
   "outputs": [
    {
     "data": {
      "text/html": [
       "<div>\n",
       "<style scoped>\n",
       "    .dataframe tbody tr th:only-of-type {\n",
       "        vertical-align: middle;\n",
       "    }\n",
       "\n",
       "    .dataframe tbody tr th {\n",
       "        vertical-align: top;\n",
       "    }\n",
       "\n",
       "    .dataframe thead th {\n",
       "        text-align: right;\n",
       "    }\n",
       "</style>\n",
       "<table border=\"1\" class=\"dataframe\">\n",
       "  <thead>\n",
       "    <tr style=\"text-align: right;\">\n",
       "      <th></th>\n",
       "      <th>累计收益率</th>\n",
       "      <th>年化收益率</th>\n",
       "      <th>最大回撤</th>\n",
       "      <th>alpha</th>\n",
       "      <th>beta</th>\n",
       "      <th>夏普比率</th>\n",
       "      <th>信息比率</th>\n",
       "    </tr>\n",
       "  </thead>\n",
       "  <tbody>\n",
       "    <tr>\n",
       "      <th>big</th>\n",
       "      <td>0.782</td>\n",
       "      <td>0.152</td>\n",
       "      <td>0.751</td>\n",
       "      <td>0.096</td>\n",
       "      <td>0.374</td>\n",
       "      <td>1.010</td>\n",
       "      <td>0.499</td>\n",
       "    </tr>\n",
       "    <tr>\n",
       "      <th>mid</th>\n",
       "      <td>1.627</td>\n",
       "      <td>0.267</td>\n",
       "      <td>0.755</td>\n",
       "      <td>0.208</td>\n",
       "      <td>0.354</td>\n",
       "      <td>1.305</td>\n",
       "      <td>1.559</td>\n",
       "    </tr>\n",
       "    <tr>\n",
       "      <th>small</th>\n",
       "      <td>3.508</td>\n",
       "      <td>0.446</td>\n",
       "      <td>0.728</td>\n",
       "      <td>0.378</td>\n",
       "      <td>0.300</td>\n",
       "      <td>1.711</td>\n",
       "      <td>1.056</td>\n",
       "    </tr>\n",
       "  </tbody>\n",
       "</table>\n",
       "</div>"
      ],
      "text/plain": [
       "       累计收益率  年化收益率   最大回撤  alpha   beta   夏普比率   信息比率\n",
       "big    0.782  0.152  0.751  0.096  0.374  1.010  0.499\n",
       "mid    1.627  0.267  0.755  0.208  0.354  1.305  1.559\n",
       "small  3.508  0.446  0.728  0.378  0.300  1.711  1.056"
      ]
     },
     "execution_count": 123,
     "metadata": {},
     "output_type": "execute_result"
    }
   ],
   "source": [
    "#将上述指标合并成一张表\n",
    "indicators=pd.concat([TR,AR,MD,AB,SHR,INR],axis=1,join='inner',sort='False')\n",
    "#结果保留三位小数\n",
    "indicators.round(3)"
   ]
  },
  {
   "cell_type": "code",
   "execution_count": null,
   "id": "hydraulic-clark",
   "metadata": {},
   "outputs": [],
   "source": []
  }
 ],
 "metadata": {
  "kernelspec": {
   "display_name": "Python 3",
   "language": "python",
   "name": "python3"
  },
  "language_info": {
   "codemirror_mode": {
    "name": "ipython",
    "version": 3
   },
   "file_extension": ".py",
   "mimetype": "text/x-python",
   "name": "python",
   "nbconvert_exporter": "python",
   "pygments_lexer": "ipython3",
   "version": "3.8.8"
  },
  "toc": {
   "base_numbering": 1,
   "nav_menu": {},
   "number_sections": true,
   "sideBar": true,
   "skip_h1_title": false,
   "title_cell": "Table of Contents",
   "title_sidebar": "Contents",
   "toc_cell": false,
   "toc_position": {
    "height": "672.727px",
    "left": "65.9943px",
    "top": "145.304px",
    "width": "251.009px"
   },
   "toc_section_display": true,
   "toc_window_display": true
  }
 },
 "nbformat": 4,
 "nbformat_minor": 5
}
