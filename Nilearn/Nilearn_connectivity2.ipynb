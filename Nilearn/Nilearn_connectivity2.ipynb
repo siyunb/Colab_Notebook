{
 "cells": [
  {
   "cell_type": "code",
   "execution_count": 45,
   "source": [
    "import matplotlib.pyplot as plt\r\n",
    "from nilearn._utils.data_gen import generate_group_sparse_gaussian_graphs\r\n",
    "from nilearn import plotting\r\n",
    "from nilearn.connectome import GroupSparseCovarianceCV\r\n",
    "from sklearn.covariance import GraphicalLassoCV\r\n",
    "import numpy as np"
   ],
   "outputs": [],
   "metadata": {}
  },
  {
   "cell_type": "markdown",
   "source": [
    "# Generate synthetic data"
   ],
   "metadata": {}
  },
  {
   "cell_type": "code",
   "execution_count": 46,
   "source": [
    "n_subjects = 20  # number of subjects\r\n",
    "n_displayed = 3  # number of subjects displayed\r\n",
    "subjects, precisions, topology = generate_group_sparse_gaussian_graphs(\r\n",
    "    n_subjects=n_subjects, n_features=10, min_n_samples=40, max_n_samples=50,\r\n",
    "    density=0.1)"
   ],
   "outputs": [],
   "metadata": {}
  },
  {
   "cell_type": "code",
   "execution_count": 52,
   "source": [
    "fig = plt.figure(figsize=(10, 7))\r\n",
    "plt.subplots_adjust(hspace=0.4)\r\n",
    "for n in range(n_displayed):\r\n",
    "    ax = plt.subplot(n_displayed, 4, 4 * n + 1)\r\n",
    "    max_precision = precisions[n].max()\r\n",
    "    plotting.plot_matrix(precisions[n], vmin=-max_precision,\r\n",
    "                         vmax=max_precision, axes=ax, colorbar=False)\r\n",
    "\r\n",
    "    if n == 0:\r\n",
    "        plt.title(\"ground truth\")\r\n",
    "    plt.ylabel(\"subject %d\" % n)"
   ],
   "outputs": [
    {
     "output_type": "display_data",
     "data": {
      "image/png": "[encoded data removed]",
      "text/plain": [
       "<Figure size 720x504 with 3 Axes>"
      ]
     },
     "metadata": {
      "needs_background": "light"
     }
    }
   ],
   "metadata": {}
  },
  {
   "cell_type": "code",
   "execution_count": 53,
   "source": [
    "# Run group-sparse covariance on all subjects\r\n",
    "gsc = GroupSparseCovarianceCV(max_iter=50, verbose=1)\r\n",
    "gsc.fit(subjects)"
   ],
   "outputs": [
    {
     "output_type": "stream",
     "name": "stderr",
     "text": [
      "[Parallel(n_jobs=1)]: Using backend SequentialBackend with 1 concurrent workers.\n",
      "[Parallel(n_jobs=1)]: Done   5 out of   5 | elapsed:    0.5s finished\n",
      "[Parallel(n_jobs=1)]: Using backend SequentialBackend with 1 concurrent workers.\n"
     ]
    },
    {
     "output_type": "stream",
     "name": "stdout",
     "text": [
      "[GroupSparseCovarianceCV.fit] [GroupSparseCovarianceCV] Done refinement  1 out of 4\n"
     ]
    },
    {
     "output_type": "stream",
     "name": "stderr",
     "text": [
      "[Parallel(n_jobs=1)]: Done   5 out of   5 | elapsed:    0.4s finished\n",
      "[Parallel(n_jobs=1)]: Using backend SequentialBackend with 1 concurrent workers.\n"
     ]
    },
    {
     "output_type": "stream",
     "name": "stdout",
     "text": [
      "[GroupSparseCovarianceCV.fit] [GroupSparseCovarianceCV] Done refinement  2 out of 4\n"
     ]
    },
    {
     "output_type": "stream",
     "name": "stderr",
     "text": [
      "[Parallel(n_jobs=1)]: Done   5 out of   5 | elapsed:    0.5s finished\n",
      "[Parallel(n_jobs=1)]: Using backend SequentialBackend with 1 concurrent workers.\n"
     ]
    },
    {
     "output_type": "stream",
     "name": "stdout",
     "text": [
      "[GroupSparseCovarianceCV.fit] [GroupSparseCovarianceCV] Done refinement  3 out of 4\n",
      "[GroupSparseCovarianceCV.fit] [GroupSparseCovarianceCV] Done refinement  4 out of 4\n",
      "[GroupSparseCovarianceCV.fit] Final optimization\n"
     ]
    },
    {
     "output_type": "stream",
     "name": "stderr",
     "text": [
      "[Parallel(n_jobs=1)]: Done   5 out of   5 | elapsed:    0.4s finished\n",
      "D:\\anaconda\\envs\\pytorch\\lib\\site-packages\\nilearn\\connectome\\group_sparse_cov.py:249: UserWarning: input signals do not all have unit variance. This can lead to numerical instability.\n",
      "  warnings.warn(\"input signals do not all have unit variance. This \"\n"
     ]
    },
    {
     "output_type": "execute_result",
     "data": {
      "text/plain": [
       "GroupSparseCovarianceCV(max_iter=50, verbose=1)"
      ]
     },
     "metadata": {},
     "execution_count": 53
    }
   ],
   "metadata": {}
  },
  {
   "cell_type": "code",
   "execution_count": 54,
   "source": [
    "for n in range(n_displayed):\r\n",
    "    ax = plt.subplot(n_displayed, 4, 4 * n + 2)\r\n",
    "    max_precision = gsc.precisions_[..., n].max()\r\n",
    "    plotting.plot_matrix(gsc.precisions_[..., n], axes=ax, vmin=-max_precision,\r\n",
    "                         vmax=max_precision, colorbar=False)\r\n",
    "    if n == 0:\r\n",
    "        plt.title(\"group-sparse\\n$\\\\alpha=%.2f$\" % gsc.alpha_)"
   ],
   "outputs": [
    {
     "output_type": "display_data",
     "data": {
      "image/png": "[encoded data removed]",
      "text/plain": [
       "<Figure size 432x288 with 3 Axes>"
      ]
     },
     "metadata": {
      "needs_background": "light"
     }
    }
   ],
   "metadata": {}
  },
  {
   "cell_type": "code",
   "execution_count": 50,
   "source": [
    "# Fit one graph lasso per subject\r\n",
    "gl = GraphicalLassoCV(verbose=1)\r\n",
    "\r\n",
    "for n, subject in enumerate(subjects[:n_displayed]):\r\n",
    "    gl.fit(subject)\r\n",
    "\r\n",
    "    ax = plt.subplot(n_displayed, 4, 4 * n + 3)\r\n",
    "    max_precision = gl.precision_.max()\r\n",
    "    plotting.plot_matrix(gl.precision_, axes=ax, vmin=-max_precision,\r\n",
    "                         vmax=max_precision, colorbar=False)\r\n",
    "    if n == 0:\r\n",
    "        plt.title(\"graph lasso\")\r\n",
    "    plt.ylabel(\"$\\\\alpha=%.2f$\" % gl.alpha_)"
   ],
   "outputs": [
    {
     "output_type": "stream",
     "name": "stderr",
     "text": [
      "[Parallel(n_jobs=1)]: Using backend SequentialBackend with 1 concurrent workers.\n",
      "[Parallel(n_jobs=1)]: Done   5 out of   5 | elapsed:    0.0s finished\n",
      "[Parallel(n_jobs=1)]: Using backend SequentialBackend with 1 concurrent workers.\n",
      "[Parallel(n_jobs=1)]: Done   5 out of   5 | elapsed:    0.0s finished\n",
      "[Parallel(n_jobs=1)]: Using backend SequentialBackend with 1 concurrent workers.\n",
      "[Parallel(n_jobs=1)]: Done   5 out of   5 | elapsed:    0.0s finished\n",
      "[Parallel(n_jobs=1)]: Using backend SequentialBackend with 1 concurrent workers.\n"
     ]
    },
    {
     "output_type": "stream",
     "name": "stdout",
     "text": [
      "[GraphicalLassoCV] Done refinement  1 out of 4:   0s\n",
      "[GraphicalLassoCV] Done refinement  2 out of 4:   0s\n",
      "[GraphicalLassoCV] Done refinement  3 out of 4:   0s\n",
      "[GraphicalLassoCV] Done refinement  4 out of 4:   0s\n"
     ]
    },
    {
     "output_type": "stream",
     "name": "stderr",
     "text": [
      "[Parallel(n_jobs=1)]: Done   5 out of   5 | elapsed:    0.0s finished\n",
      "[Parallel(n_jobs=1)]: Using backend SequentialBackend with 1 concurrent workers.\n",
      "[Parallel(n_jobs=1)]: Done   5 out of   5 | elapsed:    0.0s finished\n",
      "[Parallel(n_jobs=1)]: Using backend SequentialBackend with 1 concurrent workers.\n",
      "[Parallel(n_jobs=1)]: Done   5 out of   5 | elapsed:    0.0s finished\n",
      "[Parallel(n_jobs=1)]: Using backend SequentialBackend with 1 concurrent workers.\n"
     ]
    },
    {
     "output_type": "stream",
     "name": "stdout",
     "text": [
      "[GraphicalLassoCV] Done refinement  1 out of 4:   0s\n",
      "[GraphicalLassoCV] Done refinement  2 out of 4:   0s\n",
      "[GraphicalLassoCV] Done refinement  3 out of 4:   0s\n",
      "[GraphicalLassoCV] Done refinement  4 out of 4:   0s\n"
     ]
    },
    {
     "output_type": "stream",
     "name": "stderr",
     "text": [
      "[Parallel(n_jobs=1)]: Done   5 out of   5 | elapsed:    0.0s finished\n",
      "[Parallel(n_jobs=1)]: Using backend SequentialBackend with 1 concurrent workers.\n",
      "[Parallel(n_jobs=1)]: Done   5 out of   5 | elapsed:    0.0s finished\n",
      "[Parallel(n_jobs=1)]: Using backend SequentialBackend with 1 concurrent workers.\n",
      "[Parallel(n_jobs=1)]: Done   5 out of   5 | elapsed:    0.0s finished\n",
      "[Parallel(n_jobs=1)]: Using backend SequentialBackend with 1 concurrent workers.\n",
      "[Parallel(n_jobs=1)]: Done   5 out of   5 | elapsed:    0.0s finished\n",
      "[Parallel(n_jobs=1)]: Using backend SequentialBackend with 1 concurrent workers.\n"
     ]
    },
    {
     "output_type": "stream",
     "name": "stdout",
     "text": [
      "[GraphicalLassoCV] Done refinement  1 out of 4:   0s\n",
      "[GraphicalLassoCV] Done refinement  2 out of 4:   0s\n",
      "[GraphicalLassoCV] Done refinement  3 out of 4:   0s\n",
      "[GraphicalLassoCV] Done refinement  4 out of 4:   0s\n"
     ]
    },
    {
     "output_type": "stream",
     "name": "stderr",
     "text": [
      "[Parallel(n_jobs=1)]: Done   5 out of   5 | elapsed:    0.0s finished\n",
      "[Parallel(n_jobs=1)]: Using backend SequentialBackend with 1 concurrent workers.\n",
      "[Parallel(n_jobs=1)]: Done   5 out of   5 | elapsed:    0.0s finished\n"
     ]
    },
    {
     "output_type": "display_data",
     "data": {
      "image/png": "[encoded data removed]",
      "text/plain": [
       "<Figure size 432x288 with 3 Axes>"
      ]
     },
     "metadata": {
      "needs_background": "light"
     }
    }
   ],
   "metadata": {}
  },
  {
   "cell_type": "code",
   "execution_count": 51,
   "source": [
    "# Fit one graph lasso for all subjects at once\r\n",
    "gl.fit(np.concatenate(subjects))\r\n",
    "\r\n",
    "ax = plt.subplot(n_displayed, 4, 4)\r\n",
    "max_precision = gl.precision_.max()\r\n",
    "plotting.plot_matrix(gl.precision_, axes=ax, vmin=-max_precision,\r\n",
    "                     vmax=max_precision, colorbar=False)\r\n",
    "plt.title(\"graph lasso, all subjects\\n$\\\\alpha=%.2f$\" % gl.alpha_)\r\n",
    "\r\n",
    "plotting.show()"
   ],
   "outputs": [
    {
     "output_type": "stream",
     "name": "stderr",
     "text": [
      "[Parallel(n_jobs=1)]: Using backend SequentialBackend with 1 concurrent workers.\n",
      "[Parallel(n_jobs=1)]: Done   5 out of   5 | elapsed:    0.0s finished\n",
      "[Parallel(n_jobs=1)]: Using backend SequentialBackend with 1 concurrent workers.\n",
      "[Parallel(n_jobs=1)]: Done   5 out of   5 | elapsed:    0.0s finished\n",
      "[Parallel(n_jobs=1)]: Using backend SequentialBackend with 1 concurrent workers.\n",
      "[Parallel(n_jobs=1)]: Done   5 out of   5 | elapsed:    0.0s finished\n",
      "[Parallel(n_jobs=1)]: Using backend SequentialBackend with 1 concurrent workers.\n"
     ]
    },
    {
     "output_type": "stream",
     "name": "stdout",
     "text": [
      "[GraphicalLassoCV] Done refinement  1 out of 4:   0s\n",
      "[GraphicalLassoCV] Done refinement  2 out of 4:   0s\n",
      "[GraphicalLassoCV] Done refinement  3 out of 4:   0s\n",
      "[GraphicalLassoCV] Done refinement  4 out of 4:   0s\n"
     ]
    },
    {
     "output_type": "stream",
     "name": "stderr",
     "text": [
      "[Parallel(n_jobs=1)]: Done   5 out of   5 | elapsed:    0.0s finished\n"
     ]
    },
    {
     "output_type": "display_data",
     "data": {
      "image/png": "[encoded data removed]",
      "text/plain": [
       "<Figure size 432x288 with 1 Axes>"
      ]
     },
     "metadata": {
      "needs_background": "light"
     }
    }
   ],
   "metadata": {}
  }
 ],
 "metadata": {
  "orig_nbformat": 4,
  "language_info": {
   "name": "python",
   "version": "3.8.0",
   "mimetype": "text/x-python",
   "codemirror_mode": {
    "name": "ipython",
    "version": 3
   },
   "pygments_lexer": "ipython3",
   "nbconvert_exporter": "python",
   "file_extension": ".py"
  },
  "kernelspec": {
   "name": "python3",
   "display_name": "Python 3.8.5 64-bit ('mne': conda)"
  },
  "interpreter": {
   "hash": "90468533fe8d1c698846ed98af388de47385889fcc7d910c2dd0c9be3a41343a"
  }
 },
 "nbformat": 4,
 "nbformat_minor": 2
}