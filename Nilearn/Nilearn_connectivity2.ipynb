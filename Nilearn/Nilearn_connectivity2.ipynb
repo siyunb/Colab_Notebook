{
 "cells": [
  {
   "cell_type": "code",
   "execution_count": 24,
   "source": [
    "import matplotlib.pyplot as plt\n",
    "from nilearn._utils.data_gen import generate_group_sparse_gaussian_graphs\n",
    "from nilearn import plotting\n",
    "from nilearn.connectome import GroupSparseCovarianceCV\n"
   ],
   "outputs": [],
   "metadata": {}
  },
  {
   "cell_type": "markdown",
   "source": [
    "# Generate synthetic data"
   ],
   "metadata": {}
  },
  {
   "cell_type": "code",
   "execution_count": 21,
   "source": [
    "n_subjects = 20  # number of subjects\n",
    "n_displayed = 3  # number of subjects displayed\n",
    "subjects, precisions, topology = generate_group_sparse_gaussian_graphs(\n",
    "    n_subjects=n_subjects, n_features=10, min_n_samples=40, max_n_samples=50,\n",
    "    density=0.1)"
   ],
   "outputs": [],
   "metadata": {}
  },
  {
   "cell_type": "code",
   "execution_count": 26,
   "source": [
    "fig = plt.figure(figsize=(10, 7))\n",
    "plt.subplots_adjust(hspace=0.4)\n",
    "for n in range(n_displayed):\n",
    "    ax = plt.subplot(n_displayed, 4, 4 * n + 1)\n",
    "    max_precision = precisions[n].max()\n",
    "    plotting.plot_matrix(precisions[n], vmin=-max_precision,\n",
    "                         vmax=max_precision, axes=ax, colorbar=False)\n",
    "\n",
    "    if n == 0:\n",
    "        plt.title(\"ground truth\")\n",
    "    plt.ylabel(\"subject %d\" % n)"
   ],
   "outputs": [
    {
     "output_type": "display_data",
     "data": {
      "image/png": "[encoded data removed]",
      "text/plain": [
       "<Figure size 720x504 with 3 Axes>"
      ]
     },
     "metadata": {
      "needs_background": "light"
     }
    }
   ],
   "metadata": {}
  },
  {
   "cell_type": "code",
   "execution_count": 23,
   "source": [
    "subjects[8].shape"
   ],
   "outputs": [
    {
     "output_type": "execute_result",
     "data": {
      "text/plain": [
       "(43, 10)"
      ]
     },
     "metadata": {},
     "execution_count": 23
    }
   ],
   "metadata": {}
  },
  {
   "cell_type": "code",
   "execution_count": null,
   "source": [
    "gsc = GroupSparseCovarianceCV(max_iter=50, verbose=1)\n",
    "gsc.fit(subjects)\n",
    "\n",
    "for n in range(n_displayed):\n",
    "    ax = plt.subplot(n_displayed, 4, 4 * n + 2)\n",
    "    max_precision = gsc.precisions_[..., n].max()\n",
    "    plotting.plot_matrix(gsc.precisions_[..., n], axes=ax, vmin=-max_precision,\n",
    "                         vmax=max_precision, colorbar=False)\n",
    "    if n == 0:\n",
    "        plt.title(\"group-sparse\\n$\\\\alpha=%.2f$\" % gsc.alpha_)\n",
    "\n",
    "\n",
    "# Fit one graph lasso per subject\n",
    "try:\n",
    "    from sklearn.covariance import GraphicalLassoCV\n",
    "except ImportError:\n",
    "    # for Scitkit-Learn < v0.20.0\n",
    "    from sklearn.covariance import GraphLassoCV as GraphicalLassoCV\n",
    "\n",
    "gl = GraphicalLassoCV(verbose=1)\n",
    "\n",
    "for n, subject in enumerate(subjects[:n_displayed]):\n",
    "    gl.fit(subject)\n",
    "\n",
    "    ax = plt.subplot(n_displayed, 4, 4 * n + 3)\n",
    "    max_precision = gl.precision_.max()\n",
    "    plotting.plot_matrix(gl.precision_, axes=ax, vmin=-max_precision,\n",
    "                         vmax=max_precision, colorbar=False)\n",
    "    if n == 0:\n",
    "        plt.title(\"graph lasso\")\n",
    "    plt.ylabel(\"$\\\\alpha=%.2f$\" % gl.alpha_)\n",
    "\n",
    "\n",
    "# Fit one graph lasso for all subjects at once\n",
    "import numpy as np\n",
    "gl.fit(np.concatenate(subjects))\n",
    "\n",
    "ax = plt.subplot(n_displayed, 4, 4)\n",
    "max_precision = gl.precision_.max()\n",
    "plotting.plot_matrix(gl.precision_, axes=ax, vmin=-max_precision,\n",
    "                     vmax=max_precision, colorbar=False)\n",
    "plt.title(\"graph lasso, all subjects\\n$\\\\alpha=%.2f$\" % gl.alpha_)\n",
    "\n",
    "show()"
   ],
   "outputs": [],
   "metadata": {}
  }
 ],
 "metadata": {
  "orig_nbformat": 4,
  "language_info": {
   "name": "python",
   "version": "3.8.5",
   "mimetype": "text/x-python",
   "codemirror_mode": {
    "name": "ipython",
    "version": 3
   },
   "pygments_lexer": "ipython3",
   "nbconvert_exporter": "python",
   "file_extension": ".py"
  },
  "kernelspec": {
   "name": "python3",
   "display_name": "Python 3.8.5 64-bit ('mne': conda)"
  },
  "interpreter": {
   "hash": "994be21e1b201d82e2e6ff4fe9c977e5bc5a1eefcb4b8ab21b10332690e7696c"
  }
 },
 "nbformat": 4,
 "nbformat_minor": 2
}