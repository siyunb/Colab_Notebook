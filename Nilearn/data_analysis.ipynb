{
 "cells": [
  {
   "cell_type": "code",
   "execution_count": 12,
   "source": [
    "from nilearn import masking\n",
    "from nilearn.masking import apply_mask\n",
    "import warnings\n",
    "warnings.filterwarnings('ignore')"
   ],
   "outputs": [],
   "metadata": {}
  },
  {
   "cell_type": "code",
   "execution_count": 16,
   "source": [
    "nifit_path = '/Users/kumadaken/Desktop/Wang/Result/DynamicBC/TR645_MNIn28n96n6_FC/seed_CORR_FCmap/s1_01/TV_s1_01_FCM_01.nii'\n",
    "mask = masking.compute_background_mask(nifit_path)\n",
    "print(mask.get_data().shape)\n",
    "masked_data = apply_mask(nifit_path, mask)\n",
    "print(masked_data.shape)"
   ],
   "outputs": [
    {
     "output_type": "stream",
     "name": "stdout",
     "text": [
      "(61, 73, 61)\n",
      "(47636,)\n"
     ]
    }
   ],
   "metadata": {}
  }
 ],
 "metadata": {
  "orig_nbformat": 4,
  "language_info": {
   "name": "python",
   "version": "3.8.5",
   "mimetype": "text/x-python",
   "codemirror_mode": {
    "name": "ipython",
    "version": 3
   },
   "pygments_lexer": "ipython3",
   "nbconvert_exporter": "python",
   "file_extension": ".py"
  },
  "kernelspec": {
   "name": "python3",
   "display_name": "Python 3.8.5 64-bit ('mne': conda)"
  },
  "interpreter": {
   "hash": "cbe2e30c188eff53f06d8bc7685f9d5be0e1fe4d9bac6eab06270639322f295f"
  }
 },
 "nbformat": 4,
 "nbformat_minor": 2
}