{
 "cells": [
  {
   "cell_type": "code",
   "execution_count": null,
   "source": [
    "import numpy as np\n",
    "from nilearn.decomposition import CanICA\n",
    "from nilearn import plotting               #nilearn 图像功能\n",
    "from nilearn import image, datasets\n",
    "from nilearn.input_data import NiftiMasker\n",
    "from collections import Counter\n",
    "import matplotlib.pyplot as plt\n",
    "import warnings\n",
    "warnings.filterwarnings('ignore')"
   ],
   "outputs": [],
   "metadata": {}
  }
 ],
 "metadata": {
  "orig_nbformat": 4,
  "language_info": {
   "name": "python",
   "version": "3.8.5"
  },
  "kernelspec": {
   "name": "python3",
   "display_name": "Python 3.8.5 64-bit ('mne': conda)"
  },
  "interpreter": {
   "hash": "cbe2e30c188eff53f06d8bc7685f9d5be0e1fe4d9bac6eab06270639322f295f"
  }
 },
 "nbformat": 4,
 "nbformat_minor": 2
}